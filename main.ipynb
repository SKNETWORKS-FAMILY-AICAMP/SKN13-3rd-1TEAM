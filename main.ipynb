{
 "cells": [
  {
   "cell_type": "code",
   "execution_count": null,
   "id": "8acb7ea2",
   "metadata": {},
   "outputs": [
    {
     "data": {
      "text/plain": [
       "[Collection(name=vitamin)]"
      ]
     },
     "execution_count": 5,
     "metadata": {},
     "output_type": "execute_result"
    }
   ],
   "source": [
    "# 벡터스토어별 collection name 확인 code\n",
    "\n",
    "import chromadb\n",
    "client = chromadb.PersistentClient(path=r'C:\\Aicamp\\SKN13-3rd-1TEAM\\database\\vector_store\\vitamin_chroma')\n",
    "collections = client.list_collections()\n",
    "collections"
   ]
  },
  {
   "cell_type": "code",
   "execution_count": 1,
   "id": "5f5f59de",
   "metadata": {},
   "outputs": [
    {
     "name": "stdout",
     "output_type": "stream",
     "text": [
      "\n",
      "--- translate_question ---\n",
      "원본 질문: 비타민D가 결핍하면 암이 생기나요?\n",
      "번역된 질문: If you are deficient in vitamin D, can it cause cancer?\n",
      "\n",
      "--- agent_search ---\n",
      "Wikipedia 검색 쿼리: Search for common knowledge about: If you are deficient in vitamin D, can it cause cancer?\n",
      "Wikipedia 검색 결과: 관련 사회통념 정보 없음 (LLM이 정보 없음을 반환)\n",
      "\n",
      "--- get_latest_papers ---\n",
      "\n",
      "--- compare_and_summarize ---\n",
      "최종 요약 생성 완료.\n",
      "\n",
      "\n",
      "=== 🟢 최종 한글 응답 ===\n",
      "1. 사회통념 소개  \n",
      "비타민D 결핍이 암 발생과 직접적으로 연관된다는 사회적 통념이나 일반적인 인식에 대한 정보는 현재 없습니다.\n",
      "\n",
      "2. 최신 논문 소개  \n",
      "최신 의학 논문에 따르면, 비타민D 결핍은 다양한 암(유방암, 대장암, 전립선암, 구강암 등)과의 연관성이 여러 연구에서 보고되고 있습니다. 비타민D가 면역 조절, 염증 억제, 암세포 성장 및 전이 억제에 중요한 역할을 하며, 결핍 시 암 발생 위험이 높아질 수 있다는 결과가 다수 제시되었습니다. 특히, 대장암과 유방암 등에서는 비타민D 결핍이 암 발생률 증가 및 예후 악화와 관련이 있다는 연구가 많으며, 일부 연구에서는 비타민D 보충이 암 예방에 도움이 될 수 있다고 제안합니다. 다만, 대부분의 연구가 관찰 연구에 기반하고 있어 인과관계에 대한 확정적 결론은 부족하며, 암 종류에 따라 결과가 일관되지 않은 경우도 있습니다.\n",
      "\n",
      "3. 간단한 비교글  \n",
      "사회통념에서는 비타민D 결핍과 암 발생의 직접적 연관성에 대한 명확한 인식이나 정보가 없으나, 최신 연구들은 비타민D 결핍이 여러 암의 위험 증가와 관련이 있을 수 있음을 시사합니다. 그러나 현재까지의 연구는 주로 연관성에 초점을 두고 있으며, 비타민D 결핍이 암을 직접적으로 유발한다는 인과관계는 확실히 입증되지 않았습니다. 따라서 비타민D를 적정 수준으로 유지하는 것이 암 예방에 도움이 될 수 있지만, 결핍이 곧바로 암 발생으로 이어진다고 단정할 수는 없습니다.\n",
      "======================\n",
      "\n"
     ]
    }
   ],
   "source": [
    "from module import build_compare_graph\n",
    "\n",
    "if __name__ == \"__main__\":\n",
    "\n",
    "    graph = build_compare_graph()\n",
    "        \n",
    "    initial_state = {\n",
    "        \"question\": \"비타민D가 결핍하면 암이 생기나요?\", \n",
    "        \"translated_question\": \"\",\n",
    "        \"social_knowledge\": \"\",\n",
    "        \"latest_docs\": [],\n",
    "        \"k_value\": 5,\n",
    "        \"final_answer\": \"\",\n",
    "        \"db_has_data\": False\n",
    "    }\n",
    "\n",
    "    result = graph.invoke(initial_state)\n",
    "\n",
    "    print(\"\\n\\n=== 🟢 최종 한글 응답 ===\")\n",
    "    print(result[\"final_answer\"])\n",
    "    print(\"======================\\n\")\n",
    "\n",
    "\n",
    "# Image(graph.get_graph().draw_mermaid_png())"
   ]
  }
 ],
 "metadata": {
  "kernelspec": {
   "display_name": "lang_env",
   "language": "python",
   "name": "python3"
  },
  "language_info": {
   "codemirror_mode": {
    "name": "ipython",
    "version": 3
   },
   "file_extension": ".py",
   "mimetype": "text/x-python",
   "name": "python",
   "nbconvert_exporter": "python",
   "pygments_lexer": "ipython3",
   "version": "3.12.11"
  }
 },
 "nbformat": 4,
 "nbformat_minor": 5
}
