{
 "cells": [
  {
   "cell_type": "code",
   "execution_count": 4,
   "id": "2103cb2c",
   "metadata": {},
   "outputs": [
    {
     "name": "stdout",
     "output_type": "stream",
     "text": [
      "🔎 vitamin: EuropePMC 검색 결과 개수: 25348개\n"
     ]
    },
    {
     "name": "stderr",
     "output_type": "stream",
     "text": [
      "vitamin 진행:   0%|          | 1/25348 [00:01<8:38:56,  1.23s/논문]"
     ]
    },
    {
     "name": "stdout",
     "output_type": "stream",
     "text": [
      "[1/25348] ⚠️ PMCID 없음 → 건너뜀\n"
     ]
    },
    {
     "name": "stderr",
     "output_type": "stream",
     "text": [
      "vitamin 진행:   0%|          | 2/25348 [00:02<8:33:29,  1.22s/논문]"
     ]
    },
    {
     "name": "stdout",
     "output_type": "stream",
     "text": [
      "[2/25348] ✅ 저장 완료 (PMCID: PMC12198872)\n",
      "[3/25348] ✅ 저장 완료 (PMCID: PMC12166184)\n"
     ]
    },
    {
     "name": "stderr",
     "output_type": "stream",
     "text": [
      "antibiotic_overuse 진행:   0%|          | 302/164988 [11:15<102:17:28,  2.24s/논문]\n",
      "vitamin 진행:   0%|          | 4/25348 [00:06<11:28:14,  1.63s/논문]"
     ]
    },
    {
     "name": "stdout",
     "output_type": "stream",
     "text": [
      "[4/25348] ✅ 저장 완료 (PMCID: PMC12181882)\n",
      "[5/25348] ⚠️ PMCID 없음 → 건너뜀\n"
     ]
    },
    {
     "name": "stderr",
     "output_type": "stream",
     "text": [
      "vitamin 진행:   0%|          | 6/25348 [00:07<7:12:34,  1.02s/논문] "
     ]
    },
    {
     "name": "stdout",
     "output_type": "stream",
     "text": [
      "[6/25348] ⚠️ PMCID 없음 → 건너뜀\n",
      "[7/25348] ✅ 저장 완료 (PMCID: PMC12183392)\n"
     ]
    },
    {
     "name": "stderr",
     "output_type": "stream",
     "text": [
      "vitamin 진행:   0%|          | 7/25348 [00:09<9:41:10,  1.38s/논문]"
     ]
    },
    {
     "name": "stdout",
     "output_type": "stream",
     "text": [
      "[8/25348] ⚠️ PMCID 없음 → 건너뜀\n"
     ]
    },
    {
     "name": "stderr",
     "output_type": "stream",
     "text": [
      "vitamin 진행:   0%|          | 9/25348 [00:10<6:49:57,  1.03논문/s]"
     ]
    },
    {
     "name": "stdout",
     "output_type": "stream",
     "text": [
      "⚠️ abstract section 없음 (PMCID: PMC12166165) → 건너뜀\n"
     ]
    },
    {
     "name": "stderr",
     "output_type": "stream",
     "text": [
      "vitamin 진행:   0%|          | 10/25348 [00:11<6:55:11,  1.02논문/s]"
     ]
    },
    {
     "name": "stdout",
     "output_type": "stream",
     "text": [
      "[10/25348] ✅ 저장 완료 (PMCID: PMC12163105)\n",
      "[11/25348] ✅ 저장 완료 (PMCID: PMC12173841)\n"
     ]
    },
    {
     "name": "stderr",
     "output_type": "stream",
     "text": [
      "vitamin 진행:   0%|          | 12/25348 [00:16<11:00:09,  1.56s/논문]"
     ]
    },
    {
     "name": "stdout",
     "output_type": "stream",
     "text": [
      "[12/25348] ✅ 저장 완료 (PMCID: PMC12166060)\n",
      "[13/25348] ✅ 저장 완료 (PMCID: PMC12197468)\n"
     ]
    },
    {
     "name": "stderr",
     "output_type": "stream",
     "text": [
      "vitamin 진행:   0%|          | 13/25348 [00:18<11:42:30,  1.66s/논문]"
     ]
    },
    {
     "name": "stdout",
     "output_type": "stream",
     "text": [
      "[14/25348] ⚠️ PMCID 없음 → 건너뜀\n",
      "[15/25348] ⚠️ PMCID 없음 → 건너뜀\n"
     ]
    },
    {
     "name": "stderr",
     "output_type": "stream",
     "text": [
      "vitamin 진행:   0%|          | 16/25348 [00:19<6:39:24,  1.06논문/s] "
     ]
    },
    {
     "name": "stdout",
     "output_type": "stream",
     "text": [
      "[16/25348] ⚠️ PMCID 없음 → 건너뜀\n",
      "[17/25348] ⚠️ PMCID 없음 → 건너뜀\n",
      "[18/25348] ⚠️ PMCID 없음 → 건너뜀\n"
     ]
    },
    {
     "name": "stderr",
     "output_type": "stream",
     "text": [
      "vitamin 진행:   0%|          | 19/25348 [00:20<4:54:22,  1.43논문/s]"
     ]
    },
    {
     "name": "stdout",
     "output_type": "stream",
     "text": [
      "[19/25348] ✅ 저장 완료 (PMCID: PMC12182718)\n"
     ]
    },
    {
     "name": "stderr",
     "output_type": "stream",
     "text": [
      "vitamin 진행:   0%|          | 20/25348 [00:21<5:13:36,  1.35논문/s]"
     ]
    },
    {
     "name": "stdout",
     "output_type": "stream",
     "text": [
      "[20/25348] ✅ 저장 완료 (PMCID: PMC12167714)\n"
     ]
    },
    {
     "name": "stderr",
     "output_type": "stream",
     "text": [
      "vitamin 진행:   0%|          | 21/25348 [00:22<5:28:00,  1.29논문/s]"
     ]
    },
    {
     "name": "stdout",
     "output_type": "stream",
     "text": [
      "[21/25348] ⚠️ PMCID 없음 → 건너뜀\n",
      "[22/25348] ⚠️ PMCID 없음 → 건너뜀\n",
      "[23/25348] ⚠️ PMCID 없음 → 건너뜀\n",
      "[24/25348] ⚠️ PMCID 없음 → 건너뜀\n",
      "[25/25348] ✅ 저장 완료 (PMCID: PMC12183072)\n"
     ]
    },
    {
     "name": "stderr",
     "output_type": "stream",
     "text": [
      "vitamin 진행:   0%|          | 26/25348 [00:28<7:10:00,  1.02s/논문]"
     ]
    },
    {
     "name": "stdout",
     "output_type": "stream",
     "text": [
      "[26/25348] ✅ 저장 완료 (PMCID: PMC12187597)\n",
      "[27/25348] ⚠️ PMCID 없음 → 건너뜀\n",
      "[28/25348] ✅ 저장 완료 (PMCID: PMC12159119)\n"
     ]
    },
    {
     "name": "stderr",
     "output_type": "stream",
     "text": [
      "vitamin 진행:   0%|          | 28/25348 [00:30<8:08:36,  1.16s/논문]"
     ]
    },
    {
     "name": "stdout",
     "output_type": "stream",
     "text": [
      "[29/25348] ⚠️ PMCID 없음 → 건너뜀\n",
      "[30/25348] ⚠️ PMCID 없음 → 건너뜀\n"
     ]
    },
    {
     "name": "stderr",
     "output_type": "stream",
     "text": [
      "vitamin 진행:   0%|          | 31/25348 [00:33<6:53:48,  1.02논문/s]"
     ]
    },
    {
     "name": "stdout",
     "output_type": "stream",
     "text": [
      "[31/25348] ✅ 저장 완료 (PMCID: PMC12162538)\n",
      "[32/25348] ⚠️ PMCID 없음 → 건너뜀\n",
      "[33/25348] ⚠️ PMCID 없음 → 건너뜀\n",
      "[34/25348] ⚠️ PMCID 없음 → 건너뜀\n",
      "[35/25348] ✅ 저장 완료 (PMCID: PMC12164164)\n"
     ]
    },
    {
     "name": "stderr",
     "output_type": "stream",
     "text": [
      "vitamin 진행:   0%|          | 36/25348 [00:38<7:47:04,  1.11s/논문]"
     ]
    },
    {
     "name": "stdout",
     "output_type": "stream",
     "text": [
      "[36/25348] ✅ 저장 완료 (PMCID: PMC12166562)\n"
     ]
    },
    {
     "name": "stderr",
     "output_type": "stream",
     "text": [
      "vitamin 진행:   0%|          | 37/25348 [00:39<7:51:45,  1.12s/논문]"
     ]
    },
    {
     "name": "stdout",
     "output_type": "stream",
     "text": [
      "[37/25348] ✅ 저장 완료 (PMCID: PMC12166662)\n",
      "[38/25348] ✅ 저장 완료 (PMCID: PMC12185422)\n"
     ]
    },
    {
     "name": "stderr",
     "output_type": "stream",
     "text": [
      "vitamin 진행:   0%|          | 39/25348 [00:44<9:51:38,  1.40s/논문] "
     ]
    },
    {
     "name": "stdout",
     "output_type": "stream",
     "text": [
      "[39/25348] ✅ 저장 완료 (PMCID: PMC12183021)\n",
      "[40/25348] ⚠️ PMCID 없음 → 건너뜀\n",
      "[41/25348] ✅ 저장 완료 (PMCID: PMC12186412)\n"
     ]
    },
    {
     "name": "stderr",
     "output_type": "stream",
     "text": [
      "vitamin 진행:   0%|          | 41/25348 [00:47<11:00:22,  1.57s/논문]"
     ]
    },
    {
     "name": "stdout",
     "output_type": "stream",
     "text": [
      "[42/25348] ⚠️ PMCID 없음 → 건너뜀\n",
      "[43/25348] ⚠️ PMCID 없음 → 건너뜀\n"
     ]
    },
    {
     "name": "stderr",
     "output_type": "stream",
     "text": [
      "vitamin 진행:   0%|          | 44/25348 [00:48<7:13:37,  1.03s/논문] "
     ]
    },
    {
     "name": "stdout",
     "output_type": "stream",
     "text": [
      "[44/25348] ✅ 저장 완료 (PMCID: PMC12160425)\n",
      "[45/25348] ⚠️ PMCID 없음 → 건너뜀\n"
     ]
    },
    {
     "name": "stderr",
     "output_type": "stream",
     "text": [
      "vitamin 진행:   0%|          | 46/25348 [00:50<6:22:04,  1.10논문/s]"
     ]
    },
    {
     "name": "stdout",
     "output_type": "stream",
     "text": [
      "[46/25348] ⚠️ PMCID 없음 → 건너뜀\n",
      "[47/25348] ⚠️ PMCID 없음 → 건너뜀\n",
      "[48/25348] ⚠️ PMCID 없음 → 건너뜀\n",
      "[49/25348] ⚠️ PMCID 없음 → 건너뜀\n",
      "[50/25348] ✅ 저장 완료 (PMCID: PMC12165969)\n"
     ]
    },
    {
     "name": "stderr",
     "output_type": "stream",
     "text": [
      "vitamin 진행:   0%|          | 51/25348 [00:53<5:45:23,  1.22논문/s]"
     ]
    },
    {
     "name": "stdout",
     "output_type": "stream",
     "text": [
      "[51/25348] ⚠️ PMCID 없음 → 건너뜀\n",
      "[52/25348] ⚠️ PMCID 없음 → 건너뜀\n",
      "[53/25348] ⚠️ PMCID 없음 → 건너뜀\n",
      "[54/25348] ⚠️ PMCID 없음 → 건너뜀\n"
     ]
    },
    {
     "name": "stderr",
     "output_type": "stream",
     "text": [
      "vitamin 진행:   0%|          | 55/25348 [00:54<4:10:05,  1.69논문/s]"
     ]
    },
    {
     "name": "stdout",
     "output_type": "stream",
     "text": [
      "[55/25348] ✅ 저장 완료 (PMCID: PMC12097965)\n"
     ]
    },
    {
     "name": "stderr",
     "output_type": "stream",
     "text": [
      "vitamin 진행:   0%|          | 56/25348 [00:56<4:44:17,  1.48논문/s]"
     ]
    },
    {
     "name": "stdout",
     "output_type": "stream",
     "text": [
      "[56/25348] ⚠️ PMCID 없음 → 건너뜀\n",
      "[57/25348] ✅ 저장 완료 (PMCID: PMC12158044)\n"
     ]
    },
    {
     "name": "stderr",
     "output_type": "stream",
     "text": [
      "vitamin 진행:   0%|          | 57/25348 [00:59<7:23:29,  1.05s/논문]"
     ]
    },
    {
     "name": "stdout",
     "output_type": "stream",
     "text": [
      "[58/25348] ⚠️ PMCID 없음 → 건너뜀\n"
     ]
    },
    {
     "name": "stderr",
     "output_type": "stream",
     "text": [
      "vitamin 진행:   0%|          | 59/25348 [01:00<6:28:03,  1.09논문/s]"
     ]
    },
    {
     "name": "stdout",
     "output_type": "stream",
     "text": [
      "[59/25348] ✅ 저장 완료 (PMCID: PMC12176603)\n",
      "[60/25348] ✅ 저장 완료 (PMCID: PMC12171172)\n"
     ]
    },
    {
     "name": "stderr",
     "output_type": "stream",
     "text": [
      "vitamin 진행:   0%|          | 61/25348 [01:04<9:34:23,  1.36s/논문]"
     ]
    },
    {
     "name": "stdout",
     "output_type": "stream",
     "text": [
      "[61/25348] ✅ 저장 완료 (PMCID: PMC12164080)\n",
      "[62/25348] ⚠️ PMCID 없음 → 건너뜀\n",
      "[63/25348] ✅ 저장 완료 (PMCID: PMC12174595)\n"
     ]
    },
    {
     "name": "stderr",
     "output_type": "stream",
     "text": [
      "vitamin 진행:   0%|          | 63/25348 [01:06<8:57:11,  1.27s/논문]"
     ]
    },
    {
     "name": "stdout",
     "output_type": "stream",
     "text": [
      "[64/25348] ⚠️ PMCID 없음 → 건너뜀\n",
      "[65/25348] ⚠️ PMCID 없음 → 건너뜀\n"
     ]
    },
    {
     "name": "stderr",
     "output_type": "stream",
     "text": [
      "vitamin 진행:   0%|          | 66/25348 [01:08<6:09:42,  1.14논문/s]"
     ]
    },
    {
     "name": "stdout",
     "output_type": "stream",
     "text": [
      "[66/25348] ⚠️ PMCID 없음 → 건너뜀\n",
      "[67/25348] ⚠️ PMCID 없음 → 건너뜀\n",
      "[68/25348] ⚠️ PMCID 없음 → 건너뜀\n",
      "[69/25348] ⚠️ PMCID 없음 → 건너뜀\n"
     ]
    },
    {
     "name": "stderr",
     "output_type": "stream",
     "text": [
      "vitamin 진행:   0%|          | 70/25348 [01:09<4:05:33,  1.72논문/s]"
     ]
    },
    {
     "name": "stdout",
     "output_type": "stream",
     "text": [
      "[70/25348] ✅ 저장 완료 (PMCID: PMC12155800)\n"
     ]
    },
    {
     "name": "stderr",
     "output_type": "stream",
     "text": [
      "vitamin 진행:   0%|          | 71/25348 [01:10<4:37:04,  1.52논문/s]"
     ]
    },
    {
     "name": "stdout",
     "output_type": "stream",
     "text": [
      "[71/25348] ⚠️ PMCID 없음 → 건너뜀\n"
     ]
    },
    {
     "name": "stderr",
     "output_type": "stream",
     "text": [
      "vitamin 진행:   0%|          | 72/25348 [01:11<5:22:59,  1.30논문/s]"
     ]
    },
    {
     "name": "stdout",
     "output_type": "stream",
     "text": [
      "[72/25348] ✅ 저장 완료 (PMCID: PMC12191225)\n",
      "[73/25348] ⚠️ PMCID 없음 → 건너뜀\n",
      "[74/25348] ⚠️ PMCID 없음 → 건너뜀\n",
      "[75/25348] ✅ 저장 완료 (PMCID: PMC12192670)\n"
     ]
    },
    {
     "name": "stderr",
     "output_type": "stream",
     "text": [
      "vitamin 진행:   0%|          | 76/25348 [01:16<7:41:48,  1.10s/논문]"
     ]
    },
    {
     "name": "stdout",
     "output_type": "stream",
     "text": [
      "[76/25348] ✅ 저장 완료 (PMCID: PMC12158689)\n"
     ]
    },
    {
     "name": "stderr",
     "output_type": "stream",
     "text": [
      "vitamin 진행:   0%|          | 77/25348 [01:17<7:28:04,  1.06s/논문]"
     ]
    },
    {
     "name": "stdout",
     "output_type": "stream",
     "text": [
      "[77/25348] ✅ 저장 완료 (PMCID: PMC12123662)\n",
      "[78/25348] ✅ 저장 완료 (PMCID: PMC12164377)\n"
     ]
    },
    {
     "name": "stderr",
     "output_type": "stream",
     "text": [
      "vitamin 진행:   0%|          | 78/25348 [01:20<9:40:01,  1.38s/논문]"
     ]
    },
    {
     "name": "stdout",
     "output_type": "stream",
     "text": [
      "[79/25348] ⚠️ PMCID 없음 → 건너뜀\n",
      "[80/25348] ⚠️ PMCID 없음 → 건너뜀\n"
     ]
    },
    {
     "name": "stderr",
     "output_type": "stream",
     "text": [
      "vitamin 진행:   0%|          | 81/25348 [01:22<7:25:10,  1.06s/논문]"
     ]
    },
    {
     "name": "stdout",
     "output_type": "stream",
     "text": [
      "[81/25348] ✅ 저장 완료 (PMCID: PMC12123802)\n",
      "[82/25348] ✅ 저장 완료 (PMCID: PMC12173107)\n"
     ]
    },
    {
     "name": "stderr",
     "output_type": "stream",
     "text": [
      "vitamin 진행:   0%|          | 83/25348 [01:26<9:14:24,  1.32s/논문]"
     ]
    },
    {
     "name": "stdout",
     "output_type": "stream",
     "text": [
      "[83/25348] ✅ 저장 완료 (PMCID: PMC12019608)\n",
      "[84/25348] ⚠️ PMCID 없음 → 건너뜀\n",
      "[85/25348] ✅ 저장 완료 (PMCID: PMC12196299)\n"
     ]
    },
    {
     "name": "stderr",
     "output_type": "stream",
     "text": [
      "vitamin 진행:   0%|          | 86/25348 [01:29<8:22:33,  1.19s/논문]"
     ]
    },
    {
     "name": "stdout",
     "output_type": "stream",
     "text": [
      "[86/25348] ⚠️ PMCID 없음 → 건너뜀\n"
     ]
    },
    {
     "name": "stderr",
     "output_type": "stream",
     "text": [
      "vitamin 진행:   0%|          | 87/25348 [01:30<8:05:40,  1.15s/논문]"
     ]
    },
    {
     "name": "stdout",
     "output_type": "stream",
     "text": [
      "[87/25348] ✅ 저장 완료 (PMCID: PMC12151037)\n",
      "[88/25348] ✅ 저장 완료 (PMCID: PMC12124233)\n"
     ]
    },
    {
     "name": "stderr",
     "output_type": "stream",
     "text": [
      "vitamin 진행:   0%|          | 88/25348 [01:32<10:07:10,  1.44s/논문]"
     ]
    },
    {
     "name": "stdout",
     "output_type": "stream",
     "text": [
      "[89/25348] ⚠️ PMCID 없음 → 건너뜀\n"
     ]
    },
    {
     "name": "stderr",
     "output_type": "stream",
     "text": [
      "vitamin 진행:   0%|          | 90/25348 [01:33<7:30:54,  1.07s/논문] "
     ]
    },
    {
     "name": "stdout",
     "output_type": "stream",
     "text": [
      "[90/25348] ✅ 저장 완료 (PMCID: PMC12166197)\n"
     ]
    },
    {
     "name": "stderr",
     "output_type": "stream",
     "text": [
      "vitamin 진행:   0%|          | 91/25348 [01:34<7:17:54,  1.04s/논문]"
     ]
    },
    {
     "name": "stdout",
     "output_type": "stream",
     "text": [
      "[91/25348] ⚠️ PMCID 없음 → 건너뜀\n",
      "[92/25348] ✅ 저장 완료 (PMCID: PMC12122920)\n"
     ]
    },
    {
     "name": "stderr",
     "output_type": "stream",
     "text": [
      "vitamin 진행:   0%|          | 93/25348 [01:38<8:56:24,  1.27s/논문]"
     ]
    },
    {
     "name": "stdout",
     "output_type": "stream",
     "text": [
      "[93/25348] ✅ 저장 완료 (PMCID: PMC12196037)\n",
      "[94/25348] ✅ 저장 완료 (PMCID: PMC12175088)\n"
     ]
    },
    {
     "name": "stderr",
     "output_type": "stream",
     "text": [
      "vitamin 진행:   0%|          | 95/25348 [01:41<9:52:42,  1.41s/논문] "
     ]
    },
    {
     "name": "stdout",
     "output_type": "stream",
     "text": [
      "[95/25348] ✅ 저장 완료 (PMCID: PMC12150404)\n"
     ]
    },
    {
     "name": "stderr",
     "output_type": "stream",
     "text": [
      "vitamin 진행:   0%|          | 96/25348 [01:43<10:58:31,  1.56s/논문]"
     ]
    },
    {
     "name": "stdout",
     "output_type": "stream",
     "text": [
      "⚠️ abstract section 없음 (PMCID: PMC12184793) → 건너뜀\n",
      "[97/25348] ✅ 저장 완료 (PMCID: PMC12162998)\n"
     ]
    },
    {
     "name": "stderr",
     "output_type": "stream",
     "text": [
      "vitamin 진행:   0%|          | 98/25348 [01:47<11:34:17,  1.65s/논문]"
     ]
    },
    {
     "name": "stdout",
     "output_type": "stream",
     "text": [
      "[98/25348] ✅ 저장 완료 (PMCID: PMC12191256)\n",
      "[99/25348] ✅ 저장 완료 (PMCID: PMC12193704)\n"
     ]
    },
    {
     "name": "stderr",
     "output_type": "stream",
     "text": [
      "vitamin 진행:   0%|          | 100/25348 [01:50<11:40:34,  1.66s/논문]"
     ]
    },
    {
     "name": "stdout",
     "output_type": "stream",
     "text": [
      "[100/25348] ✅ 저장 완료 (PMCID: PMC12172504)\n",
      "[101/25348] ✅ 저장 완료 (PMCID: PMC12150255)\n"
     ]
    },
    {
     "name": "stderr",
     "output_type": "stream",
     "text": [
      "vitamin 진행:   0%|          | 102/25348 [01:55<12:49:43,  1.83s/논문]"
     ]
    },
    {
     "name": "stdout",
     "output_type": "stream",
     "text": [
      "[102/25348] ✅ 저장 완료 (PMCID: PMC12193626)\n",
      "[103/25348] ⚠️ PMCID 없음 → 건너뜀\n",
      "[104/25348] ✅ 저장 완료 (PMCID: PMC12197910)\n"
     ]
    },
    {
     "name": "stderr",
     "output_type": "stream",
     "text": [
      "vitamin 진행:   0%|          | 104/25348 [01:56<9:52:08,  1.41s/논문] "
     ]
    },
    {
     "name": "stdout",
     "output_type": "stream",
     "text": [
      "[105/25348] ⚠️ PMCID 없음 → 건너뜀\n"
     ]
    },
    {
     "name": "stderr",
     "output_type": "stream",
     "text": [
      "vitamin 진행:   0%|          | 106/25348 [01:58<8:38:39,  1.23s/논문]"
     ]
    },
    {
     "name": "stdout",
     "output_type": "stream",
     "text": [
      "[106/25348] ✅ 저장 완료 (PMCID: PMC12158071)\n",
      "[107/25348] ✅ 저장 완료 (PMCID: PMC12162489)\n"
     ]
    },
    {
     "name": "stderr",
     "output_type": "stream",
     "text": [
      "vitamin 진행:   0%|          | 108/25348 [02:02<10:14:00,  1.46s/논문]"
     ]
    },
    {
     "name": "stdout",
     "output_type": "stream",
     "text": [
      "[108/25348] ✅ 저장 완료 (PMCID: PMC12121603)\n",
      "[109/25348] ⚠️ PMCID 없음 → 건너뜀\n",
      "[110/25348] ⚠️ PMCID 없음 → 건너뜀\n"
     ]
    },
    {
     "name": "stderr",
     "output_type": "stream",
     "text": [
      "vitamin 진행:   0%|          | 111/25348 [02:04<6:32:55,  1.07논문/s] "
     ]
    },
    {
     "name": "stdout",
     "output_type": "stream",
     "text": [
      "[111/25348] ⚠️ PMCID 없음 → 건너뜀\n",
      "[112/25348] ⚠️ PMCID 없음 → 건너뜀\n",
      "[113/25348] ✅ 저장 완료 (PMCID: PMC12146210)\n"
     ]
    },
    {
     "name": "stderr",
     "output_type": "stream",
     "text": [
      "vitamin 진행:   0%|          | 114/25348 [02:07<7:20:04,  1.05s/논문]"
     ]
    },
    {
     "name": "stdout",
     "output_type": "stream",
     "text": [
      "[114/25348] ✅ 저장 완료 (PMCID: PMC12119810)\n",
      "[115/25348] ✅ 저장 완료 (PMCID: PMC12162896)\n"
     ]
    },
    {
     "name": "stderr",
     "output_type": "stream",
     "text": [
      "vitamin 진행:   0%|          | 116/25348 [02:14<13:24:52,  1.91s/논문]"
     ]
    },
    {
     "name": "stdout",
     "output_type": "stream",
     "text": [
      "[116/25348] ✅ 저장 완료 (PMCID: PMC12196374)\n",
      "[117/25348] ✅ 저장 완료 (PMCID: PMC12140693)\n"
     ]
    },
    {
     "name": "stderr",
     "output_type": "stream",
     "text": [
      "vitamin 진행:   0%|          | 118/25348 [02:18<12:32:50,  1.79s/논문]"
     ]
    },
    {
     "name": "stdout",
     "output_type": "stream",
     "text": [
      "[118/25348] ✅ 저장 완료 (PMCID: PMC12173858)\n",
      "[119/25348] ✅ 저장 완료 (PMCID: PMC12149738)\n"
     ]
    },
    {
     "name": "stderr",
     "output_type": "stream",
     "text": [
      "vitamin 진행:   0%|          | 119/25348 [02:20<14:25:51,  2.06s/논문]"
     ]
    },
    {
     "name": "stdout",
     "output_type": "stream",
     "text": [
      "[120/25348] ⚠️ PMCID 없음 → 건너뜀\n"
     ]
    },
    {
     "name": "stderr",
     "output_type": "stream",
     "text": [
      "vitamin 진행:   0%|          | 121/25348 [02:22<11:18:49,  1.61s/논문]"
     ]
    },
    {
     "name": "stdout",
     "output_type": "stream",
     "text": [
      "[121/25348] ✅ 저장 완료 (PMCID: PMC12157762)\n",
      "[122/25348] ⚠️ PMCID 없음 → 건너뜀\n",
      "[123/25348] ⚠️ PMCID 없음 → 건너뜀\n",
      "[124/25348] ⚠️ PMCID 없음 → 건너뜀\n",
      "[125/25348] ✅ 저장 완료 (PMCID: PMC12191119)\n"
     ]
    },
    {
     "name": "stderr",
     "output_type": "stream",
     "text": [
      "vitamin 진행:   0%|          | 126/25348 [02:27<8:37:39,  1.23s/논문] "
     ]
    },
    {
     "name": "stdout",
     "output_type": "stream",
     "text": [
      "[126/25348] ✅ 저장 완료 (PMCID: PMC12126289)\n",
      "[127/25348] ⚠️ PMCID 없음 → 건너뜀\n",
      "[128/25348] ✅ 저장 완료 (PMCID: PMC12151104)\n"
     ]
    },
    {
     "name": "stderr",
     "output_type": "stream",
     "text": [
      "vitamin 진행:   1%|          | 129/25348 [02:31<8:36:27,  1.23s/논문]"
     ]
    },
    {
     "name": "stdout",
     "output_type": "stream",
     "text": [
      "[129/25348] ✅ 저장 완료 (PMCID: PMC12196107)\n",
      "[130/25348] ✅ 저장 완료 (PMCID: PMC12121574)\n"
     ]
    },
    {
     "name": "stderr",
     "output_type": "stream",
     "text": [
      "vitamin 진행:   1%|          | 131/25348 [02:34<9:38:35,  1.38s/논문] "
     ]
    },
    {
     "name": "stdout",
     "output_type": "stream",
     "text": [
      "[131/25348] ⚠️ PMCID 없음 → 건너뜀\n"
     ]
    },
    {
     "name": "stderr",
     "output_type": "stream",
     "text": [
      "vitamin 진행:   1%|          | 132/25348 [02:35<9:11:12,  1.31s/논문]"
     ]
    },
    {
     "name": "stdout",
     "output_type": "stream",
     "text": [
      "[132/25348] ✅ 저장 완료 (PMCID: PMC12125715)\n",
      "[133/25348] ✅ 저장 완료 (PMCID: PMC12154743)\n"
     ]
    },
    {
     "name": "stderr",
     "output_type": "stream",
     "text": [
      "vitamin 진행:   1%|          | 133/25348 [02:38<11:25:02,  1.63s/논문]"
     ]
    },
    {
     "name": "stdout",
     "output_type": "stream",
     "text": [
      "[134/25348] ⚠️ PMCID 없음 → 건너뜀\n",
      "[135/25348] ⚠️ PMCID 없음 → 건너뜀\n"
     ]
    },
    {
     "name": "stderr",
     "output_type": "stream",
     "text": [
      "vitamin 진행:   1%|          | 136/25348 [02:39<6:38:01,  1.06논문/s] "
     ]
    },
    {
     "name": "stdout",
     "output_type": "stream",
     "text": [
      "[136/25348] ⚠️ PMCID 없음 → 건너뜀\n"
     ]
    },
    {
     "name": "stderr",
     "output_type": "stream",
     "text": [
      "vitamin 진행:   1%|          | 137/25348 [02:40<6:50:24,  1.02논문/s]"
     ]
    },
    {
     "name": "stdout",
     "output_type": "stream",
     "text": [
      "[137/25348] ✅ 저장 완료 (PMCID: PMC12190092)\n",
      "[138/25348] ⚠️ PMCID 없음 → 건너뜀\n",
      "[139/25348] ✅ 저장 완료 (PMCID: PMC12126319)\n"
     ]
    },
    {
     "name": "stderr",
     "output_type": "stream",
     "text": [
      "vitamin 진행:   1%|          | 140/25348 [02:43<7:27:46,  1.07s/논문]"
     ]
    },
    {
     "name": "stdout",
     "output_type": "stream",
     "text": [
      "[140/25348] ✅ 저장 완료 (PMCID: PMC12158240)\n"
     ]
    },
    {
     "name": "stderr",
     "output_type": "stream",
     "text": [
      "vitamin 진행:   1%|          | 141/25348 [02:46<9:58:51,  1.43s/논문]"
     ]
    },
    {
     "name": "stdout",
     "output_type": "stream",
     "text": [
      "[141/25348] ✅ 저장 완료 (PMCID: PMC12109651)\n",
      "[142/25348] ✅ 저장 완료 (PMCID: PMC12154749)\n"
     ]
    },
    {
     "name": "stderr",
     "output_type": "stream",
     "text": [
      "vitamin 진행:   1%|          | 143/25348 [02:50<11:02:45,  1.58s/논문]"
     ]
    },
    {
     "name": "stdout",
     "output_type": "stream",
     "text": [
      "[143/25348] ✅ 저장 완료 (PMCID: PMC12184458)\n",
      "[144/25348] ✅ 저장 완료 (PMCID: PMC12188276)\n"
     ]
    },
    {
     "name": "stderr",
     "output_type": "stream",
     "text": [
      "vitamin 진행:   1%|          | 145/25348 [02:53<11:06:48,  1.59s/논문]"
     ]
    },
    {
     "name": "stdout",
     "output_type": "stream",
     "text": [
      "[145/25348] ✅ 저장 완료 (PMCID: PMC12141787)\n",
      "[146/25348] ✅ 저장 완료 (PMCID: PMC12200005)\n"
     ]
    },
    {
     "name": "stderr",
     "output_type": "stream",
     "text": [
      "vitamin 진행:   1%|          | 146/25348 [02:57<15:23:49,  2.20s/논문]"
     ]
    },
    {
     "name": "stdout",
     "output_type": "stream",
     "text": [
      "[147/25348] ⚠️ PMCID 없음 → 건너뜀\n"
     ]
    },
    {
     "name": "stderr",
     "output_type": "stream",
     "text": [
      "vitamin 진행:   1%|          | 148/25348 [02:58<10:08:02,  1.45s/논문]"
     ]
    },
    {
     "name": "stdout",
     "output_type": "stream",
     "text": [
      "[148/25348] ✅ 저장 완료 (PMCID: PMC12173369)\n",
      "[149/25348] ⚠️ PMCID 없음 → 건너뜀\n",
      "[150/25348] ✅ 저장 완료 (PMCID: PMC12126361)\n"
     ]
    },
    {
     "name": "stderr",
     "output_type": "stream",
     "text": [
      "vitamin 진행:   1%|          | 151/25348 [03:02<9:02:52,  1.29s/논문] "
     ]
    },
    {
     "name": "stdout",
     "output_type": "stream",
     "text": [
      "[151/25348] ⚠️ PMCID 없음 → 건너뜀\n",
      "[152/25348] ⚠️ PMCID 없음 → 건너뜀\n",
      "[153/25348] ⚠️ PMCID 없음 → 건너뜀\n"
     ]
    },
    {
     "name": "stderr",
     "output_type": "stream",
     "text": [
      "vitamin 진행:   1%|          | 154/25348 [03:03<6:04:00,  1.15논문/s]"
     ]
    },
    {
     "name": "stdout",
     "output_type": "stream",
     "text": [
      "[154/25348] ✅ 저장 완료 (PMCID: PMC12154430)\n",
      "[155/25348] ⚠️ PMCID 없음 → 건너뜀\n"
     ]
    },
    {
     "name": "stderr",
     "output_type": "stream",
     "text": [
      "vitamin 진행:   1%|          | 156/25348 [03:04<5:34:03,  1.26논문/s]"
     ]
    },
    {
     "name": "stdout",
     "output_type": "stream",
     "text": [
      "[156/25348] ⚠️ PMCID 없음 → 건너뜀\n",
      "[157/25348] ✅ 저장 완료 (PMCID: PMC12101103)\n"
     ]
    },
    {
     "name": "stderr",
     "output_type": "stream",
     "text": [
      "vitamin 진행:   1%|          | 157/25348 [03:07<8:16:45,  1.18s/논문]"
     ]
    },
    {
     "name": "stdout",
     "output_type": "stream",
     "text": [
      "[158/25348] ⚠️ PMCID 없음 → 건너뜀\n"
     ]
    },
    {
     "name": "stderr",
     "output_type": "stream",
     "text": [
      "vitamin 진행:   1%|          | 159/25348 [03:08<6:45:47,  1.03논문/s]"
     ]
    },
    {
     "name": "stdout",
     "output_type": "stream",
     "text": [
      "[159/25348] ✅ 저장 완료 (PMCID: PMC12086370)\n",
      "[160/25348] ⚠️ PMCID 없음 → 건너뜀\n",
      "[161/25348] ✅ 저장 완료 (PMCID: PMC12155592)\n"
     ]
    },
    {
     "name": "stderr",
     "output_type": "stream",
     "text": [
      "vitamin 진행:   1%|          | 162/25348 [03:13<8:11:48,  1.17s/논문]"
     ]
    },
    {
     "name": "stdout",
     "output_type": "stream",
     "text": [
      "[162/25348] ✅ 저장 완료 (PMCID: PMC12192539)\n",
      "[163/25348] ✅ 저장 완료 (PMCID: PMC12104107)\n"
     ]
    },
    {
     "name": "stderr",
     "output_type": "stream",
     "text": [
      "vitamin 진행:   1%|          | 164/25348 [03:16<9:23:57,  1.34s/논문] "
     ]
    },
    {
     "name": "stdout",
     "output_type": "stream",
     "text": [
      "[164/25348] ✅ 저장 완료 (PMCID: PMC12178884)\n",
      "[165/25348] ⚠️ PMCID 없음 → 건너뜀\n",
      "[166/25348] ✅ 저장 완료 (PMCID: PMC12150134)\n"
     ]
    },
    {
     "name": "stderr",
     "output_type": "stream",
     "text": [
      "vitamin 진행:   1%|          | 167/25348 [03:20<8:52:36,  1.27s/논문]"
     ]
    },
    {
     "name": "stdout",
     "output_type": "stream",
     "text": [
      "[167/25348] ✅ 저장 완료 (PMCID: PMC12093025)\n",
      "[168/25348] ⚠️ PMCID 없음 → 건너뜀\n",
      "[169/25348] ✅ 저장 완료 (PMCID: PMC12176568)\n"
     ]
    },
    {
     "name": "stderr",
     "output_type": "stream",
     "text": [
      "vitamin 진행:   1%|          | 169/25348 [03:23<10:11:02,  1.46s/논문]"
     ]
    },
    {
     "name": "stdout",
     "output_type": "stream",
     "text": [
      "[170/25348] ⚠️ PMCID 없음 → 건너뜀\n"
     ]
    },
    {
     "name": "stderr",
     "output_type": "stream",
     "text": [
      "vitamin 진행:   1%|          | 171/25348 [03:24<7:46:26,  1.11s/논문] "
     ]
    },
    {
     "name": "stdout",
     "output_type": "stream",
     "text": [
      "[171/25348] ⚠️ PMCID 없음 → 건너뜀\n"
     ]
    },
    {
     "name": "stderr",
     "output_type": "stream",
     "text": [
      "vitamin 진행:   1%|          | 172/25348 [03:25<7:47:57,  1.12s/논문]"
     ]
    },
    {
     "name": "stdout",
     "output_type": "stream",
     "text": [
      "[172/25348] ✅ 저장 완료 (PMCID: PMC12191571)\n",
      "[173/25348] ⚠️ PMCID 없음 → 건너뜀\n",
      "[174/25348] ✅ 저장 완료 (PMCID: PMC12192668)\n"
     ]
    },
    {
     "name": "stderr",
     "output_type": "stream",
     "text": [
      "vitamin 진행:   1%|          | 175/25348 [03:29<8:11:18,  1.17s/논문]"
     ]
    },
    {
     "name": "stdout",
     "output_type": "stream",
     "text": [
      "[175/25348] ✅ 저장 완료 (PMCID: PMC12102947)\n",
      "[176/25348] ✅ 저장 완료 (PMCID: PMC11955277)\n"
     ]
    },
    {
     "name": "stderr",
     "output_type": "stream",
     "text": [
      "vitamin 진행:   1%|          | 176/25348 [03:32<11:09:00,  1.59s/논문]"
     ]
    },
    {
     "name": "stdout",
     "output_type": "stream",
     "text": [
      "[177/25348] ⚠️ PMCID 없음 → 건너뜀\n",
      "[178/25348] ⚠️ PMCID 없음 → 건너뜀\n"
     ]
    },
    {
     "name": "stderr",
     "output_type": "stream",
     "text": [
      "vitamin 진행:   1%|          | 179/25348 [03:33<6:53:42,  1.01논문/s] "
     ]
    },
    {
     "name": "stdout",
     "output_type": "stream",
     "text": [
      "[179/25348] ✅ 저장 완료 (PMCID: PMC12158003)\n",
      "[180/25348] ⚠️ PMCID 없음 → 건너뜀\n"
     ]
    },
    {
     "name": "stderr",
     "output_type": "stream",
     "text": [
      "vitamin 진행:   1%|          | 181/25348 [03:34<5:43:47,  1.22논문/s]"
     ]
    },
    {
     "name": "stdout",
     "output_type": "stream",
     "text": [
      "[181/25348] ⚠️ PMCID 없음 → 건너뜀\n",
      "[182/25348] ✅ 저장 완료 (PMCID: PMC12154485)\n"
     ]
    },
    {
     "name": "stderr",
     "output_type": "stream",
     "text": [
      "vitamin 진행:   1%|          | 182/25348 [03:37<8:28:51,  1.21s/논문]"
     ]
    },
    {
     "name": "stdout",
     "output_type": "stream",
     "text": [
      "[183/25348] ⚠️ PMCID 없음 → 건너뜀\n",
      "[184/25348] ⚠️ PMCID 없음 → 건너뜀\n",
      "[185/25348] ⚠️ PMCID 없음 → 건너뜀\n"
     ]
    },
    {
     "name": "stderr",
     "output_type": "stream",
     "text": [
      "vitamin 진행:   1%|          | 186/25348 [03:38<5:03:22,  1.38논문/s]"
     ]
    },
    {
     "name": "stdout",
     "output_type": "stream",
     "text": [
      "[186/25348] ⚠️ PMCID 없음 → 건너뜀\n",
      "[187/25348] ⚠️ PMCID 없음 → 건너뜀\n",
      "[188/25348] ⚠️ PMCID 없음 → 건너뜀\n",
      "[189/25348] ⚠️ PMCID 없음 → 건너뜀\n"
     ]
    },
    {
     "name": "stderr",
     "output_type": "stream",
     "text": [
      "vitamin 진행:   1%|          | 190/25348 [03:39<3:38:10,  1.92논문/s]"
     ]
    },
    {
     "name": "stdout",
     "output_type": "stream",
     "text": [
      "[190/25348] ✅ 저장 완료 (PMCID: PMC12173921)\n"
     ]
    },
    {
     "name": "stderr",
     "output_type": "stream",
     "text": [
      "vitamin 진행:   1%|          | 191/25348 [03:40<4:01:18,  1.74논문/s]"
     ]
    },
    {
     "name": "stdout",
     "output_type": "stream",
     "text": [
      "[191/25348] ⚠️ PMCID 없음 → 건너뜀\n",
      "[192/25348] ✅ 저장 완료 (PMCID: PMC12158063)\n"
     ]
    },
    {
     "name": "stderr",
     "output_type": "stream",
     "text": [
      "vitamin 진행:   1%|          | 192/25348 [03:43<6:24:46,  1.09논문/s]"
     ]
    },
    {
     "name": "stdout",
     "output_type": "stream",
     "text": [
      "[193/25348] ⚠️ PMCID 없음 → 건너뜀\n"
     ]
    },
    {
     "name": "stderr",
     "output_type": "stream",
     "text": [
      "vitamin 진행:   1%|          | 194/25348 [03:44<5:45:39,  1.21논문/s]"
     ]
    },
    {
     "name": "stdout",
     "output_type": "stream",
     "text": [
      "[194/25348] ✅ 저장 완료 (PMCID: PMC12087203)\n",
      "[195/25348] ✅ 저장 완료 (PMCID: PMC12176815)\n"
     ]
    },
    {
     "name": "stderr",
     "output_type": "stream",
     "text": [
      "vitamin 진행:   1%|          | 196/25348 [03:48<8:58:26,  1.28s/논문]"
     ]
    },
    {
     "name": "stdout",
     "output_type": "stream",
     "text": [
      "[196/25348] ✅ 저장 완료 (PMCID: PMC12184912)\n"
     ]
    },
    {
     "name": "stderr",
     "output_type": "stream",
     "text": [
      "vitamin 진행:   1%|          | 197/25348 [03:49<8:22:29,  1.20s/논문]"
     ]
    },
    {
     "name": "stdout",
     "output_type": "stream",
     "text": [
      "[197/25348] ✅ 저장 완료 (PMCID: PMC12121052)\n",
      "[198/25348] ✅ 저장 완료 (PMCID: PMC12161517)\n"
     ]
    },
    {
     "name": "stderr",
     "output_type": "stream",
     "text": [
      "vitamin 진행:   1%|          | 199/25348 [03:52<8:35:19,  1.23s/논문]"
     ]
    },
    {
     "name": "stdout",
     "output_type": "stream",
     "text": [
      "⚠️ abstract section 없음 (PMCID: PMC12107995) → 건너뜀\n",
      "[200/25348] ⚠️ PMCID 없음 → 건너뜀\n"
     ]
    },
    {
     "name": "stderr",
     "output_type": "stream",
     "text": [
      "vitamin 진행:   1%|          | 201/25348 [03:53<6:22:57,  1.09논문/s]"
     ]
    },
    {
     "name": "stdout",
     "output_type": "stream",
     "text": [
      "[201/25348] ⚠️ PMCID 없음 → 건너뜀\n"
     ]
    },
    {
     "name": "stderr",
     "output_type": "stream",
     "text": [
      "vitamin 진행:   1%|          | 202/25348 [03:54<6:38:08,  1.05논문/s]"
     ]
    },
    {
     "name": "stdout",
     "output_type": "stream",
     "text": [
      "[202/25348] ✅ 저장 완료 (PMCID: PMC12146158)\n",
      "[203/25348] ⚠️ PMCID 없음 → 건너뜀\n",
      "[204/25348] ✅ 저장 완료 (PMCID: PMC12162301)\n"
     ]
    },
    {
     "name": "stderr",
     "output_type": "stream",
     "text": [
      "vitamin 진행:   1%|          | 205/25348 [03:58<7:37:07,  1.09s/논문]"
     ]
    },
    {
     "name": "stdout",
     "output_type": "stream",
     "text": [
      "[205/25348] ✅ 저장 완료 (PMCID: PMC12121513)\n",
      "[206/25348] ✅ 저장 완료 (PMCID: PMC12118829)\n"
     ]
    },
    {
     "name": "stderr",
     "output_type": "stream",
     "text": [
      "vitamin 진행:   1%|          | 206/25348 [04:01<12:04:31,  1.73s/논문]"
     ]
    },
    {
     "name": "stdout",
     "output_type": "stream",
     "text": [
      "[207/25348] ⚠️ PMCID 없음 → 건너뜀\n",
      "[208/25348] ⚠️ PMCID 없음 → 건너뜀\n",
      "[209/25348] ⚠️ PMCID 없음 → 건너뜀\n"
     ]
    },
    {
     "name": "stderr",
     "output_type": "stream",
     "text": [
      "vitamin 진행:   1%|          | 210/25348 [04:03<6:22:19,  1.10논문/s] "
     ]
    },
    {
     "name": "stdout",
     "output_type": "stream",
     "text": [
      "[210/25348] ✅ 저장 완료 (PMCID: PMC12193026)\n"
     ]
    },
    {
     "name": "stderr",
     "output_type": "stream",
     "text": [
      "vitamin 진행:   1%|          | 211/25348 [04:04<6:49:20,  1.02논문/s]"
     ]
    },
    {
     "name": "stdout",
     "output_type": "stream",
     "text": [
      "[211/25348] ⚠️ PMCID 없음 → 건너뜀\n",
      "[212/25348] ✅ 저장 완료 (PMCID: PMC12140675)\n"
     ]
    },
    {
     "name": "stderr",
     "output_type": "stream",
     "text": [
      "vitamin 진행:   1%|          | 212/25348 [04:06<8:04:57,  1.16s/논문]"
     ]
    },
    {
     "name": "stdout",
     "output_type": "stream",
     "text": [
      "[213/25348] ⚠️ PMCID 없음 → 건너뜀\n",
      "[214/25348] ⚠️ PMCID 없음 → 건너뜀\n",
      "[215/25348] ⚠️ PMCID 없음 → 건너뜀\n"
     ]
    },
    {
     "name": "stderr",
     "output_type": "stream",
     "text": [
      "vitamin 진행:   1%|          | 216/25348 [04:07<4:40:43,  1.49논문/s]"
     ]
    },
    {
     "name": "stdout",
     "output_type": "stream",
     "text": [
      "[216/25348] ⚠️ PMCID 없음 → 건너뜀\n",
      "[217/25348] ⚠️ PMCID 없음 → 건너뜀\n",
      "[218/25348] ⚠️ PMCID 없음 → 건너뜀\n"
     ]
    },
    {
     "name": "stderr",
     "output_type": "stream",
     "text": [
      "vitamin 진행:   1%|          | 219/25348 [04:08<3:50:46,  1.81논문/s]"
     ]
    },
    {
     "name": "stdout",
     "output_type": "stream",
     "text": [
      "[219/25348] ✅ 저장 완료 (PMCID: PMC12163063)\n",
      "[220/25348] ⚠️ PMCID 없음 → 건너뜀\n"
     ]
    },
    {
     "name": "stderr",
     "output_type": "stream",
     "text": [
      "vitamin 진행:   1%|          | 221/25348 [04:09<3:46:28,  1.85논문/s]"
     ]
    },
    {
     "name": "stdout",
     "output_type": "stream",
     "text": [
      "[221/25348] ⚠️ PMCID 없음 → 건너뜀\n",
      "[222/25348] ✅ 저장 완료 (PMCID: PMC12103480)\n"
     ]
    },
    {
     "name": "stderr",
     "output_type": "stream",
     "text": [
      "vitamin 진행:   1%|          | 223/25348 [04:12<6:01:12,  1.16논문/s]"
     ]
    },
    {
     "name": "stdout",
     "output_type": "stream",
     "text": [
      "[223/25348] ✅ 저장 완료 (PMCID: PMC12193537)\n",
      "[224/25348] ✅ 저장 완료 (PMCID: PMC12173883)\n"
     ]
    },
    {
     "name": "stderr",
     "output_type": "stream",
     "text": [
      "vitamin 진행:   1%|          | 224/25348 [04:15<8:34:19,  1.23s/논문]"
     ]
    },
    {
     "name": "stdout",
     "output_type": "stream",
     "text": [
      "[225/25348] ⚠️ PMCID 없음 → 건너뜀\n"
     ]
    },
    {
     "name": "stderr",
     "output_type": "stream",
     "text": [
      "vitamin 진행:   1%|          | 226/25348 [04:17<8:01:16,  1.15s/논문]"
     ]
    },
    {
     "name": "stdout",
     "output_type": "stream",
     "text": [
      "[226/25348] ✅ 저장 완료 (PMCID: PMC12089289)\n",
      "[227/25348] ✅ 저장 완료 (PMCID: PMC12166185)\n"
     ]
    },
    {
     "name": "stderr",
     "output_type": "stream",
     "text": [
      "vitamin 진행:   1%|          | 227/25348 [04:20<10:21:29,  1.48s/논문]"
     ]
    },
    {
     "name": "stdout",
     "output_type": "stream",
     "text": [
      "[228/25348] ⚠️ PMCID 없음 → 건너뜀\n"
     ]
    },
    {
     "name": "stderr",
     "output_type": "stream",
     "text": [
      "vitamin 진행:   1%|          | 229/25348 [04:21<8:06:42,  1.16s/논문] "
     ]
    },
    {
     "name": "stdout",
     "output_type": "stream",
     "text": [
      "[229/25348] ✅ 저장 완료 (PMCID: PMC12112522)\n",
      "[230/25348] ⚠️ PMCID 없음 → 건너뜀\n"
     ]
    },
    {
     "name": "stderr",
     "output_type": "stream",
     "text": [
      "vitamin 진행:   1%|          | 231/25348 [04:22<6:33:27,  1.06논문/s]"
     ]
    },
    {
     "name": "stdout",
     "output_type": "stream",
     "text": [
      "[231/25348] ⚠️ PMCID 없음 → 건너뜀\n",
      "[232/25348] ⚠️ PMCID 없음 → 건너뜀\n",
      "[233/25348] ⚠️ PMCID 없음 → 건너뜀\n",
      "[234/25348] ✅ 저장 완료 (PMCID: PMC12156360)\n"
     ]
    },
    {
     "name": "stderr",
     "output_type": "stream",
     "text": [
      "vitamin 진행:   1%|          | 234/25348 [04:24<6:13:44,  1.12논문/s]"
     ]
    },
    {
     "name": "stdout",
     "output_type": "stream",
     "text": [
      "[235/25348] ⚠️ PMCID 없음 → 건너뜀\n"
     ]
    },
    {
     "name": "stderr",
     "output_type": "stream",
     "text": [
      "vitamin 진행:   1%|          | 236/25348 [04:25<5:28:21,  1.27논문/s]"
     ]
    },
    {
     "name": "stdout",
     "output_type": "stream",
     "text": [
      "[236/25348] ⚠️ PMCID 없음 → 건너뜀\n"
     ]
    },
    {
     "name": "stderr",
     "output_type": "stream",
     "text": [
      "vitamin 진행:   1%|          | 237/25348 [04:26<5:39:57,  1.23논문/s]"
     ]
    },
    {
     "name": "stdout",
     "output_type": "stream",
     "text": [
      "[237/25348] ✅ 저장 완료 (PMCID: PMC12174659)\n",
      "[238/25348] ✅ 저장 완료 (PMCID: PMC12089267)\n"
     ]
    },
    {
     "name": "stderr",
     "output_type": "stream",
     "text": [
      "vitamin 진행:   1%|          | 238/25348 [04:29<7:50:45,  1.12s/논문]"
     ]
    },
    {
     "name": "stdout",
     "output_type": "stream",
     "text": [
      "[239/25348] ⚠️ PMCID 없음 → 건너뜀\n"
     ]
    },
    {
     "name": "stderr",
     "output_type": "stream",
     "text": [
      "vitamin 진행:   1%|          | 240/25348 [04:30<6:21:18,  1.10논문/s]"
     ]
    },
    {
     "name": "stdout",
     "output_type": "stream",
     "text": [
      "[240/25348] ✅ 저장 완료 (PMCID: PMC12159707)\n",
      "[241/25348] ✅ 저장 완료 (PMCID: PMC12113770)\n"
     ]
    },
    {
     "name": "stderr",
     "output_type": "stream",
     "text": [
      "vitamin 진행:   1%|          | 242/25348 [04:34<8:45:06,  1.25s/논문]"
     ]
    },
    {
     "name": "stdout",
     "output_type": "stream",
     "text": [
      "[242/25348] ✅ 저장 완료 (PMCID: PMC12129937)\n",
      "[243/25348] ⚠️ PMCID 없음 → 건너뜀\n",
      "[244/25348] ⚠️ PMCID 없음 → 건너뜀\n"
     ]
    },
    {
     "name": "stderr",
     "output_type": "stream",
     "text": [
      "vitamin 진행:   1%|          | 245/25348 [04:35<5:48:26,  1.20논문/s]"
     ]
    },
    {
     "name": "stdout",
     "output_type": "stream",
     "text": [
      "[245/25348] ✅ 저장 완료 (PMCID: PMC12178159)\n",
      "[246/25348] ✅ 저장 완료 (PMCID: PMC12121450)\n"
     ]
    },
    {
     "name": "stderr",
     "output_type": "stream",
     "text": [
      "vitamin 진행:   1%|          | 246/25348 [04:39<9:55:26,  1.42s/논문]"
     ]
    },
    {
     "name": "stdout",
     "output_type": "stream",
     "text": [
      "[247/25348] ⚠️ PMCID 없음 → 건너뜀\n"
     ]
    },
    {
     "name": "stderr",
     "output_type": "stream",
     "text": [
      "vitamin 진행:   1%|          | 248/25348 [04:40<7:38:45,  1.10s/논문]"
     ]
    },
    {
     "name": "stdout",
     "output_type": "stream",
     "text": [
      "[248/25348] ✅ 저장 완료 (PMCID: PMC12106414)\n",
      "[249/25348] ⚠️ PMCID 없음 → 건너뜀\n",
      "[250/25348] ⚠️ PMCID 없음 → 건너뜀\n"
     ]
    },
    {
     "name": "stderr",
     "output_type": "stream",
     "text": [
      "vitamin 진행:   1%|          | 251/25348 [04:41<5:19:04,  1.31논문/s]"
     ]
    },
    {
     "name": "stdout",
     "output_type": "stream",
     "text": [
      "[251/25348] ⚠️ PMCID 없음 → 건너뜀\n",
      "[252/25348] ✅ 저장 완료 (PMCID: PMC12138574)\n"
     ]
    },
    {
     "name": "stderr",
     "output_type": "stream",
     "text": [
      "vitamin 진행:   1%|          | 253/25348 [04:44<7:11:06,  1.03s/논문]"
     ]
    },
    {
     "name": "stdout",
     "output_type": "stream",
     "text": [
      "[253/25348] ✅ 저장 완료 (PMCID: PMC12172538)\n",
      "[254/25348] ⚠️ PMCID 없음 → 건너뜀\n",
      "[255/25348] ✅ 저장 완료 (PMCID: PMC12187766)\n"
     ]
    },
    {
     "name": "stderr",
     "output_type": "stream",
     "text": [
      "vitamin 진행:   1%|          | 256/25348 [04:48<7:30:14,  1.08s/논문]"
     ]
    },
    {
     "name": "stdout",
     "output_type": "stream",
     "text": [
      "[256/25348] ⚠️ PMCID 없음 → 건너뜀\n",
      "[257/25348] ⚠️ PMCID 없음 → 건너뜀\n",
      "[258/25348] ⚠️ PMCID 없음 → 건너뜀\n",
      "[259/25348] ⚠️ PMCID 없음 → 건너뜀\n",
      "[260/25348] ⚠️ PMCID 없음 → 건너뜀\n"
     ]
    },
    {
     "name": "stderr",
     "output_type": "stream",
     "text": [
      "vitamin 진행:   1%|          | 261/25348 [04:50<4:44:11,  1.47논문/s]"
     ]
    },
    {
     "name": "stdout",
     "output_type": "stream",
     "text": [
      "[261/25348] ✅ 저장 완료 (PMCID: PMC12106547)\n",
      "[262/25348] ✅ 저장 완료 (PMCID: PMC12196124)\n"
     ]
    },
    {
     "name": "stderr",
     "output_type": "stream",
     "text": [
      "vitamin 진행:   1%|          | 262/25348 [04:52<6:37:52,  1.05논문/s]"
     ]
    },
    {
     "name": "stdout",
     "output_type": "stream",
     "text": [
      "[263/25348] ⚠️ PMCID 없음 → 건너뜀\n",
      "[264/25348] ⚠️ PMCID 없음 → 건너뜀\n"
     ]
    },
    {
     "name": "stderr",
     "output_type": "stream",
     "text": [
      "vitamin 진행:   1%|          | 265/25348 [04:53<4:57:31,  1.41논문/s]"
     ]
    },
    {
     "name": "stdout",
     "output_type": "stream",
     "text": [
      "[265/25348] ✅ 저장 완료 (PMCID: PMC12178461)\n",
      "[266/25348] ✅ 저장 완료 (PMCID: PMC12098975)\n"
     ]
    },
    {
     "name": "stderr",
     "output_type": "stream",
     "text": [
      "vitamin 진행:   1%|          | 266/25348 [04:57<8:20:35,  1.20s/논문]"
     ]
    },
    {
     "name": "stdout",
     "output_type": "stream",
     "text": [
      "[267/25348] ⚠️ PMCID 없음 → 건너뜀\n",
      "[268/25348] ⚠️ PMCID 없음 → 건너뜀\n"
     ]
    },
    {
     "name": "stderr",
     "output_type": "stream",
     "text": [
      "vitamin 진행:   1%|          | 269/25348 [04:58<6:04:32,  1.15논문/s]"
     ]
    },
    {
     "name": "stdout",
     "output_type": "stream",
     "text": [
      "[269/25348] ✅ 저장 완료 (PMCID: PMC12195832)\n",
      "[270/25348] ⚠️ PMCID 없음 → 건너뜀\n",
      "[271/25348] ✅ 저장 완료 (PMCID: PMC12158707)\n"
     ]
    },
    {
     "name": "stderr",
     "output_type": "stream",
     "text": [
      "vitamin 진행:   1%|          | 271/25348 [05:02<7:54:45,  1.14s/논문]"
     ]
    },
    {
     "name": "stdout",
     "output_type": "stream",
     "text": [
      "[272/25348] ⚠️ PMCID 없음 → 건너뜀\n",
      "[273/25348] ⚠️ PMCID 없음 → 건너뜀\n",
      "[274/25348] ⚠️ PMCID 없음 → 건너뜀\n"
     ]
    },
    {
     "name": "stderr",
     "output_type": "stream",
     "text": [
      "vitamin 진행:   1%|          | 275/25348 [05:03<5:14:39,  1.33논문/s]"
     ]
    },
    {
     "name": "stdout",
     "output_type": "stream",
     "text": [
      "[275/25348] ✅ 저장 완료 (PMCID: PMC12173063)\n"
     ]
    },
    {
     "name": "stderr",
     "output_type": "stream",
     "text": [
      "vitamin 진행:   1%|          | 276/25348 [05:04<5:25:38,  1.28논문/s]"
     ]
    },
    {
     "name": "stdout",
     "output_type": "stream",
     "text": [
      "[276/25348] ⚠️ PMCID 없음 → 건너뜀\n",
      "[277/25348] ⚠️ PMCID 없음 → 건너뜀\n",
      "[278/25348] ⚠️ PMCID 없음 → 건너뜀\n",
      "[279/25348] ⚠️ PMCID 없음 → 건너뜀\n",
      "[280/25348] ⚠️ PMCID 없음 → 건너뜀\n"
     ]
    },
    {
     "name": "stderr",
     "output_type": "stream",
     "text": [
      "vitamin 진행:   1%|          | 281/25348 [05:05<3:28:58,  2.00논문/s]"
     ]
    },
    {
     "name": "stdout",
     "output_type": "stream",
     "text": [
      "[281/25348] ⚠️ PMCID 없음 → 건너뜀\n",
      "[282/25348] ⚠️ PMCID 없음 → 건너뜀\n",
      "[283/25348] ✅ 저장 완료 (PMCID: PMC12176023)\n"
     ]
    },
    {
     "name": "stderr",
     "output_type": "stream",
     "text": [
      "vitamin 진행:   1%|          | 284/25348 [05:08<4:31:31,  1.54논문/s]"
     ]
    },
    {
     "name": "stdout",
     "output_type": "stream",
     "text": [
      "[284/25348] ✅ 저장 완료 (PMCID: PMC12117013)\n",
      "[285/25348] ⚠️ PMCID 없음 → 건너뜀\n"
     ]
    },
    {
     "name": "stderr",
     "output_type": "stream",
     "text": [
      "vitamin 진행:   1%|          | 286/25348 [05:09<4:20:01,  1.61논문/s]"
     ]
    },
    {
     "name": "stdout",
     "output_type": "stream",
     "text": [
      "[286/25348] ⚠️ PMCID 없음 → 건너뜀\n",
      "[287/25348] ⚠️ PMCID 없음 → 건너뜀\n",
      "[288/25348] ✅ 저장 완료 (PMCID: PMC12112360)\n"
     ]
    },
    {
     "name": "stderr",
     "output_type": "stream",
     "text": [
      "vitamin 진행:   1%|          | 289/25348 [05:13<5:57:03,  1.17논문/s]"
     ]
    },
    {
     "name": "stdout",
     "output_type": "stream",
     "text": [
      "[289/25348] ✅ 저장 완료 (PMCID: PMC12185888)\n",
      "[290/25348] ⚠️ PMCID 없음 → 건너뜀\n"
     ]
    },
    {
     "name": "stderr",
     "output_type": "stream",
     "text": [
      "vitamin 진행:   1%|          | 291/25348 [05:14<5:11:42,  1.34논문/s]"
     ]
    },
    {
     "name": "stdout",
     "output_type": "stream",
     "text": [
      "[291/25348] ⚠️ PMCID 없음 → 건너뜀\n",
      "[292/25348] ⚠️ PMCID 없음 → 건너뜀\n",
      "[293/25348] ⚠️ PMCID 없음 → 건너뜀\n",
      "[294/25348] ✅ 저장 완료 (PMCID: PMC12181267)\n"
     ]
    },
    {
     "name": "stderr",
     "output_type": "stream",
     "text": [
      "vitamin 진행:   1%|          | 294/25348 [05:16<5:31:18,  1.26논문/s]"
     ]
    },
    {
     "name": "stdout",
     "output_type": "stream",
     "text": [
      "[295/25348] ⚠️ PMCID 없음 → 건너뜀\n"
     ]
    },
    {
     "name": "stderr",
     "output_type": "stream",
     "text": [
      "vitamin 진행:   1%|          | 296/25348 [05:18<6:03:02,  1.15논문/s]"
     ]
    },
    {
     "name": "stdout",
     "output_type": "stream",
     "text": [
      "[296/25348] ✅ 저장 완료 (PMCID: PMC12176739)\n",
      "[297/25348] ✅ 저장 완료 (PMCID: PMC12111780)\n"
     ]
    },
    {
     "name": "stderr",
     "output_type": "stream",
     "text": [
      "vitamin 진행:   1%|          | 298/25348 [05:22<7:36:47,  1.09s/논문]"
     ]
    },
    {
     "name": "stdout",
     "output_type": "stream",
     "text": [
      "[298/25348] ✅ 저장 완료 (PMCID: PMC12189813)\n",
      "[299/25348] ✅ 저장 완료 (PMCID: PMC12151574)\n"
     ]
    },
    {
     "name": "stderr",
     "output_type": "stream",
     "text": [
      "vitamin 진행:   1%|          | 300/25348 [05:25<9:24:09,  1.35s/논문] "
     ]
    },
    {
     "name": "stdout",
     "output_type": "stream",
     "text": [
      "[300/25348] ✅ 저장 완료 (PMCID: PMC12110774)\n"
     ]
    },
    {
     "name": "stderr",
     "output_type": "stream",
     "text": [
      "vitamin 진행:   1%|          | 301/25348 [05:26<8:50:33,  1.27s/논문]"
     ]
    },
    {
     "name": "stdout",
     "output_type": "stream",
     "text": [
      "[301/25348] ⚠️ PMCID 없음 → 건너뜀\n",
      "[302/25348] ✅ 저장 완료 (PMCID: PMC12109002)\n"
     ]
    },
    {
     "name": "stderr",
     "output_type": "stream",
     "text": [
      "vitamin 진행:   1%|          | 303/25348 [05:30<10:06:12,  1.45s/논문]"
     ]
    },
    {
     "name": "stdout",
     "output_type": "stream",
     "text": [
      "[303/25348] ✅ 저장 완료 (PMCID: PMC12114276)\n",
      "[304/25348] ✅ 저장 완료 (PMCID: PMC12114196)\n"
     ]
    },
    {
     "name": "stderr",
     "output_type": "stream",
     "text": [
      "vitamin 진행:   1%|          | 305/25348 [05:34<10:56:02,  1.57s/논문]"
     ]
    },
    {
     "name": "stdout",
     "output_type": "stream",
     "text": [
      "[305/25348] ✅ 저장 완료 (PMCID: PMC12192226)\n"
     ]
    },
    {
     "name": "stderr",
     "output_type": "stream",
     "text": [
      "vitamin 진행:   1%|          | 306/25348 [05:35<9:47:05,  1.41s/논문] "
     ]
    },
    {
     "name": "stdout",
     "output_type": "stream",
     "text": [
      "[306/25348] ⚠️ PMCID 없음 → 건너뜀\n",
      "[307/25348] ⚠️ PMCID 없음 → 건너뜀\n",
      "[308/25348] ⚠️ PMCID 없음 → 건너뜀\n",
      "[309/25348] ⚠️ PMCID 없음 → 건너뜀\n",
      "[310/25348] ⚠️ PMCID 없음 → 건너뜀\n",
      "[311/25348] ✅ 저장 완료 (PMCID: PMC12076004)\n"
     ]
    },
    {
     "name": "stderr",
     "output_type": "stream",
     "text": [
      "vitamin 진행:   1%|          | 311/25348 [05:39<7:13:00,  1.04s/논문]"
     ]
    },
    {
     "name": "stdout",
     "output_type": "stream",
     "text": [
      "[312/25348] ⚠️ PMCID 없음 → 건너뜀\n"
     ]
    },
    {
     "name": "stderr",
     "output_type": "stream",
     "text": [
      "vitamin 진행:   1%|          | 313/25348 [05:40<6:12:53,  1.12논문/s]"
     ]
    },
    {
     "name": "stdout",
     "output_type": "stream",
     "text": [
      "[313/25348] ✅ 저장 완료 (PMCID: PMC12183120)\n",
      "[314/25348] ⚠️ PMCID 없음 → 건너뜀\n",
      "[315/25348] ⚠️ PMCID 없음 → 건너뜀\n"
     ]
    },
    {
     "name": "stderr",
     "output_type": "stream",
     "text": [
      "vitamin 진행:   1%|          | 316/25348 [05:41<4:45:56,  1.46논문/s]"
     ]
    },
    {
     "name": "stdout",
     "output_type": "stream",
     "text": [
      "[316/25348] ⚠️ PMCID 없음 → 건너뜀\n",
      "[317/25348] ⚠️ PMCID 없음 → 건너뜀\n",
      "[318/25348] ⚠️ PMCID 없음 → 건너뜀\n",
      "[319/25348] ✅ 저장 완료 (PMCID: PMC12155449)\n"
     ]
    },
    {
     "name": "stderr",
     "output_type": "stream",
     "text": [
      "vitamin 진행:   1%|▏         | 319/25348 [05:44<5:36:45,  1.24논문/s]"
     ]
    },
    {
     "name": "stdout",
     "output_type": "stream",
     "text": [
      "[320/25348] ✅ 저장 완료 (PMCID: PMC12090409)\n"
     ]
    },
    {
     "name": "stderr",
     "output_type": "stream",
     "text": [
      "vitamin 진행:   1%|▏         | 321/25348 [05:48<8:12:23,  1.18s/논문]"
     ]
    },
    {
     "name": "stdout",
     "output_type": "stream",
     "text": [
      "⚠️ abstract section 없음 (PMCID: PMC12161551) → 건너뜀\n",
      "[322/25348] ⚠️ PMCID 없음 → 건너뜀\n"
     ]
    },
    {
     "name": "stderr",
     "output_type": "stream",
     "text": [
      "vitamin 진행:   1%|▏         | 323/25348 [05:49<6:41:59,  1.04논문/s]"
     ]
    },
    {
     "name": "stdout",
     "output_type": "stream",
     "text": [
      "[323/25348] ✅ 저장 완료 (PMCID: PMC12112473)\n",
      "[324/25348] ⚠️ PMCID 없음 → 건너뜀\n",
      "[325/25348] ✅ 저장 완료 (PMCID: PMC12182432)\n"
     ]
    },
    {
     "name": "stderr",
     "output_type": "stream",
     "text": [
      "vitamin 진행:   1%|▏         | 326/25348 [05:53<7:25:29,  1.07s/논문]"
     ]
    },
    {
     "name": "stdout",
     "output_type": "stream",
     "text": [
      "[326/25348] ⚠️ PMCID 없음 → 건너뜀\n"
     ]
    },
    {
     "name": "stderr",
     "output_type": "stream",
     "text": [
      "vitamin 진행:   1%|▏         | 327/25348 [05:54<7:20:07,  1.06s/논문]"
     ]
    },
    {
     "name": "stdout",
     "output_type": "stream",
     "text": [
      "[327/25348] ✅ 저장 완료 (PMCID: PMC12107854)\n",
      "[328/25348] ⚠️ PMCID 없음 → 건너뜀\n"
     ]
    },
    {
     "name": "stderr",
     "output_type": "stream",
     "text": [
      "vitamin 진행:   1%|▏         | 329/25348 [05:55<5:56:05,  1.17논문/s]"
     ]
    },
    {
     "name": "stdout",
     "output_type": "stream",
     "text": [
      "⚠️ abstract section 없음 (PMCID: PMC12159606) → 건너뜀\n",
      "[330/25348] ✅ 저장 완료 (PMCID: PMC12062647)\n"
     ]
    },
    {
     "name": "stderr",
     "output_type": "stream",
     "text": [
      "vitamin 진행:   1%|▏         | 331/25348 [05:59<8:42:29,  1.25s/논문]"
     ]
    },
    {
     "name": "stdout",
     "output_type": "stream",
     "text": [
      "[331/25348] ⚠️ PMCID 없음 → 건너뜀\n",
      "[332/25348] ⚠️ PMCID 없음 → 건너뜀\n"
     ]
    },
    {
     "name": "stderr",
     "output_type": "stream",
     "text": [
      "vitamin 진행:   1%|▏         | 333/25348 [06:00<6:46:04,  1.03논문/s]"
     ]
    },
    {
     "name": "stdout",
     "output_type": "stream",
     "text": [
      "[333/25348] ✅ 저장 완료 (PMCID: PMC12114524)\n",
      "[334/25348] ✅ 저장 완료 (PMCID: PMC12114280)\n"
     ]
    },
    {
     "name": "stderr",
     "output_type": "stream",
     "text": [
      "vitamin 진행:   1%|▏         | 334/25348 [06:03<8:56:54,  1.29s/논문]"
     ]
    },
    {
     "name": "stdout",
     "output_type": "stream",
     "text": [
      "[335/25348] ⚠️ PMCID 없음 → 건너뜀\n"
     ]
    },
    {
     "name": "stderr",
     "output_type": "stream",
     "text": [
      "vitamin 진행:   1%|▏         | 336/25348 [06:05<8:13:51,  1.18s/논문]"
     ]
    },
    {
     "name": "stdout",
     "output_type": "stream",
     "text": [
      "[336/25348] ✅ 저장 완료 (PMCID: PMC12114258)\n",
      "[337/25348] ✅ 저장 완료 (PMCID: PMC12101332)\n"
     ]
    },
    {
     "name": "stderr",
     "output_type": "stream",
     "text": [
      "vitamin 진행:   1%|▏         | 337/25348 [06:07<9:54:12,  1.43s/논문]"
     ]
    },
    {
     "name": "stdout",
     "output_type": "stream",
     "text": [
      "[338/25348] ⚠️ PMCID 없음 → 건너뜀\n"
     ]
    },
    {
     "name": "stderr",
     "output_type": "stream",
     "text": [
      "vitamin 진행:   1%|▏         | 339/25348 [06:08<7:33:59,  1.09s/논문]"
     ]
    },
    {
     "name": "stdout",
     "output_type": "stream",
     "text": [
      "[339/25348] ✅ 저장 완료 (PMCID: PMC12077410)\n",
      "[340/25348] ⚠️ PMCID 없음 → 건너뜀\n"
     ]
    },
    {
     "name": "stderr",
     "output_type": "stream",
     "text": [
      "vitamin 진행:   1%|▏         | 341/25348 [06:09<6:04:57,  1.14논문/s]"
     ]
    },
    {
     "name": "stdout",
     "output_type": "stream",
     "text": [
      "[341/25348] ⚠️ PMCID 없음 → 건너뜀\n",
      "[342/25348] ⚠️ PMCID 없음 → 건너뜀\n",
      "[343/25348] ⚠️ PMCID 없음 → 건너뜀\n",
      "[344/25348] ✅ 저장 완료 (PMCID: PMC12112806)\n"
     ]
    },
    {
     "name": "stderr",
     "output_type": "stream",
     "text": [
      "vitamin 진행:   1%|▏         | 345/25348 [06:12<5:52:58,  1.18논문/s]"
     ]
    },
    {
     "name": "stdout",
     "output_type": "stream",
     "text": [
      "[345/25348] ✅ 저장 완료 (PMCID: PMC12185273)\n"
     ]
    },
    {
     "name": "stderr",
     "output_type": "stream",
     "text": [
      "vitamin 진행:   1%|▏         | 346/25348 [06:13<6:04:45,  1.14논문/s]"
     ]
    },
    {
     "name": "stdout",
     "output_type": "stream",
     "text": [
      "[346/25348] ⚠️ PMCID 없음 → 건너뜀\n",
      "[347/25348] ⚠️ PMCID 없음 → 건너뜀\n",
      "[348/25348] ⚠️ PMCID 없음 → 건너뜀\n",
      "[349/25348] ✅ 저장 완료 (PMCID: PMC12175392)\n"
     ]
    },
    {
     "name": "stderr",
     "output_type": "stream",
     "text": [
      "vitamin 진행:   1%|▏         | 349/25348 [06:15<5:35:10,  1.24논문/s]"
     ]
    },
    {
     "name": "stdout",
     "output_type": "stream",
     "text": [
      "[350/25348] ⚠️ PMCID 없음 → 건너뜀\n"
     ]
    },
    {
     "name": "stderr",
     "output_type": "stream",
     "text": [
      "vitamin 진행:   1%|▏         | 351/25348 [06:17<6:04:11,  1.14논문/s]"
     ]
    },
    {
     "name": "stdout",
     "output_type": "stream",
     "text": [
      "[351/25348] ✅ 저장 완료 (PMCID: PMC12153151)\n",
      "[352/25348] ✅ 저장 완료 (PMCID: PMC12106709)\n"
     ]
    },
    {
     "name": "stderr",
     "output_type": "stream",
     "text": [
      "vitamin 진행:   1%|▏         | 352/25348 [06:20<7:53:37,  1.14s/논문]"
     ]
    },
    {
     "name": "stdout",
     "output_type": "stream",
     "text": [
      "[353/25348] ⚠️ PMCID 없음 → 건너뜀\n"
     ]
    },
    {
     "name": "stderr",
     "output_type": "stream",
     "text": [
      "vitamin 진행:   1%|▏         | 354/25348 [06:21<6:15:28,  1.11논문/s]"
     ]
    },
    {
     "name": "stdout",
     "output_type": "stream",
     "text": [
      "⚠️ abstract section 없음 (PMCID: PMC12101987) → 건너뜀\n"
     ]
    },
    {
     "name": "stderr",
     "output_type": "stream",
     "text": [
      "vitamin 진행:   1%|▏         | 355/25348 [06:22<6:24:57,  1.08논문/s]"
     ]
    },
    {
     "name": "stdout",
     "output_type": "stream",
     "text": [
      "[355/25348] ✅ 저장 완료 (PMCID: PMC12158245)\n",
      "[356/25348] ✅ 저장 완료 (PMCID: PMC12175449)\n"
     ]
    },
    {
     "name": "stderr",
     "output_type": "stream",
     "text": [
      "vitamin 진행:   1%|▏         | 356/25348 [06:26<11:06:50,  1.60s/논문]"
     ]
    },
    {
     "name": "stdout",
     "output_type": "stream",
     "text": [
      "[357/25348] ⚠️ PMCID 없음 → 건너뜀\n"
     ]
    },
    {
     "name": "stderr",
     "output_type": "stream",
     "text": [
      "vitamin 진행:   1%|▏         | 358/25348 [06:27<8:07:59,  1.17s/논문] "
     ]
    },
    {
     "name": "stdout",
     "output_type": "stream",
     "text": [
      "[358/25348] ✅ 저장 완료 (PMCID: PMC12113079)\n",
      "[359/25348] ⚠️ PMCID 없음 → 건너뜀\n",
      "[360/25348] ⚠️ PMCID 없음 → 건너뜀\n"
     ]
    },
    {
     "name": "stderr",
     "output_type": "stream",
     "text": [
      "vitamin 진행:   1%|▏         | 361/25348 [06:28<5:33:52,  1.25논문/s]"
     ]
    },
    {
     "name": "stdout",
     "output_type": "stream",
     "text": [
      "[361/25348] ⚠️ PMCID 없음 → 건너뜀\n",
      "[362/25348] ✅ 저장 완료 (PMCID: PMC12165100)\n"
     ]
    },
    {
     "name": "stderr",
     "output_type": "stream",
     "text": [
      "vitamin 진행:   1%|▏         | 362/25348 [06:30<7:14:35,  1.04s/논문]"
     ]
    },
    {
     "name": "stdout",
     "output_type": "stream",
     "text": [
      "[363/25348] ⚠️ PMCID 없음 → 건너뜀\n"
     ]
    },
    {
     "name": "stderr",
     "output_type": "stream",
     "text": [
      "vitamin 진행:   1%|▏         | 364/25348 [06:31<5:59:10,  1.16논문/s]"
     ]
    },
    {
     "name": "stdout",
     "output_type": "stream",
     "text": [
      "[364/25348] ✅ 저장 완료 (PMCID: PMC12183018)\n",
      "[365/25348] ⚠️ PMCID 없음 → 건너뜀\n"
     ]
    },
    {
     "name": "stderr",
     "output_type": "stream",
     "text": [
      "vitamin 진행:   1%|▏         | 366/25348 [06:32<5:08:43,  1.35논문/s]"
     ]
    },
    {
     "name": "stdout",
     "output_type": "stream",
     "text": [
      "[366/25348] ⚠️ PMCID 없음 → 건너뜀\n",
      "[367/25348] ⚠️ PMCID 없음 → 건너뜀\n",
      "[368/25348] ⚠️ PMCID 없음 → 건너뜀\n",
      "[369/25348] ✅ 저장 완료 (PMCID: PMC12147980)\n"
     ]
    },
    {
     "name": "stderr",
     "output_type": "stream",
     "text": [
      "vitamin 진행:   1%|▏         | 370/25348 [06:36<5:54:57,  1.17논문/s]"
     ]
    },
    {
     "name": "stdout",
     "output_type": "stream",
     "text": [
      "[370/25348] ✅ 저장 완료 (PMCID: PMC12158052)\n"
     ]
    },
    {
     "name": "stderr",
     "output_type": "stream",
     "text": [
      "vitamin 진행:   1%|▏         | 371/25348 [06:37<6:06:59,  1.13논문/s]"
     ]
    },
    {
     "name": "stdout",
     "output_type": "stream",
     "text": [
      "[371/25348] ⚠️ PMCID 없음 → 건너뜀\n",
      "[372/25348] ⚠️ PMCID 없음 → 건너뜀\n",
      "[373/25348] ✅ 저장 완료 (PMCID: PMC12170438)\n"
     ]
    },
    {
     "name": "stderr",
     "output_type": "stream",
     "text": [
      "vitamin 진행:   1%|▏         | 373/25348 [06:39<7:04:04,  1.02s/논문]"
     ]
    },
    {
     "name": "stdout",
     "output_type": "stream",
     "text": [
      "[374/25348] ⚠️ PMCID 없음 → 건너뜀\n",
      "[375/25348] ⚠️ PMCID 없음 → 건너뜀\n"
     ]
    },
    {
     "name": "stderr",
     "output_type": "stream",
     "text": [
      "vitamin 진행:   1%|▏         | 376/25348 [06:40<5:07:51,  1.35논문/s]"
     ]
    },
    {
     "name": "stdout",
     "output_type": "stream",
     "text": [
      "[376/25348] ⚠️ PMCID 없음 → 건너뜀\n"
     ]
    },
    {
     "name": "stderr",
     "output_type": "stream",
     "text": [
      "vitamin 진행:   1%|▏         | 377/25348 [06:42<5:44:36,  1.21논문/s]"
     ]
    },
    {
     "name": "stdout",
     "output_type": "stream",
     "text": [
      "[377/25348] ✅ 저장 완료 (PMCID: PMC12072929)\n",
      "[378/25348] ✅ 저장 완료 (PMCID: PMC12013729)\n"
     ]
    },
    {
     "name": "stderr",
     "output_type": "stream",
     "text": [
      "vitamin 진행:   1%|▏         | 379/25348 [06:45<7:28:11,  1.08s/논문]"
     ]
    },
    {
     "name": "stdout",
     "output_type": "stream",
     "text": [
      "⚠️ abstract section 없음 (PMCID: PMC12073289) → 건너뜀\n"
     ]
    },
    {
     "name": "stderr",
     "output_type": "stream",
     "text": [
      "vitamin 진행:   1%|▏         | 380/25348 [06:46<7:28:39,  1.08s/논문]"
     ]
    },
    {
     "name": "stdout",
     "output_type": "stream",
     "text": [
      "[380/25348] ✅ 저장 완료 (PMCID: PMC12190183)\n"
     ]
    },
    {
     "name": "stderr",
     "output_type": "stream",
     "text": [
      "vitamin 진행:   2%|▏         | 381/25348 [06:47<7:19:30,  1.06s/논문]"
     ]
    },
    {
     "name": "stdout",
     "output_type": "stream",
     "text": [
      "[381/25348] ⚠️ PMCID 없음 → 건너뜀\n",
      "[382/25348] ✅ 저장 완료 (PMCID: PMC12072446)\n"
     ]
    },
    {
     "name": "stderr",
     "output_type": "stream",
     "text": [
      "vitamin 진행:   2%|▏         | 383/25348 [06:50<9:10:42,  1.32s/논문]"
     ]
    },
    {
     "name": "stdout",
     "output_type": "stream",
     "text": [
      "[383/25348] ✅ 저장 완료 (PMCID: PMC12113077)\n",
      "[384/25348] ⚠️ PMCID 없음 → 건너뜀\n",
      "[385/25348] ✅ 저장 완료 (PMCID: PMC12146675)\n"
     ]
    },
    {
     "name": "stderr",
     "output_type": "stream",
     "text": [
      "vitamin 진행:   2%|▏         | 386/25348 [06:55<10:57:50,  1.58s/논문]"
     ]
    },
    {
     "name": "stdout",
     "output_type": "stream",
     "text": [
      "[386/25348] ✅ 저장 완료 (PMCID: PMC12090889)\n",
      "[387/25348] ⚠️ PMCID 없음 → 건너뜀\n",
      "[388/25348] ⚠️ PMCID 없음 → 건너뜀\n",
      "[389/25348] ⚠️ PMCID 없음 → 건너뜀\n",
      "[390/25348] ⚠️ PMCID 없음 → 건너뜀\n"
     ]
    },
    {
     "name": "stderr",
     "output_type": "stream",
     "text": [
      "vitamin 진행:   2%|▏         | 391/25348 [06:56<4:54:06,  1.41논문/s] "
     ]
    },
    {
     "name": "stdout",
     "output_type": "stream",
     "text": [
      "[391/25348] ⚠️ PMCID 없음 → 건너뜀\n",
      "[392/25348] ⚠️ PMCID 없음 → 건너뜀\n",
      "[393/25348] ✅ 저장 완료 (PMCID: PMC12069067)\n"
     ]
    },
    {
     "name": "stderr",
     "output_type": "stream",
     "text": [
      "vitamin 진행:   2%|▏         | 394/25348 [07:01<6:32:34,  1.06논문/s]"
     ]
    },
    {
     "name": "stdout",
     "output_type": "stream",
     "text": [
      "[394/25348] ✅ 저장 완료 (PMCID: PMC12042636)\n",
      "[395/25348] ✅ 저장 완료 (PMCID: PMC12157863)\n"
     ]
    },
    {
     "name": "stderr",
     "output_type": "stream",
     "text": [
      "vitamin 진행:   2%|▏         | 396/25348 [07:05<9:24:21,  1.36s/논문]"
     ]
    },
    {
     "name": "stdout",
     "output_type": "stream",
     "text": [
      "[396/25348] ✅ 저장 완료 (PMCID: PMC12075007)\n",
      "[397/25348] ⚠️ PMCID 없음 → 건너뜀\n",
      "[398/25348] ✅ 저장 완료 (PMCID: PMC12163442)\n"
     ]
    },
    {
     "name": "stderr",
     "output_type": "stream",
     "text": [
      "vitamin 진행:   2%|▏         | 399/25348 [07:08<8:25:41,  1.22s/논문]"
     ]
    },
    {
     "name": "stdout",
     "output_type": "stream",
     "text": [
      "[399/25348] ✅ 저장 완료 (PMCID: PMC12092791)\n",
      "[400/25348] ✅ 저장 완료 (PMCID: PMC12158140)\n"
     ]
    },
    {
     "name": "stderr",
     "output_type": "stream",
     "text": [
      "vitamin 진행:   2%|▏         | 401/25348 [07:13<11:35:37,  1.67s/논문]"
     ]
    },
    {
     "name": "stdout",
     "output_type": "stream",
     "text": [
      "[401/25348] ✅ 저장 완료 (PMCID: PMC12115226)\n",
      "[402/25348] ⚠️ PMCID 없음 → 건너뜀\n",
      "[403/25348] ⚠️ PMCID 없음 → 건너뜀\n",
      "[404/25348] ✅ 저장 완료 (PMCID: PMC12189057)\n"
     ]
    },
    {
     "name": "stderr",
     "output_type": "stream",
     "text": [
      "vitamin 진행:   2%|▏         | 405/25348 [07:17<8:59:19,  1.30s/논문] "
     ]
    },
    {
     "name": "stdout",
     "output_type": "stream",
     "text": [
      "⚠️ abstract section 없음 (PMCID: PMC12101991) → 건너뜀\n",
      "[406/25348] ✅ 저장 완료 (PMCID: PMC12078466)\n"
     ]
    },
    {
     "name": "stderr",
     "output_type": "stream",
     "text": [
      "vitamin 진행:   2%|▏         | 406/25348 [07:20<12:07:56,  1.75s/논문]"
     ]
    },
    {
     "name": "stdout",
     "output_type": "stream",
     "text": [
      "[407/25348] ⚠️ PMCID 없음 → 건너뜀\n",
      "[408/25348] ⚠️ PMCID 없음 → 건너뜀\n"
     ]
    },
    {
     "name": "stderr",
     "output_type": "stream",
     "text": [
      "vitamin 진행:   2%|▏         | 409/25348 [07:21<7:22:19,  1.06s/논문] "
     ]
    },
    {
     "name": "stdout",
     "output_type": "stream",
     "text": [
      "[409/25348] ✅ 저장 완료 (PMCID: PMC12194935)\n",
      "[410/25348] ⚠️ PMCID 없음 → 건너뜀\n",
      "[411/25348] ✅ 저장 완료 (PMCID: PMC12171927)\n"
     ]
    },
    {
     "name": "stderr",
     "output_type": "stream",
     "text": [
      "vitamin 진행:   2%|▏         | 412/25348 [07:26<8:50:04,  1.28s/논문]"
     ]
    },
    {
     "name": "stdout",
     "output_type": "stream",
     "text": [
      "[412/25348] ✅ 저장 완료 (PMCID: PMC12051431)\n",
      "[413/25348] ⚠️ PMCID 없음 → 건너뜀\n",
      "[414/25348] ✅ 저장 완료 (PMCID: PMC12171452)\n"
     ]
    },
    {
     "name": "stderr",
     "output_type": "stream",
     "text": [
      "vitamin 진행:   2%|▏         | 414/25348 [07:29<9:13:31,  1.33s/논문]"
     ]
    },
    {
     "name": "stdout",
     "output_type": "stream",
     "text": [
      "[415/25348] ⚠️ PMCID 없음 → 건너뜀\n"
     ]
    },
    {
     "name": "stderr",
     "output_type": "stream",
     "text": [
      "vitamin 진행:   2%|▏         | 416/25348 [07:31<8:24:32,  1.21s/논문]"
     ]
    },
    {
     "name": "stdout",
     "output_type": "stream",
     "text": [
      "[416/25348] ✅ 저장 완료 (PMCID: PMC12150321)\n"
     ]
    },
    {
     "name": "stderr",
     "output_type": "stream",
     "text": [
      "vitamin 진행:   2%|▏         | 417/25348 [07:32<8:12:37,  1.19s/논문]"
     ]
    },
    {
     "name": "stdout",
     "output_type": "stream",
     "text": [
      "[417/25348] ✅ 저장 완료 (PMCID: PMC12102094)\n",
      "[418/25348] ⚠️ PMCID 없음 → 건너뜀\n",
      "[419/25348] ✅ 저장 완료 (PMCID: PMC11964153)\n"
     ]
    },
    {
     "name": "stderr",
     "output_type": "stream",
     "text": [
      "vitamin 진행:   2%|▏         | 419/25348 [07:34<7:34:14,  1.09s/논문]"
     ]
    },
    {
     "name": "stdout",
     "output_type": "stream",
     "text": [
      "[420/25348] ⚠️ PMCID 없음 → 건너뜀\n"
     ]
    },
    {
     "name": "stderr",
     "output_type": "stream",
     "text": [
      "vitamin 진행:   2%|▏         | 421/25348 [07:35<6:11:35,  1.12논문/s]"
     ]
    },
    {
     "name": "stdout",
     "output_type": "stream",
     "text": [
      "[421/25348] ⚠️ PMCID 없음 → 건너뜀\n"
     ]
    },
    {
     "name": "stderr",
     "output_type": "stream",
     "text": [
      "vitamin 진행:   2%|▏         | 422/25348 [07:36<6:15:54,  1.11논문/s]"
     ]
    },
    {
     "name": "stdout",
     "output_type": "stream",
     "text": [
      "[422/25348] ✅ 저장 완료 (PMCID: PMC12129509)\n",
      "[423/25348] ⚠️ PMCID 없음 → 건너뜀\n",
      "[424/25348] ⚠️ PMCID 없음 → 건너뜀\n",
      "[425/25348] ✅ 저장 완료 (PMCID: PMC11995175)\n"
     ]
    },
    {
     "name": "stderr",
     "output_type": "stream",
     "text": [
      "vitamin 진행:   2%|▏         | 426/25348 [07:40<6:52:29,  1.01논문/s]"
     ]
    },
    {
     "name": "stdout",
     "output_type": "stream",
     "text": [
      "[426/25348] ✅ 저장 완료 (PMCID: PMC12182648)\n",
      "[427/25348] ⚠️ PMCID 없음 → 건너뜀\n",
      "[428/25348] ✅ 저장 완료 (PMCID: PMC12072606)\n"
     ]
    },
    {
     "name": "stderr",
     "output_type": "stream",
     "text": [
      "vitamin 진행:   2%|▏         | 429/25348 [07:43<7:40:37,  1.11s/논문]"
     ]
    },
    {
     "name": "stdout",
     "output_type": "stream",
     "text": [
      "[429/25348] ✅ 저장 완료 (PMCID: PMC12088579)\n",
      "[430/25348] ✅ 저장 완료 (PMCID: PMC12066483)\n"
     ]
    },
    {
     "name": "stderr",
     "output_type": "stream",
     "text": [
      "vitamin 진행:   2%|▏         | 431/25348 [07:48<10:46:20,  1.56s/논문]"
     ]
    },
    {
     "name": "stdout",
     "output_type": "stream",
     "text": [
      "[431/25348] ✅ 저장 완료 (PMCID: PMC12074390)\n",
      "[432/25348] ✅ 저장 완료 (PMCID: PMC12073290)\n"
     ]
    },
    {
     "name": "stderr",
     "output_type": "stream",
     "text": [
      "vitamin 진행:   2%|▏         | 432/25348 [07:51<13:24:37,  1.94s/논문]"
     ]
    },
    {
     "name": "stdout",
     "output_type": "stream",
     "text": [
      "[433/25348] ⚠️ PMCID 없음 → 건너뜀\n"
     ]
    },
    {
     "name": "stderr",
     "output_type": "stream",
     "text": [
      "vitamin 진행:   2%|▏         | 434/25348 [07:52<9:19:35,  1.35s/논문] "
     ]
    },
    {
     "name": "stdout",
     "output_type": "stream",
     "text": [
      "[434/25348] ✅ 저장 완료 (PMCID: PMC12073206)\n",
      "[435/25348] ✅ 저장 완료 (PMCID: PMC12156580)\n"
     ]
    },
    {
     "name": "stderr",
     "output_type": "stream",
     "text": [
      "vitamin 진행:   2%|▏         | 436/25348 [07:57<12:17:17,  1.78s/논문]"
     ]
    },
    {
     "name": "stdout",
     "output_type": "stream",
     "text": [
      "[436/25348] ✅ 저장 완료 (PMCID: PMC12157769)\n",
      "[437/25348] ⚠️ PMCID 없음 → 건너뜀\n",
      "[438/25348] ⚠️ PMCID 없음 → 건너뜀\n",
      "[439/25348] ⚠️ PMCID 없음 → 건너뜀\n",
      "[440/25348] ⚠️ PMCID 없음 → 건너뜀\n",
      "[441/25348] ✅ 저장 완료 (PMCID: PMC12049302)\n"
     ]
    },
    {
     "name": "stderr",
     "output_type": "stream",
     "text": [
      "vitamin 진행:   2%|▏         | 442/25348 [08:02<7:40:50,  1.11s/논문] "
     ]
    },
    {
     "name": "stdout",
     "output_type": "stream",
     "text": [
      "⚠️ abstract section 없음 (PMCID: PMC12199778) → 건너뜀\n"
     ]
    },
    {
     "name": "stderr",
     "output_type": "stream",
     "text": [
      "vitamin 진행:   2%|▏         | 443/25348 [08:03<7:27:21,  1.08s/논문]"
     ]
    },
    {
     "name": "stdout",
     "output_type": "stream",
     "text": [
      "[443/25348] ✅ 저장 완료 (PMCID: PMC12195945)\n",
      "[444/25348] ✅ 저장 완료 (PMCID: PMC12083100)\n"
     ]
    },
    {
     "name": "stderr",
     "output_type": "stream",
     "text": [
      "vitamin 진행:   2%|▏         | 445/25348 [08:06<9:00:21,  1.30s/논문]"
     ]
    },
    {
     "name": "stdout",
     "output_type": "stream",
     "text": [
      "[445/25348] ✅ 저장 완료 (PMCID: PMC12075793)\n",
      "[446/25348] ✅ 저장 완료 (PMCID: PMC12110956)\n"
     ]
    },
    {
     "name": "stderr",
     "output_type": "stream",
     "text": [
      "vitamin 진행:   2%|▏         | 446/25348 [08:10<12:38:52,  1.83s/논문]"
     ]
    },
    {
     "name": "stdout",
     "output_type": "stream",
     "text": [
      "[447/25348] ⚠️ PMCID 없음 → 건너뜀\n",
      "[448/25348] ⚠️ PMCID 없음 → 건너뜀\n",
      "[449/25348] ⚠️ PMCID 없음 → 건너뜀\n"
     ]
    },
    {
     "name": "stderr",
     "output_type": "stream",
     "text": [
      "vitamin 진행:   2%|▏         | 450/25348 [08:11<6:36:04,  1.05논문/s] "
     ]
    },
    {
     "name": "stdout",
     "output_type": "stream",
     "text": [
      "[450/25348] ✅ 저장 완료 (PMCID: PMC12108419)\n"
     ]
    },
    {
     "name": "stderr",
     "output_type": "stream",
     "text": [
      "vitamin 진행:   2%|▏         | 451/25348 [08:12<6:39:15,  1.04논문/s]"
     ]
    },
    {
     "name": "stdout",
     "output_type": "stream",
     "text": [
      "[451/25348] ⚠️ PMCID 없음 → 건너뜀\n",
      "[452/25348] ✅ 저장 완료 (PMCID: PMC12175708)\n"
     ]
    },
    {
     "name": "stderr",
     "output_type": "stream",
     "text": [
      "vitamin 진행:   2%|▏         | 452/25348 [08:14<8:27:43,  1.22s/논문]"
     ]
    },
    {
     "name": "stdout",
     "output_type": "stream",
     "text": [
      "[453/25348] ⚠️ PMCID 없음 → 건너뜀\n",
      "[454/25348] ⚠️ PMCID 없음 → 건너뜀\n",
      "[455/25348] ⚠️ PMCID 없음 → 건너뜀\n"
     ]
    },
    {
     "name": "stderr",
     "output_type": "stream",
     "text": [
      "vitamin 진행:   2%|▏         | 456/25348 [08:15<4:53:44,  1.41논문/s]"
     ]
    },
    {
     "name": "stdout",
     "output_type": "stream",
     "text": [
      "[456/25348] ⚠️ PMCID 없음 → 건너뜀\n",
      "[457/25348] ⚠️ PMCID 없음 → 건너뜀\n"
     ]
    },
    {
     "name": "stderr",
     "output_type": "stream",
     "text": [
      "vitamin 진행:   2%|▏         | 458/25348 [08:16<4:27:33,  1.55논문/s]"
     ]
    },
    {
     "name": "stdout",
     "output_type": "stream",
     "text": [
      "⚠️ abstract section 없음 (PMCID: PMC12056485) → 건너뜀\n",
      "[459/25348] ⚠️ PMCID 없음 → 건너뜀\n"
     ]
    },
    {
     "name": "stderr",
     "output_type": "stream",
     "text": [
      "vitamin 진행:   2%|▏         | 460/25348 [08:17<4:06:23,  1.68논문/s]"
     ]
    },
    {
     "name": "stdout",
     "output_type": "stream",
     "text": [
      "[460/25348] ✅ 저장 완료 (PMCID: PMC12038003)\n",
      "[461/25348] ✅ 저장 완료 (PMCID: PMC12068847)\n"
     ]
    },
    {
     "name": "stderr",
     "output_type": "stream",
     "text": [
      "vitamin 진행:   2%|▏         | 461/25348 [08:21<8:17:54,  1.20s/논문]"
     ]
    },
    {
     "name": "stdout",
     "output_type": "stream",
     "text": [
      "[462/25348] ⚠️ PMCID 없음 → 건너뜀\n",
      "[463/25348] ⚠️ PMCID 없음 → 건너뜀\n"
     ]
    },
    {
     "name": "stderr",
     "output_type": "stream",
     "text": [
      "vitamin 진행:   2%|▏         | 464/25348 [08:22<5:44:52,  1.20논문/s]"
     ]
    },
    {
     "name": "stdout",
     "output_type": "stream",
     "text": [
      "⚠️ abstract section 없음 (PMCID: PMC12171826) → 건너뜀\n"
     ]
    },
    {
     "name": "stderr",
     "output_type": "stream",
     "text": [
      "vitamin 진행:   2%|▏         | 465/25348 [08:23<5:58:00,  1.16논문/s]"
     ]
    },
    {
     "name": "stdout",
     "output_type": "stream",
     "text": [
      "[465/25348] ✅ 저장 완료 (PMCID: PMC12155571)\n",
      "[466/25348] ✅ 저장 완료 (PMCID: PMC12156958)\n"
     ]
    },
    {
     "name": "stderr",
     "output_type": "stream",
     "text": [
      "vitamin 진행:   2%|▏         | 467/25348 [08:28<8:48:07,  1.27s/논문]"
     ]
    },
    {
     "name": "stdout",
     "output_type": "stream",
     "text": [
      "[467/25348] ✅ 저장 완료 (PMCID: PMC12072412)\n",
      "[468/25348] ⚠️ PMCID 없음 → 건너뜀\n",
      "[469/25348] ⚠️ PMCID 없음 → 건너뜀\n",
      "[470/25348] ⚠️ PMCID 없음 → 건너뜀\n"
     ]
    },
    {
     "name": "stderr",
     "output_type": "stream",
     "text": [
      "vitamin 진행:   2%|▏         | 471/25348 [08:29<4:52:25,  1.42논문/s]"
     ]
    },
    {
     "name": "stdout",
     "output_type": "stream",
     "text": [
      "[471/25348] ⚠️ PMCID 없음 → 건너뜀\n",
      "[472/25348] ⚠️ PMCID 없음 → 건너뜀\n",
      "[473/25348] ⚠️ PMCID 없음 → 건너뜀\n",
      "[474/25348] ✅ 저장 완료 (PMCID: PMC12034959)\n"
     ]
    },
    {
     "name": "stderr",
     "output_type": "stream",
     "text": [
      "vitamin 진행:   2%|▏         | 475/25348 [08:32<5:00:12,  1.38논문/s]"
     ]
    },
    {
     "name": "stdout",
     "output_type": "stream",
     "text": [
      "[475/25348] ✅ 저장 완료 (PMCID: PMC12103644)\n",
      "[476/25348] ✅ 저장 완료 (PMCID: PMC12075268)\n"
     ]
    },
    {
     "name": "stderr",
     "output_type": "stream",
     "text": [
      "vitamin 진행:   2%|▏         | 477/25348 [08:36<8:06:29,  1.17s/논문]"
     ]
    },
    {
     "name": "stdout",
     "output_type": "stream",
     "text": [
      "[477/25348] ✅ 저장 완료 (PMCID: PMC12171267)\n",
      "[478/25348] ✅ 저장 완료 (PMCID: PMC12109701)\n"
     ]
    },
    {
     "name": "stderr",
     "output_type": "stream",
     "text": [
      "vitamin 진행:   2%|▏         | 479/25348 [08:39<8:40:08,  1.25s/논문]"
     ]
    },
    {
     "name": "stdout",
     "output_type": "stream",
     "text": [
      "[479/25348] ✅ 저장 완료 (PMCID: PMC12147742)\n",
      "[480/25348] ✅ 저장 완료 (PMCID: PMC12148629)\n"
     ]
    },
    {
     "name": "stderr",
     "output_type": "stream",
     "text": [
      "vitamin 진행:   2%|▏         | 481/25348 [08:43<10:24:52,  1.51s/논문]"
     ]
    },
    {
     "name": "stdout",
     "output_type": "stream",
     "text": [
      "[481/25348] ⚠️ PMCID 없음 → 건너뜀\n",
      "[482/25348] ⚠️ PMCID 없음 → 건너뜀\n",
      "[483/25348] ⚠️ PMCID 없음 → 건너뜀\n",
      "[484/25348] ⚠️ PMCID 없음 → 건너뜀\n"
     ]
    },
    {
     "name": "stderr",
     "output_type": "stream",
     "text": [
      "vitamin 진행:   2%|▏         | 485/25348 [08:44<5:19:53,  1.30논문/s] "
     ]
    },
    {
     "name": "stdout",
     "output_type": "stream",
     "text": [
      "[485/25348] ✅ 저장 완료 (PMCID: PMC12157890)\n"
     ]
    },
    {
     "name": "stderr",
     "output_type": "stream",
     "text": [
      "vitamin 진행:   2%|▏         | 486/25348 [08:45<5:41:35,  1.21논문/s]"
     ]
    },
    {
     "name": "stdout",
     "output_type": "stream",
     "text": [
      "[486/25348] ⚠️ PMCID 없음 → 건너뜀\n",
      "[487/25348] ⚠️ PMCID 없음 → 건너뜀\n",
      "[488/25348] ✅ 저장 완료 (PMCID: PMC12093197)\n"
     ]
    },
    {
     "name": "stderr",
     "output_type": "stream",
     "text": [
      "vitamin 진행:   2%|▏         | 489/25348 [08:48<6:31:25,  1.06논문/s]"
     ]
    },
    {
     "name": "stdout",
     "output_type": "stream",
     "text": [
      "[489/25348] ✅ 저장 완료 (PMCID: PMC12141445)\n",
      "[490/25348] ✅ 저장 완료 (PMCID: PMC12109430)\n"
     ]
    },
    {
     "name": "stderr",
     "output_type": "stream",
     "text": [
      "vitamin 진행:   2%|▏         | 491/25348 [08:52<8:46:32,  1.27s/논문]"
     ]
    },
    {
     "name": "stdout",
     "output_type": "stream",
     "text": [
      "[491/25348] ⚠️ PMCID 없음 → 건너뜀\n"
     ]
    },
    {
     "name": "stderr",
     "output_type": "stream",
     "text": [
      "vitamin 진행:   2%|▏         | 492/25348 [08:53<8:14:47,  1.19s/논문]"
     ]
    },
    {
     "name": "stdout",
     "output_type": "stream",
     "text": [
      "[492/25348] ✅ 저장 완료 (PMCID: PMC12117584)\n",
      "[493/25348] ✅ 저장 완료 (PMCID: PMC12158112)\n"
     ]
    },
    {
     "name": "stderr",
     "output_type": "stream",
     "text": [
      "vitamin 진행:   2%|▏         | 494/25348 [08:57<9:59:56,  1.45s/논문] "
     ]
    },
    {
     "name": "stdout",
     "output_type": "stream",
     "text": [
      "[494/25348] ✅ 저장 완료 (PMCID: PMC12195990)\n",
      "[495/25348] ⚠️ PMCID 없음 → 건너뜀\n"
     ]
    },
    {
     "name": "stderr",
     "output_type": "stream",
     "text": [
      "vitamin 진행:   2%|▏         | 496/25348 [08:58<7:16:28,  1.05s/논문]"
     ]
    },
    {
     "name": "stdout",
     "output_type": "stream",
     "text": [
      "[496/25348] ⚠️ PMCID 없음 → 건너뜀\n",
      "[497/25348] ✅ 저장 완료 (PMCID: PMC12012589)\n"
     ]
    },
    {
     "name": "stderr",
     "output_type": "stream",
     "text": [
      "vitamin 진행:   2%|▏         | 497/25348 [09:00<9:41:15,  1.40s/논문]"
     ]
    },
    {
     "name": "stdout",
     "output_type": "stream",
     "text": [
      "[498/25348] ⚠️ PMCID 없음 → 건너뜀\n"
     ]
    },
    {
     "name": "stderr",
     "output_type": "stream",
     "text": [
      "vitamin 진행:   2%|▏         | 499/25348 [09:01<7:07:20,  1.03s/논문]"
     ]
    },
    {
     "name": "stdout",
     "output_type": "stream",
     "text": [
      "[499/25348] ✅ 저장 완료 (PMCID: PMC12119308)\n",
      "[500/25348] ✅ 저장 완료 (PMCID: PMC12181835)\n"
     ]
    },
    {
     "name": "stderr",
     "output_type": "stream",
     "text": [
      "vitamin 진행:   2%|▏         | 501/25348 [09:07<11:11:58,  1.62s/논문]"
     ]
    },
    {
     "name": "stdout",
     "output_type": "stream",
     "text": [
      "[501/25348] ✅ 저장 완료 (PMCID: PMC12187036)\n"
     ]
    },
    {
     "name": "stderr",
     "output_type": "stream",
     "text": [
      "vitamin 진행:   2%|▏         | 502/25348 [09:10<13:56:42,  2.02s/논문]"
     ]
    },
    {
     "name": "stdout",
     "output_type": "stream",
     "text": [
      "⚠️ abstract section 없음 (PMCID: PMC12189157) → 건너뜀\n",
      "[503/25348] ⚠️ PMCID 없음 → 건너뜀\n",
      "[504/25348] ⚠️ PMCID 없음 → 건너뜀\n",
      "[505/25348] ✅ 저장 완료 (PMCID: PMC12073073)\n"
     ]
    },
    {
     "name": "stderr",
     "output_type": "stream",
     "text": [
      "vitamin 진행:   2%|▏         | 506/25348 [09:15<10:58:31,  1.59s/논문]"
     ]
    },
    {
     "name": "stdout",
     "output_type": "stream",
     "text": [
      "[506/25348] ✅ 저장 완료 (PMCID: PMC12024499)\n",
      "[507/25348] ✅ 저장 완료 (PMCID: PMC12147510)\n"
     ]
    },
    {
     "name": "stderr",
     "output_type": "stream",
     "text": [
      "vitamin 진행:   2%|▏         | 507/25348 [09:17<11:33:05,  1.67s/논문]"
     ]
    },
    {
     "name": "stdout",
     "output_type": "stream",
     "text": [
      "[508/25348] ⚠️ PMCID 없음 → 건너뜀\n",
      "[509/25348] ⚠️ PMCID 없음 → 건너뜀\n",
      "[510/25348] ⚠️ PMCID 없음 → 건너뜀\n"
     ]
    },
    {
     "name": "stderr",
     "output_type": "stream",
     "text": [
      "vitamin 진행:   2%|▏         | 511/25348 [09:18<6:06:28,  1.13논문/s] "
     ]
    },
    {
     "name": "stdout",
     "output_type": "stream",
     "text": [
      "[511/25348] ⚠️ PMCID 없음 → 건너뜀\n"
     ]
    },
    {
     "name": "stderr",
     "output_type": "stream",
     "text": [
      "vitamin 진행:   2%|▏         | 512/25348 [09:19<6:17:33,  1.10논문/s]"
     ]
    },
    {
     "name": "stdout",
     "output_type": "stream",
     "text": [
      "[512/25348] ✅ 저장 완료 (PMCID: PMC12066242)\n",
      "[513/25348] ⚠️ PMCID 없음 → 건너뜀\n",
      "[514/25348] ⚠️ PMCID 없음 → 건너뜀\n",
      "[515/25348] ⚠️ PMCID 없음 → 건너뜀\n"
     ]
    },
    {
     "name": "stderr",
     "output_type": "stream",
     "text": [
      "vitamin 진행:   2%|▏         | 516/25348 [09:20<4:06:36,  1.68논문/s]"
     ]
    },
    {
     "name": "stdout",
     "output_type": "stream",
     "text": [
      "[516/25348] ⚠️ PMCID 없음 → 건너뜀\n",
      "[517/25348] ⚠️ PMCID 없음 → 건너뜀\n",
      "[518/25348] ✅ 저장 완료 (PMCID: PMC12025311)\n"
     ]
    },
    {
     "name": "stderr",
     "output_type": "stream",
     "text": [
      "vitamin 진행:   2%|▏         | 519/25348 [09:24<5:37:57,  1.22논문/s]"
     ]
    },
    {
     "name": "stdout",
     "output_type": "stream",
     "text": [
      "[519/25348] ✅ 저장 완료 (PMCID: PMC12181500)\n",
      "[520/25348] ⚠️ PMCID 없음 → 건너뜀\n",
      "[521/25348] ✅ 저장 완료 (PMCID: PMC12085790)\n"
     ]
    },
    {
     "name": "stderr",
     "output_type": "stream",
     "text": [
      "vitamin 진행:   2%|▏         | 521/25348 [09:27<7:59:49,  1.16s/논문]"
     ]
    },
    {
     "name": "stdout",
     "output_type": "stream",
     "text": [
      "[522/25348] ⚠️ PMCID 없음 → 건너뜀\n",
      "[523/25348] ⚠️ PMCID 없음 → 건너뜀\n",
      "[524/25348] ⚠️ PMCID 없음 → 건너뜀\n"
     ]
    },
    {
     "name": "stderr",
     "output_type": "stream",
     "text": [
      "vitamin 진행:   2%|▏         | 525/25348 [09:29<5:48:47,  1.19논문/s]"
     ]
    },
    {
     "name": "stdout",
     "output_type": "stream",
     "text": [
      "[525/25348] ✅ 저장 완료 (PMCID: PMC12126291)\n"
     ]
    },
    {
     "name": "stderr",
     "output_type": "stream",
     "text": [
      "vitamin 진행:   2%|▏         | 526/25348 [09:32<7:17:01,  1.06s/논문]"
     ]
    },
    {
     "name": "stdout",
     "output_type": "stream",
     "text": [
      "[526/25348] ✅ 저장 완료 (PMCID: PMC12192552)\n",
      "[527/25348] ⚠️ PMCID 없음 → 건너뜀\n",
      "[528/25348] ⚠️ PMCID 없음 → 건너뜀\n",
      "[529/25348] ⚠️ PMCID 없음 → 건너뜀\n",
      "[530/25348] ⚠️ PMCID 없음 → 건너뜀\n",
      "[531/25348] ✅ 저장 완료 (PMCID: PMC12104543)\n"
     ]
    },
    {
     "name": "stderr",
     "output_type": "stream",
     "text": [
      "vitamin 진행:   2%|▏         | 531/25348 [09:35<6:08:35,  1.12논문/s]"
     ]
    },
    {
     "name": "stdout",
     "output_type": "stream",
     "text": [
      "[532/25348] ⚠️ PMCID 없음 → 건너뜀\n"
     ]
    },
    {
     "name": "stderr",
     "output_type": "stream",
     "text": [
      "vitamin 진행:   2%|▏         | 533/25348 [09:36<5:34:50,  1.24논문/s]"
     ]
    },
    {
     "name": "stdout",
     "output_type": "stream",
     "text": [
      "[533/25348] ✅ 저장 완료 (PMCID: PMC12072845)\n",
      "[534/25348] ⚠️ PMCID 없음 → 건너뜀\n",
      "[535/25348] ✅ 저장 완료 (PMCID: PMC12038049)\n"
     ]
    },
    {
     "name": "stderr",
     "output_type": "stream",
     "text": [
      "vitamin 진행:   2%|▏         | 536/25348 [09:40<6:39:56,  1.03논문/s]"
     ]
    },
    {
     "name": "stdout",
     "output_type": "stream",
     "text": [
      "[536/25348] ⚠️ 이미 저장된 논문 건너뜀 (PMCID: PMC12038049)\n"
     ]
    },
    {
     "name": "stderr",
     "output_type": "stream",
     "text": [
      "vitamin 진행:   2%|▏         | 537/25348 [09:41<6:44:41,  1.02논문/s]"
     ]
    },
    {
     "name": "stdout",
     "output_type": "stream",
     "text": [
      "[537/25348] ✅ 저장 완료 (PMCID: PMC12092144)\n",
      "[538/25348] ⚠️ PMCID 없음 → 건너뜀\n",
      "[539/25348] ✅ 저장 완료 (PMCID: PMC12155237)\n"
     ]
    },
    {
     "name": "stderr",
     "output_type": "stream",
     "text": [
      "vitamin 진행:   2%|▏         | 539/25348 [09:44<7:21:04,  1.07s/논문]"
     ]
    },
    {
     "name": "stdout",
     "output_type": "stream",
     "text": [
      "[540/25348] ⚠️ PMCID 없음 → 건너뜀\n"
     ]
    },
    {
     "name": "stderr",
     "output_type": "stream",
     "text": [
      "vitamin 진행:   2%|▏         | 541/25348 [09:45<6:05:11,  1.13논문/s]"
     ]
    },
    {
     "name": "stdout",
     "output_type": "stream",
     "text": [
      "[541/25348] ⚠️ PMCID 없음 → 건너뜀\n",
      "[542/25348] ⚠️ PMCID 없음 → 건너뜀\n"
     ]
    },
    {
     "name": "stderr",
     "output_type": "stream",
     "text": [
      "vitamin 진행:   2%|▏         | 543/25348 [09:46<5:13:43,  1.32논문/s]"
     ]
    },
    {
     "name": "stdout",
     "output_type": "stream",
     "text": [
      "[543/25348] ✅ 저장 완료 (PMCID: PMC12152169)\n",
      "[544/25348] ✅ 저장 완료 (PMCID: PMC12075143)\n"
     ]
    },
    {
     "name": "stderr",
     "output_type": "stream",
     "text": [
      "vitamin 진행:   2%|▏         | 545/25348 [09:50<7:46:30,  1.13s/논문]"
     ]
    },
    {
     "name": "stdout",
     "output_type": "stream",
     "text": [
      "[545/25348] ✅ 저장 완료 (PMCID: PMC12190690)\n"
     ]
    },
    {
     "name": "stderr",
     "output_type": "stream",
     "text": [
      "vitamin 진행:   2%|▏         | 546/25348 [09:51<7:31:16,  1.09s/논문]"
     ]
    },
    {
     "name": "stdout",
     "output_type": "stream",
     "text": [
      "[546/25348] ⚠️ PMCID 없음 → 건너뜀\n",
      "[547/25348] ✅ 저장 완료 (PMCID: PMC12088975)\n"
     ]
    },
    {
     "name": "stderr",
     "output_type": "stream",
     "text": [
      "vitamin 진행:   2%|▏         | 548/25348 [09:55<10:20:47,  1.50s/논문]"
     ]
    },
    {
     "name": "stdout",
     "output_type": "stream",
     "text": [
      "[548/25348] ✅ 저장 완료 (PMCID: PMC12110801)\n",
      "[549/25348] ⚠️ PMCID 없음 → 건너뜀\n",
      "[550/25348] ⚠️ PMCID 없음 → 건너뜀\n"
     ]
    },
    {
     "name": "stderr",
     "output_type": "stream",
     "text": [
      "vitamin 진행:   2%|▏         | 551/25348 [09:56<6:25:24,  1.07논문/s] "
     ]
    },
    {
     "name": "stdout",
     "output_type": "stream",
     "text": [
      "[551/25348] ⚠️ PMCID 없음 → 건너뜀\n",
      "[552/25348] ⚠️ PMCID 없음 → 건너뜀\n",
      "[553/25348] ⚠️ PMCID 없음 → 건너뜀\n",
      "[554/25348] ✅ 저장 완료 (PMCID: PMC12087992)\n"
     ]
    },
    {
     "name": "stderr",
     "output_type": "stream",
     "text": [
      "vitamin 진행:   2%|▏         | 554/25348 [09:59<6:02:44,  1.14논문/s]"
     ]
    },
    {
     "name": "stdout",
     "output_type": "stream",
     "text": [
      "[555/25348] ⚠️ PMCID 없음 → 건너뜀\n"
     ]
    },
    {
     "name": "stderr",
     "output_type": "stream",
     "text": [
      "vitamin 진행:   2%|▏         | 556/25348 [10:01<6:22:24,  1.08논문/s]"
     ]
    },
    {
     "name": "stdout",
     "output_type": "stream",
     "text": [
      "[556/25348] ✅ 저장 완료 (PMCID: PMC12037377)\n",
      "[557/25348] ✅ 저장 완료 (PMCID: PMC12072300)\n"
     ]
    },
    {
     "name": "stderr",
     "output_type": "stream",
     "text": [
      "vitamin 진행:   2%|▏         | 557/25348 [10:04<8:59:50,  1.31s/논문]"
     ]
    },
    {
     "name": "stdout",
     "output_type": "stream",
     "text": [
      "[558/25348] ⚠️ PMCID 없음 → 건너뜀\n",
      "[559/25348] ⚠️ PMCID 없음 → 건너뜀\n"
     ]
    },
    {
     "name": "stderr",
     "output_type": "stream",
     "text": [
      "vitamin 진행:   2%|▏         | 560/25348 [10:05<6:18:19,  1.09논문/s]"
     ]
    },
    {
     "name": "stdout",
     "output_type": "stream",
     "text": [
      "[560/25348] ✅ 저장 완료 (PMCID: PMC12066668)\n"
     ]
    },
    {
     "name": "stderr",
     "output_type": "stream",
     "text": [
      "vitamin 진행:   2%|▏         | 561/25348 [10:06<6:22:27,  1.08논문/s]"
     ]
    },
    {
     "name": "stdout",
     "output_type": "stream",
     "text": [
      "[561/25348] ⚠️ PMCID 없음 → 건너뜀\n",
      "[562/25348] ✅ 저장 완료 (PMCID: PMC12029991)\n"
     ]
    },
    {
     "name": "stderr",
     "output_type": "stream",
     "text": [
      "vitamin 진행:   2%|▏         | 563/25348 [10:10<8:42:03,  1.26s/논문]"
     ]
    },
    {
     "name": "stdout",
     "output_type": "stream",
     "text": [
      "[563/25348] ✅ 저장 완료 (PMCID: PMC12157204)\n",
      "[564/25348] ✅ 저장 완료 (PMCID: PMC12040629)\n"
     ]
    },
    {
     "name": "stderr",
     "output_type": "stream",
     "text": [
      "vitamin 진행:   2%|▏         | 565/25348 [10:13<9:28:37,  1.38s/논문] "
     ]
    },
    {
     "name": "stdout",
     "output_type": "stream",
     "text": [
      "[565/25348] ✅ 저장 완료 (PMCID: PMC12097274)\n"
     ]
    },
    {
     "name": "stderr",
     "output_type": "stream",
     "text": [
      "vitamin 진행:   2%|▏         | 566/25348 [10:14<8:43:52,  1.27s/논문]"
     ]
    },
    {
     "name": "stdout",
     "output_type": "stream",
     "text": [
      "[566/25348] ⚠️ PMCID 없음 → 건너뜀\n",
      "[567/25348] ⚠️ PMCID 없음 → 건너뜀\n",
      "[568/25348] ✅ 저장 완료 (PMCID: PMC12129548)\n"
     ]
    },
    {
     "name": "stderr",
     "output_type": "stream",
     "text": [
      "vitamin 진행:   2%|▏         | 569/25348 [10:18<8:19:43,  1.21s/논문]"
     ]
    },
    {
     "name": "stdout",
     "output_type": "stream",
     "text": [
      "[569/25348] ✅ 저장 완료 (PMCID: PMC12191237)\n",
      "[570/25348] ✅ 저장 완료 (PMCID: PMC12062093)\n"
     ]
    },
    {
     "name": "stderr",
     "output_type": "stream",
     "text": [
      "vitamin 진행:   2%|▏         | 571/25348 [10:22<10:28:43,  1.52s/논문]"
     ]
    },
    {
     "name": "stdout",
     "output_type": "stream",
     "text": [
      "[571/25348] ⚠️ PMCID 없음 → 건너뜀\n"
     ]
    },
    {
     "name": "stderr",
     "output_type": "stream",
     "text": [
      "vitamin 진행:   2%|▏         | 572/25348 [10:23<9:30:11,  1.38s/논문] "
     ]
    },
    {
     "name": "stdout",
     "output_type": "stream",
     "text": [
      "[572/25348] ✅ 저장 완료 (PMCID: PMC12158352)\n",
      "[573/25348] ✅ 저장 완료 (PMCID: PMC12110225)\n"
     ]
    },
    {
     "name": "stderr",
     "output_type": "stream",
     "text": [
      "vitamin 진행:   2%|▏         | 574/25348 [10:27<11:08:29,  1.62s/논문]"
     ]
    },
    {
     "name": "stdout",
     "output_type": "stream",
     "text": [
      "[574/25348] ✅ 저장 완료 (PMCID: PMC12085610)\n",
      "[575/25348] ✅ 저장 완료 (PMCID: PMC12183341)\n"
     ]
    },
    {
     "name": "stderr",
     "output_type": "stream",
     "text": [
      "vitamin 진행:   2%|▏         | 576/25348 [10:31<12:56:36,  1.88s/논문]"
     ]
    },
    {
     "name": "stdout",
     "output_type": "stream",
     "text": [
      "[576/25348] ✅ 저장 완료 (PMCID: PMC12028138)\n",
      "[577/25348] ⚠️ PMCID 없음 → 건너뜀\n",
      "[578/25348] ⚠️ PMCID 없음 → 건너뜀\n",
      "[579/25348] ⚠️ PMCID 없음 → 건너뜀\n",
      "[580/25348] ✅ 저장 완료 (PMCID: PMC12025042)\n"
     ]
    },
    {
     "name": "stderr",
     "output_type": "stream",
     "text": [
      "vitamin 진행:   2%|▏         | 581/25348 [10:35<7:21:53,  1.07s/논문] "
     ]
    },
    {
     "name": "stdout",
     "output_type": "stream",
     "text": [
      "[581/25348] ⚠️ PMCID 없음 → 건너뜀\n"
     ]
    },
    {
     "name": "stderr",
     "output_type": "stream",
     "text": [
      "vitamin 진행:   2%|▏         | 582/25348 [10:36<7:28:28,  1.09s/논문]"
     ]
    },
    {
     "name": "stdout",
     "output_type": "stream",
     "text": [
      "[582/25348] ✅ 저장 완료 (PMCID: PMC12010551)\n",
      "[583/25348] ⚠️ PMCID 없음 → 건너뜀\n",
      "[584/25348] ⚠️ PMCID 없음 → 건너뜀\n",
      "[585/25348] ✅ 저장 완료 (PMCID: PMC12065454)\n"
     ]
    },
    {
     "name": "stderr",
     "output_type": "stream",
     "text": [
      "vitamin 진행:   2%|▏         | 586/25348 [10:40<6:50:13,  1.01논문/s]"
     ]
    },
    {
     "name": "stdout",
     "output_type": "stream",
     "text": [
      "[586/25348] ⚠️ PMCID 없음 → 건너뜀\n"
     ]
    },
    {
     "name": "stderr",
     "output_type": "stream",
     "text": [
      "vitamin 진행:   2%|▏         | 587/25348 [10:41<6:47:12,  1.01논문/s]"
     ]
    },
    {
     "name": "stdout",
     "output_type": "stream",
     "text": [
      "[587/25348] ✅ 저장 완료 (PMCID: PMC12110858)\n"
     ]
    },
    {
     "name": "stderr",
     "output_type": "stream",
     "text": [
      "vitamin 진행:   2%|▏         | 588/25348 [10:41<6:37:08,  1.04논문/s]"
     ]
    },
    {
     "name": "stdout",
     "output_type": "stream",
     "text": [
      "⚠️ abstract section 없음 (PMCID: PMC12120349) → 건너뜀\n",
      "[589/25348] ⚠️ PMCID 없음 → 건너뜀\n",
      "[590/25348] ✅ 저장 완료 (PMCID: PMC12159549)\n"
     ]
    },
    {
     "name": "stderr",
     "output_type": "stream",
     "text": [
      "vitamin 진행:   2%|▏         | 591/25348 [10:45<7:43:34,  1.12s/논문]"
     ]
    },
    {
     "name": "stdout",
     "output_type": "stream",
     "text": [
      "[591/25348] ⚠️ PMCID 없음 → 건너뜀\n"
     ]
    },
    {
     "name": "stderr",
     "output_type": "stream",
     "text": [
      "vitamin 진행:   2%|▏         | 592/25348 [10:46<7:45:52,  1.13s/논문]"
     ]
    },
    {
     "name": "stdout",
     "output_type": "stream",
     "text": [
      "[592/25348] ✅ 저장 완료 (PMCID: PMC12133445)\n",
      "[593/25348] ⚠️ PMCID 없음 → 건너뜀\n"
     ]
    },
    {
     "name": "stderr",
     "output_type": "stream",
     "text": [
      "vitamin 진행:   2%|▏         | 594/25348 [10:48<6:23:10,  1.08논문/s]"
     ]
    },
    {
     "name": "stdout",
     "output_type": "stream",
     "text": [
      "[594/25348] ✅ 저장 완료 (PMCID: PMC12115456)\n",
      "[595/25348] ✅ 저장 완료 (PMCID: PMC12123385)\n"
     ]
    },
    {
     "name": "stderr",
     "output_type": "stream",
     "text": [
      "vitamin 진행:   2%|▏         | 596/25348 [10:52<10:19:14,  1.50s/논문]"
     ]
    },
    {
     "name": "stdout",
     "output_type": "stream",
     "text": [
      "[596/25348] ✅ 저장 완료 (PMCID: PMC12073209)\n",
      "[597/25348] ⚠️ PMCID 없음 → 건너뜀\n",
      "[598/25348] ✅ 저장 완료 (PMCID: PMC12191453)\n"
     ]
    },
    {
     "name": "stderr",
     "output_type": "stream",
     "text": [
      "vitamin 진행:   2%|▏         | 599/25348 [10:56<8:38:29,  1.26s/논문] "
     ]
    },
    {
     "name": "stdout",
     "output_type": "stream",
     "text": [
      "[599/25348] ✅ 저장 완료 (PMCID: PMC12010601)\n",
      "[600/25348] ⚠️ PMCID 없음 → 건너뜀\n",
      "[601/25348] ✅ 저장 완료 (PMCID: PMC12164048)\n"
     ]
    },
    {
     "name": "stderr",
     "output_type": "stream",
     "text": [
      "vitamin 진행:   2%|▏         | 601/25348 [10:59<10:14:10,  1.49s/논문]"
     ]
    },
    {
     "name": "stdout",
     "output_type": "stream",
     "text": [
      "[602/25348] ⚠️ PMCID 없음 → 건너뜀\n"
     ]
    },
    {
     "name": "stderr",
     "output_type": "stream",
     "text": [
      "vitamin 진행:   2%|▏         | 603/25348 [11:00<7:44:52,  1.13s/논문] "
     ]
    },
    {
     "name": "stdout",
     "output_type": "stream",
     "text": [
      "[603/25348] ✅ 저장 완료 (PMCID: PMC12192759)\n",
      "[604/25348] ⚠️ PMCID 없음 → 건너뜀\n",
      "[605/25348] ✅ 저장 완료 (PMCID: PMC12125093)\n"
     ]
    },
    {
     "name": "stderr",
     "output_type": "stream",
     "text": [
      "vitamin 진행:   2%|▏         | 606/25348 [11:04<7:37:42,  1.11s/논문]"
     ]
    },
    {
     "name": "stdout",
     "output_type": "stream",
     "text": [
      "[606/25348] ⚠️ PMCID 없음 → 건너뜀\n",
      "[607/25348] ⚠️ PMCID 없음 → 건너뜀\n",
      "[608/25348] ⚠️ PMCID 없음 → 건너뜀\n",
      "[609/25348] ⚠️ PMCID 없음 → 건너뜀\n",
      "[610/25348] ⚠️ PMCID 없음 → 건너뜀\n"
     ]
    },
    {
     "name": "stderr",
     "output_type": "stream",
     "text": [
      "vitamin 진행:   2%|▏         | 611/25348 [11:06<5:06:44,  1.34논문/s]"
     ]
    },
    {
     "name": "stdout",
     "output_type": "stream",
     "text": [
      "[611/25348] ✅ 저장 완료 (PMCID: PMC12162364)\n",
      "[612/25348] ⚠️ PMCID 없음 → 건너뜀\n",
      "[613/25348] ✅ 저장 완료 (PMCID: PMC12067739)\n"
     ]
    },
    {
     "name": "stderr",
     "output_type": "stream",
     "text": [
      "vitamin 진행:   2%|▏         | 613/25348 [11:08<5:26:46,  1.26논문/s]"
     ]
    },
    {
     "name": "stdout",
     "output_type": "stream",
     "text": [
      "[614/25348] ⚠️ PMCID 없음 → 건너뜀\n"
     ]
    },
    {
     "name": "stderr",
     "output_type": "stream",
     "text": [
      "vitamin 진행:   2%|▏         | 615/25348 [11:09<4:56:44,  1.39논문/s]"
     ]
    },
    {
     "name": "stdout",
     "output_type": "stream",
     "text": [
      "[615/25348] ✅ 저장 완료 (PMCID: PMC12068862)\n",
      "[616/25348] ✅ 저장 완료 (PMCID: PMC12155683)\n"
     ]
    },
    {
     "name": "stderr",
     "output_type": "stream",
     "text": [
      "vitamin 진행:   2%|▏         | 616/25348 [11:13<8:36:30,  1.25s/논문]"
     ]
    },
    {
     "name": "stdout",
     "output_type": "stream",
     "text": [
      "[617/25348] ⚠️ PMCID 없음 → 건너뜀\n",
      "[618/25348] ⚠️ PMCID 없음 → 건너뜀\n",
      "[619/25348] ⚠️ PMCID 없음 → 건너뜀\n"
     ]
    },
    {
     "name": "stderr",
     "output_type": "stream",
     "text": [
      "vitamin 진행:   2%|▏         | 620/25348 [11:14<5:20:46,  1.28논문/s]"
     ]
    },
    {
     "name": "stdout",
     "output_type": "stream",
     "text": [
      "[620/25348] ✅ 저장 완료 (PMCID: PMC12100785)\n",
      "[621/25348] ✅ 저장 완료 (PMCID: PMC12193742)\n"
     ]
    },
    {
     "name": "stderr",
     "output_type": "stream",
     "text": [
      "vitamin 진행:   2%|▏         | 622/25348 [11:19<8:25:38,  1.23s/논문]"
     ]
    },
    {
     "name": "stdout",
     "output_type": "stream",
     "text": [
      "[622/25348] ✅ 저장 완료 (PMCID: PMC12158562)\n",
      "[623/25348] ✅ 저장 완료 (PMCID: PMC12153994)\n"
     ]
    },
    {
     "name": "stderr",
     "output_type": "stream",
     "text": [
      "vitamin 진행:   2%|▏         | 623/25348 [11:22<10:07:10,  1.47s/논문]"
     ]
    },
    {
     "name": "stdout",
     "output_type": "stream",
     "text": [
      "[624/25348] ⚠️ PMCID 없음 → 건너뜀\n",
      "[625/25348] ⚠️ PMCID 없음 → 건너뜀\n"
     ]
    },
    {
     "name": "stderr",
     "output_type": "stream",
     "text": [
      "vitamin 진행:   2%|▏         | 626/25348 [11:23<6:31:52,  1.05논문/s] "
     ]
    },
    {
     "name": "stdout",
     "output_type": "stream",
     "text": [
      "[626/25348] ⚠️ PMCID 없음 → 건너뜀\n"
     ]
    },
    {
     "name": "stderr",
     "output_type": "stream",
     "text": [
      "vitamin 진행:   2%|▏         | 627/25348 [11:24<6:38:42,  1.03논문/s]"
     ]
    },
    {
     "name": "stdout",
     "output_type": "stream",
     "text": [
      "[627/25348] ✅ 저장 완료 (PMCID: PMC11996139)\n",
      "[628/25348] ✅ 저장 완료 (PMCID: PMC12164037)\n"
     ]
    },
    {
     "name": "stderr",
     "output_type": "stream",
     "text": [
      "vitamin 진행:   2%|▏         | 629/25348 [11:27<8:36:53,  1.25s/논문]"
     ]
    },
    {
     "name": "stdout",
     "output_type": "stream",
     "text": [
      "[629/25348] ✅ 저장 완료 (PMCID: PMC12044947)\n",
      "[630/25348] ⚠️ PMCID 없음 → 건너뜀\n",
      "[631/25348] ✅ 저장 완료 (PMCID: PMC12100925)\n"
     ]
    },
    {
     "name": "stderr",
     "output_type": "stream",
     "text": [
      "vitamin 진행:   2%|▏         | 631/25348 [11:30<9:11:14,  1.34s/논문]"
     ]
    },
    {
     "name": "stdout",
     "output_type": "stream",
     "text": [
      "[632/25348] ⚠️ PMCID 없음 → 건너뜀\n"
     ]
    },
    {
     "name": "stderr",
     "output_type": "stream",
     "text": [
      "vitamin 진행:   2%|▏         | 633/25348 [11:31<7:15:48,  1.06s/논문]"
     ]
    },
    {
     "name": "stdout",
     "output_type": "stream",
     "text": [
      "[633/25348] ✅ 저장 완료 (PMCID: PMC12156911)\n",
      "[634/25348] ⚠️ PMCID 없음 → 건너뜀\n",
      "[635/25348] ✅ 저장 완료 (PMCID: PMC12182487)\n"
     ]
    },
    {
     "name": "stderr",
     "output_type": "stream",
     "text": [
      "vitamin 진행:   3%|▎         | 636/25348 [11:36<9:06:05,  1.33s/논문]"
     ]
    },
    {
     "name": "stdout",
     "output_type": "stream",
     "text": [
      "[636/25348] ✅ 저장 완료 (PMCID: PMC12094849)\n",
      "[637/25348] ⚠️ PMCID 없음 → 건너뜀\n"
     ]
    },
    {
     "name": "stderr",
     "output_type": "stream",
     "text": [
      "vitamin 진행:   3%|▎         | 638/25348 [11:37<7:20:14,  1.07s/논문]"
     ]
    },
    {
     "name": "stdout",
     "output_type": "stream",
     "text": [
      "[638/25348] ✅ 저장 완료 (PMCID: PMC12185519)\n",
      "[639/25348] ✅ 저장 완료 (PMCID: PMC12011270)\n"
     ]
    },
    {
     "name": "stderr",
     "output_type": "stream",
     "text": [
      "vitamin 진행:   3%|▎         | 639/25348 [11:40<9:43:04,  1.42s/논문]"
     ]
    },
    {
     "name": "stdout",
     "output_type": "stream",
     "text": [
      "[640/25348] ⚠️ PMCID 없음 → 건너뜀\n"
     ]
    },
    {
     "name": "stderr",
     "output_type": "stream",
     "text": [
      "vitamin 진행:   3%|▎         | 641/25348 [11:41<7:23:55,  1.08s/논문]"
     ]
    },
    {
     "name": "stdout",
     "output_type": "stream",
     "text": [
      "[641/25348] ⚠️ PMCID 없음 → 건너뜀\n"
     ]
    },
    {
     "name": "stderr",
     "output_type": "stream",
     "text": [
      "vitamin 진행:   3%|▎         | 642/25348 [11:42<7:15:42,  1.06s/논문]"
     ]
    },
    {
     "name": "stdout",
     "output_type": "stream",
     "text": [
      "[642/25348] ✅ 저장 완료 (PMCID: PMC12010568)\n",
      "[643/25348] ⚠️ PMCID 없음 → 건너뜀\n",
      "[644/25348] ✅ 저장 완료 (PMCID: PMC12025032)\n"
     ]
    },
    {
     "name": "stderr",
     "output_type": "stream",
     "text": [
      "vitamin 진행:   3%|▎         | 645/25348 [11:46<7:34:29,  1.10s/논문]"
     ]
    },
    {
     "name": "stdout",
     "output_type": "stream",
     "text": [
      "[645/25348] ✅ 저장 완료 (PMCID: PMC12081527)\n",
      "[646/25348] ✅ 저장 완료 (PMCID: PMC12197457)\n"
     ]
    },
    {
     "name": "stderr",
     "output_type": "stream",
     "text": [
      "vitamin 진행:   3%|▎         | 647/25348 [11:50<10:08:51,  1.48s/논문]"
     ]
    },
    {
     "name": "stdout",
     "output_type": "stream",
     "text": [
      "[647/25348] ✅ 저장 완료 (PMCID: PMC12002500)\n",
      "[648/25348] ✅ 저장 완료 (PMCID: PMC12035639)\n"
     ]
    },
    {
     "name": "stderr",
     "output_type": "stream",
     "text": [
      "vitamin 진행:   3%|▎         | 649/25348 [11:54<10:39:38,  1.55s/논문]"
     ]
    },
    {
     "name": "stdout",
     "output_type": "stream",
     "text": [
      "[649/25348] ✅ 저장 완료 (PMCID: PMC12191720)\n",
      "[650/25348] ⚠️ PMCID 없음 → 건너뜀\n"
     ]
    },
    {
     "name": "stderr",
     "output_type": "stream",
     "text": [
      "vitamin 진행:   3%|▎         | 651/25348 [11:55<7:29:09,  1.09s/논문] "
     ]
    },
    {
     "name": "stdout",
     "output_type": "stream",
     "text": [
      "[651/25348] ⚠️ PMCID 없음 → 건너뜀\n"
     ]
    },
    {
     "name": "stderr",
     "output_type": "stream",
     "text": [
      "vitamin 진행:   3%|▎         | 652/25348 [11:56<7:36:45,  1.11s/논문]"
     ]
    },
    {
     "name": "stdout",
     "output_type": "stream",
     "text": [
      "[652/25348] ✅ 저장 완료 (PMCID: PMC12021645)\n",
      "[653/25348] ✅ 저장 완료 (PMCID: PMC12179891)\n"
     ]
    },
    {
     "name": "stderr",
     "output_type": "stream",
     "text": [
      "vitamin 진행:   3%|▎         | 653/25348 [11:58<10:14:38,  1.49s/논문]"
     ]
    },
    {
     "name": "stdout",
     "output_type": "stream",
     "text": [
      "[654/25348] ⚠️ PMCID 없음 → 건너뜀\n"
     ]
    },
    {
     "name": "stderr",
     "output_type": "stream",
     "text": [
      "vitamin 진행:   3%|▎         | 655/25348 [11:59<7:27:42,  1.09s/논문] "
     ]
    },
    {
     "name": "stdout",
     "output_type": "stream",
     "text": [
      "[655/25348] ✅ 저장 완료 (PMCID: PMC12108006)\n"
     ]
    },
    {
     "name": "stderr",
     "output_type": "stream",
     "text": [
      "vitamin 진행:   3%|▎         | 656/25348 [12:01<9:05:23,  1.33s/논문]"
     ]
    },
    {
     "name": "stdout",
     "output_type": "stream",
     "text": [
      "[656/25348] ✅ 저장 완료 (PMCID: PMC12040754)\n",
      "[657/25348] ⚠️ PMCID 없음 → 건너뜀\n",
      "[658/25348] ✅ 저장 완료 (PMCID: PMC12157128)\n"
     ]
    },
    {
     "name": "stderr",
     "output_type": "stream",
     "text": [
      "vitamin 진행:   3%|▎         | 658/25348 [12:05<9:55:16,  1.45s/논문]"
     ]
    },
    {
     "name": "stdout",
     "output_type": "stream",
     "text": [
      "[659/25348] ⚠️ PMCID 없음 → 건너뜀\n"
     ]
    },
    {
     "name": "stderr",
     "output_type": "stream",
     "text": [
      "vitamin 진행:   3%|▎         | 660/25348 [12:06<7:37:27,  1.11s/논문]"
     ]
    },
    {
     "name": "stdout",
     "output_type": "stream",
     "text": [
      "[660/25348] ✅ 저장 완료 (PMCID: PMC12109444)\n"
     ]
    },
    {
     "name": "stderr",
     "output_type": "stream",
     "text": [
      "vitamin 진행:   3%|▎         | 661/25348 [12:07<7:24:42,  1.08s/논문]"
     ]
    },
    {
     "name": "stdout",
     "output_type": "stream",
     "text": [
      "[661/25348] ⚠️ PMCID 없음 → 건너뜀\n",
      "[662/25348] ⚠️ PMCID 없음 → 건너뜀\n",
      "[663/25348] ✅ 저장 완료 (PMCID: PMC12168530)\n"
     ]
    },
    {
     "name": "stderr",
     "output_type": "stream",
     "text": [
      "vitamin 진행:   3%|▎         | 664/25348 [12:11<8:05:21,  1.18s/논문]"
     ]
    },
    {
     "name": "stdout",
     "output_type": "stream",
     "text": [
      "[664/25348] ✅ 저장 완료 (PMCID: PMC12094663)\n",
      "[665/25348] ✅ 저장 완료 (PMCID: PMC12004703)\n"
     ]
    },
    {
     "name": "stderr",
     "output_type": "stream",
     "text": [
      "vitamin 진행:   3%|▎         | 666/25348 [12:14<9:12:32,  1.34s/논문]"
     ]
    },
    {
     "name": "stdout",
     "output_type": "stream",
     "text": [
      "[666/25348] ⚠️ PMCID 없음 → 건너뜀\n"
     ]
    },
    {
     "name": "stderr",
     "output_type": "stream",
     "text": [
      "vitamin 진행:   3%|▎         | 667/25348 [12:15<8:34:05,  1.25s/논문]"
     ]
    },
    {
     "name": "stdout",
     "output_type": "stream",
     "text": [
      "[667/25348] ✅ 저장 완료 (PMCID: PMC12014702)\n",
      "[668/25348] ⚠️ PMCID 없음 → 건너뜀\n",
      "[669/25348] ✅ 저장 완료 (PMCID: PMC12117577)\n"
     ]
    },
    {
     "name": "stderr",
     "output_type": "stream",
     "text": [
      "vitamin 진행:   3%|▎         | 669/25348 [12:18<9:08:57,  1.33s/논문]"
     ]
    },
    {
     "name": "stdout",
     "output_type": "stream",
     "text": [
      "[670/25348] ⚠️ PMCID 없음 → 건너뜀\n"
     ]
    },
    {
     "name": "stderr",
     "output_type": "stream",
     "text": [
      "vitamin 진행:   3%|▎         | 671/25348 [12:19<7:02:02,  1.03s/논문]"
     ]
    },
    {
     "name": "stdout",
     "output_type": "stream",
     "text": [
      "[671/25348] ⚠️ PMCID 없음 → 건너뜀\n"
     ]
    },
    {
     "name": "stderr",
     "output_type": "stream",
     "text": [
      "vitamin 진행:   3%|▎         | 672/25348 [12:20<6:57:17,  1.01s/논문]"
     ]
    },
    {
     "name": "stdout",
     "output_type": "stream",
     "text": [
      "⚠️ abstract section 없음 (PMCID: PMC12172622) → 건너뜀\n"
     ]
    },
    {
     "name": "stderr",
     "output_type": "stream",
     "text": [
      "vitamin 진행:   3%|▎         | 673/25348 [12:21<6:53:30,  1.01s/논문]"
     ]
    },
    {
     "name": "stdout",
     "output_type": "stream",
     "text": [
      "[673/25348] ✅ 저장 완료 (PMCID: PMC11983984)\n",
      "[674/25348] ⚠️ PMCID 없음 → 건너뜀\n",
      "[675/25348] ⚠️ PMCID 없음 → 건너뜀\n"
     ]
    },
    {
     "name": "stderr",
     "output_type": "stream",
     "text": [
      "vitamin 진행:   3%|▎         | 676/25348 [12:24<6:39:06,  1.03논문/s]"
     ]
    },
    {
     "name": "stdout",
     "output_type": "stream",
     "text": [
      "⚠️ abstract section 없음 (PMCID: PMC12150840) → 건너뜀\n",
      "[677/25348] ⚠️ PMCID 없음 → 건너뜀\n",
      "[678/25348] ⚠️ PMCID 없음 → 건너뜀\n",
      "[679/25348] ✅ 저장 완료 (PMCID: PMC12090553)\n"
     ]
    },
    {
     "name": "stderr",
     "output_type": "stream",
     "text": [
      "vitamin 진행:   3%|▎         | 679/25348 [12:26<5:42:55,  1.20논문/s]"
     ]
    },
    {
     "name": "stdout",
     "output_type": "stream",
     "text": [
      "[680/25348] ⚠️ PMCID 없음 → 건너뜀\n"
     ]
    },
    {
     "name": "stderr",
     "output_type": "stream",
     "text": [
      "vitamin 진행:   3%|▎         | 681/25348 [12:28<6:11:41,  1.11논문/s]"
     ]
    },
    {
     "name": "stdout",
     "output_type": "stream",
     "text": [
      "[681/25348] ✅ 저장 완료 (PMCID: PMC12059506)\n",
      "[682/25348] ⚠️ PMCID 없음 → 건너뜀\n",
      "[683/25348] ✅ 저장 완료 (PMCID: PMC12147370)\n"
     ]
    },
    {
     "name": "stderr",
     "output_type": "stream",
     "text": [
      "vitamin 진행:   3%|▎         | 684/25348 [12:31<6:58:47,  1.02s/논문]"
     ]
    },
    {
     "name": "stdout",
     "output_type": "stream",
     "text": [
      "⚠️ abstract section 없음 (PMCID: PMC12073111) → 건너뜀\n"
     ]
    },
    {
     "name": "stderr",
     "output_type": "stream",
     "text": [
      "vitamin 진행:   3%|▎         | 685/25348 [12:33<7:08:30,  1.04s/논문]"
     ]
    },
    {
     "name": "stdout",
     "output_type": "stream",
     "text": [
      "[685/25348] ✅ 저장 완료 (PMCID: PMC12104659)\n"
     ]
    },
    {
     "name": "stderr",
     "output_type": "stream",
     "text": [
      "vitamin 진행:   3%|▎         | 686/25348 [12:34<7:14:05,  1.06s/논문]"
     ]
    },
    {
     "name": "stdout",
     "output_type": "stream",
     "text": [
      "[686/25348] ⚠️ PMCID 없음 → 건너뜀\n",
      "[687/25348] ⚠️ PMCID 없음 → 건너뜀\n",
      "[688/25348] ✅ 저장 완료 (PMCID: PMC12113735)\n"
     ]
    },
    {
     "name": "stderr",
     "output_type": "stream",
     "text": [
      "vitamin 진행:   3%|▎         | 688/25348 [12:39<11:16:17,  1.65s/논문]"
     ]
    },
    {
     "name": "stdout",
     "output_type": "stream",
     "text": [
      "[689/25348] ⚠️ PMCID 없음 → 건너뜀\n",
      "[690/25348] ⚠️ PMCID 없음 → 건너뜀\n"
     ]
    },
    {
     "name": "stderr",
     "output_type": "stream",
     "text": [
      "vitamin 진행:   3%|▎         | 691/25348 [12:41<8:22:45,  1.22s/논문] "
     ]
    },
    {
     "name": "stdout",
     "output_type": "stream",
     "text": [
      "[691/25348] ✅ 저장 완료 (PMCID: PMC12070341)\n",
      "[692/25348] ✅ 저장 완료 (PMCID: PMC12048513)\n"
     ]
    },
    {
     "name": "stderr",
     "output_type": "stream",
     "text": [
      "vitamin 진행:   3%|▎         | 693/25348 [12:45<9:32:55,  1.39s/논문] "
     ]
    },
    {
     "name": "stdout",
     "output_type": "stream",
     "text": [
      "[693/25348] ✅ 저장 완료 (PMCID: PMC12105854)\n",
      "[694/25348] ⚠️ PMCID 없음 → 건너뜀\n",
      "[695/25348] ⚠️ PMCID 없음 → 건너뜀\n"
     ]
    },
    {
     "name": "stderr",
     "output_type": "stream",
     "text": [
      "vitamin 진행:   3%|▎         | 696/25348 [12:46<6:07:08,  1.12논문/s]"
     ]
    },
    {
     "name": "stdout",
     "output_type": "stream",
     "text": [
      "[696/25348] ⚠️ PMCID 없음 → 건너뜀\n",
      "[697/25348] ⚠️ PMCID 없음 → 건너뜀\n",
      "[698/25348] ✅ 저장 완료 (PMCID: PMC11980295)\n"
     ]
    },
    {
     "name": "stderr",
     "output_type": "stream",
     "text": [
      "vitamin 진행:   3%|▎         | 698/25348 [12:48<6:14:49,  1.10논문/s]"
     ]
    },
    {
     "name": "stdout",
     "output_type": "stream",
     "text": [
      "[699/25348] ⚠️ PMCID 없음 → 건너뜀\n"
     ]
    },
    {
     "name": "stderr",
     "output_type": "stream",
     "text": [
      "vitamin 진행:   3%|▎         | 700/25348 [12:49<5:29:13,  1.25논문/s]"
     ]
    },
    {
     "name": "stdout",
     "output_type": "stream",
     "text": [
      "[700/25348] ✅ 저장 완료 (PMCID: PMC12113892)\n"
     ]
    },
    {
     "name": "stderr",
     "output_type": "stream",
     "text": [
      "vitamin 진행:   3%|▎         | 701/25348 [12:50<5:40:24,  1.21논문/s]"
     ]
    },
    {
     "name": "stdout",
     "output_type": "stream",
     "text": [
      "[701/25348] ⚠️ PMCID 없음 → 건너뜀\n",
      "[702/25348] ✅ 저장 완료 (PMCID: PMC12102632)\n"
     ]
    },
    {
     "name": "stderr",
     "output_type": "stream",
     "text": [
      "vitamin 진행:   3%|▎         | 702/25348 [12:52<8:21:24,  1.22s/논문]"
     ]
    },
    {
     "name": "stdout",
     "output_type": "stream",
     "text": [
      "[703/25348] ⚠️ PMCID 없음 → 건너뜀\n"
     ]
    },
    {
     "name": "stderr",
     "output_type": "stream",
     "text": [
      "vitamin 진행:   3%|▎         | 704/25348 [12:53<6:26:16,  1.06논문/s]"
     ]
    },
    {
     "name": "stdout",
     "output_type": "stream",
     "text": [
      "[704/25348] ✅ 저장 완료 (PMCID: PMC12183357)\n",
      "[705/25348] ✅ 저장 완료 (PMCID: PMC12020157)\n"
     ]
    },
    {
     "name": "stderr",
     "output_type": "stream",
     "text": [
      "vitamin 진행:   3%|▎         | 706/25348 [12:56<7:34:38,  1.11s/논문]"
     ]
    },
    {
     "name": "stdout",
     "output_type": "stream",
     "text": [
      "[706/25348] ⚠️ PMCID 없음 → 건너뜀\n"
     ]
    },
    {
     "name": "stderr",
     "output_type": "stream",
     "text": [
      "vitamin 진행:   3%|▎         | 707/25348 [12:57<7:29:19,  1.09s/논문]"
     ]
    },
    {
     "name": "stdout",
     "output_type": "stream",
     "text": [
      "[707/25348] ✅ 저장 완료 (PMCID: PMC12034005)\n",
      "[708/25348] ⚠️ PMCID 없음 → 건너뜀\n",
      "[709/25348] ⚠️ PMCID 없음 → 건너뜀\n",
      "[710/25348] ✅ 저장 완료 (PMCID: PMC12029787)\n"
     ]
    },
    {
     "name": "stderr",
     "output_type": "stream",
     "text": [
      "vitamin 진행:   3%|▎         | 711/25348 [13:01<6:46:38,  1.01논문/s]"
     ]
    },
    {
     "name": "stdout",
     "output_type": "stream",
     "text": [
      "[711/25348] ⚠️ PMCID 없음 → 건너뜀\n"
     ]
    },
    {
     "name": "stderr",
     "output_type": "stream",
     "text": [
      "vitamin 진행:   3%|▎         | 712/25348 [13:02<6:42:09,  1.02논문/s]"
     ]
    },
    {
     "name": "stdout",
     "output_type": "stream",
     "text": [
      "[712/25348] ✅ 저장 완료 (PMCID: PMC12029499)\n",
      "[713/25348] ⚠️ PMCID 없음 → 건너뜀\n",
      "[714/25348] ⚠️ PMCID 없음 → 건너뜀\n"
     ]
    },
    {
     "name": "stderr",
     "output_type": "stream",
     "text": [
      "vitamin 진행:   3%|▎         | 715/25348 [13:03<4:32:34,  1.51논문/s]"
     ]
    },
    {
     "name": "stdout",
     "output_type": "stream",
     "text": [
      "[715/25348] ✅ 저장 완료 (PMCID: PMC12134193)\n",
      "[716/25348] ✅ 저장 완료 (PMCID: PMC11992815)\n"
     ]
    },
    {
     "name": "stderr",
     "output_type": "stream",
     "text": [
      "vitamin 진행:   3%|▎         | 716/25348 [13:07<9:18:17,  1.36s/논문]"
     ]
    },
    {
     "name": "stdout",
     "output_type": "stream",
     "text": [
      "[717/25348] ⚠️ PMCID 없음 → 건너뜀\n",
      "[718/25348] ⚠️ PMCID 없음 → 건너뜀\n"
     ]
    },
    {
     "name": "stderr",
     "output_type": "stream",
     "text": [
      "vitamin 진행:   3%|▎         | 719/25348 [13:08<6:29:21,  1.05논문/s]"
     ]
    },
    {
     "name": "stdout",
     "output_type": "stream",
     "text": [
      "[719/25348] ✅ 저장 완료 (PMCID: PMC12111016)\n",
      "[720/25348] ✅ 저장 완료 (PMCID: PMC12024302)\n"
     ]
    },
    {
     "name": "stderr",
     "output_type": "stream",
     "text": [
      "vitamin 진행:   3%|▎         | 721/25348 [13:12<9:02:44,  1.32s/논문]"
     ]
    },
    {
     "name": "stdout",
     "output_type": "stream",
     "text": [
      "[721/25348] ✅ 저장 완료 (PMCID: PMC12121488)\n",
      "[722/25348] ✅ 저장 완료 (PMCID: PMC12191705)\n"
     ]
    },
    {
     "name": "stderr",
     "output_type": "stream",
     "text": [
      "vitamin 진행:   3%|▎         | 723/25348 [13:16<9:40:15,  1.41s/논문] "
     ]
    },
    {
     "name": "stdout",
     "output_type": "stream",
     "text": [
      "[723/25348] ✅ 저장 완료 (PMCID: PMC12018226)\n",
      "[724/25348] ✅ 저장 완료 (PMCID: PMC12067687)\n"
     ]
    },
    {
     "name": "stderr",
     "output_type": "stream",
     "text": [
      "vitamin 진행:   3%|▎         | 725/25348 [13:20<10:41:34,  1.56s/논문]"
     ]
    },
    {
     "name": "stdout",
     "output_type": "stream",
     "text": [
      "[725/25348] ✅ 저장 완료 (PMCID: PMC12090844)\n",
      "[726/25348] ✅ 저장 완료 (PMCID: PMC12086420)\n"
     ]
    },
    {
     "name": "stderr",
     "output_type": "stream",
     "text": [
      "vitamin 진행:   3%|▎         | 726/25348 [13:23<14:52:11,  2.17s/논문]"
     ]
    },
    {
     "name": "stdout",
     "output_type": "stream",
     "text": [
      "[727/25348] ⚠️ PMCID 없음 → 건너뜀\n",
      "[728/25348] ⚠️ PMCID 없음 → 건너뜀\n"
     ]
    },
    {
     "name": "stderr",
     "output_type": "stream",
     "text": [
      "vitamin 진행:   3%|▎         | 729/25348 [13:24<8:07:21,  1.19s/논문] "
     ]
    },
    {
     "name": "stdout",
     "output_type": "stream",
     "text": [
      "[729/25348] ✅ 저장 완료 (PMCID: PMC12184958)\n",
      "[730/25348] ✅ 저장 완료 (PMCID: PMC12030256)\n"
     ]
    },
    {
     "name": "stderr",
     "output_type": "stream",
     "text": [
      "vitamin 진행:   3%|▎         | 731/25348 [13:29<10:53:46,  1.59s/논문]"
     ]
    },
    {
     "name": "stdout",
     "output_type": "stream",
     "text": [
      "[731/25348] ✅ 저장 완료 (PMCID: PMC11996658)\n"
     ]
    },
    {
     "name": "stderr",
     "output_type": "stream",
     "text": [
      "vitamin 진행:   3%|▎         | 732/25348 [13:30<10:04:24,  1.47s/논문]"
     ]
    },
    {
     "name": "stdout",
     "output_type": "stream",
     "text": [
      "⚠️ abstract section 없음 (PMCID: PMC12197460) → 건너뜀\n",
      "[733/25348] ✅ 저장 완료 (PMCID: PMC11976904)\n"
     ]
    },
    {
     "name": "stderr",
     "output_type": "stream",
     "text": [
      "vitamin 진행:   3%|▎         | 734/25348 [13:34<11:19:18,  1.66s/논문]"
     ]
    },
    {
     "name": "stdout",
     "output_type": "stream",
     "text": [
      "[734/25348] ✅ 저장 완료 (PMCID: PMC12074960)\n",
      "[735/25348] ✅ 저장 완료 (PMCID: PMC12187442)\n"
     ]
    },
    {
     "name": "stderr",
     "output_type": "stream",
     "text": [
      "vitamin 진행:   3%|▎         | 736/25348 [13:38<11:31:46,  1.69s/논문]"
     ]
    },
    {
     "name": "stdout",
     "output_type": "stream",
     "text": [
      "[736/25348] ⚠️ PMCID 없음 → 건너뜀\n"
     ]
    },
    {
     "name": "stderr",
     "output_type": "stream",
     "text": [
      "vitamin 진행:   3%|▎         | 737/25348 [13:39<10:29:11,  1.53s/논문]"
     ]
    },
    {
     "name": "stdout",
     "output_type": "stream",
     "text": [
      "[737/25348] ✅ 저장 완료 (PMCID: PMC12021624)\n",
      "[738/25348] ⚠️ PMCID 없음 → 건너뜀\n",
      "[739/25348] ✅ 저장 완료 (PMCID: PMC12073363)\n"
     ]
    },
    {
     "name": "stderr",
     "output_type": "stream",
     "text": [
      "vitamin 진행:   3%|▎         | 739/25348 [13:42<10:21:19,  1.51s/논문]"
     ]
    },
    {
     "name": "stdout",
     "output_type": "stream",
     "text": [
      "[740/25348] ⚠️ PMCID 없음 → 건너뜀\n"
     ]
    },
    {
     "name": "stderr",
     "output_type": "stream",
     "text": [
      "vitamin 진행:   3%|▎         | 741/25348 [13:44<9:00:15,  1.32s/논문] "
     ]
    },
    {
     "name": "stdout",
     "output_type": "stream",
     "text": [
      "[741/25348] ✅ 저장 완료 (PMCID: PMC12032329)\n",
      "[742/25348] ⚠️ PMCID 없음 → 건너뜀\n",
      "[743/25348] ✅ 저장 완료 (PMCID: PMC12087924)\n"
     ]
    },
    {
     "name": "stderr",
     "output_type": "stream",
     "text": [
      "vitamin 진행:   3%|▎         | 743/25348 [13:47<9:14:26,  1.35s/논문]"
     ]
    },
    {
     "name": "stdout",
     "output_type": "stream",
     "text": [
      "[744/25348] ⚠️ PMCID 없음 → 건너뜀\n"
     ]
    },
    {
     "name": "stderr",
     "output_type": "stream",
     "text": [
      "vitamin 진행:   3%|▎         | 745/25348 [13:48<7:29:42,  1.10s/논문]"
     ]
    },
    {
     "name": "stdout",
     "output_type": "stream",
     "text": [
      "[745/25348] ✅ 저장 완료 (PMCID: PMC12101967)\n",
      "[746/25348] ✅ 저장 완료 (PMCID: PMC12036606)\n"
     ]
    },
    {
     "name": "stderr",
     "output_type": "stream",
     "text": [
      "vitamin 진행:   3%|▎         | 747/25348 [13:52<9:39:10,  1.41s/논문] "
     ]
    },
    {
     "name": "stdout",
     "output_type": "stream",
     "text": [
      "[747/25348] ✅ 저장 완료 (PMCID: PMC12019491)\n",
      "[748/25348] ✅ 저장 완료 (PMCID: PMC12071410)\n"
     ]
    },
    {
     "name": "stderr",
     "output_type": "stream",
     "text": [
      "vitamin 진행:   3%|▎         | 749/25348 [13:56<10:38:06,  1.56s/논문]"
     ]
    },
    {
     "name": "stdout",
     "output_type": "stream",
     "text": [
      "[749/25348] ✅ 저장 완료 (PMCID: PMC12033164)\n",
      "[750/25348] ⚠️ PMCID 없음 → 건너뜀\n"
     ]
    },
    {
     "name": "stderr",
     "output_type": "stream",
     "text": [
      "vitamin 진행:   3%|▎         | 751/25348 [13:57<7:40:37,  1.12s/논문] "
     ]
    },
    {
     "name": "stdout",
     "output_type": "stream",
     "text": [
      "[751/25348] ⚠️ PMCID 없음 → 건너뜀\n",
      "[752/25348] ⚠️ PMCID 없음 → 건너뜀\n",
      "[753/25348] ⚠️ PMCID 없음 → 건너뜀\n",
      "[754/25348] ⚠️ PMCID 없음 → 건너뜀\n",
      "[755/25348] ⚠️ PMCID 없음 → 건너뜀\n"
     ]
    },
    {
     "name": "stderr",
     "output_type": "stream",
     "text": [
      "vitamin 진행:   3%|▎         | 756/25348 [13:58<3:54:34,  1.75논문/s]"
     ]
    },
    {
     "name": "stdout",
     "output_type": "stream",
     "text": [
      "[756/25348] ⚠️ PMCID 없음 → 건너뜀\n",
      "[757/25348] ✅ 저장 완료 (PMCID: PMC11974546)\n"
     ]
    },
    {
     "name": "stderr",
     "output_type": "stream",
     "text": [
      "vitamin 진행:   3%|▎         | 758/25348 [14:02<6:36:41,  1.03논문/s]"
     ]
    },
    {
     "name": "stdout",
     "output_type": "stream",
     "text": [
      "[758/25348] ✅ 저장 완료 (PMCID: PMC12113997)\n",
      "[759/25348] ✅ 저장 완료 (PMCID: PMC12066046)\n"
     ]
    },
    {
     "name": "stderr",
     "output_type": "stream",
     "text": [
      "vitamin 진행:   3%|▎         | 760/25348 [14:07<9:26:39,  1.38s/논문]"
     ]
    },
    {
     "name": "stdout",
     "output_type": "stream",
     "text": [
      "[760/25348] ✅ 저장 완료 (PMCID: PMC12158614)\n",
      "[761/25348] ✅ 저장 완료 (PMCID: PMC12026395)\n"
     ]
    },
    {
     "name": "stderr",
     "output_type": "stream",
     "text": [
      "vitamin 진행:   3%|▎         | 762/25348 [14:12<11:50:57,  1.74s/논문]"
     ]
    },
    {
     "name": "stdout",
     "output_type": "stream",
     "text": [
      "[762/25348] ✅ 저장 완료 (PMCID: PMC12111929)\n",
      "[763/25348] ✅ 저장 완료 (PMCID: PMC12184617)\n"
     ]
    },
    {
     "name": "stderr",
     "output_type": "stream",
     "text": [
      "vitamin 진행:   3%|▎         | 764/25348 [14:15<11:33:20,  1.69s/논문]"
     ]
    },
    {
     "name": "stdout",
     "output_type": "stream",
     "text": [
      "[764/25348] ✅ 저장 완료 (PMCID: PMC11995280)\n",
      "[765/25348] ✅ 저장 완료 (PMCID: PMC12003484)\n"
     ]
    },
    {
     "name": "stderr",
     "output_type": "stream",
     "text": [
      "vitamin 진행:   3%|▎         | 766/25348 [14:20<13:41:04,  2.00s/논문]"
     ]
    },
    {
     "name": "stdout",
     "output_type": "stream",
     "text": [
      "[766/25348] ✅ 저장 완료 (PMCID: PMC12180421)\n"
     ]
    },
    {
     "name": "stderr",
     "output_type": "stream",
     "text": [
      "vitamin 진행:   3%|▎         | 767/25348 [14:21<11:35:09,  1.70s/논문]"
     ]
    },
    {
     "name": "stdout",
     "output_type": "stream",
     "text": [
      "⚠️ abstract section 없음 (PMCID: PMC12075953) → 건너뜀\n",
      "[768/25348] ⚠️ PMCID 없음 → 건너뜀\n",
      "[769/25348] ✅ 저장 완료 (PMCID: PMC12187100)\n"
     ]
    },
    {
     "name": "stderr",
     "output_type": "stream",
     "text": [
      "vitamin 진행:   3%|▎         | 770/25348 [14:25<9:24:46,  1.38s/논문] "
     ]
    },
    {
     "name": "stdout",
     "output_type": "stream",
     "text": [
      "[770/25348] ✅ 저장 완료 (PMCID: PMC12122830)\n"
     ]
    },
    {
     "name": "stderr",
     "output_type": "stream",
     "text": [
      "vitamin 진행:   3%|▎         | 771/25348 [14:26<8:46:37,  1.29s/논문]"
     ]
    },
    {
     "name": "stdout",
     "output_type": "stream",
     "text": [
      "[771/25348] ⚠️ PMCID 없음 → 건너뜀\n",
      "[772/25348] ⚠️ PMCID 없음 → 건너뜀\n",
      "[773/25348] ⚠️ PMCID 없음 → 건너뜀\n",
      "[774/25348] ⚠️ PMCID 없음 → 건너뜀\n",
      "[775/25348] ✅ 저장 완료 (PMCID: PMC12066286)\n"
     ]
    },
    {
     "name": "stderr",
     "output_type": "stream",
     "text": [
      "vitamin 진행:   3%|▎         | 776/25348 [14:30<7:03:21,  1.03s/논문]"
     ]
    },
    {
     "name": "stdout",
     "output_type": "stream",
     "text": [
      "[776/25348] ⚠️ PMCID 없음 → 건너뜀\n",
      "[777/25348] ⚠️ PMCID 없음 → 건너뜀\n"
     ]
    },
    {
     "name": "stderr",
     "output_type": "stream",
     "text": [
      "vitamin 진행:   3%|▎         | 778/25348 [14:31<5:47:05,  1.18논문/s]"
     ]
    },
    {
     "name": "stdout",
     "output_type": "stream",
     "text": [
      "[778/25348] ✅ 저장 완료 (PMCID: PMC12020162)\n",
      "[779/25348] ✅ 저장 완료 (PMCID: PMC12100664)\n"
     ]
    },
    {
     "name": "stderr",
     "output_type": "stream",
     "text": [
      "vitamin 진행:   3%|▎         | 779/25348 [14:33<7:15:58,  1.06s/논문]"
     ]
    },
    {
     "name": "stdout",
     "output_type": "stream",
     "text": [
      "[780/25348] ⚠️ PMCID 없음 → 건너뜀\n"
     ]
    },
    {
     "name": "stderr",
     "output_type": "stream",
     "text": [
      "vitamin 진행:   3%|▎         | 781/25348 [14:34<6:00:39,  1.14논문/s]"
     ]
    },
    {
     "name": "stdout",
     "output_type": "stream",
     "text": [
      "[781/25348] ⚠️ PMCID 없음 → 건너뜀\n"
     ]
    },
    {
     "name": "stderr",
     "output_type": "stream",
     "text": [
      "vitamin 진행:   3%|▎         | 782/25348 [14:35<6:15:33,  1.09논문/s]"
     ]
    },
    {
     "name": "stdout",
     "output_type": "stream",
     "text": [
      "[782/25348] ✅ 저장 완료 (PMCID: PMC11978796)\n",
      "[783/25348] ✅ 저장 완료 (PMCID: PMC11989361)\n"
     ]
    },
    {
     "name": "stderr",
     "output_type": "stream",
     "text": [
      "vitamin 진행:   3%|▎         | 783/25348 [14:38<8:42:06,  1.28s/논문]"
     ]
    },
    {
     "name": "stdout",
     "output_type": "stream",
     "text": [
      "[784/25348] ⚠️ PMCID 없음 → 건너뜀\n",
      "[785/25348] ⚠️ PMCID 없음 → 건너뜀\n"
     ]
    },
    {
     "name": "stderr",
     "output_type": "stream",
     "text": [
      "vitamin 진행:   3%|▎         | 786/25348 [14:40<7:25:29,  1.09s/논문]"
     ]
    },
    {
     "name": "stdout",
     "output_type": "stream",
     "text": [
      "[786/25348] ✅ 저장 완료 (PMCID: PMC12190397)\n",
      "[787/25348] ⚠️ PMCID 없음 → 건너뜀\n",
      "[788/25348] ✅ 저장 완료 (PMCID: PMC12016215)\n"
     ]
    },
    {
     "name": "stderr",
     "output_type": "stream",
     "text": [
      "vitamin 진행:   3%|▎         | 789/25348 [14:44<7:51:51,  1.15s/논문]"
     ]
    },
    {
     "name": "stdout",
     "output_type": "stream",
     "text": [
      "[789/25348] ✅ 저장 완료 (PMCID: PMC11971802)\n",
      "[790/25348] ⚠️ PMCID 없음 → 건너뜀\n",
      "[791/25348] ✅ 저장 완료 (PMCID: PMC12063358)\n"
     ]
    },
    {
     "name": "stderr",
     "output_type": "stream",
     "text": [
      "vitamin 진행:   3%|▎         | 791/25348 [14:47<8:29:42,  1.25s/논문]"
     ]
    },
    {
     "name": "stdout",
     "output_type": "stream",
     "text": [
      "[792/25348] ⚠️ PMCID 없음 → 건너뜀\n"
     ]
    },
    {
     "name": "stderr",
     "output_type": "stream",
     "text": [
      "vitamin 진행:   3%|▎         | 793/25348 [14:48<6:50:54,  1.00s/논문]"
     ]
    },
    {
     "name": "stdout",
     "output_type": "stream",
     "text": [
      "[793/25348] ✅ 저장 완료 (PMCID: PMC12066760)\n",
      "[794/25348] ⚠️ PMCID 없음 → 건너뜀\n",
      "[795/25348] ✅ 저장 완료 (PMCID: PMC12024591)\n"
     ]
    },
    {
     "name": "stderr",
     "output_type": "stream",
     "text": [
      "vitamin 진행:   3%|▎         | 796/25348 [14:53<9:03:27,  1.33s/논문]"
     ]
    },
    {
     "name": "stdout",
     "output_type": "stream",
     "text": [
      "[796/25348] ✅ 저장 완료 (PMCID: PMC11976934)\n",
      "[797/25348] ⚠️ PMCID 없음 → 건너뜀\n"
     ]
    },
    {
     "name": "stderr",
     "output_type": "stream",
     "text": [
      "vitamin 진행:   3%|▎         | 798/25348 [14:54<7:12:26,  1.06s/논문]"
     ]
    },
    {
     "name": "stdout",
     "output_type": "stream",
     "text": [
      "[798/25348] ✅ 저장 완료 (PMCID: PMC12108634)\n",
      "[799/25348] ⚠️ PMCID 없음 → 건너뜀\n",
      "[800/25348] ⚠️ PMCID 없음 → 건너뜀\n",
      "[801/25348] ✅ 저장 완료 (PMCID: PMC12159204)\n"
     ]
    },
    {
     "name": "stderr",
     "output_type": "stream",
     "text": [
      "vitamin 진행:   3%|▎         | 801/25348 [14:58<8:14:31,  1.21s/논문]"
     ]
    },
    {
     "name": "stdout",
     "output_type": "stream",
     "text": [
      "[802/25348] ⚠️ PMCID 없음 → 건너뜀\n"
     ]
    },
    {
     "name": "stderr",
     "output_type": "stream",
     "text": [
      "vitamin 진행:   3%|▎         | 803/25348 [14:59<6:50:08,  1.00s/논문]"
     ]
    },
    {
     "name": "stdout",
     "output_type": "stream",
     "text": [
      "⚠️ abstract section 없음 (PMCID: PMC12055328) → 건너뜀\n",
      "[804/25348] ⚠️ PMCID 없음 → 건너뜀\n"
     ]
    },
    {
     "name": "stderr",
     "output_type": "stream",
     "text": [
      "vitamin 진행:   3%|▎         | 805/25348 [15:00<5:51:10,  1.16논문/s]"
     ]
    },
    {
     "name": "stdout",
     "output_type": "stream",
     "text": [
      "[805/25348] ✅ 저장 완료 (PMCID: PMC12011552)\n"
     ]
    },
    {
     "name": "stderr",
     "output_type": "stream",
     "text": [
      "vitamin 진행:   3%|▎         | 806/25348 [15:01<5:57:04,  1.15논문/s]"
     ]
    },
    {
     "name": "stdout",
     "output_type": "stream",
     "text": [
      "[806/25348] ⚠️ PMCID 없음 → 건너뜀\n",
      "[807/25348] ✅ 저장 완료 (PMCID: PMC12168932)\n"
     ]
    },
    {
     "name": "stderr",
     "output_type": "stream",
     "text": [
      "vitamin 진행:   3%|▎         | 808/25348 [15:04<7:18:54,  1.07s/논문]"
     ]
    },
    {
     "name": "stdout",
     "output_type": "stream",
     "text": [
      "[808/25348] ✅ 저장 완료 (PMCID: PMC11989858)\n",
      "[809/25348] ✅ 저장 완료 (PMCID: PMC11999852)\n"
     ]
    },
    {
     "name": "stderr",
     "output_type": "stream",
     "text": [
      "vitamin 진행:   3%|▎         | 809/25348 [15:07<9:35:22,  1.41s/논문]"
     ]
    },
    {
     "name": "stdout",
     "output_type": "stream",
     "text": [
      "[810/25348] ⚠️ PMCID 없음 → 건너뜀\n"
     ]
    },
    {
     "name": "stderr",
     "output_type": "stream",
     "text": [
      "vitamin 진행:   3%|▎         | 811/25348 [15:08<7:28:01,  1.10s/논문]"
     ]
    },
    {
     "name": "stdout",
     "output_type": "stream",
     "text": [
      "[811/25348] ⚠️ PMCID 없음 → 건너뜀\n",
      "[812/25348] ⚠️ PMCID 없음 → 건너뜀\n"
     ]
    },
    {
     "name": "stderr",
     "output_type": "stream",
     "text": [
      "vitamin 진행:   3%|▎         | 813/25348 [15:09<6:13:40,  1.09논문/s]"
     ]
    },
    {
     "name": "stdout",
     "output_type": "stream",
     "text": [
      "[813/25348] ✅ 저장 완료 (PMCID: PMC12030757)\n",
      "[814/25348] ✅ 저장 완료 (PMCID: PMC12078655)\n"
     ]
    },
    {
     "name": "stderr",
     "output_type": "stream",
     "text": [
      "vitamin 진행:   3%|▎         | 814/25348 [15:12<9:07:53,  1.34s/논문]"
     ]
    },
    {
     "name": "stdout",
     "output_type": "stream",
     "text": [
      "[815/25348] ⚠️ PMCID 없음 → 건너뜀\n"
     ]
    },
    {
     "name": "stderr",
     "output_type": "stream",
     "text": [
      "vitamin 진행:   3%|▎         | 816/25348 [15:14<8:40:10,  1.27s/논문]"
     ]
    },
    {
     "name": "stdout",
     "output_type": "stream",
     "text": [
      "[816/25348] ✅ 저장 완료 (PMCID: PMC12017957)\n",
      "[817/25348] ✅ 저장 완료 (PMCID: PMC12024622)\n"
     ]
    },
    {
     "name": "stderr",
     "output_type": "stream",
     "text": [
      "vitamin 진행:   3%|▎         | 818/25348 [15:18<9:42:05,  1.42s/논문] "
     ]
    },
    {
     "name": "stdout",
     "output_type": "stream",
     "text": [
      "[818/25348] ✅ 저장 완료 (PMCID: PMC11989935)\n",
      "[819/25348] ✅ 저장 완료 (PMCID: PMC12071205)\n"
     ]
    },
    {
     "name": "stderr",
     "output_type": "stream",
     "text": [
      "vitamin 진행:   3%|▎         | 820/25348 [15:22<10:30:21,  1.54s/논문]"
     ]
    },
    {
     "name": "stdout",
     "output_type": "stream",
     "text": [
      "[820/25348] ✅ 저장 완료 (PMCID: PMC12110135)\n"
     ]
    },
    {
     "name": "stderr",
     "output_type": "stream",
     "text": [
      "vitamin 진행:   3%|▎         | 821/25348 [15:24<11:25:06,  1.68s/논문]"
     ]
    },
    {
     "name": "stdout",
     "output_type": "stream",
     "text": [
      "[821/25348] ✅ 저장 완료 (PMCID: PMC11938404)\n",
      "[822/25348] ✅ 저장 완료 (PMCID: PMC12096789)\n"
     ]
    },
    {
     "name": "stderr",
     "output_type": "stream",
     "text": [
      "vitamin 진행:   3%|▎         | 822/25348 [15:26<13:42:17,  2.01s/논문]"
     ]
    },
    {
     "name": "stdout",
     "output_type": "stream",
     "text": [
      "[823/25348] ⚠️ PMCID 없음 → 건너뜀\n",
      "[824/25348] ⚠️ PMCID 없음 → 건너뜀\n",
      "[825/25348] ⚠️ PMCID 없음 → 건너뜀\n"
     ]
    },
    {
     "name": "stderr",
     "output_type": "stream",
     "text": [
      "vitamin 진행:   3%|▎         | 826/25348 [15:28<6:26:29,  1.06논문/s] "
     ]
    },
    {
     "name": "stdout",
     "output_type": "stream",
     "text": [
      "[826/25348] ⚠️ PMCID 없음 → 건너뜀\n",
      "[827/25348] ⚠️ PMCID 없음 → 건너뜀\n",
      "[828/25348] ⚠️ PMCID 없음 → 건너뜀\n",
      "[829/25348] ⚠️ PMCID 없음 → 건너뜀\n"
     ]
    },
    {
     "name": "stderr",
     "output_type": "stream",
     "text": [
      "vitamin 진행:   3%|▎         | 830/25348 [15:29<4:12:57,  1.62논문/s]"
     ]
    },
    {
     "name": "stdout",
     "output_type": "stream",
     "text": [
      "[830/25348] ✅ 저장 완료 (PMCID: PMC12096806)\n"
     ]
    },
    {
     "name": "stderr",
     "output_type": "stream",
     "text": [
      "vitamin 진행:   3%|▎         | 831/25348 [15:30<4:39:17,  1.46논문/s]"
     ]
    },
    {
     "name": "stdout",
     "output_type": "stream",
     "text": [
      "[831/25348] ⚠️ PMCID 없음 → 건너뜀\n",
      "[832/25348] ⚠️ PMCID 없음 → 건너뜀\n",
      "[833/25348] ✅ 저장 완료 (PMCID: PMC11959803)\n"
     ]
    },
    {
     "name": "stderr",
     "output_type": "stream",
     "text": [
      "vitamin 진행:   3%|▎         | 833/25348 [15:33<6:16:38,  1.08논문/s]"
     ]
    },
    {
     "name": "stdout",
     "output_type": "stream",
     "text": [
      "[834/25348] ⚠️ PMCID 없음 → 건너뜀\n",
      "[835/25348] ⚠️ PMCID 없음 → 건너뜀\n"
     ]
    },
    {
     "name": "stderr",
     "output_type": "stream",
     "text": [
      "vitamin 진행:   3%|▎         | 836/25348 [15:34<4:43:22,  1.44논문/s]"
     ]
    },
    {
     "name": "stdout",
     "output_type": "stream",
     "text": [
      "[836/25348] ⚠️ PMCID 없음 → 건너뜀\n"
     ]
    },
    {
     "name": "stderr",
     "output_type": "stream",
     "text": [
      "vitamin 진행:   3%|▎         | 837/25348 [15:35<5:05:58,  1.34논문/s]"
     ]
    },
    {
     "name": "stdout",
     "output_type": "stream",
     "text": [
      "[837/25348] ✅ 저장 완료 (PMCID: PMC12149440)\n",
      "[838/25348] ✅ 저장 완료 (PMCID: PMC12195029)\n"
     ]
    },
    {
     "name": "stderr",
     "output_type": "stream",
     "text": [
      "vitamin 진행:   3%|▎         | 839/25348 [15:38<7:22:47,  1.08s/논문]"
     ]
    },
    {
     "name": "stdout",
     "output_type": "stream",
     "text": [
      "[839/25348] ✅ 저장 완료 (PMCID: PMC12150709)\n",
      "[840/25348] ⚠️ PMCID 없음 → 건너뜀\n",
      "[841/25348] ✅ 저장 완료 (PMCID: PMC12165011)\n"
     ]
    },
    {
     "name": "stderr",
     "output_type": "stream",
     "text": [
      "vitamin 진행:   3%|▎         | 841/25348 [15:41<8:13:37,  1.21s/논문]"
     ]
    },
    {
     "name": "stdout",
     "output_type": "stream",
     "text": [
      "[842/25348] ⚠️ PMCID 없음 → 건너뜀\n"
     ]
    },
    {
     "name": "stderr",
     "output_type": "stream",
     "text": [
      "vitamin 진행:   3%|▎         | 843/25348 [15:43<6:57:40,  1.02s/논문]"
     ]
    },
    {
     "name": "stdout",
     "output_type": "stream",
     "text": [
      "[843/25348] ✅ 저장 완료 (PMCID: PMC12113821)\n",
      "[844/25348] ✅ 저장 완료 (PMCID: PMC12060077)\n"
     ]
    },
    {
     "name": "stderr",
     "output_type": "stream",
     "text": [
      "vitamin 진행:   3%|▎         | 845/25348 [15:48<10:37:08,  1.56s/논문]"
     ]
    },
    {
     "name": "stdout",
     "output_type": "stream",
     "text": [
      "[845/25348] ✅ 저장 완료 (PMCID: PMC12168266)\n"
     ]
    },
    {
     "name": "stderr",
     "output_type": "stream",
     "text": [
      "vitamin 진행:   3%|▎         | 846/25348 [15:49<9:46:19,  1.44s/논문] "
     ]
    },
    {
     "name": "stdout",
     "output_type": "stream",
     "text": [
      "[846/25348] ⚠️ 이미 저장된 논문 건너뜀 (PMCID: PMC12168266)\n",
      "[847/25348] ⚠️ PMCID 없음 → 건너뜀\n",
      "[848/25348] ⚠️ PMCID 없음 → 건너뜀\n",
      "[849/25348] ✅ 저장 완료 (PMCID: PMC12065735)\n"
     ]
    },
    {
     "name": "stderr",
     "output_type": "stream",
     "text": [
      "vitamin 진행:   3%|▎         | 849/25348 [15:51<7:22:23,  1.08s/논문]"
     ]
    },
    {
     "name": "stdout",
     "output_type": "stream",
     "text": [
      "[850/25348] ⚠️ PMCID 없음 → 건너뜀\n"
     ]
    },
    {
     "name": "stderr",
     "output_type": "stream",
     "text": [
      "vitamin 진행:   3%|▎         | 851/25348 [15:53<7:16:08,  1.07s/논문]"
     ]
    },
    {
     "name": "stdout",
     "output_type": "stream",
     "text": [
      "[851/25348] ✅ 저장 완료 (PMCID: PMC12170426)\n",
      "[852/25348] ⚠️ PMCID 없음 → 건너뜀\n",
      "[853/25348] ✅ 저장 완료 (PMCID: PMC12011748)\n"
     ]
    },
    {
     "name": "stderr",
     "output_type": "stream",
     "text": [
      "vitamin 진행:   3%|▎         | 854/25348 [15:57<7:56:07,  1.17s/논문]"
     ]
    },
    {
     "name": "stdout",
     "output_type": "stream",
     "text": [
      "[854/25348] ✅ 저장 완료 (PMCID: PMC12137181)\n"
     ]
    },
    {
     "name": "stderr",
     "output_type": "stream",
     "text": [
      "vitamin 진행:   3%|▎         | 855/25348 [15:58<7:43:37,  1.14s/논문]"
     ]
    },
    {
     "name": "stdout",
     "output_type": "stream",
     "text": [
      "[855/25348] ✅ 저장 완료 (PMCID: PMC12126994)\n",
      "[856/25348] ✅ 저장 완료 (PMCID: PMC12176710)\n"
     ]
    },
    {
     "name": "stderr",
     "output_type": "stream",
     "text": [
      "vitamin 진행:   3%|▎         | 857/25348 [16:03<10:47:42,  1.59s/논문]"
     ]
    },
    {
     "name": "stdout",
     "output_type": "stream",
     "text": [
      "[857/25348] ✅ 저장 완료 (PMCID: PMC11959628)\n",
      "[858/25348] ✅ 저장 완료 (PMCID: PMC12094480)\n"
     ]
    },
    {
     "name": "stderr",
     "output_type": "stream",
     "text": [
      "vitamin 진행:   3%|▎         | 859/25348 [16:07<11:01:23,  1.62s/논문]"
     ]
    },
    {
     "name": "stdout",
     "output_type": "stream",
     "text": [
      "[859/25348] ✅ 저장 완료 (PMCID: PMC12181329)\n",
      "[860/25348] ⚠️ PMCID 없음 → 건너뜀\n"
     ]
    },
    {
     "name": "stderr",
     "output_type": "stream",
     "text": [
      "vitamin 진행:   3%|▎         | 861/25348 [16:08<7:37:11,  1.12s/논문] "
     ]
    },
    {
     "name": "stdout",
     "output_type": "stream",
     "text": [
      "[861/25348] ⚠️ PMCID 없음 → 건너뜀\n",
      "[862/25348] ⚠️ PMCID 없음 → 건너뜀\n"
     ]
    },
    {
     "name": "stderr",
     "output_type": "stream",
     "text": [
      "vitamin 진행:   3%|▎         | 863/25348 [16:09<5:55:28,  1.15논문/s]"
     ]
    },
    {
     "name": "stdout",
     "output_type": "stream",
     "text": [
      "⚠️ abstract section 없음 (PMCID: PMC12062065) → 건너뜀\n",
      "[864/25348] ⚠️ PMCID 없음 → 건너뜀\n",
      "[865/25348] ⚠️ PMCID 없음 → 건너뜀\n",
      "[866/25348] ✅ 저장 완료 (PMCID: PMC12131923)\n"
     ]
    },
    {
     "name": "stderr",
     "output_type": "stream",
     "text": [
      "vitamin 진행:   3%|▎         | 866/25348 [16:12<6:40:58,  1.02논문/s]"
     ]
    },
    {
     "name": "stdout",
     "output_type": "stream",
     "text": [
      "[867/25348] ⚠️ PMCID 없음 → 건너뜀\n",
      "[868/25348] ⚠️ PMCID 없음 → 건너뜀\n"
     ]
    },
    {
     "name": "stderr",
     "output_type": "stream",
     "text": [
      "vitamin 진행:   3%|▎         | 869/25348 [16:13<5:01:20,  1.35논문/s]"
     ]
    },
    {
     "name": "stdout",
     "output_type": "stream",
     "text": [
      "[869/25348] ✅ 저장 완료 (PMCID: PMC12166187)\n",
      "[870/25348] ✅ 저장 완료 (PMCID: PMC11979876)\n"
     ]
    },
    {
     "name": "stderr",
     "output_type": "stream",
     "text": [
      "vitamin 진행:   3%|▎         | 871/25348 [16:16<6:20:58,  1.07논문/s]"
     ]
    },
    {
     "name": "stdout",
     "output_type": "stream",
     "text": [
      "[871/25348] ⚠️ PMCID 없음 → 건너뜀\n"
     ]
    },
    {
     "name": "stderr",
     "output_type": "stream",
     "text": [
      "vitamin 진행:   3%|▎         | 872/25348 [16:17<6:20:36,  1.07논문/s]"
     ]
    },
    {
     "name": "stdout",
     "output_type": "stream",
     "text": [
      "[872/25348] ✅ 저장 완료 (PMCID: PMC12008557)\n",
      "[873/25348] ✅ 저장 완료 (PMCID: PMC12075633)\n"
     ]
    },
    {
     "name": "stderr",
     "output_type": "stream",
     "text": [
      "vitamin 진행:   3%|▎         | 874/25348 [16:20<8:01:49,  1.18s/논문]"
     ]
    },
    {
     "name": "stdout",
     "output_type": "stream",
     "text": [
      "[874/25348] ✅ 저장 완료 (PMCID: PMC12168555)\n",
      "[875/25348] ✅ 저장 완료 (PMCID: PMC12098110)\n"
     ]
    },
    {
     "name": "stderr",
     "output_type": "stream",
     "text": [
      "vitamin 진행:   3%|▎         | 876/25348 [16:25<11:21:08,  1.67s/논문]"
     ]
    },
    {
     "name": "stdout",
     "output_type": "stream",
     "text": [
      "[876/25348] ✅ 저장 완료 (PMCID: PMC11960744)\n",
      "[877/25348] ✅ 저장 완료 (PMCID: PMC11974234)\n"
     ]
    },
    {
     "name": "stderr",
     "output_type": "stream",
     "text": [
      "vitamin 진행:   3%|▎         | 877/25348 [16:28<13:41:07,  2.01s/논문]"
     ]
    },
    {
     "name": "stdout",
     "output_type": "stream",
     "text": [
      "[878/25348] ⚠️ PMCID 없음 → 건너뜀\n",
      "[879/25348] ⚠️ PMCID 없음 → 건너뜀\n"
     ]
    },
    {
     "name": "stderr",
     "output_type": "stream",
     "text": [
      "vitamin 진행:   3%|▎         | 880/25348 [16:29<7:27:23,  1.10s/논문] "
     ]
    },
    {
     "name": "stdout",
     "output_type": "stream",
     "text": [
      "[880/25348] ✅ 저장 완료 (PMCID: PMC12070509)\n"
     ]
    },
    {
     "name": "stderr",
     "output_type": "stream",
     "text": [
      "vitamin 진행:   3%|▎         | 881/25348 [16:30<7:21:02,  1.08s/논문]"
     ]
    },
    {
     "name": "stdout",
     "output_type": "stream",
     "text": [
      "[881/25348] ⚠️ PMCID 없음 → 건너뜀\n",
      "[882/25348] ✅ 저장 완료 (PMCID: PMC12025172)\n"
     ]
    },
    {
     "name": "stderr",
     "output_type": "stream",
     "text": [
      "vitamin 진행:   3%|▎         | 882/25348 [16:32<9:23:57,  1.38s/논문]"
     ]
    },
    {
     "name": "stdout",
     "output_type": "stream",
     "text": [
      "[883/25348] ⚠️ PMCID 없음 → 건너뜀\n"
     ]
    },
    {
     "name": "stderr",
     "output_type": "stream",
     "text": [
      "vitamin 진행:   3%|▎         | 884/25348 [16:33<7:06:32,  1.05s/논문]"
     ]
    },
    {
     "name": "stdout",
     "output_type": "stream",
     "text": [
      "[884/25348] ✅ 저장 완료 (PMCID: PMC12105855)\n",
      "[885/25348] ✅ 저장 완료 (PMCID: PMC12060342)\n"
     ]
    },
    {
     "name": "stderr",
     "output_type": "stream",
     "text": [
      "vitamin 진행:   3%|▎         | 886/25348 [16:37<8:36:37,  1.27s/논문]"
     ]
    },
    {
     "name": "stdout",
     "output_type": "stream",
     "text": [
      "[886/25348] ⚠️ PMCID 없음 → 건너뜀\n",
      "[887/25348] ⚠️ PMCID 없음 → 건너뜀\n",
      "[888/25348] ⚠️ PMCID 없음 → 건너뜀\n",
      "[889/25348] ⚠️ PMCID 없음 → 건너뜀\n",
      "[890/25348] ⚠️ PMCID 없음 → 건너뜀\n"
     ]
    },
    {
     "name": "stderr",
     "output_type": "stream",
     "text": [
      "vitamin 진행:   4%|▎         | 891/25348 [16:38<4:00:24,  1.70논문/s]"
     ]
    },
    {
     "name": "stdout",
     "output_type": "stream",
     "text": [
      "[891/25348] ⚠️ PMCID 없음 → 건너뜀\n",
      "[892/25348] ⚠️ PMCID 없음 → 건너뜀\n",
      "[893/25348] ⚠️ PMCID 없음 → 건너뜀\n",
      "[894/25348] ⚠️ PMCID 없음 → 건너뜀\n"
     ]
    },
    {
     "name": "stderr",
     "output_type": "stream",
     "text": [
      "vitamin 진행:   4%|▎         | 895/25348 [16:39<3:06:37,  2.18논문/s]"
     ]
    },
    {
     "name": "stdout",
     "output_type": "stream",
     "text": [
      "[895/25348] ✅ 저장 완료 (PMCID: PMC12013678)\n",
      "[896/25348] ✅ 저장 완료 (PMCID: PMC11990331)\n"
     ]
    },
    {
     "name": "stderr",
     "output_type": "stream",
     "text": [
      "vitamin 진행:   4%|▎         | 896/25348 [16:43<6:15:58,  1.08논문/s]"
     ]
    },
    {
     "name": "stdout",
     "output_type": "stream",
     "text": [
      "[897/25348] ⚠️ PMCID 없음 → 건너뜀\n",
      "[898/25348] ⚠️ PMCID 없음 → 건너뜀\n"
     ]
    },
    {
     "name": "stderr",
     "output_type": "stream",
     "text": [
      "vitamin 진행:   4%|▎         | 899/25348 [16:44<4:48:31,  1.41논문/s]"
     ]
    },
    {
     "name": "stdout",
     "output_type": "stream",
     "text": [
      "[899/25348] ✅ 저장 완료 (PMCID: PMC12074839)\n",
      "[900/25348] ⚠️ PMCID 없음 → 건너뜀\n"
     ]
    },
    {
     "name": "stderr",
     "output_type": "stream",
     "text": [
      "vitamin 진행:   4%|▎         | 901/25348 [16:45<4:27:33,  1.52논문/s]"
     ]
    },
    {
     "name": "stdout",
     "output_type": "stream",
     "text": [
      "[901/25348] ⚠️ PMCID 없음 → 건너뜀\n"
     ]
    },
    {
     "name": "stderr",
     "output_type": "stream",
     "text": [
      "vitamin 진행:   4%|▎         | 902/25348 [16:46<4:51:00,  1.40논문/s]"
     ]
    },
    {
     "name": "stdout",
     "output_type": "stream",
     "text": [
      "[902/25348] ✅ 저장 완료 (PMCID: PMC12092224)\n",
      "[903/25348] ✅ 저장 완료 (PMCID: PMC11990647)\n"
     ]
    },
    {
     "name": "stderr",
     "output_type": "stream",
     "text": [
      "vitamin 진행:   4%|▎         | 904/25348 [16:49<7:07:48,  1.05s/논문]"
     ]
    },
    {
     "name": "stdout",
     "output_type": "stream",
     "text": [
      "[904/25348] ✅ 저장 완료 (PMCID: PMC12100521)\n",
      "[905/25348] ✅ 저장 완료 (PMCID: PMC12058780)\n"
     ]
    },
    {
     "name": "stderr",
     "output_type": "stream",
     "text": [
      "vitamin 진행:   4%|▎         | 906/25348 [16:52<8:14:27,  1.21s/논문]"
     ]
    },
    {
     "name": "stdout",
     "output_type": "stream",
     "text": [
      "[906/25348] ⚠️ PMCID 없음 → 건너뜀\n",
      "[907/25348] ⚠️ PMCID 없음 → 건너뜀\n",
      "[908/25348] ⚠️ PMCID 없음 → 건너뜀\n"
     ]
    },
    {
     "name": "stderr",
     "output_type": "stream",
     "text": [
      "vitamin 진행:   4%|▎         | 909/25348 [16:54<5:26:31,  1.25논문/s]"
     ]
    },
    {
     "name": "stdout",
     "output_type": "stream",
     "text": [
      "[909/25348] ✅ 저장 완료 (PMCID: PMC11970441)\n",
      "[910/25348] ✅ 저장 완료 (PMCID: PMC12196508)\n"
     ]
    },
    {
     "name": "stderr",
     "output_type": "stream",
     "text": [
      "vitamin 진행:   4%|▎         | 911/25348 [16:58<9:05:29,  1.34s/논문]"
     ]
    },
    {
     "name": "stdout",
     "output_type": "stream",
     "text": [
      "[911/25348] ✅ 저장 완료 (PMCID: PMC12030474)\n",
      "[912/25348] ✅ 저장 완료 (PMCID: PMC12024542)\n"
     ]
    },
    {
     "name": "stderr",
     "output_type": "stream",
     "text": [
      "vitamin 진행:   4%|▎         | 912/25348 [17:01<11:41:29,  1.72s/논문]"
     ]
    },
    {
     "name": "stdout",
     "output_type": "stream",
     "text": [
      "[913/25348] ⚠️ PMCID 없음 → 건너뜀\n"
     ]
    },
    {
     "name": "stderr",
     "output_type": "stream",
     "text": [
      "vitamin 진행:   4%|▎         | 914/25348 [17:02<8:18:17,  1.22s/논문] "
     ]
    },
    {
     "name": "stdout",
     "output_type": "stream",
     "text": [
      "[914/25348] ✅ 저장 완료 (PMCID: PMC11985434)\n",
      "[915/25348] ✅ 저장 완료 (PMCID: PMC12044988)\n"
     ]
    },
    {
     "name": "stderr",
     "output_type": "stream",
     "text": [
      "vitamin 진행:   4%|▎         | 916/25348 [17:06<9:30:07,  1.40s/논문] "
     ]
    },
    {
     "name": "stdout",
     "output_type": "stream",
     "text": [
      "[916/25348] ⚠️ PMCID 없음 → 건너뜀\n",
      "[917/25348] ⚠️ PMCID 없음 → 건너뜀\n"
     ]
    },
    {
     "name": "stderr",
     "output_type": "stream",
     "text": [
      "vitamin 진행:   4%|▎         | 918/25348 [17:07<7:03:34,  1.04s/논문]"
     ]
    },
    {
     "name": "stdout",
     "output_type": "stream",
     "text": [
      "[918/25348] ✅ 저장 완료 (PMCID: PMC11990303)\n",
      "[919/25348] ⚠️ PMCID 없음 → 건너뜀\n",
      "[920/25348] ✅ 저장 완료 (PMCID: PMC11994742)\n"
     ]
    },
    {
     "name": "stderr",
     "output_type": "stream",
     "text": [
      "vitamin 진행:   4%|▎         | 921/25348 [17:10<7:36:05,  1.12s/논문]"
     ]
    },
    {
     "name": "stdout",
     "output_type": "stream",
     "text": [
      "[921/25348] ⚠️ PMCID 없음 → 건너뜀\n"
     ]
    },
    {
     "name": "stderr",
     "output_type": "stream",
     "text": [
      "vitamin 진행:   4%|▎         | 922/25348 [17:11<7:23:32,  1.09s/논문]"
     ]
    },
    {
     "name": "stdout",
     "output_type": "stream",
     "text": [
      "[922/25348] ✅ 저장 완료 (PMCID: PMC11937488)\n"
     ]
    },
    {
     "name": "stderr",
     "output_type": "stream",
     "text": [
      "vitamin 진행:   4%|▎         | 923/25348 [17:12<7:05:37,  1.05s/논문]"
     ]
    },
    {
     "name": "stdout",
     "output_type": "stream",
     "text": [
      "[923/25348] ✅ 저장 완료 (PMCID: PMC11988781)\n",
      "[924/25348] ✅ 저장 완료 (PMCID: PMC12027465)\n"
     ]
    },
    {
     "name": "stderr",
     "output_type": "stream",
     "text": [
      "vitamin 진행:   4%|▎         | 925/25348 [17:16<9:00:46,  1.33s/논문]"
     ]
    },
    {
     "name": "stdout",
     "output_type": "stream",
     "text": [
      "[925/25348] ✅ 저장 완료 (PMCID: PMC12004335)\n"
     ]
    },
    {
     "name": "stderr",
     "output_type": "stream",
     "text": [
      "vitamin 진행:   4%|▎         | 926/25348 [17:17<8:21:53,  1.23s/논문]"
     ]
    },
    {
     "name": "stdout",
     "output_type": "stream",
     "text": [
      "[926/25348] ⚠️ PMCID 없음 → 건너뜀\n",
      "[927/25348] ⚠️ PMCID 없음 → 건너뜀\n",
      "[928/25348] ✅ 저장 완료 (PMCID: PMC12036668)\n"
     ]
    },
    {
     "name": "stderr",
     "output_type": "stream",
     "text": [
      "vitamin 진행:   4%|▎         | 928/25348 [17:19<8:28:41,  1.25s/논문]"
     ]
    },
    {
     "name": "stdout",
     "output_type": "stream",
     "text": [
      "[929/25348] ⚠️ PMCID 없음 → 건너뜀\n"
     ]
    },
    {
     "name": "stderr",
     "output_type": "stream",
     "text": [
      "vitamin 진행:   4%|▎         | 930/25348 [17:20<6:27:58,  1.05논문/s]"
     ]
    },
    {
     "name": "stdout",
     "output_type": "stream",
     "text": [
      "[930/25348] ✅ 저장 완료 (PMCID: PMC12024738)\n"
     ]
    },
    {
     "name": "stderr",
     "output_type": "stream",
     "text": [
      "vitamin 진행:   4%|▎         | 931/25348 [17:22<7:57:35,  1.17s/논문]"
     ]
    },
    {
     "name": "stdout",
     "output_type": "stream",
     "text": [
      "⚠️ abstract section 없음 (PMCID: PMC12169022) → 건너뜀\n",
      "[932/25348] ⚠️ PMCID 없음 → 건너뜀\n",
      "[933/25348] ✅ 저장 완료 (PMCID: PMC11950963)\n"
     ]
    },
    {
     "name": "stderr",
     "output_type": "stream",
     "text": [
      "vitamin 진행:   4%|▎         | 933/25348 [17:26<9:10:51,  1.35s/논문]"
     ]
    },
    {
     "name": "stdout",
     "output_type": "stream",
     "text": [
      "[934/25348] ⚠️ PMCID 없음 → 건너뜀\n",
      "[935/25348] ⚠️ PMCID 없음 → 건너뜀\n"
     ]
    },
    {
     "name": "stderr",
     "output_type": "stream",
     "text": [
      "vitamin 진행:   4%|▎         | 936/25348 [17:26<6:00:34,  1.13논문/s]"
     ]
    },
    {
     "name": "stdout",
     "output_type": "stream",
     "text": [
      "[936/25348] ⚠️ PMCID 없음 → 건너뜀\n",
      "[937/25348] ⚠️ PMCID 없음 → 건너뜀\n",
      "[938/25348] ⚠️ PMCID 없음 → 건너뜀\n",
      "[939/25348] ⚠️ PMCID 없음 → 건너뜀\n",
      "[940/25348] ⚠️ PMCID 없음 → 건너뜀\n"
     ]
    },
    {
     "name": "stderr",
     "output_type": "stream",
     "text": [
      "vitamin 진행:   4%|▎         | 941/25348 [17:29<4:28:31,  1.51논문/s]"
     ]
    },
    {
     "name": "stdout",
     "output_type": "stream",
     "text": [
      "[941/25348] ✅ 저장 완료 (PMCID: PMC12041399)\n",
      "[942/25348] ✅ 저장 완료 (PMCID: PMC12195952)\n"
     ]
    },
    {
     "name": "stderr",
     "output_type": "stream",
     "text": [
      "vitamin 진행:   4%|▎         | 943/25348 [17:33<6:31:51,  1.04논문/s]"
     ]
    },
    {
     "name": "stdout",
     "output_type": "stream",
     "text": [
      "[943/25348] ✅ 저장 완료 (PMCID: PMC11995655)\n",
      "[944/25348] ⚠️ PMCID 없음 → 건너뜀\n",
      "[945/25348] ✅ 저장 완료 (PMCID: PMC12009694)\n"
     ]
    },
    {
     "name": "stderr",
     "output_type": "stream",
     "text": [
      "vitamin 진행:   4%|▎         | 946/25348 [17:37<8:20:40,  1.23s/논문]"
     ]
    },
    {
     "name": "stdout",
     "output_type": "stream",
     "text": [
      "[946/25348] ✅ 저장 완료 (PMCID: PMC12072334)\n"
     ]
    },
    {
     "name": "stderr",
     "output_type": "stream",
     "text": [
      "vitamin 진행:   4%|▎         | 947/25348 [17:38<8:02:14,  1.19s/논문]"
     ]
    },
    {
     "name": "stdout",
     "output_type": "stream",
     "text": [
      "[947/25348] ✅ 저장 완료 (PMCID: PMC12055844)\n",
      "[948/25348] ✅ 저장 완료 (PMCID: PMC12126287)\n"
     ]
    },
    {
     "name": "stderr",
     "output_type": "stream",
     "text": [
      "vitamin 진행:   4%|▎         | 949/25348 [17:42<10:00:04,  1.48s/논문]"
     ]
    },
    {
     "name": "stdout",
     "output_type": "stream",
     "text": [
      "[949/25348] ✅ 저장 완료 (PMCID: PMC12187499)\n",
      "[950/25348] ⚠️ PMCID 없음 → 건너뜀\n",
      "[951/25348] ✅ 저장 완료 (PMCID: PMC12146283)\n"
     ]
    },
    {
     "name": "stderr",
     "output_type": "stream",
     "text": [
      "vitamin 진행:   4%|▍         | 952/25348 [17:46<9:07:03,  1.35s/논문] "
     ]
    },
    {
     "name": "stdout",
     "output_type": "stream",
     "text": [
      "[952/25348] ✅ 저장 완료 (PMCID: PMC12027676)\n"
     ]
    },
    {
     "name": "stderr",
     "output_type": "stream",
     "text": [
      "vitamin 진행:   4%|▍         | 953/25348 [17:47<8:34:40,  1.27s/논문]"
     ]
    },
    {
     "name": "stdout",
     "output_type": "stream",
     "text": [
      "[953/25348] ✅ 저장 완료 (PMCID: PMC11964327)\n",
      "[954/25348] ✅ 저장 완료 (PMCID: PMC12007807)\n"
     ]
    },
    {
     "name": "stderr",
     "output_type": "stream",
     "text": [
      "vitamin 진행:   4%|▍         | 954/25348 [17:50<11:36:48,  1.71s/논문]"
     ]
    },
    {
     "name": "stdout",
     "output_type": "stream",
     "text": [
      "[955/25348] ⚠️ PMCID 없음 → 건너뜀\n"
     ]
    },
    {
     "name": "stderr",
     "output_type": "stream",
     "text": [
      "vitamin 진행:   4%|▍         | 956/25348 [17:51<8:07:24,  1.20s/논문] "
     ]
    },
    {
     "name": "stdout",
     "output_type": "stream",
     "text": [
      "[956/25348] ⚠️ PMCID 없음 → 건너뜀\n",
      "[957/25348] ⚠️ PMCID 없음 → 건너뜀\n"
     ]
    },
    {
     "name": "stderr",
     "output_type": "stream",
     "text": [
      "vitamin 진행:   4%|▍         | 958/25348 [17:52<6:27:12,  1.05논문/s]"
     ]
    },
    {
     "name": "stdout",
     "output_type": "stream",
     "text": [
      "[958/25348] ✅ 저장 완료 (PMCID: PMC12173889)\n",
      "[959/25348] ✅ 저장 완료 (PMCID: PMC12010498)\n"
     ]
    },
    {
     "name": "stderr",
     "output_type": "stream",
     "text": [
      "vitamin 진행:   4%|▍         | 960/25348 [17:56<8:46:51,  1.30s/논문]"
     ]
    },
    {
     "name": "stdout",
     "output_type": "stream",
     "text": [
      "[960/25348] ✅ 저장 완료 (PMCID: PMC12138438)\n",
      "[961/25348] ✅ 저장 완료 (PMCID: PMC12105173)\n"
     ]
    },
    {
     "name": "stderr",
     "output_type": "stream",
     "text": [
      "vitamin 진행:   4%|▍         | 961/25348 [18:00<13:43:10,  2.03s/논문]"
     ]
    },
    {
     "name": "stdout",
     "output_type": "stream",
     "text": [
      "[962/25348] ⚠️ PMCID 없음 → 건너뜀\n"
     ]
    },
    {
     "name": "stderr",
     "output_type": "stream",
     "text": [
      "vitamin 진행:   4%|▍         | 963/25348 [18:02<9:53:22,  1.46s/논문] "
     ]
    },
    {
     "name": "stdout",
     "output_type": "stream",
     "text": [
      "[963/25348] ✅ 저장 완료 (PMCID: PMC12114293)\n",
      "[964/25348] ⚠️ PMCID 없음 → 건너뜀\n",
      "[965/25348] ✅ 저장 완료 (PMCID: PMC12193184)\n"
     ]
    },
    {
     "name": "stderr",
     "output_type": "stream",
     "text": [
      "vitamin 진행:   4%|▍         | 966/25348 [18:06<9:35:47,  1.42s/논문] "
     ]
    },
    {
     "name": "stdout",
     "output_type": "stream",
     "text": [
      "[966/25348] ⚠️ PMCID 없음 → 건너뜀\n",
      "[967/25348] ⚠️ PMCID 없음 → 건너뜀\n"
     ]
    },
    {
     "name": "stderr",
     "output_type": "stream",
     "text": [
      "vitamin 진행:   4%|▍         | 968/25348 [18:07<7:18:54,  1.08s/논문]"
     ]
    },
    {
     "name": "stdout",
     "output_type": "stream",
     "text": [
      "[968/25348] ✅ 저장 완료 (PMCID: PMC12058473)\n",
      "[969/25348] ⚠️ PMCID 없음 → 건너뜀\n",
      "[970/25348] ⚠️ PMCID 없음 → 건너뜀\n"
     ]
    },
    {
     "name": "stderr",
     "output_type": "stream",
     "text": [
      "vitamin 진행:   4%|▍         | 971/25348 [18:08<5:04:51,  1.33논문/s]"
     ]
    },
    {
     "name": "stdout",
     "output_type": "stream",
     "text": [
      "[971/25348] ⚠️ PMCID 없음 → 건너뜀\n",
      "[972/25348] ⚠️ PMCID 없음 → 건너뜀\n",
      "[973/25348] ⚠️ PMCID 없음 → 건너뜀\n",
      "[974/25348] ⚠️ PMCID 없음 → 건너뜀\n"
     ]
    },
    {
     "name": "stderr",
     "output_type": "stream",
     "text": [
      "vitamin 진행:   4%|▍         | 975/25348 [18:09<3:41:19,  1.84논문/s]"
     ]
    },
    {
     "name": "stdout",
     "output_type": "stream",
     "text": [
      "[975/25348] ✅ 저장 완료 (PMCID: PMC12119400)\n"
     ]
    },
    {
     "name": "stderr",
     "output_type": "stream",
     "text": [
      "vitamin 진행:   4%|▍         | 976/25348 [18:11<4:21:54,  1.55논문/s]"
     ]
    },
    {
     "name": "stdout",
     "output_type": "stream",
     "text": [
      "[976/25348] ⚠️ PMCID 없음 → 건너뜀\n",
      "[977/25348] ✅ 저장 완료 (PMCID: PMC11990587)\n"
     ]
    },
    {
     "name": "stderr",
     "output_type": "stream",
     "text": [
      "vitamin 진행:   4%|▍         | 978/25348 [18:14<6:38:06,  1.02논문/s]"
     ]
    },
    {
     "name": "stdout",
     "output_type": "stream",
     "text": [
      "[978/25348] ✅ 저장 완료 (PMCID: PMC12030027)\n",
      "[979/25348] ⚠️ PMCID 없음 → 건너뜀\n",
      "[980/25348] ✅ 저장 완료 (PMCID: PMC12073779)\n"
     ]
    },
    {
     "name": "stderr",
     "output_type": "stream",
     "text": [
      "vitamin 진행:   4%|▍         | 981/25348 [18:19<9:04:17,  1.34s/논문]"
     ]
    },
    {
     "name": "stdout",
     "output_type": "stream",
     "text": [
      "[981/25348] ✅ 저장 완료 (PMCID: PMC12103314)\n",
      "[982/25348] ⚠️ PMCID 없음 → 건너뜀\n",
      "[983/25348] ✅ 저장 완료 (PMCID: PMC11996644)\n"
     ]
    },
    {
     "name": "stderr",
     "output_type": "stream",
     "text": [
      "vitamin 진행:   4%|▍         | 983/25348 [18:22<9:07:17,  1.35s/논문]"
     ]
    },
    {
     "name": "stdout",
     "output_type": "stream",
     "text": [
      "[984/25348] ⚠️ PMCID 없음 → 건너뜀\n"
     ]
    },
    {
     "name": "stderr",
     "output_type": "stream",
     "text": [
      "vitamin 진행:   4%|▍         | 985/25348 [18:23<7:08:54,  1.06s/논문]"
     ]
    },
    {
     "name": "stdout",
     "output_type": "stream",
     "text": [
      "[985/25348] ✅ 저장 완료 (PMCID: PMC12066156)\n"
     ]
    },
    {
     "name": "stderr",
     "output_type": "stream",
     "text": [
      "vitamin 진행:   4%|▍         | 986/25348 [18:24<7:04:04,  1.04s/논문]"
     ]
    },
    {
     "name": "stdout",
     "output_type": "stream",
     "text": [
      "[986/25348] ⚠️ PMCID 없음 → 건너뜀\n",
      "[987/25348] ✅ 저장 완료 (PMCID: PMC12125793)\n"
     ]
    },
    {
     "name": "stderr",
     "output_type": "stream",
     "text": [
      "vitamin 진행:   4%|▍         | 988/25348 [18:27<8:36:52,  1.27s/논문]"
     ]
    },
    {
     "name": "stdout",
     "output_type": "stream",
     "text": [
      "[988/25348] ✅ 저장 완료 (PMCID: PMC11996766)\n",
      "[989/25348] ✅ 저장 완료 (PMCID: PMC11990105)\n"
     ]
    },
    {
     "name": "stderr",
     "output_type": "stream",
     "text": [
      "vitamin 진행:   4%|▍         | 990/25348 [18:31<9:36:37,  1.42s/논문]"
     ]
    },
    {
     "name": "stdout",
     "output_type": "stream",
     "text": [
      "[990/25348] ✅ 저장 완료 (PMCID: PMC11941677)\n"
     ]
    },
    {
     "name": "stderr",
     "output_type": "stream",
     "text": [
      "vitamin 진행:   4%|▍         | 991/25348 [18:32<8:49:19,  1.30s/논문]"
     ]
    },
    {
     "name": "stdout",
     "output_type": "stream",
     "text": [
      "[991/25348] ⚠️ PMCID 없음 → 건너뜀\n",
      "[992/25348] ⚠️ PMCID 없음 → 건너뜀\n",
      "[993/25348] ✅ 저장 완료 (PMCID: PMC11990291)\n"
     ]
    },
    {
     "name": "stderr",
     "output_type": "stream",
     "text": [
      "vitamin 진행:   4%|▍         | 993/25348 [18:35<9:12:46,  1.36s/논문]"
     ]
    },
    {
     "name": "stdout",
     "output_type": "stream",
     "text": [
      "[994/25348] ⚠️ PMCID 없음 → 건너뜀\n",
      "[995/25348] ⚠️ PMCID 없음 → 건너뜀\n"
     ]
    },
    {
     "name": "stderr",
     "output_type": "stream",
     "text": [
      "vitamin 진행:   4%|▍         | 996/25348 [18:37<6:57:25,  1.03s/논문]"
     ]
    },
    {
     "name": "stdout",
     "output_type": "stream",
     "text": [
      "[996/25348] ✅ 저장 완료 (PMCID: PMC12010068)\n",
      "[997/25348] ⚠️ PMCID 없음 → 건너뜀\n",
      "[998/25348] ⚠️ PMCID 없음 → 건너뜀\n",
      "[999/25348] ✅ 저장 완료 (PMCID: PMC12048171)\n"
     ]
    },
    {
     "name": "stderr",
     "output_type": "stream",
     "text": [
      "vitamin 진행:   4%|▍         | 1000/25348 [18:40<6:43:04,  1.01논문/s]"
     ]
    },
    {
     "name": "stdout",
     "output_type": "stream",
     "text": [
      "[1000/25348] ✅ 저장 완료 (PMCID: PMC12049779)\n",
      "[1001/25348] ✅ 저장 완료 (PMCID: PMC11974461)\n"
     ]
    },
    {
     "name": "stderr",
     "output_type": "stream",
     "text": [
      "vitamin 진행:   4%|▍         | 1001/25348 [18:44<9:45:14,  1.44s/논문]"
     ]
    },
    {
     "name": "stdout",
     "output_type": "stream",
     "text": [
      "[1002/25348] ⚠️ PMCID 없음 → 건너뜀\n"
     ]
    },
    {
     "name": "stderr",
     "output_type": "stream",
     "text": [
      "vitamin 진행:   4%|▍         | 1003/25348 [18:45<7:32:26,  1.12s/논문]"
     ]
    },
    {
     "name": "stdout",
     "output_type": "stream",
     "text": [
      "[1003/25348] ✅ 저장 완료 (PMCID: PMC12107642)\n",
      "[1004/25348] ⚠️ PMCID 없음 → 건너뜀\n",
      "[1005/25348] ✅ 저장 완료 (PMCID: PMC12060334)\n"
     ]
    },
    {
     "name": "stderr",
     "output_type": "stream",
     "text": [
      "vitamin 진행:   4%|▍         | 1006/25348 [18:49<8:00:32,  1.18s/논문]"
     ]
    },
    {
     "name": "stdout",
     "output_type": "stream",
     "text": [
      "[1006/25348] ⚠️ 이미 저장된 논문 건너뜀 (PMCID: PMC12060334)\n",
      "[1007/25348] ⚠️ PMCID 없음 → 건너뜀\n"
     ]
    },
    {
     "name": "stderr",
     "output_type": "stream",
     "text": [
      "vitamin 진행:   4%|▍         | 1008/25348 [18:50<6:50:50,  1.01s/논문]"
     ]
    },
    {
     "name": "stdout",
     "output_type": "stream",
     "text": [
      "[1008/25348] ✅ 저장 완료 (PMCID: PMC12037658)\n",
      "[1009/25348] ✅ 저장 완료 (PMCID: PMC12189221)\n"
     ]
    },
    {
     "name": "stderr",
     "output_type": "stream",
     "text": [
      "vitamin 진행:   4%|▍         | 1010/25348 [18:53<8:00:49,  1.19s/논문]"
     ]
    },
    {
     "name": "stdout",
     "output_type": "stream",
     "text": [
      "[1010/25348] ✅ 저장 완료 (PMCID: PMC12096419)\n"
     ]
    },
    {
     "name": "stderr",
     "output_type": "stream",
     "text": [
      "vitamin 진행:   4%|▍         | 1011/25348 [18:55<9:19:05,  1.38s/논문]"
     ]
    },
    {
     "name": "stdout",
     "output_type": "stream",
     "text": [
      "[1011/25348] ✅ 저장 완료 (PMCID: PMC12190391)\n",
      "[1012/25348] ✅ 저장 완료 (PMCID: PMC12126132)\n"
     ]
    },
    {
     "name": "stderr",
     "output_type": "stream",
     "text": [
      "vitamin 진행:   4%|▍         | 1013/25348 [18:59<10:01:21,  1.48s/논문]"
     ]
    },
    {
     "name": "stdout",
     "output_type": "stream",
     "text": [
      "[1013/25348] ✅ 저장 완료 (PMCID: PMC12157737)\n",
      "[1014/25348] ⚠️ PMCID 없음 → 건너뜀\n",
      "[1015/25348] ✅ 저장 완료 (PMCID: PMC12030551)\n"
     ]
    },
    {
     "name": "stderr",
     "output_type": "stream",
     "text": [
      "vitamin 진행:   4%|▍         | 1016/25348 [19:03<10:21:17,  1.53s/논문]"
     ]
    },
    {
     "name": "stdout",
     "output_type": "stream",
     "text": [
      "[1016/25348] ✅ 저장 완료 (PMCID: PMC12099234)\n",
      "[1017/25348] ✅ 저장 완료 (PMCID: PMC12191017)\n"
     ]
    },
    {
     "name": "stderr",
     "output_type": "stream",
     "text": [
      "vitamin 진행:   4%|▍         | 1018/25348 [19:06<10:27:31,  1.55s/논문]"
     ]
    },
    {
     "name": "stdout",
     "output_type": "stream",
     "text": [
      "[1018/25348] ✅ 저장 완료 (PMCID: PMC12071356)\n",
      "[1019/25348] ⚠️ PMCID 없음 → 건너뜀\n",
      "[1020/25348] ⚠️ PMCID 없음 → 건너뜀\n",
      "[1021/25348] ✅ 저장 완료 (PMCID: PMC12111736)\n"
     ]
    },
    {
     "name": "stderr",
     "output_type": "stream",
     "text": [
      "vitamin 진행:   4%|▍         | 1021/25348 [19:10<9:22:30,  1.39s/논문] "
     ]
    },
    {
     "name": "stdout",
     "output_type": "stream",
     "text": [
      "[1022/25348] ✅ 저장 완료 (PMCID: PMC11987209)\n"
     ]
    },
    {
     "name": "stderr",
     "output_type": "stream",
     "text": [
      "vitamin 진행:   4%|▍         | 1023/25348 [19:13<9:40:51,  1.43s/논문] "
     ]
    },
    {
     "name": "stdout",
     "output_type": "stream",
     "text": [
      "[1023/25348] ✅ 저장 완료 (PMCID: PMC11981526)\n",
      "[1024/25348] ✅ 저장 완료 (PMCID: PMC11997348)\n"
     ]
    },
    {
     "name": "stderr",
     "output_type": "stream",
     "text": [
      "vitamin 진행:   4%|▍         | 1025/25348 [19:16<9:29:10,  1.40s/논문] "
     ]
    },
    {
     "name": "stdout",
     "output_type": "stream",
     "text": [
      "[1025/25348] ✅ 저장 완료 (PMCID: PMC11990238)\n",
      "[1026/25348] ✅ 저장 완료 (PMCID: PMC12076934)\n"
     ]
    },
    {
     "name": "stderr",
     "output_type": "stream",
     "text": [
      "vitamin 진행:   4%|▍         | 1026/25348 [19:20<13:25:51,  1.99s/논문]"
     ]
    },
    {
     "name": "stdout",
     "output_type": "stream",
     "text": [
      "[1027/25348] ⚠️ PMCID 없음 → 건너뜀\n",
      "[1028/25348] ⚠️ PMCID 없음 → 건너뜀\n"
     ]
    },
    {
     "name": "stderr",
     "output_type": "stream",
     "text": [
      "vitamin 진행:   4%|▍         | 1029/25348 [19:21<7:19:17,  1.08s/논문] "
     ]
    },
    {
     "name": "stdout",
     "output_type": "stream",
     "text": [
      "[1029/25348] ✅ 저장 완료 (PMCID: PMC12020444)\n",
      "[1030/25348] ✅ 저장 완료 (PMCID: PMC11985418)\n"
     ]
    },
    {
     "name": "stderr",
     "output_type": "stream",
     "text": [
      "vitamin 진행:   4%|▍         | 1031/25348 [19:25<9:11:05,  1.36s/논문]"
     ]
    },
    {
     "name": "stdout",
     "output_type": "stream",
     "text": [
      "[1031/25348] ⚠️ PMCID 없음 → 건너뜀\n"
     ]
    },
    {
     "name": "stderr",
     "output_type": "stream",
     "text": [
      "vitamin 진행:   4%|▍         | 1032/25348 [19:26<8:35:09,  1.27s/논문]"
     ]
    },
    {
     "name": "stdout",
     "output_type": "stream",
     "text": [
      "[1032/25348] ✅ 저장 완료 (PMCID: PMC12129869)\n",
      "[1033/25348] ⚠️ PMCID 없음 → 건너뜀\n",
      "[1034/25348] ⚠️ PMCID 없음 → 건너뜀\n",
      "[1035/25348] ⚠️ PMCID 없음 → 건너뜀\n"
     ]
    },
    {
     "name": "stderr",
     "output_type": "stream",
     "text": [
      "vitamin 진행:   4%|▍         | 1036/25348 [19:27<4:31:24,  1.49논문/s]"
     ]
    },
    {
     "name": "stdout",
     "output_type": "stream",
     "text": [
      "[1036/25348] ⚠️ PMCID 없음 → 건너뜀\n",
      "[1037/25348] ✅ 저장 완료 (PMCID: PMC12083984)\n"
     ]
    },
    {
     "name": "stderr",
     "output_type": "stream",
     "text": [
      "vitamin 진행:   4%|▍         | 1037/25348 [19:30<7:17:39,  1.08s/논문]"
     ]
    },
    {
     "name": "stdout",
     "output_type": "stream",
     "text": [
      "[1038/25348] ⚠️ PMCID 없음 → 건너뜀\n",
      "[1039/25348] ⚠️ PMCID 없음 → 건너뜀\n",
      "[1040/25348] ⚠️ PMCID 없음 → 건너뜀\n"
     ]
    },
    {
     "name": "stderr",
     "output_type": "stream",
     "text": [
      "vitamin 진행:   4%|▍         | 1041/25348 [19:31<4:29:35,  1.50논문/s]"
     ]
    },
    {
     "name": "stdout",
     "output_type": "stream",
     "text": [
      "[1041/25348] ⚠️ PMCID 없음 → 건너뜀\n"
     ]
    },
    {
     "name": "stderr",
     "output_type": "stream",
     "text": [
      "vitamin 진행:   4%|▍         | 1042/25348 [19:32<5:12:02,  1.30논문/s]"
     ]
    },
    {
     "name": "stdout",
     "output_type": "stream",
     "text": [
      "[1042/25348] ✅ 저장 완료 (PMCID: PMC12155320)\n",
      "[1043/25348] ⚠️ PMCID 없음 → 건너뜀\n",
      "[1044/25348] ⚠️ PMCID 없음 → 건너뜀\n",
      "[1045/25348] ✅ 저장 완료 (PMCID: PMC12121514)\n"
     ]
    },
    {
     "name": "stderr",
     "output_type": "stream",
     "text": [
      "vitamin 진행:   4%|▍         | 1046/25348 [19:37<6:53:00,  1.02s/논문]"
     ]
    },
    {
     "name": "stdout",
     "output_type": "stream",
     "text": [
      "[1046/25348] ✅ 저장 완료 (PMCID: PMC12149200)\n",
      "[1047/25348] ✅ 저장 완료 (PMCID: PMC11912713)\n"
     ]
    },
    {
     "name": "stderr",
     "output_type": "stream",
     "text": [
      "vitamin 진행:   4%|▍         | 1048/25348 [19:41<8:53:41,  1.32s/논문]"
     ]
    },
    {
     "name": "stdout",
     "output_type": "stream",
     "text": [
      "[1048/25348] ✅ 저장 완료 (PMCID: PMC12022079)\n",
      "[1049/25348] ✅ 저장 완료 (PMCID: PMC11990299)\n"
     ]
    },
    {
     "name": "stderr",
     "output_type": "stream",
     "text": [
      "vitamin 진행:   4%|▍         | 1049/25348 [19:43<10:46:31,  1.60s/논문]"
     ]
    },
    {
     "name": "stdout",
     "output_type": "stream",
     "text": [
      "[1050/25348] ⚠️ PMCID 없음 → 건너뜀\n"
     ]
    },
    {
     "name": "stderr",
     "output_type": "stream",
     "text": [
      "vitamin 진행:   4%|▍         | 1051/25348 [19:45<9:04:13,  1.34s/논문] "
     ]
    },
    {
     "name": "stdout",
     "output_type": "stream",
     "text": [
      "[1051/25348] ✅ 저장 완료 (PMCID: PMC12027579)\n",
      "[1052/25348] ✅ 저장 완료 (PMCID: PMC12197862)\n"
     ]
    },
    {
     "name": "stderr",
     "output_type": "stream",
     "text": [
      "vitamin 진행:   4%|▍         | 1052/25348 [19:48<10:45:25,  1.59s/논문]"
     ]
    },
    {
     "name": "stdout",
     "output_type": "stream",
     "text": [
      "[1053/25348] ⚠️ PMCID 없음 → 건너뜀\n",
      "[1054/25348] ⚠️ PMCID 없음 → 건너뜀\n"
     ]
    },
    {
     "name": "stderr",
     "output_type": "stream",
     "text": [
      "vitamin 진행:   4%|▍         | 1055/25348 [19:49<6:33:58,  1.03논문/s] "
     ]
    },
    {
     "name": "stdout",
     "output_type": "stream",
     "text": [
      "[1055/25348] ✅ 저장 완료 (PMCID: PMC12149010)\n"
     ]
    },
    {
     "name": "stderr",
     "output_type": "stream",
     "text": [
      "vitamin 진행:   4%|▍         | 1056/25348 [19:50<6:35:06,  1.02논문/s]"
     ]
    },
    {
     "name": "stdout",
     "output_type": "stream",
     "text": [
      "[1056/25348] ⚠️ PMCID 없음 → 건너뜀\n",
      "[1057/25348] ⚠️ PMCID 없음 → 건너뜀\n",
      "[1058/25348] ⚠️ PMCID 없음 → 건너뜀\n",
      "[1059/25348] ✅ 저장 완료 (PMCID: PMC12071813)\n"
     ]
    },
    {
     "name": "stderr",
     "output_type": "stream",
     "text": [
      "vitamin 진행:   4%|▍         | 1059/25348 [19:52<5:46:17,  1.17논문/s]"
     ]
    },
    {
     "name": "stdout",
     "output_type": "stream",
     "text": [
      "[1060/25348] ⚠️ PMCID 없음 → 건너뜀\n"
     ]
    },
    {
     "name": "stderr",
     "output_type": "stream",
     "text": [
      "vitamin 진행:   4%|▍         | 1061/25348 [19:53<5:02:42,  1.34논문/s]"
     ]
    },
    {
     "name": "stdout",
     "output_type": "stream",
     "text": [
      "[1061/25348] ⚠️ PMCID 없음 → 건너뜀\n"
     ]
    },
    {
     "name": "stderr",
     "output_type": "stream",
     "text": [
      "vitamin 진행:   4%|▍         | 1062/25348 [19:54<5:28:27,  1.23논문/s]"
     ]
    },
    {
     "name": "stdout",
     "output_type": "stream",
     "text": [
      "⚠️ abstract section 없음 (PMCID: PMC12161641) → 건너뜀\n"
     ]
    },
    {
     "name": "stderr",
     "output_type": "stream",
     "text": [
      "vitamin 진행:   4%|▍         | 1063/25348 [19:56<6:31:58,  1.03논문/s]"
     ]
    },
    {
     "name": "stdout",
     "output_type": "stream",
     "text": [
      "[1063/25348] ✅ 저장 완료 (PMCID: PMC11990120)\n",
      "[1064/25348] ✅ 저장 완료 (PMCID: PMC11944946)\n"
     ]
    },
    {
     "name": "stderr",
     "output_type": "stream",
     "text": [
      "vitamin 진행:   4%|▍         | 1064/25348 [19:58<8:49:03,  1.31s/논문]"
     ]
    },
    {
     "name": "stdout",
     "output_type": "stream",
     "text": [
      "[1065/25348] ⚠️ PMCID 없음 → 건너뜀\n"
     ]
    },
    {
     "name": "stderr",
     "output_type": "stream",
     "text": [
      "vitamin 진행:   4%|▍         | 1066/25348 [19:59<6:42:34,  1.01논문/s]"
     ]
    },
    {
     "name": "stdout",
     "output_type": "stream",
     "text": [
      "[1066/25348] ⚠️ PMCID 없음 → 건너뜀\n",
      "[1067/25348] ⚠️ PMCID 없음 → 건너뜀\n"
     ]
    },
    {
     "name": "stderr",
     "output_type": "stream",
     "text": [
      "vitamin 진행:   4%|▍         | 1068/25348 [20:00<5:36:56,  1.20논문/s]"
     ]
    },
    {
     "name": "stdout",
     "output_type": "stream",
     "text": [
      "[1068/25348] ✅ 저장 완료 (PMCID: PMC12061778)\n",
      "[1069/25348] ⚠️ PMCID 없음 → 건너뜀\n",
      "[1070/25348] ✅ 저장 완료 (PMCID: PMC12073702)\n"
     ]
    },
    {
     "name": "stderr",
     "output_type": "stream",
     "text": [
      "vitamin 진행:   4%|▍         | 1071/25348 [20:04<6:46:26,  1.00s/논문]"
     ]
    },
    {
     "name": "stdout",
     "output_type": "stream",
     "text": [
      "[1071/25348] ⚠️ PMCID 없음 → 건너뜀\n",
      "[1072/25348] ⚠️ PMCID 없음 → 건너뜀\n"
     ]
    },
    {
     "name": "stderr",
     "output_type": "stream",
     "text": [
      "vitamin 진행:   4%|▍         | 1073/25348 [20:05<5:33:43,  1.21논문/s]"
     ]
    },
    {
     "name": "stdout",
     "output_type": "stream",
     "text": [
      "[1073/25348] ✅ 저장 완료 (PMCID: PMC12087299)\n",
      "[1074/25348] ✅ 저장 완료 (PMCID: PMC12122576)\n"
     ]
    },
    {
     "name": "stderr",
     "output_type": "stream",
     "text": [
      "vitamin 진행:   4%|▍         | 1075/25348 [20:08<7:43:18,  1.15s/논문]"
     ]
    },
    {
     "name": "stdout",
     "output_type": "stream",
     "text": [
      "[1075/25348] ✅ 저장 완료 (PMCID: PMC11934492)\n",
      "[1076/25348] ✅ 저장 완료 (PMCID: PMC12163323)\n"
     ]
    },
    {
     "name": "stderr",
     "output_type": "stream",
     "text": [
      "vitamin 진행:   4%|▍         | 1077/25348 [20:13<10:42:40,  1.59s/논문]"
     ]
    },
    {
     "name": "stdout",
     "output_type": "stream",
     "text": [
      "[1077/25348] ✅ 저장 완료 (PMCID: PMC12009948)\n",
      "[1078/25348] ⚠️ PMCID 없음 → 건너뜀\n",
      "[1079/25348] ⚠️ PMCID 없음 → 건너뜀\n",
      "[1080/25348] ⚠️ PMCID 없음 → 건너뜀\n"
     ]
    },
    {
     "name": "stderr",
     "output_type": "stream",
     "text": [
      "vitamin 진행:   4%|▍         | 1081/25348 [20:14<5:20:08,  1.26논문/s] "
     ]
    },
    {
     "name": "stdout",
     "output_type": "stream",
     "text": [
      "[1081/25348] ⚠️ PMCID 없음 → 건너뜀\n",
      "[1082/25348] ⚠️ PMCID 없음 → 건너뜀\n",
      "[1083/25348] ⚠️ PMCID 없음 → 건너뜀\n",
      "[1084/25348] ✅ 저장 완료 (PMCID: PMC12036368)\n"
     ]
    },
    {
     "name": "stderr",
     "output_type": "stream",
     "text": [
      "vitamin 진행:   4%|▍         | 1085/25348 [20:18<5:55:24,  1.14논문/s]"
     ]
    },
    {
     "name": "stdout",
     "output_type": "stream",
     "text": [
      "[1085/25348] ✅ 저장 완료 (PMCID: PMC12019225)\n"
     ]
    },
    {
     "name": "stderr",
     "output_type": "stream",
     "text": [
      "vitamin 진행:   4%|▍         | 1086/25348 [20:20<6:34:00,  1.03논문/s]"
     ]
    },
    {
     "name": "stdout",
     "output_type": "stream",
     "text": [
      "[1086/25348] ⚠️ PMCID 없음 → 건너뜀\n",
      "[1087/25348] ✅ 저장 완료 (PMCID: PMC11990306)\n"
     ]
    },
    {
     "name": "stderr",
     "output_type": "stream",
     "text": [
      "vitamin 진행:   4%|▍         | 1087/25348 [20:21<7:34:03,  1.12s/논문]"
     ]
    },
    {
     "name": "stdout",
     "output_type": "stream",
     "text": [
      "[1088/25348] ⚠️ PMCID 없음 → 건너뜀\n",
      "[1089/25348] ⚠️ PMCID 없음 → 건너뜀\n",
      "[1090/25348] ⚠️ PMCID 없음 → 건너뜀\n"
     ]
    },
    {
     "name": "stderr",
     "output_type": "stream",
     "text": [
      "vitamin 진행:   4%|▍         | 1091/25348 [20:23<5:26:07,  1.24논문/s]"
     ]
    },
    {
     "name": "stdout",
     "output_type": "stream",
     "text": [
      "[1091/25348] ✅ 저장 완료 (PMCID: PMC12196408)\n",
      "[1092/25348] ✅ 저장 완료 (PMCID: PMC12093864)\n"
     ]
    },
    {
     "name": "stderr",
     "output_type": "stream",
     "text": [
      "vitamin 진행:   4%|▍         | 1092/25348 [20:26<7:01:08,  1.04s/논문]"
     ]
    },
    {
     "name": "stdout",
     "output_type": "stream",
     "text": [
      "[1093/25348] ⚠️ PMCID 없음 → 건너뜀\n"
     ]
    },
    {
     "name": "stderr",
     "output_type": "stream",
     "text": [
      "vitamin 진행:   4%|▍         | 1094/25348 [20:27<5:54:28,  1.14논문/s]"
     ]
    },
    {
     "name": "stdout",
     "output_type": "stream",
     "text": [
      "[1094/25348] ✅ 저장 완료 (PMCID: PMC12178248)\n"
     ]
    },
    {
     "name": "stderr",
     "output_type": "stream",
     "text": [
      "vitamin 진행:   4%|▍         | 1095/25348 [20:28<6:03:38,  1.11논문/s]"
     ]
    },
    {
     "name": "stdout",
     "output_type": "stream",
     "text": [
      "⚠️ abstract section 없음 (PMCID: PMC12103661) → 건너뜀\n"
     ]
    },
    {
     "name": "stderr",
     "output_type": "stream",
     "text": [
      "vitamin 진행:   4%|▍         | 1096/25348 [20:30<7:50:12,  1.16s/논문]"
     ]
    },
    {
     "name": "stdout",
     "output_type": "stream",
     "text": [
      "⚠️ abstract section 없음 (PMCID: PMC11948532) → 건너뜀\n",
      "[1097/25348] ✅ 저장 완료 (PMCID: PMC11979356)\n"
     ]
    },
    {
     "name": "stderr",
     "output_type": "stream",
     "text": [
      "vitamin 진행:   4%|▍         | 1098/25348 [20:33<9:09:24,  1.36s/논문] "
     ]
    },
    {
     "name": "stdout",
     "output_type": "stream",
     "text": [
      "⚠️ abstract section 없음 (PMCID: PMC12081831) → 건너뜀\n",
      "[1099/25348] ⚠️ PMCID 없음 → 건너뜀\n"
     ]
    },
    {
     "name": "stderr",
     "output_type": "stream",
     "text": [
      "vitamin 진행:   4%|▍         | 1100/25348 [20:35<7:11:41,  1.07s/논문]"
     ]
    },
    {
     "name": "stdout",
     "output_type": "stream",
     "text": [
      "[1100/25348] ✅ 저장 완료 (PMCID: PMC12066681)\n"
     ]
    },
    {
     "name": "stderr",
     "output_type": "stream",
     "text": [
      "vitamin 진행:   4%|▍         | 1101/25348 [20:37<8:35:53,  1.28s/논문]"
     ]
    },
    {
     "name": "stdout",
     "output_type": "stream",
     "text": [
      "[1101/25348] ✅ 저장 완료 (PMCID: PMC12100563)\n",
      "[1102/25348] ✅ 저장 완료 (PMCID: PMC12192204)\n"
     ]
    },
    {
     "name": "stderr",
     "output_type": "stream",
     "text": [
      "vitamin 진행:   4%|▍         | 1103/25348 [20:40<9:42:19,  1.44s/논문] "
     ]
    },
    {
     "name": "stdout",
     "output_type": "stream",
     "text": [
      "[1103/25348] ✅ 저장 완료 (PMCID: PMC12111834)\n",
      "[1104/25348] ✅ 저장 완료 (PMCID: PMC12196532)\n"
     ]
    },
    {
     "name": "stderr",
     "output_type": "stream",
     "text": [
      "vitamin 진행:   4%|▍         | 1105/25348 [20:44<10:19:18,  1.53s/논문]"
     ]
    },
    {
     "name": "stdout",
     "output_type": "stream",
     "text": [
      "[1105/25348] ✅ 저장 완료 (PMCID: PMC12183030)\n"
     ]
    },
    {
     "name": "stderr",
     "output_type": "stream",
     "text": [
      "vitamin 진행:   4%|▍         | 1106/25348 [20:45<9:14:42,  1.37s/논문] "
     ]
    },
    {
     "name": "stdout",
     "output_type": "stream",
     "text": [
      "[1106/25348] ⚠️ PMCID 없음 → 건너뜀\n",
      "[1107/25348] ✅ 저장 완료 (PMCID: PMC12156961)\n"
     ]
    },
    {
     "name": "stderr",
     "output_type": "stream",
     "text": [
      "vitamin 진행:   4%|▍         | 1107/25348 [20:47<10:05:00,  1.50s/논문]"
     ]
    },
    {
     "name": "stdout",
     "output_type": "stream",
     "text": [
      "[1108/25348] ⚠️ PMCID 없음 → 건너뜀\n"
     ]
    },
    {
     "name": "stderr",
     "output_type": "stream",
     "text": [
      "vitamin 진행:   4%|▍         | 1109/25348 [20:48<6:59:04,  1.04s/논문] "
     ]
    },
    {
     "name": "stdout",
     "output_type": "stream",
     "text": [
      "[1109/25348] ✅ 저장 완료 (PMCID: PMC12012310)\n",
      "[1110/25348] ⚠️ PMCID 없음 → 건너뜀\n",
      "[1111/25348] ✅ 저장 완료 (PMCID: PMC12001420)\n"
     ]
    },
    {
     "name": "stderr",
     "output_type": "stream",
     "text": [
      "vitamin 진행:   4%|▍         | 1112/25348 [20:52<8:11:40,  1.22s/논문]"
     ]
    },
    {
     "name": "stdout",
     "output_type": "stream",
     "text": [
      "[1112/25348] ✅ 저장 완료 (PMCID: PMC12020305)\n",
      "[1113/25348] ✅ 저장 완료 (PMCID: PMC11918845)\n"
     ]
    },
    {
     "name": "stderr",
     "output_type": "stream",
     "text": [
      "vitamin 진행:   4%|▍         | 1114/25348 [20:55<8:30:27,  1.26s/논문]"
     ]
    },
    {
     "name": "stdout",
     "output_type": "stream",
     "text": [
      "[1114/25348] ✅ 저장 완료 (PMCID: PMC11995517)\n",
      "[1115/25348] ✅ 저장 완료 (PMCID: PMC11944662)\n"
     ]
    },
    {
     "name": "stderr",
     "output_type": "stream",
     "text": [
      "vitamin 진행:   4%|▍         | 1116/25348 [20:58<9:58:27,  1.48s/논문] "
     ]
    },
    {
     "name": "stdout",
     "output_type": "stream",
     "text": [
      "[1116/25348] ⚠️ PMCID 없음 → 건너뜀\n"
     ]
    },
    {
     "name": "stderr",
     "output_type": "stream",
     "text": [
      "vitamin 진행:   4%|▍         | 1117/25348 [20:59<8:56:05,  1.33s/논문]"
     ]
    },
    {
     "name": "stdout",
     "output_type": "stream",
     "text": [
      "⚠️ abstract section 없음 (PMCID: PMC11996861) → 건너뜀\n",
      "[1118/25348] ⚠️ PMCID 없음 → 건너뜀\n"
     ]
    },
    {
     "name": "stderr",
     "output_type": "stream",
     "text": [
      "vitamin 진행:   4%|▍         | 1119/25348 [21:00<6:22:19,  1.06논문/s]"
     ]
    },
    {
     "name": "stdout",
     "output_type": "stream",
     "text": [
      "⚠️ abstract section 없음 (PMCID: PMC11996860) → 건너뜀\n"
     ]
    },
    {
     "name": "stderr",
     "output_type": "stream",
     "text": [
      "vitamin 진행:   4%|▍         | 1120/25348 [21:01<6:33:31,  1.03논문/s]"
     ]
    },
    {
     "name": "stdout",
     "output_type": "stream",
     "text": [
      "[1120/25348] ✅ 저장 완료 (PMCID: PMC11989621)\n",
      "[1121/25348] ✅ 저장 완료 (PMCID: PMC12091793)\n"
     ]
    },
    {
     "name": "stderr",
     "output_type": "stream",
     "text": [
      "vitamin 진행:   4%|▍         | 1121/25348 [21:04<9:53:38,  1.47s/논문]"
     ]
    },
    {
     "name": "stdout",
     "output_type": "stream",
     "text": [
      "[1122/25348] ⚠️ PMCID 없음 → 건너뜀\n",
      "[1123/25348] ⚠️ PMCID 없음 → 건너뜀\n"
     ]
    },
    {
     "name": "stderr",
     "output_type": "stream",
     "text": [
      "vitamin 진행:   4%|▍         | 1124/25348 [21:05<5:50:31,  1.15논문/s]"
     ]
    },
    {
     "name": "stdout",
     "output_type": "stream",
     "text": [
      "[1124/25348] ✅ 저장 완료 (PMCID: PMC12057019)\n",
      "[1125/25348] ✅ 저장 완료 (PMCID: PMC11916318)\n"
     ]
    },
    {
     "name": "stderr",
     "output_type": "stream",
     "text": [
      "vitamin 진행:   4%|▍         | 1126/25348 [21:10<9:37:39,  1.43s/논문]"
     ]
    },
    {
     "name": "stdout",
     "output_type": "stream",
     "text": [
      "[1126/25348] ✅ 저장 완료 (PMCID: PMC11945165)\n",
      "[1127/25348] ✅ 저장 완료 (PMCID: PMC11971847)\n"
     ]
    },
    {
     "name": "stderr",
     "output_type": "stream",
     "text": [
      "vitamin 진행:   4%|▍         | 1127/25348 [21:12<11:22:29,  1.69s/논문]"
     ]
    },
    {
     "name": "stdout",
     "output_type": "stream",
     "text": [
      "[1128/25348] ⚠️ PMCID 없음 → 건너뜀\n"
     ]
    },
    {
     "name": "stderr",
     "output_type": "stream",
     "text": [
      "vitamin 진행:   4%|▍         | 1129/25348 [21:13<8:05:01,  1.20s/논문] "
     ]
    },
    {
     "name": "stdout",
     "output_type": "stream",
     "text": [
      "[1129/25348] ✅ 저장 완료 (PMCID: PMC12027240)\n",
      "[1130/25348] ⚠️ PMCID 없음 → 건너뜀\n"
     ]
    },
    {
     "name": "stderr",
     "output_type": "stream",
     "text": [
      "vitamin 진행:   4%|▍         | 1131/25348 [21:14<6:24:31,  1.05논문/s]"
     ]
    },
    {
     "name": "stdout",
     "output_type": "stream",
     "text": [
      "[1131/25348] ⚠️ PMCID 없음 → 건너뜀\n",
      "[1132/25348] ✅ 저장 완료 (PMCID: PMC11978620)\n"
     ]
    },
    {
     "name": "stderr",
     "output_type": "stream",
     "text": [
      "vitamin 진행:   4%|▍         | 1133/25348 [21:18<8:13:51,  1.22s/논문]"
     ]
    },
    {
     "name": "stdout",
     "output_type": "stream",
     "text": [
      "[1133/25348] ✅ 저장 완료 (PMCID: PMC11950652)\n",
      "[1134/25348] ✅ 저장 완료 (PMCID: PMC12195854)\n"
     ]
    },
    {
     "name": "stderr",
     "output_type": "stream",
     "text": [
      "vitamin 진행:   4%|▍         | 1135/25348 [21:22<10:01:12,  1.49s/논문]"
     ]
    },
    {
     "name": "stdout",
     "output_type": "stream",
     "text": [
      "[1135/25348] ✅ 저장 완료 (PMCID: PMC12165597)\n",
      "[1136/25348] ✅ 저장 완료 (PMCID: PMC12179756)\n"
     ]
    },
    {
     "name": "stderr",
     "output_type": "stream",
     "text": [
      "vitamin 진행:   4%|▍         | 1137/25348 [21:26<11:23:14,  1.69s/논문]"
     ]
    },
    {
     "name": "stdout",
     "output_type": "stream",
     "text": [
      "[1137/25348] ✅ 저장 완료 (PMCID: PMC12024645)\n",
      "[1138/25348] ⚠️ PMCID 없음 → 건너뜀\n",
      "[1139/25348] ✅ 저장 완료 (PMCID: PMC11982687)\n"
     ]
    },
    {
     "name": "stderr",
     "output_type": "stream",
     "text": [
      "vitamin 진행:   4%|▍         | 1140/25348 [21:29<8:31:36,  1.27s/논문] "
     ]
    },
    {
     "name": "stdout",
     "output_type": "stream",
     "text": [
      "[1140/25348] ✅ 저장 완료 (PMCID: PMC11963807)\n",
      "[1141/25348] ✅ 저장 완료 (PMCID: PMC11966964)\n"
     ]
    },
    {
     "name": "stderr",
     "output_type": "stream",
     "text": [
      "vitamin 진행:   5%|▍         | 1142/25348 [21:34<11:13:14,  1.67s/논문]"
     ]
    },
    {
     "name": "stdout",
     "output_type": "stream",
     "text": [
      "[1142/25348] ✅ 저장 완료 (PMCID: PMC12069332)\n",
      "[1143/25348] ✅ 저장 완료 (PMCID: PMC12018433)\n"
     ]
    },
    {
     "name": "stderr",
     "output_type": "stream",
     "text": [
      "vitamin 진행:   5%|▍         | 1144/25348 [21:38<11:41:19,  1.74s/논문]"
     ]
    },
    {
     "name": "stdout",
     "output_type": "stream",
     "text": [
      "[1144/25348] ✅ 저장 완료 (PMCID: PMC12182927)\n",
      "[1145/25348] ⚠️ PMCID 없음 → 건너뜀\n",
      "[1146/25348] ✅ 저장 완료 (PMCID: PMC12037401)\n"
     ]
    },
    {
     "name": "stderr",
     "output_type": "stream",
     "text": [
      "vitamin 진행:   5%|▍         | 1146/25348 [21:42<12:32:23,  1.87s/논문]"
     ]
    },
    {
     "name": "stdout",
     "output_type": "stream",
     "text": [
      "[1147/25348] ✅ 저장 완료 (PMCID: PMC12134785)\n"
     ]
    },
    {
     "name": "stderr",
     "output_type": "stream",
     "text": [
      "vitamin 진행:   5%|▍         | 1148/25348 [21:45<11:11:24,  1.66s/논문]"
     ]
    },
    {
     "name": "stdout",
     "output_type": "stream",
     "text": [
      "[1148/25348] ✅ 저장 완료 (PMCID: PMC11990288)\n",
      "[1149/25348] ✅ 저장 완료 (PMCID: PMC12073798)\n"
     ]
    },
    {
     "name": "stderr",
     "output_type": "stream",
     "text": [
      "vitamin 진행:   5%|▍         | 1149/25348 [21:48<13:51:56,  2.06s/논문]"
     ]
    },
    {
     "name": "stdout",
     "output_type": "stream",
     "text": [
      "[1150/25348] ⚠️ PMCID 없음 → 건너뜀\n"
     ]
    },
    {
     "name": "stderr",
     "output_type": "stream",
     "text": [
      "vitamin 진행:   5%|▍         | 1151/25348 [21:49<9:21:42,  1.39s/논문] "
     ]
    },
    {
     "name": "stdout",
     "output_type": "stream",
     "text": [
      "[1151/25348] ⚠️ PMCID 없음 → 건너뜀\n"
     ]
    },
    {
     "name": "stderr",
     "output_type": "stream",
     "text": [
      "vitamin 진행:   5%|▍         | 1152/25348 [21:50<8:59:06,  1.34s/논문]"
     ]
    },
    {
     "name": "stdout",
     "output_type": "stream",
     "text": [
      "[1152/25348] ✅ 저장 완료 (PMCID: PMC12073187)\n",
      "[1153/25348] ✅ 저장 완료 (PMCID: PMC11979404)\n"
     ]
    },
    {
     "name": "stderr",
     "output_type": "stream",
     "text": [
      "vitamin 진행:   5%|▍         | 1154/25348 [21:55<11:07:02,  1.65s/논문]"
     ]
    },
    {
     "name": "stdout",
     "output_type": "stream",
     "text": [
      "[1154/25348] ✅ 저장 완료 (PMCID: PMC12172956)\n"
     ]
    },
    {
     "name": "stderr",
     "output_type": "stream",
     "text": [
      "vitamin 진행:   5%|▍         | 1155/25348 [21:56<9:47:50,  1.46s/논문] "
     ]
    },
    {
     "name": "stdout",
     "output_type": "stream",
     "text": [
      "[1155/25348] ✅ 저장 완료 (PMCID: PMC11934828)\n",
      "[1156/25348] ✅ 저장 완료 (PMCID: PMC12121362)\n"
     ]
    },
    {
     "name": "stderr",
     "output_type": "stream",
     "text": [
      "vitamin 진행:   5%|▍         | 1156/25348 [22:00<14:25:49,  2.15s/논문]"
     ]
    },
    {
     "name": "stdout",
     "output_type": "stream",
     "text": [
      "[1157/25348] ⚠️ PMCID 없음 → 건너뜀\n"
     ]
    },
    {
     "name": "stderr",
     "output_type": "stream",
     "text": [
      "vitamin 진행:   5%|▍         | 1158/25348 [22:01<9:25:46,  1.40s/논문] "
     ]
    },
    {
     "name": "stdout",
     "output_type": "stream",
     "text": [
      "[1158/25348] ✅ 저장 완료 (PMCID: PMC11963364)\n",
      "[1159/25348] ⚠️ PMCID 없음 → 건너뜀\n",
      "[1160/25348] ✅ 저장 완료 (PMCID: PMC12023595)\n"
     ]
    },
    {
     "name": "stderr",
     "output_type": "stream",
     "text": [
      "vitamin 진행:   5%|▍         | 1161/25348 [22:05<10:10:15,  1.51s/논문]"
     ]
    },
    {
     "name": "stdout",
     "output_type": "stream",
     "text": [
      "[1161/25348] ✅ 저장 완료 (PMCID: PMC12146189)\n",
      "[1162/25348] ⚠️ PMCID 없음 → 건너뜀\n",
      "[1163/25348] ✅ 저장 완료 (PMCID: PMC12001026)\n"
     ]
    },
    {
     "name": "stderr",
     "output_type": "stream",
     "text": [
      "vitamin 진행:   5%|▍         | 1164/25348 [22:09<8:47:40,  1.31s/논문] "
     ]
    },
    {
     "name": "stdout",
     "output_type": "stream",
     "text": [
      "[1164/25348] ✅ 저장 완료 (PMCID: PMC12071354)\n"
     ]
    },
    {
     "name": "stderr",
     "output_type": "stream",
     "text": [
      "vitamin 진행:   5%|▍         | 1165/25348 [22:10<8:15:27,  1.23s/논문]"
     ]
    },
    {
     "name": "stdout",
     "output_type": "stream",
     "text": [
      "⚠️ abstract section 없음 (PMCID: PMC12033378) → 건너뜀\n",
      "[1166/25348] ✅ 저장 완료 (PMCID: PMC11990192)\n"
     ]
    },
    {
     "name": "stderr",
     "output_type": "stream",
     "text": [
      "vitamin 진행:   5%|▍         | 1166/25348 [22:13<12:19:23,  1.83s/논문]"
     ]
    },
    {
     "name": "stdout",
     "output_type": "stream",
     "text": [
      "[1167/25348] ⚠️ PMCID 없음 → 건너뜀\n"
     ]
    },
    {
     "name": "stderr",
     "output_type": "stream",
     "text": [
      "vitamin 진행:   5%|▍         | 1168/25348 [22:14<8:42:05,  1.30s/논문] "
     ]
    },
    {
     "name": "stdout",
     "output_type": "stream",
     "text": [
      "[1168/25348] ✅ 저장 완료 (PMCID: PMC12001067)\n",
      "[1169/25348] ✅ 저장 완료 (PMCID: PMC11909008)\n"
     ]
    },
    {
     "name": "stderr",
     "output_type": "stream",
     "text": [
      "vitamin 진행:   5%|▍         | 1170/25348 [22:18<9:33:46,  1.42s/논문] "
     ]
    },
    {
     "name": "stdout",
     "output_type": "stream",
     "text": [
      "[1170/25348] ✅ 저장 완료 (PMCID: PMC12071983)\n"
     ]
    },
    {
     "name": "stderr",
     "output_type": "stream",
     "text": [
      "vitamin 진행:   5%|▍         | 1171/25348 [22:19<8:56:56,  1.33s/논문]"
     ]
    },
    {
     "name": "stdout",
     "output_type": "stream",
     "text": [
      "[1171/25348] ⚠️ PMCID 없음 → 건너뜀\n",
      "[1172/25348] ⚠️ PMCID 없음 → 건너뜀\n",
      "[1173/25348] ⚠️ PMCID 없음 → 건너뜀\n",
      "[1174/25348] ✅ 저장 완료 (PMCID: PMC11944307)\n"
     ]
    },
    {
     "name": "stderr",
     "output_type": "stream",
     "text": [
      "vitamin 진행:   5%|▍         | 1175/25348 [22:22<7:18:43,  1.09s/논문]"
     ]
    },
    {
     "name": "stdout",
     "output_type": "stream",
     "text": [
      "[1175/25348] ✅ 저장 완료 (PMCID: PMC11990323)\n",
      "[1176/25348] ✅ 저장 완료 (PMCID: PMC12003121)\n"
     ]
    },
    {
     "name": "stderr",
     "output_type": "stream",
     "text": [
      "vitamin 진행:   5%|▍         | 1177/25348 [22:27<10:04:00,  1.50s/논문]"
     ]
    },
    {
     "name": "stdout",
     "output_type": "stream",
     "text": [
      "[1177/25348] ✅ 저장 완료 (PMCID: PMC11941853)\n",
      "[1178/25348] ✅ 저장 완료 (PMCID: PMC12090501)\n"
     ]
    },
    {
     "name": "stderr",
     "output_type": "stream",
     "text": [
      "vitamin 진행:   5%|▍         | 1179/25348 [22:30<10:07:01,  1.51s/논문]"
     ]
    },
    {
     "name": "stdout",
     "output_type": "stream",
     "text": [
      "[1179/25348] ✅ 저장 완료 (PMCID: PMC12033312)\n",
      "[1180/25348] ⚠️ PMCID 없음 → 건너뜀\n"
     ]
    },
    {
     "name": "stderr",
     "output_type": "stream",
     "text": [
      "vitamin 진행:   5%|▍         | 1181/25348 [22:31<7:13:54,  1.08s/논문] "
     ]
    },
    {
     "name": "stdout",
     "output_type": "stream",
     "text": [
      "[1181/25348] ⚠️ PMCID 없음 → 건너뜀\n",
      "[1182/25348] ✅ 저장 완료 (PMCID: PMC12024625)\n"
     ]
    },
    {
     "name": "stderr",
     "output_type": "stream",
     "text": [
      "vitamin 진행:   5%|▍         | 1182/25348 [22:34<9:32:07,  1.42s/논문]"
     ]
    },
    {
     "name": "stdout",
     "output_type": "stream",
     "text": [
      "[1183/25348] ✅ 저장 완료 (PMCID: PMC12101452)\n"
     ]
    },
    {
     "name": "stderr",
     "output_type": "stream",
     "text": [
      "vitamin 진행:   5%|▍         | 1184/25348 [22:37<9:11:08,  1.37s/논문] "
     ]
    },
    {
     "name": "stdout",
     "output_type": "stream",
     "text": [
      "⚠️ abstract section 없음 (PMCID: PMC12170822) → 건너뜀\n",
      "[1185/25348] ⚠️ PMCID 없음 → 건너뜀\n"
     ]
    },
    {
     "name": "stderr",
     "output_type": "stream",
     "text": [
      "vitamin 진행:   5%|▍         | 1186/25348 [22:39<8:19:28,  1.24s/논문]"
     ]
    },
    {
     "name": "stdout",
     "output_type": "stream",
     "text": [
      "[1186/25348] ✅ 저장 완료 (PMCID: PMC12104082)\n",
      "[1187/25348] ⚠️ PMCID 없음 → 건너뜀\n",
      "[1188/25348] ⚠️ PMCID 없음 → 건너뜀\n"
     ]
    },
    {
     "name": "stderr",
     "output_type": "stream",
     "text": [
      "vitamin 진행:   5%|▍         | 1189/25348 [22:40<5:21:49,  1.25논문/s]"
     ]
    },
    {
     "name": "stdout",
     "output_type": "stream",
     "text": [
      "[1189/25348] ✅ 저장 완료 (PMCID: PMC12032756)\n",
      "[1190/25348] ⚠️ PMCID 없음 → 건너뜀\n"
     ]
    },
    {
     "name": "stderr",
     "output_type": "stream",
     "text": [
      "vitamin 진행:   5%|▍         | 1191/25348 [22:41<4:41:58,  1.43논문/s]"
     ]
    },
    {
     "name": "stdout",
     "output_type": "stream",
     "text": [
      "[1191/25348] ⚠️ PMCID 없음 → 건너뜀\n",
      "[1192/25348] ✅ 저장 완료 (PMCID: PMC12155902)\n"
     ]
    },
    {
     "name": "stderr",
     "output_type": "stream",
     "text": [
      "vitamin 진행:   5%|▍         | 1193/25348 [22:46<8:09:04,  1.21s/논문]"
     ]
    },
    {
     "name": "stdout",
     "output_type": "stream",
     "text": [
      "[1193/25348] ✅ 저장 완료 (PMCID: PMC11912708)\n",
      "[1194/25348] ✅ 저장 완료 (PMCID: PMC12157746)\n"
     ]
    },
    {
     "name": "stderr",
     "output_type": "stream",
     "text": [
      "vitamin 진행:   5%|▍         | 1195/25348 [22:50<10:38:04,  1.59s/논문]"
     ]
    },
    {
     "name": "stdout",
     "output_type": "stream",
     "text": [
      "[1195/25348] ✅ 저장 완료 (PMCID: PMC12003035)\n"
     ]
    },
    {
     "name": "stderr",
     "output_type": "stream",
     "text": [
      "vitamin 진행:   5%|▍         | 1196/25348 [22:52<11:43:15,  1.75s/논문]"
     ]
    },
    {
     "name": "stdout",
     "output_type": "stream",
     "text": [
      "[1196/25348] ✅ 저장 완료 (PMCID: PMC12038189)\n",
      "[1197/25348] ⚠️ PMCID 없음 → 건너뜀\n",
      "[1198/25348] ⚠️ PMCID 없음 → 건너뜀\n",
      "[1199/25348] ✅ 저장 완료 (PMCID: PMC12147734)\n"
     ]
    },
    {
     "name": "stderr",
     "output_type": "stream",
     "text": [
      "vitamin 진행:   5%|▍         | 1199/25348 [22:55<8:56:00,  1.33s/논문] "
     ]
    },
    {
     "name": "stdout",
     "output_type": "stream",
     "text": [
      "[1200/25348] ⚠️ PMCID 없음 → 건너뜀\n"
     ]
    },
    {
     "name": "stderr",
     "output_type": "stream",
     "text": [
      "vitamin 진행:   5%|▍         | 1201/25348 [22:56<7:03:46,  1.05s/논문]"
     ]
    },
    {
     "name": "stdout",
     "output_type": "stream",
     "text": [
      "[1201/25348] ⚠️ PMCID 없음 → 건너뜀\n",
      "[1202/25348] ⚠️ PMCID 없음 → 건너뜀\n",
      "[1203/25348] ⚠️ PMCID 없음 → 건너뜀\n"
     ]
    },
    {
     "name": "stderr",
     "output_type": "stream",
     "text": [
      "vitamin 진행:   5%|▍         | 1204/25348 [22:57<5:14:46,  1.28논문/s]"
     ]
    },
    {
     "name": "stdout",
     "output_type": "stream",
     "text": [
      "[1204/25348] ✅ 저장 완료 (PMCID: PMC12187519)\n",
      "[1205/25348] ✅ 저장 완료 (PMCID: PMC11928554)\n"
     ]
    },
    {
     "name": "stderr",
     "output_type": "stream",
     "text": [
      "vitamin 진행:   5%|▍         | 1206/25348 [23:02<8:20:30,  1.24s/논문]"
     ]
    },
    {
     "name": "stdout",
     "output_type": "stream",
     "text": [
      "[1206/25348] ⚠️ PMCID 없음 → 건너뜀\n",
      "[1207/25348] ⚠️ PMCID 없음 → 건너뜀\n",
      "[1208/25348] ⚠️ PMCID 없음 → 건너뜀\n",
      "[1209/25348] ⚠️ PMCID 없음 → 건너뜀\n"
     ]
    },
    {
     "name": "stderr",
     "output_type": "stream",
     "text": [
      "vitamin 진행:   5%|▍         | 1210/25348 [23:04<5:18:25,  1.26논문/s]"
     ]
    },
    {
     "name": "stdout",
     "output_type": "stream",
     "text": [
      "[1210/25348] ✅ 저장 완료 (PMCID: PMC12078071)\n",
      "[1211/25348] ✅ 저장 완료 (PMCID: PMC11990871)\n"
     ]
    },
    {
     "name": "stderr",
     "output_type": "stream",
     "text": [
      "vitamin 진행:   5%|▍         | 1211/25348 [23:09<9:23:21,  1.40s/논문]"
     ]
    },
    {
     "name": "stdout",
     "output_type": "stream",
     "text": [
      "[1212/25348] ⚠️ PMCID 없음 → 건너뜀\n",
      "[1213/25348] ⚠️ PMCID 없음 → 건너뜀\n",
      "[1214/25348] ⚠️ PMCID 없음 → 건너뜀\n",
      "[1215/25348] ⚠️ PMCID 없음 → 건너뜀\n"
     ]
    },
    {
     "name": "stderr",
     "output_type": "stream",
     "text": [
      "vitamin 진행:   5%|▍         | 1216/25348 [23:11<6:26:04,  1.04논문/s]"
     ]
    },
    {
     "name": "stdout",
     "output_type": "stream",
     "text": [
      "[1216/25348] ✅ 저장 완료 (PMCID: PMC12059304)\n",
      "[1217/25348] ✅ 저장 완료 (PMCID: PMC12085894)\n"
     ]
    },
    {
     "name": "stderr",
     "output_type": "stream",
     "text": [
      "vitamin 진행:   5%|▍         | 1217/25348 [23:14<7:57:35,  1.19s/논문]"
     ]
    },
    {
     "name": "stdout",
     "output_type": "stream",
     "text": [
      "[1218/25348] ⚠️ PMCID 없음 → 건너뜀\n",
      "[1219/25348] ⚠️ PMCID 없음 → 건너뜀\n"
     ]
    },
    {
     "name": "stderr",
     "output_type": "stream",
     "text": [
      "vitamin 진행:   5%|▍         | 1220/25348 [23:15<5:53:10,  1.14논문/s]"
     ]
    },
    {
     "name": "stdout",
     "output_type": "stream",
     "text": [
      "[1220/25348] ✅ 저장 완료 (PMCID: PMC11970514)\n",
      "[1221/25348] ✅ 저장 완료 (PMCID: PMC11892881)\n"
     ]
    },
    {
     "name": "stderr",
     "output_type": "stream",
     "text": [
      "vitamin 진행:   5%|▍         | 1222/25348 [23:20<8:42:37,  1.30s/논문]"
     ]
    },
    {
     "name": "stdout",
     "output_type": "stream",
     "text": [
      "[1222/25348] ✅ 저장 완료 (PMCID: PMC11955636)\n",
      "[1223/25348] ✅ 저장 완료 (PMCID: PMC11982515)\n"
     ]
    },
    {
     "name": "stderr",
     "output_type": "stream",
     "text": [
      "vitamin 진행:   5%|▍         | 1223/25348 [23:23<11:12:53,  1.67s/논문]"
     ]
    },
    {
     "name": "stdout",
     "output_type": "stream",
     "text": [
      "[1224/25348] ⚠️ PMCID 없음 → 건너뜀\n"
     ]
    },
    {
     "name": "stderr",
     "output_type": "stream",
     "text": [
      "vitamin 진행:   5%|▍         | 1225/25348 [23:24<8:30:26,  1.27s/논문] "
     ]
    },
    {
     "name": "stdout",
     "output_type": "stream",
     "text": [
      "[1225/25348] ✅ 저장 완료 (PMCID: PMC12044740)\n",
      "[1226/25348] ✅ 저장 완료 (PMCID: PMC11939201)\n"
     ]
    },
    {
     "name": "stderr",
     "output_type": "stream",
     "text": [
      "vitamin 진행:   5%|▍         | 1226/25348 [23:28<11:19:59,  1.69s/논문]"
     ]
    },
    {
     "name": "stdout",
     "output_type": "stream",
     "text": [
      "[1227/25348] ⚠️ PMCID 없음 → 건너뜀\n"
     ]
    },
    {
     "name": "stderr",
     "output_type": "stream",
     "text": [
      "vitamin 진행:   5%|▍         | 1228/25348 [23:29<8:33:31,  1.28s/논문] "
     ]
    },
    {
     "name": "stdout",
     "output_type": "stream",
     "text": [
      "[1228/25348] ✅ 저장 완료 (PMCID: PMC12148561)\n"
     ]
    },
    {
     "name": "stderr",
     "output_type": "stream",
     "text": [
      "vitamin 진행:   5%|▍         | 1229/25348 [23:30<8:02:26,  1.20s/논문]"
     ]
    },
    {
     "name": "stdout",
     "output_type": "stream",
     "text": [
      "[1229/25348] ✅ 저장 완료 (PMCID: PMC11932956)\n",
      "[1230/25348] ✅ 저장 완료 (PMCID: PMC11990457)\n"
     ]
    },
    {
     "name": "stderr",
     "output_type": "stream",
     "text": [
      "vitamin 진행:   5%|▍         | 1231/25348 [23:35<11:14:18,  1.68s/논문]"
     ]
    },
    {
     "name": "stdout",
     "output_type": "stream",
     "text": [
      "[1231/25348] ✅ 저장 완료 (PMCID: PMC12030472)\n",
      "[1232/25348] ✅ 저장 완료 (PMCID: PMC11990434)\n"
     ]
    },
    {
     "name": "stderr",
     "output_type": "stream",
     "text": [
      "vitamin 진행:   5%|▍         | 1233/25348 [23:38<11:09:34,  1.67s/논문]"
     ]
    },
    {
     "name": "stdout",
     "output_type": "stream",
     "text": [
      "[1233/25348] ✅ 저장 완료 (PMCID: PMC11991798)\n",
      "[1234/25348] ⚠️ PMCID 없음 → 건너뜀\n",
      "[1235/25348] ✅ 저장 완료 (PMCID: PMC12189771)\n"
     ]
    },
    {
     "name": "stderr",
     "output_type": "stream",
     "text": [
      "vitamin 진행:   5%|▍         | 1236/25348 [23:41<8:57:48,  1.34s/논문] "
     ]
    },
    {
     "name": "stdout",
     "output_type": "stream",
     "text": [
      "[1236/25348] ⚠️ PMCID 없음 → 건너뜀\n"
     ]
    },
    {
     "name": "stderr",
     "output_type": "stream",
     "text": [
      "vitamin 진행:   5%|▍         | 1237/25348 [23:43<8:38:53,  1.29s/논문]"
     ]
    },
    {
     "name": "stdout",
     "output_type": "stream",
     "text": [
      "[1237/25348] ✅ 저장 완료 (PMCID: PMC11973441)\n",
      "[1238/25348] ⚠️ PMCID 없음 → 건너뜀\n",
      "[1239/25348] ✅ 저장 완료 (PMCID: PMC12099904)\n"
     ]
    },
    {
     "name": "stderr",
     "output_type": "stream",
     "text": [
      "vitamin 진행:   5%|▍         | 1240/25348 [23:46<7:44:54,  1.16s/논문]"
     ]
    },
    {
     "name": "stdout",
     "output_type": "stream",
     "text": [
      "[1240/25348] ✅ 저장 완료 (PMCID: PMC12025662)\n"
     ]
    },
    {
     "name": "stderr",
     "output_type": "stream",
     "text": [
      "vitamin 진행:   5%|▍         | 1241/25348 [23:47<7:26:45,  1.11s/논문]"
     ]
    },
    {
     "name": "stdout",
     "output_type": "stream",
     "text": [
      "[1241/25348] ⚠️ PMCID 없음 → 건너뜀\n",
      "[1242/25348] ⚠️ PMCID 없음 → 건너뜀\n",
      "[1243/25348] ✅ 저장 완료 (PMCID: PMC12114363)\n"
     ]
    },
    {
     "name": "stderr",
     "output_type": "stream",
     "text": [
      "vitamin 진행:   5%|▍         | 1244/25348 [23:51<8:12:52,  1.23s/논문]"
     ]
    },
    {
     "name": "stdout",
     "output_type": "stream",
     "text": [
      "[1244/25348] ✅ 저장 완료 (PMCID: PMC12129514)\n",
      "[1245/25348] ⚠️ PMCID 없음 → 건너뜀\n"
     ]
    },
    {
     "name": "stderr",
     "output_type": "stream",
     "text": [
      "vitamin 진행:   5%|▍         | 1246/25348 [23:52<6:25:07,  1.04논문/s]"
     ]
    },
    {
     "name": "stdout",
     "output_type": "stream",
     "text": [
      "[1246/25348] ⚠️ PMCID 없음 → 건너뜀\n",
      "[1247/25348] ✅ 저장 완료 (PMCID: PMC12007988)\n"
     ]
    },
    {
     "name": "stderr",
     "output_type": "stream",
     "text": [
      "vitamin 진행:   5%|▍         | 1248/25348 [23:56<8:36:21,  1.29s/논문]"
     ]
    },
    {
     "name": "stdout",
     "output_type": "stream",
     "text": [
      "[1248/25348] ✅ 저장 완료 (PMCID: PMC11998943)\n",
      "[1249/25348] ✅ 저장 완료 (PMCID: PMC12010484)\n"
     ]
    },
    {
     "name": "stderr",
     "output_type": "stream",
     "text": [
      "vitamin 진행:   5%|▍         | 1250/25348 [23:59<8:56:47,  1.34s/논문]"
     ]
    },
    {
     "name": "stdout",
     "output_type": "stream",
     "text": [
      "[1250/25348] ✅ 저장 완료 (PMCID: PMC11882838)\n"
     ]
    },
    {
     "name": "stderr",
     "output_type": "stream",
     "text": [
      "vitamin 진행:   5%|▍         | 1251/25348 [24:00<8:18:43,  1.24s/논문]"
     ]
    },
    {
     "name": "stdout",
     "output_type": "stream",
     "text": [
      "[1251/25348] ⚠️ PMCID 없음 → 건너뜀\n",
      "[1252/25348] ⚠️ PMCID 없음 → 건너뜀\n",
      "[1253/25348] ✅ 저장 완료 (PMCID: PMC11987730)\n"
     ]
    },
    {
     "name": "stderr",
     "output_type": "stream",
     "text": [
      "vitamin 진행:   5%|▍         | 1253/25348 [24:04<10:31:29,  1.57s/논문]"
     ]
    },
    {
     "name": "stdout",
     "output_type": "stream",
     "text": [
      "[1254/25348] ⚠️ PMCID 없음 → 건너뜀\n"
     ]
    },
    {
     "name": "stderr",
     "output_type": "stream",
     "text": [
      "vitamin 진행:   5%|▍         | 1255/25348 [24:05<7:53:03,  1.18s/논문] "
     ]
    },
    {
     "name": "stdout",
     "output_type": "stream",
     "text": [
      "[1255/25348] ✅ 저장 완료 (PMCID: PMC11943436)\n"
     ]
    },
    {
     "name": "stderr",
     "output_type": "stream",
     "text": [
      "vitamin 진행:   5%|▍         | 1256/25348 [24:07<8:55:46,  1.33s/논문]"
     ]
    },
    {
     "name": "stdout",
     "output_type": "stream",
     "text": [
      "[1256/25348] ✅ 저장 완료 (PMCID: PMC12166952)\n",
      "[1257/25348] ✅ 저장 완료 (PMCID: PMC12019573)\n"
     ]
    },
    {
     "name": "stderr",
     "output_type": "stream",
     "text": [
      "vitamin 진행:   5%|▍         | 1258/25348 [24:10<8:59:21,  1.34s/논문]"
     ]
    },
    {
     "name": "stdout",
     "output_type": "stream",
     "text": [
      "[1258/25348] ✅ 저장 완료 (PMCID: PMC12195403)\n",
      "[1259/25348] ⚠️ PMCID 없음 → 건너뜀\n",
      "[1260/25348] ✅ 저장 완료 (PMCID: PMC11928472)\n"
     ]
    },
    {
     "name": "stderr",
     "output_type": "stream",
     "text": [
      "vitamin 진행:   5%|▍         | 1261/25348 [24:14<10:06:17,  1.51s/논문]"
     ]
    },
    {
     "name": "stdout",
     "output_type": "stream",
     "text": [
      "[1261/25348] ✅ 저장 완료 (PMCID: PMC12196118)\n",
      "[1262/25348] ⚠️ PMCID 없음 → 건너뜀\n",
      "[1263/25348] ⚠️ PMCID 없음 → 건너뜀\n",
      "[1264/25348] ✅ 저장 완료 (PMCID: PMC11936264)\n"
     ]
    },
    {
     "name": "stderr",
     "output_type": "stream",
     "text": [
      "vitamin 진행:   5%|▍         | 1265/25348 [24:19<8:23:17,  1.25s/논문] "
     ]
    },
    {
     "name": "stdout",
     "output_type": "stream",
     "text": [
      "[1265/25348] ✅ 저장 완료 (PMCID: PMC11905576)\n"
     ]
    },
    {
     "name": "stderr",
     "output_type": "stream",
     "text": [
      "vitamin 진행:   5%|▍         | 1266/25348 [24:20<7:57:39,  1.19s/논문]"
     ]
    },
    {
     "name": "stdout",
     "output_type": "stream",
     "text": [
      "[1266/25348] ⚠️ PMCID 없음 → 건너뜀\n",
      "[1267/25348] ✅ 저장 완료 (PMCID: PMC12034828)\n"
     ]
    },
    {
     "name": "stderr",
     "output_type": "stream",
     "text": [
      "vitamin 진행:   5%|▌         | 1268/25348 [24:23<8:31:11,  1.27s/논문]"
     ]
    },
    {
     "name": "stdout",
     "output_type": "stream",
     "text": [
      "[1268/25348] ✅ 저장 완료 (PMCID: PMC11927502)\n"
     ]
    },
    {
     "name": "stderr",
     "output_type": "stream",
     "text": [
      "vitamin 진행:   5%|▌         | 1269/25348 [24:24<8:10:31,  1.22s/논문]"
     ]
    },
    {
     "name": "stdout",
     "output_type": "stream",
     "text": [
      "[1269/25348] ✅ 저장 완료 (PMCID: PMC12103855)\n",
      "[1270/25348] ⚠️ PMCID 없음 → 건너뜀\n"
     ]
    },
    {
     "name": "stderr",
     "output_type": "stream",
     "text": [
      "vitamin 진행:   5%|▌         | 1271/25348 [24:25<6:05:02,  1.10논문/s]"
     ]
    },
    {
     "name": "stdout",
     "output_type": "stream",
     "text": [
      "[1271/25348] ⚠️ PMCID 없음 → 건너뜀\n",
      "[1272/25348] ✅ 저장 완료 (PMCID: PMC12091810)\n"
     ]
    },
    {
     "name": "stderr",
     "output_type": "stream",
     "text": [
      "vitamin 진행:   5%|▌         | 1273/25348 [24:29<8:58:55,  1.34s/논문]"
     ]
    },
    {
     "name": "stdout",
     "output_type": "stream",
     "text": [
      "[1273/25348] ✅ 저장 완료 (PMCID: PMC12011661)\n",
      "[1274/25348] ✅ 저장 완료 (PMCID: PMC11906757)\n"
     ]
    },
    {
     "name": "stderr",
     "output_type": "stream",
     "text": [
      "vitamin 진행:   5%|▌         | 1275/25348 [24:32<9:40:50,  1.45s/논문] "
     ]
    },
    {
     "name": "stdout",
     "output_type": "stream",
     "text": [
      "[1275/25348] ✅ 저장 완료 (PMCID: PMC12182186)\n"
     ]
    },
    {
     "name": "stderr",
     "output_type": "stream",
     "text": [
      "vitamin 진행:   5%|▌         | 1276/25348 [24:33<9:19:35,  1.39s/논문]"
     ]
    },
    {
     "name": "stdout",
     "output_type": "stream",
     "text": [
      "[1276/25348] ⚠️ PMCID 없음 → 건너뜀\n",
      "[1277/25348] ⚠️ PMCID 없음 → 건너뜀\n",
      "[1278/25348] ⚠️ PMCID 없음 → 건너뜀\n",
      "[1279/25348] ⚠️ PMCID 없음 → 건너뜀\n",
      "[1280/25348] ✅ 저장 완료 (PMCID: PMC11892490)\n"
     ]
    },
    {
     "name": "stderr",
     "output_type": "stream",
     "text": [
      "vitamin 진행:   5%|▌         | 1281/25348 [24:38<7:17:48,  1.09s/논문]"
     ]
    },
    {
     "name": "stdout",
     "output_type": "stream",
     "text": [
      "[1281/25348] ✅ 저장 완료 (PMCID: PMC11932459)\n"
     ]
    },
    {
     "name": "stderr",
     "output_type": "stream",
     "text": [
      "vitamin 진행:   5%|▌         | 1282/25348 [24:39<7:08:17,  1.07s/논문]"
     ]
    },
    {
     "name": "stdout",
     "output_type": "stream",
     "text": [
      "[1282/25348] ✅ 저장 완료 (PMCID: PMC11885343)\n",
      "[1283/25348] ✅ 저장 완료 (PMCID: PMC11907966)\n"
     ]
    },
    {
     "name": "stderr",
     "output_type": "stream",
     "text": [
      "vitamin 진행:   5%|▌         | 1284/25348 [24:43<9:20:49,  1.40s/논문]"
     ]
    },
    {
     "name": "stdout",
     "output_type": "stream",
     "text": [
      "[1284/25348] ✅ 저장 완료 (PMCID: PMC12069050)\n",
      "[1285/25348] ✅ 저장 완료 (PMCID: PMC11943887)\n"
     ]
    },
    {
     "name": "stderr",
     "output_type": "stream",
     "text": [
      "vitamin 진행:   5%|▌         | 1286/25348 [24:46<10:01:58,  1.50s/논문]"
     ]
    },
    {
     "name": "stdout",
     "output_type": "stream",
     "text": [
      "[1286/25348] ⚠️ PMCID 없음 → 건너뜀\n",
      "[1287/25348] ⚠️ PMCID 없음 → 건너뜀\n",
      "[1288/25348] ⚠️ PMCID 없음 → 건너뜀\n"
     ]
    },
    {
     "name": "stderr",
     "output_type": "stream",
     "text": [
      "vitamin 진행:   5%|▌         | 1289/25348 [24:47<5:52:05,  1.14논문/s] "
     ]
    },
    {
     "name": "stdout",
     "output_type": "stream",
     "text": [
      "[1289/25348] ✅ 저장 완료 (PMCID: PMC11986123)\n",
      "[1290/25348] ✅ 저장 완료 (PMCID: PMC12142260)\n"
     ]
    },
    {
     "name": "stderr",
     "output_type": "stream",
     "text": [
      "vitamin 진행:   5%|▌         | 1291/25348 [24:51<8:20:39,  1.25s/논문]"
     ]
    },
    {
     "name": "stdout",
     "output_type": "stream",
     "text": [
      "[1291/25348] ⚠️ PMCID 없음 → 건너뜀\n",
      "[1292/25348] ⚠️ PMCID 없음 → 건너뜀\n"
     ]
    },
    {
     "name": "stderr",
     "output_type": "stream",
     "text": [
      "vitamin 진행:   5%|▌         | 1293/25348 [24:52<6:39:30,  1.00논문/s]"
     ]
    },
    {
     "name": "stdout",
     "output_type": "stream",
     "text": [
      "[1293/25348] ✅ 저장 완료 (PMCID: PMC11953092)\n",
      "[1294/25348] ✅ 저장 완료 (PMCID: PMC12026399)\n"
     ]
    },
    {
     "name": "stderr",
     "output_type": "stream",
     "text": [
      "vitamin 진행:   5%|▌         | 1294/25348 [24:55<8:58:43,  1.34s/논문]"
     ]
    },
    {
     "name": "stdout",
     "output_type": "stream",
     "text": [
      "[1295/25348] ⚠️ PMCID 없음 → 건너뜀\n"
     ]
    },
    {
     "name": "stderr",
     "output_type": "stream",
     "text": [
      "vitamin 진행:   5%|▌         | 1296/25348 [24:56<6:49:32,  1.02s/논문]"
     ]
    },
    {
     "name": "stdout",
     "output_type": "stream",
     "text": [
      "[1296/25348] ⚠️ PMCID 없음 → 건너뜀\n",
      "[1297/25348] ⚠️ PMCID 없음 → 건너뜀\n"
     ]
    },
    {
     "name": "stderr",
     "output_type": "stream",
     "text": [
      "vitamin 진행:   5%|▌         | 1298/25348 [24:57<5:35:44,  1.19논문/s]"
     ]
    },
    {
     "name": "stdout",
     "output_type": "stream",
     "text": [
      "[1298/25348] ✅ 저장 완료 (PMCID: PMC12083039)\n",
      "[1299/25348] ✅ 저장 완료 (PMCID: PMC12194466)\n"
     ]
    },
    {
     "name": "stderr",
     "output_type": "stream",
     "text": [
      "vitamin 진행:   5%|▌         | 1300/25348 [25:01<8:08:48,  1.22s/논문]"
     ]
    },
    {
     "name": "stdout",
     "output_type": "stream",
     "text": [
      "⚠️ abstract section 없음 (PMCID: PMC12186304) → 건너뜀\n"
     ]
    },
    {
     "name": "stderr",
     "output_type": "stream",
     "text": [
      "vitamin 진행:   5%|▌         | 1301/25348 [25:02<7:45:20,  1.16s/논문]"
     ]
    },
    {
     "name": "stdout",
     "output_type": "stream",
     "text": [
      "[1301/25348] ⚠️ PMCID 없음 → 건너뜀\n"
     ]
    },
    {
     "name": "stderr",
     "output_type": "stream",
     "text": [
      "vitamin 진행:   5%|▌         | 1302/25348 [25:03<7:35:43,  1.14s/논문]"
     ]
    },
    {
     "name": "stdout",
     "output_type": "stream",
     "text": [
      "[1302/25348] ✅ 저장 완료 (PMCID: PMC11972622)\n"
     ]
    },
    {
     "name": "stderr",
     "output_type": "stream",
     "text": [
      "vitamin 진행:   5%|▌         | 1303/25348 [25:04<7:31:06,  1.13s/논문]"
     ]
    },
    {
     "name": "stdout",
     "output_type": "stream",
     "text": [
      "[1303/25348] ✅ 저장 완료 (PMCID: PMC11914524)\n",
      "[1304/25348] ⚠️ PMCID 없음 → 건너뜀\n",
      "[1305/25348] ⚠️ PMCID 없음 → 건너뜀\n",
      "[1306/25348] ✅ 저장 완료 (PMCID: PMC12170302)\n"
     ]
    },
    {
     "name": "stderr",
     "output_type": "stream",
     "text": [
      "vitamin 진행:   5%|▌         | 1307/25348 [25:09<8:16:04,  1.24s/논문]"
     ]
    },
    {
     "name": "stdout",
     "output_type": "stream",
     "text": [
      "[1307/25348] ✅ 저장 완료 (PMCID: PMC12114473)\n",
      "[1308/25348] ✅ 저장 완료 (PMCID: PMC12085280)\n"
     ]
    },
    {
     "name": "stderr",
     "output_type": "stream",
     "text": [
      "vitamin 진행:   5%|▌         | 1309/25348 [25:14<10:49:04,  1.62s/논문]"
     ]
    },
    {
     "name": "stdout",
     "output_type": "stream",
     "text": [
      "[1309/25348] ✅ 저장 완료 (PMCID: PMC11988875)\n",
      "[1310/25348] ✅ 저장 완료 (PMCID: PMC11944496)\n"
     ]
    },
    {
     "name": "stderr",
     "output_type": "stream",
     "text": [
      "vitamin 진행:   5%|▌         | 1311/25348 [25:18<11:11:04,  1.68s/논문]"
     ]
    },
    {
     "name": "stdout",
     "output_type": "stream",
     "text": [
      "[1311/25348] ⚠️ PMCID 없음 → 건너뜀\n",
      "[1312/25348] ⚠️ PMCID 없음 → 건너뜀\n"
     ]
    },
    {
     "name": "stderr",
     "output_type": "stream",
     "text": [
      "vitamin 진행:   5%|▌         | 1313/25348 [25:19<7:55:42,  1.19s/논문] "
     ]
    },
    {
     "name": "stdout",
     "output_type": "stream",
     "text": [
      "[1313/25348] ✅ 저장 완료 (PMCID: PMC11944846)\n",
      "[1314/25348] ⚠️ PMCID 없음 → 건너뜀\n",
      "[1315/25348] ⚠️ PMCID 없음 → 건너뜀\n"
     ]
    },
    {
     "name": "stderr",
     "output_type": "stream",
     "text": [
      "vitamin 진행:   5%|▌         | 1316/25348 [25:20<5:25:02,  1.23논문/s]"
     ]
    },
    {
     "name": "stdout",
     "output_type": "stream",
     "text": [
      "[1316/25348] ⚠️ PMCID 없음 → 건너뜀\n",
      "[1317/25348] ✅ 저장 완료 (PMCID: PMC12174073)\n"
     ]
    },
    {
     "name": "stderr",
     "output_type": "stream",
     "text": [
      "vitamin 진행:   5%|▌         | 1318/25348 [25:24<7:57:36,  1.19s/논문]"
     ]
    },
    {
     "name": "stdout",
     "output_type": "stream",
     "text": [
      "[1318/25348] ✅ 저장 완료 (PMCID: PMC12072721)\n",
      "[1319/25348] ✅ 저장 완료 (PMCID: PMC12162360)\n"
     ]
    },
    {
     "name": "stderr",
     "output_type": "stream",
     "text": [
      "vitamin 진행:   5%|▌         | 1319/25348 [25:28<11:02:03,  1.65s/논문]"
     ]
    },
    {
     "name": "stdout",
     "output_type": "stream",
     "text": [
      "[1320/25348] ⚠️ PMCID 없음 → 건너뜀\n"
     ]
    },
    {
     "name": "stderr",
     "output_type": "stream",
     "text": [
      "vitamin 진행:   5%|▌         | 1321/25348 [25:30<9:30:17,  1.42s/논문] "
     ]
    },
    {
     "name": "stdout",
     "output_type": "stream",
     "text": [
      "[1321/25348] ✅ 저장 완료 (PMCID: PMC12122178)\n",
      "[1322/25348] ✅ 저장 완료 (PMCID: PMC12110436)\n"
     ]
    },
    {
     "name": "stderr",
     "output_type": "stream",
     "text": [
      "vitamin 진행:   5%|▌         | 1322/25348 [25:32<10:53:24,  1.63s/논문]"
     ]
    },
    {
     "name": "stdout",
     "output_type": "stream",
     "text": [
      "[1323/25348] ⚠️ PMCID 없음 → 건너뜀\n"
     ]
    },
    {
     "name": "stderr",
     "output_type": "stream",
     "text": [
      "vitamin 진행:   5%|▌         | 1324/25348 [25:33<7:53:57,  1.18s/논문] "
     ]
    },
    {
     "name": "stdout",
     "output_type": "stream",
     "text": [
      "[1324/25348] ✅ 저장 완료 (PMCID: PMC12174906)\n",
      "[1325/25348] ⚠️ PMCID 없음 → 건너뜀\n"
     ]
    },
    {
     "name": "stderr",
     "output_type": "stream",
     "text": [
      "vitamin 진행:   5%|▌         | 1326/25348 [25:36<8:01:42,  1.20s/논문]"
     ]
    },
    {
     "name": "stdout",
     "output_type": "stream",
     "text": [
      "[1326/25348] ✅ 저장 완료 (PMCID: PMC12030302)\n",
      "[1327/25348] ✅ 저장 완료 (PMCID: PMC12091632)\n"
     ]
    },
    {
     "name": "stderr",
     "output_type": "stream",
     "text": [
      "vitamin 진행:   5%|▌         | 1328/25348 [25:39<9:21:42,  1.40s/논문]"
     ]
    },
    {
     "name": "stdout",
     "output_type": "stream",
     "text": [
      "[1328/25348] ✅ 저장 완료 (PMCID: PMC11996662)\n",
      "[1329/25348] ⚠️ PMCID 없음 → 건너뜀\n",
      "[1330/25348] ✅ 저장 완료 (PMCID: PMC11934729)\n"
     ]
    },
    {
     "name": "stderr",
     "output_type": "stream",
     "text": [
      "vitamin 진행:   5%|▌         | 1331/25348 [25:43<8:23:03,  1.26s/논문]"
     ]
    },
    {
     "name": "stdout",
     "output_type": "stream",
     "text": [
      "[1331/25348] ⚠️ PMCID 없음 → 건너뜀\n"
     ]
    },
    {
     "name": "stderr",
     "output_type": "stream",
     "text": [
      "vitamin 진행:   5%|▌         | 1332/25348 [25:44<8:16:10,  1.24s/논문]"
     ]
    },
    {
     "name": "stdout",
     "output_type": "stream",
     "text": [
      "[1332/25348] ✅ 저장 완료 (PMCID: PMC12133677)\n",
      "[1333/25348] ⚠️ PMCID 없음 → 건너뜀\n",
      "[1334/25348] ✅ 저장 완료 (PMCID: PMC12029084)\n"
     ]
    },
    {
     "name": "stderr",
     "output_type": "stream",
     "text": [
      "vitamin 진행:   5%|▌         | 1334/25348 [25:47<8:26:28,  1.27s/논문]"
     ]
    },
    {
     "name": "stdout",
     "output_type": "stream",
     "text": [
      "[1335/25348] ⚠️ PMCID 없음 → 건너뜀\n"
     ]
    },
    {
     "name": "stderr",
     "output_type": "stream",
     "text": [
      "vitamin 진행:   5%|▌         | 1336/25348 [25:49<7:51:20,  1.18s/논문]"
     ]
    },
    {
     "name": "stdout",
     "output_type": "stream",
     "text": [
      "[1336/25348] ✅ 저장 완료 (PMCID: PMC11966488)\n",
      "[1337/25348] ✅ 저장 완료 (PMCID: PMC12154750)\n"
     ]
    },
    {
     "name": "stderr",
     "output_type": "stream",
     "text": [
      "vitamin 진행:   5%|▌         | 1337/25348 [25:51<9:50:12,  1.47s/논문]"
     ]
    },
    {
     "name": "stdout",
     "output_type": "stream",
     "text": [
      "[1338/25348] ⚠️ PMCID 없음 → 건너뜀\n",
      "[1339/25348] ⚠️ PMCID 없음 → 건너뜀\n",
      "[1340/25348] ⚠️ PMCID 없음 → 건너뜀\n"
     ]
    },
    {
     "name": "stderr",
     "output_type": "stream",
     "text": [
      "vitamin 진행:   5%|▌         | 1341/25348 [25:52<5:23:39,  1.24논문/s]"
     ]
    },
    {
     "name": "stdout",
     "output_type": "stream",
     "text": [
      "[1341/25348] ⚠️ PMCID 없음 → 건너뜀\n"
     ]
    },
    {
     "name": "stderr",
     "output_type": "stream",
     "text": [
      "vitamin 진행:   5%|▌         | 1342/25348 [25:53<5:33:56,  1.20논문/s]"
     ]
    },
    {
     "name": "stdout",
     "output_type": "stream",
     "text": [
      "[1342/25348] ✅ 저장 완료 (PMCID: PMC12126296)\n",
      "[1343/25348] ✅ 저장 완료 (PMCID: PMC11872774)\n"
     ]
    },
    {
     "name": "stderr",
     "output_type": "stream",
     "text": [
      "vitamin 진행:   5%|▌         | 1343/25348 [25:56<8:10:09,  1.23s/논문]"
     ]
    },
    {
     "name": "stdout",
     "output_type": "stream",
     "text": [
      "[1344/25348] ⚠️ PMCID 없음 → 건너뜀\n",
      "[1345/25348] ⚠️ PMCID 없음 → 건너뜀\n"
     ]
    },
    {
     "name": "stderr",
     "output_type": "stream",
     "text": [
      "vitamin 진행:   5%|▌         | 1346/25348 [25:58<6:41:35,  1.00s/논문]"
     ]
    },
    {
     "name": "stdout",
     "output_type": "stream",
     "text": [
      "[1346/25348] ✅ 저장 완료 (PMCID: PMC11955666)\n",
      "[1347/25348] ✅ 저장 완료 (PMCID: PMC12060202)\n"
     ]
    },
    {
     "name": "stderr",
     "output_type": "stream",
     "text": [
      "vitamin 진행:   5%|▌         | 1347/25348 [26:01<8:34:49,  1.29s/논문]"
     ]
    },
    {
     "name": "stdout",
     "output_type": "stream",
     "text": [
      "[1348/25348] ⚠️ PMCID 없음 → 건너뜀\n"
     ]
    },
    {
     "name": "stderr",
     "output_type": "stream",
     "text": [
      "vitamin 진행:   5%|▌         | 1349/25348 [26:02<6:59:33,  1.05s/논문]"
     ]
    },
    {
     "name": "stdout",
     "output_type": "stream",
     "text": [
      "[1349/25348] ✅ 저장 완료 (PMCID: PMC12159696)\n",
      "[1350/25348] ✅ 저장 완료 (PMCID: PMC12010221)\n"
     ]
    },
    {
     "name": "stderr",
     "output_type": "stream",
     "text": [
      "vitamin 진행:   5%|▌         | 1351/25348 [26:05<8:06:19,  1.22s/논문]"
     ]
    },
    {
     "name": "stdout",
     "output_type": "stream",
     "text": [
      "[1351/25348] ⚠️ PMCID 없음 → 건너뜀\n",
      "[1352/25348] ⚠️ PMCID 없음 → 건너뜀\n"
     ]
    },
    {
     "name": "stderr",
     "output_type": "stream",
     "text": [
      "vitamin 진행:   5%|▌         | 1353/25348 [26:06<6:31:10,  1.02논문/s]"
     ]
    },
    {
     "name": "stdout",
     "output_type": "stream",
     "text": [
      "[1353/25348] ✅ 저장 완료 (PMCID: PMC12162003)\n",
      "[1354/25348] ✅ 저장 완료 (PMCID: PMC11901431)\n"
     ]
    },
    {
     "name": "stderr",
     "output_type": "stream",
     "text": [
      "vitamin 진행:   5%|▌         | 1355/25348 [26:10<8:33:14,  1.28s/논문]"
     ]
    },
    {
     "name": "stdout",
     "output_type": "stream",
     "text": [
      "[1355/25348] ✅ 저장 완료 (PMCID: PMC12071270)\n",
      "[1356/25348] ✅ 저장 완료 (PMCID: PMC11955837)\n"
     ]
    },
    {
     "name": "stderr",
     "output_type": "stream",
     "text": [
      "vitamin 진행:   5%|▌         | 1357/25348 [26:15<10:34:30,  1.59s/논문]"
     ]
    },
    {
     "name": "stdout",
     "output_type": "stream",
     "text": [
      "[1357/25348] ✅ 저장 완료 (PMCID: PMC12120807)\n",
      "[1358/25348] ✅ 저장 완료 (PMCID: PMC11944524)\n"
     ]
    },
    {
     "name": "stderr",
     "output_type": "stream",
     "text": [
      "vitamin 진행:   5%|▌         | 1358/25348 [26:17<12:42:18,  1.91s/논문]"
     ]
    },
    {
     "name": "stdout",
     "output_type": "stream",
     "text": [
      "[1359/25348] ⚠️ PMCID 없음 → 건너뜀\n",
      "[1360/25348] ⚠️ PMCID 없음 → 건너뜀\n"
     ]
    },
    {
     "name": "stderr",
     "output_type": "stream",
     "text": [
      "vitamin 진행:   5%|▌         | 1361/25348 [26:19<8:09:59,  1.23s/논문] "
     ]
    },
    {
     "name": "stdout",
     "output_type": "stream",
     "text": [
      "[1361/25348] ✅ 저장 완료 (PMCID: PMC11995586)\n",
      "[1362/25348] ✅ 저장 완료 (PMCID: PMC11944465)\n"
     ]
    },
    {
     "name": "stderr",
     "output_type": "stream",
     "text": [
      "vitamin 진행:   5%|▌         | 1363/25348 [26:22<8:46:38,  1.32s/논문]"
     ]
    },
    {
     "name": "stdout",
     "output_type": "stream",
     "text": [
      "[1363/25348] ✅ 저장 완료 (PMCID: PMC12028613)\n",
      "[1364/25348] ✅ 저장 완료 (PMCID: PMC12173315)\n"
     ]
    },
    {
     "name": "stderr",
     "output_type": "stream",
     "text": [
      "vitamin 진행:   5%|▌         | 1364/25348 [26:25<11:27:56,  1.72s/논문]"
     ]
    },
    {
     "name": "stdout",
     "output_type": "stream",
     "text": [
      "[1365/25348] ⚠️ PMCID 없음 → 건너뜀\n"
     ]
    },
    {
     "name": "stderr",
     "output_type": "stream",
     "text": [
      "vitamin 진행:   5%|▌         | 1366/25348 [26:26<8:05:28,  1.21s/논문] "
     ]
    },
    {
     "name": "stdout",
     "output_type": "stream",
     "text": [
      "[1366/25348] ⚠️ PMCID 없음 → 건너뜀\n",
      "[1367/25348] ⚠️ PMCID 없음 → 건너뜀\n"
     ]
    },
    {
     "name": "stderr",
     "output_type": "stream",
     "text": [
      "vitamin 진행:   5%|▌         | 1368/25348 [26:27<6:35:21,  1.01논문/s]"
     ]
    },
    {
     "name": "stdout",
     "output_type": "stream",
     "text": [
      "[1368/25348] ✅ 저장 완료 (PMCID: PMC12150918)\n",
      "[1369/25348] ✅ 저장 완료 (PMCID: PMC12029153)\n"
     ]
    },
    {
     "name": "stderr",
     "output_type": "stream",
     "text": [
      "vitamin 진행:   5%|▌         | 1369/25348 [26:29<7:51:56,  1.18s/논문]"
     ]
    },
    {
     "name": "stdout",
     "output_type": "stream",
     "text": [
      "[1370/25348] ⚠️ PMCID 없음 → 건너뜀\n"
     ]
    },
    {
     "name": "stderr",
     "output_type": "stream",
     "text": [
      "vitamin 진행:   5%|▌         | 1371/25348 [26:32<7:55:31,  1.19s/논문]"
     ]
    },
    {
     "name": "stdout",
     "output_type": "stream",
     "text": [
      "[1371/25348] ✅ 저장 완료 (PMCID: PMC11902150)\n",
      "[1372/25348] ⚠️ PMCID 없음 → 건너뜀\n",
      "[1373/25348] ✅ 저장 완료 (PMCID: PMC11922425)\n"
     ]
    },
    {
     "name": "stderr",
     "output_type": "stream",
     "text": [
      "vitamin 진행:   5%|▌         | 1374/25348 [26:36<8:52:35,  1.33s/논문]"
     ]
    },
    {
     "name": "stdout",
     "output_type": "stream",
     "text": [
      "[1374/25348] ✅ 저장 완료 (PMCID: PMC11944365)\n",
      "[1375/25348] ✅ 저장 완료 (PMCID: PMC11901511)\n"
     ]
    },
    {
     "name": "stderr",
     "output_type": "stream",
     "text": [
      "vitamin 진행:   5%|▌         | 1376/25348 [26:40<10:00:06,  1.50s/논문]"
     ]
    },
    {
     "name": "stdout",
     "output_type": "stream",
     "text": [
      "[1376/25348] ⚠️ PMCID 없음 → 건너뜀\n"
     ]
    },
    {
     "name": "stderr",
     "output_type": "stream",
     "text": [
      "vitamin 진행:   5%|▌         | 1377/25348 [26:41<9:30:24,  1.43s/논문] "
     ]
    },
    {
     "name": "stdout",
     "output_type": "stream",
     "text": [
      "[1377/25348] ✅ 저장 완료 (PMCID: PMC11944737)\n",
      "[1378/25348] ✅ 저장 완료 (PMCID: PMC11996664)\n"
     ]
    },
    {
     "name": "stderr",
     "output_type": "stream",
     "text": [
      "vitamin 진행:   5%|▌         | 1378/25348 [26:44<12:09:08,  1.83s/논문]"
     ]
    },
    {
     "name": "stdout",
     "output_type": "stream",
     "text": [
      "[1379/25348] ⚠️ PMCID 없음 → 건너뜀\n"
     ]
    },
    {
     "name": "stderr",
     "output_type": "stream",
     "text": [
      "vitamin 진행:   5%|▌         | 1380/25348 [26:45<8:44:44,  1.31s/논문] "
     ]
    },
    {
     "name": "stdout",
     "output_type": "stream",
     "text": [
      "[1380/25348] ✅ 저장 완료 (PMCID: PMC12189842)\n",
      "[1381/25348] ✅ 저장 완료 (PMCID: PMC11863558)\n"
     ]
    },
    {
     "name": "stderr",
     "output_type": "stream",
     "text": [
      "vitamin 진행:   5%|▌         | 1382/25348 [26:50<10:51:52,  1.63s/논문]"
     ]
    },
    {
     "name": "stdout",
     "output_type": "stream",
     "text": [
      "[1382/25348] ✅ 저장 완료 (PMCID: PMC12105411)\n",
      "[1383/25348] ⚠️ PMCID 없음 → 건너뜀\n",
      "[1384/25348] ✅ 저장 완료 (PMCID: PMC12070787)\n"
     ]
    },
    {
     "name": "stderr",
     "output_type": "stream",
     "text": [
      "vitamin 진행:   5%|▌         | 1385/25348 [26:54<9:46:45,  1.47s/논문] "
     ]
    },
    {
     "name": "stdout",
     "output_type": "stream",
     "text": [
      "[1385/25348] ✅ 저장 완료 (PMCID: PMC11900948)\n"
     ]
    },
    {
     "name": "stderr",
     "output_type": "stream",
     "text": [
      "vitamin 진행:   5%|▌         | 1386/25348 [26:55<9:10:33,  1.38s/논문]"
     ]
    },
    {
     "name": "stdout",
     "output_type": "stream",
     "text": [
      "[1386/25348] ⚠️ PMCID 없음 → 건너뜀\n",
      "[1387/25348] ⚠️ PMCID 없음 → 건너뜀\n",
      "[1388/25348] ✅ 저장 완료 (PMCID: PMC11954655)\n"
     ]
    },
    {
     "name": "stderr",
     "output_type": "stream",
     "text": [
      "vitamin 진행:   5%|▌         | 1389/25348 [26:59<8:15:50,  1.24s/논문]"
     ]
    },
    {
     "name": "stdout",
     "output_type": "stream",
     "text": [
      "[1389/25348] ✅ 저장 완료 (PMCID: PMC11938431)\n",
      "[1390/25348] ⚠️ PMCID 없음 → 건너뜀\n"
     ]
    },
    {
     "name": "stderr",
     "output_type": "stream",
     "text": [
      "vitamin 진행:   5%|▌         | 1391/25348 [27:00<6:19:54,  1.05논문/s]"
     ]
    },
    {
     "name": "stdout",
     "output_type": "stream",
     "text": [
      "[1391/25348] ⚠️ PMCID 없음 → 건너뜀\n",
      "[1392/25348] ⚠️ PMCID 없음 → 건너뜀\n",
      "[1393/25348] ⚠️ PMCID 없음 → 건너뜀\n",
      "[1394/25348] ✅ 저장 완료 (PMCID: PMC12113742)\n"
     ]
    },
    {
     "name": "stderr",
     "output_type": "stream",
     "text": [
      "vitamin 진행:   5%|▌         | 1394/25348 [27:03<6:19:08,  1.05논문/s]"
     ]
    },
    {
     "name": "stdout",
     "output_type": "stream",
     "text": [
      "[1395/25348] ⚠️ PMCID 없음 → 건너뜀\n"
     ]
    },
    {
     "name": "stderr",
     "output_type": "stream",
     "text": [
      "vitamin 진행:   6%|▌         | 1396/25348 [27:05<6:29:40,  1.02논문/s]"
     ]
    },
    {
     "name": "stdout",
     "output_type": "stream",
     "text": [
      "[1396/25348] ✅ 저장 완료 (PMCID: PMC11930875)\n",
      "[1397/25348] ✅ 저장 완료 (PMCID: PMC11954413)\n"
     ]
    },
    {
     "name": "stderr",
     "output_type": "stream",
     "text": [
      "vitamin 진행:   6%|▌         | 1398/25348 [27:08<7:50:19,  1.18s/논문]"
     ]
    },
    {
     "name": "stdout",
     "output_type": "stream",
     "text": [
      "[1398/25348] ✅ 저장 완료 (PMCID: PMC11901458)\n",
      "[1399/25348] ✅ 저장 완료 (PMCID: PMC12195673)\n"
     ]
    },
    {
     "name": "stderr",
     "output_type": "stream",
     "text": [
      "vitamin 진행:   6%|▌         | 1400/25348 [27:12<9:36:10,  1.44s/논문] "
     ]
    },
    {
     "name": "stdout",
     "output_type": "stream",
     "text": [
      "[1400/25348] ✅ 저장 완료 (PMCID: PMC12079081)\n"
     ]
    },
    {
     "name": "stderr",
     "output_type": "stream",
     "text": [
      "vitamin 진행:   6%|▌         | 1401/25348 [27:13<8:51:31,  1.33s/논문]"
     ]
    },
    {
     "name": "stdout",
     "output_type": "stream",
     "text": [
      "[1401/25348] ⚠️ PMCID 없음 → 건너뜀\n",
      "[1402/25348] ⚠️ PMCID 없음 → 건너뜀\n"
     ]
    },
    {
     "name": "stderr",
     "output_type": "stream",
     "text": [
      "vitamin 진행:   6%|▌         | 1403/25348 [27:14<6:27:00,  1.03논문/s]"
     ]
    },
    {
     "name": "stdout",
     "output_type": "stream",
     "text": [
      "[1403/25348] ✅ 저장 완료 (PMCID: PMC11901608)\n",
      "[1404/25348] ✅ 저장 완료 (PMCID: PMC12159374)\n"
     ]
    },
    {
     "name": "stderr",
     "output_type": "stream",
     "text": [
      "vitamin 진행:   6%|▌         | 1405/25348 [27:18<8:59:00,  1.35s/논문]"
     ]
    },
    {
     "name": "stdout",
     "output_type": "stream",
     "text": [
      "[1405/25348] ✅ 저장 완료 (PMCID: PMC12173896)\n"
     ]
    },
    {
     "name": "stderr",
     "output_type": "stream",
     "text": [
      "vitamin 진행:   6%|▌         | 1406/25348 [27:19<8:18:14,  1.25s/논문]"
     ]
    },
    {
     "name": "stdout",
     "output_type": "stream",
     "text": [
      "[1406/25348] ⚠️ PMCID 없음 → 건너뜀\n",
      "[1407/25348] ⚠️ PMCID 없음 → 건너뜀\n"
     ]
    },
    {
     "name": "stderr",
     "output_type": "stream",
     "text": [
      "vitamin 진행:   6%|▌         | 1408/25348 [27:20<6:05:57,  1.09논문/s]"
     ]
    },
    {
     "name": "stdout",
     "output_type": "stream",
     "text": [
      "[1408/25348] ✅ 저장 완료 (PMCID: PMC11917401)\n",
      "[1409/25348] ✅ 저장 완료 (PMCID: PMC11965519)\n"
     ]
    },
    {
     "name": "stderr",
     "output_type": "stream",
     "text": [
      "vitamin 진행:   6%|▌         | 1409/25348 [27:23<10:27:16,  1.57s/논문]"
     ]
    },
    {
     "name": "stdout",
     "output_type": "stream",
     "text": [
      "[1410/25348] ⚠️ PMCID 없음 → 건너뜀\n"
     ]
    },
    {
     "name": "stderr",
     "output_type": "stream",
     "text": [
      "vitamin 진행:   6%|▌         | 1411/25348 [27:25<7:43:25,  1.16s/논문] "
     ]
    },
    {
     "name": "stdout",
     "output_type": "stream",
     "text": [
      "[1411/25348] ⚠️ PMCID 없음 → 건너뜀\n"
     ]
    },
    {
     "name": "stderr",
     "output_type": "stream",
     "text": [
      "vitamin 진행:   6%|▌         | 1412/25348 [27:26<7:36:09,  1.14s/논문]"
     ]
    },
    {
     "name": "stdout",
     "output_type": "stream",
     "text": [
      "[1412/25348] ✅ 저장 완료 (PMCID: PMC12074027)\n",
      "[1413/25348] ⚠️ PMCID 없음 → 건너뜀\n",
      "[1414/25348] ✅ 저장 완료 (PMCID: PMC11941902)\n"
     ]
    },
    {
     "name": "stderr",
     "output_type": "stream",
     "text": [
      "vitamin 진행:   6%|▌         | 1415/25348 [27:30<8:18:12,  1.25s/논문]"
     ]
    },
    {
     "name": "stdout",
     "output_type": "stream",
     "text": [
      "[1415/25348] ✅ 저장 완료 (PMCID: PMC12049039)\n",
      "[1416/25348] ✅ 저장 완료 (PMCID: PMC11974294)\n"
     ]
    },
    {
     "name": "stderr",
     "output_type": "stream",
     "text": [
      "vitamin 진행:   6%|▌         | 1417/25348 [27:34<10:10:50,  1.53s/논문]"
     ]
    },
    {
     "name": "stdout",
     "output_type": "stream",
     "text": [
      "[1417/25348] ✅ 저장 완료 (PMCID: PMC11965188)\n",
      "[1418/25348] ⚠️ PMCID 없음 → 건너뜀\n",
      "[1419/25348] ✅ 저장 완료 (PMCID: PMC12116213)\n"
     ]
    },
    {
     "name": "stderr",
     "output_type": "stream",
     "text": [
      "vitamin 진행:   6%|▌         | 1419/25348 [27:37<9:30:52,  1.43s/논문] "
     ]
    },
    {
     "name": "stdout",
     "output_type": "stream",
     "text": [
      "[1420/25348] ⚠️ PMCID 없음 → 건너뜀\n"
     ]
    },
    {
     "name": "stderr",
     "output_type": "stream",
     "text": [
      "vitamin 진행:   6%|▌         | 1421/25348 [27:37<7:07:50,  1.07s/논문]"
     ]
    },
    {
     "name": "stdout",
     "output_type": "stream",
     "text": [
      "[1421/25348] ⚠️ PMCID 없음 → 건너뜀\n"
     ]
    },
    {
     "name": "stderr",
     "output_type": "stream",
     "text": [
      "vitamin 진행:   6%|▌         | 1422/25348 [27:39<7:13:01,  1.09s/논문]"
     ]
    },
    {
     "name": "stdout",
     "output_type": "stream",
     "text": [
      "[1422/25348] ✅ 저장 완료 (PMCID: PMC12030530)\n",
      "[1423/25348] ⚠️ PMCID 없음 → 건너뜀\n",
      "[1424/25348] ✅ 저장 완료 (PMCID: PMC12198435)\n"
     ]
    },
    {
     "name": "stderr",
     "output_type": "stream",
     "text": [
      "vitamin 진행:   6%|▌         | 1424/25348 [27:41<7:55:48,  1.19s/논문]"
     ]
    },
    {
     "name": "stdout",
     "output_type": "stream",
     "text": [
      "[1425/25348] ⚠️ PMCID 없음 → 건너뜀\n"
     ]
    },
    {
     "name": "stderr",
     "output_type": "stream",
     "text": [
      "vitamin 진행:   6%|▌         | 1426/25348 [27:44<7:50:14,  1.18s/논문]"
     ]
    },
    {
     "name": "stdout",
     "output_type": "stream",
     "text": [
      "[1426/25348] ✅ 저장 완료 (PMCID: PMC11943852)\n",
      "[1427/25348] ⚠️ PMCID 없음 → 건너뜀\n"
     ]
    },
    {
     "name": "stderr",
     "output_type": "stream",
     "text": [
      "vitamin 진행:   6%|▌         | 1428/25348 [27:45<6:30:13,  1.02논문/s]"
     ]
    },
    {
     "name": "stdout",
     "output_type": "stream",
     "text": [
      "[1428/25348] ✅ 저장 완료 (PMCID: PMC11865262)\n",
      "[1429/25348] ⚠️ PMCID 없음 → 건너뜀\n"
     ]
    },
    {
     "name": "stderr",
     "output_type": "stream",
     "text": [
      "vitamin 진행:   6%|▌         | 1430/25348 [27:46<5:27:38,  1.22논문/s]"
     ]
    },
    {
     "name": "stdout",
     "output_type": "stream",
     "text": [
      "⚠️ abstract section 없음 (PMCID: PMC12072012) → 건너뜀\n"
     ]
    },
    {
     "name": "stderr",
     "output_type": "stream",
     "text": [
      "vitamin 진행:   6%|▌         | 1431/25348 [27:47<5:48:26,  1.14논문/s]"
     ]
    },
    {
     "name": "stdout",
     "output_type": "stream",
     "text": [
      "[1431/25348] ⚠️ PMCID 없음 → 건너뜀\n",
      "[1432/25348] ✅ 저장 완료 (PMCID: PMC11944841)\n"
     ]
    },
    {
     "name": "stderr",
     "output_type": "stream",
     "text": [
      "vitamin 진행:   6%|▌         | 1433/25348 [27:50<7:40:52,  1.16s/논문]"
     ]
    },
    {
     "name": "stdout",
     "output_type": "stream",
     "text": [
      "[1433/25348] ✅ 저장 완료 (PMCID: PMC12117906)\n",
      "[1434/25348] ✅ 저장 완료 (PMCID: PMC12004416)\n"
     ]
    },
    {
     "name": "stderr",
     "output_type": "stream",
     "text": [
      "vitamin 진행:   6%|▌         | 1435/25348 [27:53<8:26:48,  1.27s/논문]"
     ]
    },
    {
     "name": "stdout",
     "output_type": "stream",
     "text": [
      "[1435/25348] ✅ 저장 완료 (PMCID: PMC11940540)\n"
     ]
    },
    {
     "name": "stderr",
     "output_type": "stream",
     "text": [
      "vitamin 진행:   6%|▌         | 1436/25348 [27:54<7:58:23,  1.20s/논문]"
     ]
    },
    {
     "name": "stdout",
     "output_type": "stream",
     "text": [
      "[1436/25348] ⚠️ 이미 저장된 논문 건너뜀 (PMCID: PMC11940540)\n"
     ]
    },
    {
     "name": "stderr",
     "output_type": "stream",
     "text": [
      "vitamin 진행:   6%|▌         | 1437/25348 [27:55<7:33:58,  1.14s/논문]"
     ]
    },
    {
     "name": "stdout",
     "output_type": "stream",
     "text": [
      "⚠️ abstract section 없음 (PMCID: PMC11978699) → 건너뜀\n",
      "[1438/25348] ✅ 저장 완료 (PMCID: PMC12155584)\n"
     ]
    },
    {
     "name": "stderr",
     "output_type": "stream",
     "text": [
      "vitamin 진행:   6%|▌         | 1439/25348 [27:59<9:06:07,  1.37s/논문]"
     ]
    },
    {
     "name": "stdout",
     "output_type": "stream",
     "text": [
      "[1439/25348] ✅ 저장 완료 (PMCID: PMC12111660)\n",
      "[1440/25348] ⚠️ PMCID 없음 → 건너뜀\n",
      "[1441/25348] ✅ 저장 완료 (PMCID: PMC12072168)\n"
     ]
    },
    {
     "name": "stderr",
     "output_type": "stream",
     "text": [
      "vitamin 진행:   6%|▌         | 1441/25348 [28:02<10:14:39,  1.54s/논문]"
     ]
    },
    {
     "name": "stdout",
     "output_type": "stream",
     "text": [
      "[1442/25348] ⚠️ PMCID 없음 → 건너뜀\n",
      "[1443/25348] ⚠️ PMCID 없음 → 건너뜀\n"
     ]
    },
    {
     "name": "stderr",
     "output_type": "stream",
     "text": [
      "vitamin 진행:   6%|▌         | 1444/25348 [28:03<6:20:07,  1.05논문/s] "
     ]
    },
    {
     "name": "stdout",
     "output_type": "stream",
     "text": [
      "[1444/25348] ✅ 저장 완료 (PMCID: PMC11932055)\n",
      "[1445/25348] ✅ 저장 완료 (PMCID: PMC12017421)\n"
     ]
    },
    {
     "name": "stderr",
     "output_type": "stream",
     "text": [
      "vitamin 진행:   6%|▌         | 1446/25348 [28:08<9:36:04,  1.45s/논문]"
     ]
    },
    {
     "name": "stdout",
     "output_type": "stream",
     "text": [
      "[1446/25348] ✅ 저장 완료 (PMCID: PMC11944707)\n",
      "[1447/25348] ⚠️ PMCID 없음 → 건너뜀\n",
      "[1448/25348] ⚠️ PMCID 없음 → 건너뜀\n",
      "[1449/25348] ⚠️ PMCID 없음 → 건너뜀\n",
      "[1450/25348] ⚠️ PMCID 없음 → 건너뜀\n",
      "[1451/25348] ✅ 저장 완료 (PMCID: PMC11910472)\n"
     ]
    },
    {
     "name": "stderr",
     "output_type": "stream",
     "text": [
      "vitamin 진행:   6%|▌         | 1452/25348 [28:13<6:53:20,  1.04s/논문]"
     ]
    },
    {
     "name": "stdout",
     "output_type": "stream",
     "text": [
      "⚠️ abstract section 없음 (PMCID: PMC12085930) → 건너뜀\n"
     ]
    },
    {
     "name": "stderr",
     "output_type": "stream",
     "text": [
      "vitamin 진행:   6%|▌         | 1453/25348 [28:14<6:45:09,  1.02s/논문]"
     ]
    },
    {
     "name": "stdout",
     "output_type": "stream",
     "text": [
      "⚠️ abstract section 없음 (PMCID: PMC11947666) → 건너뜀\n"
     ]
    },
    {
     "name": "stderr",
     "output_type": "stream",
     "text": [
      "vitamin 진행:   6%|▌         | 1454/25348 [28:15<6:49:29,  1.03s/논문]"
     ]
    },
    {
     "name": "stdout",
     "output_type": "stream",
     "text": [
      "[1454/25348] ✅ 저장 완료 (PMCID: PMC11999415)\n",
      "[1455/25348] ⚠️ PMCID 없음 → 건너뜀\n"
     ]
    },
    {
     "name": "stderr",
     "output_type": "stream",
     "text": [
      "vitamin 진행:   6%|▌         | 1456/25348 [28:16<5:30:49,  1.20논문/s]"
     ]
    },
    {
     "name": "stdout",
     "output_type": "stream",
     "text": [
      "[1456/25348] ⚠️ PMCID 없음 → 건너뜀\n",
      "[1457/25348] ⚠️ PMCID 없음 → 건너뜀\n",
      "[1458/25348] ⚠️ PMCID 없음 → 건너뜀\n"
     ]
    },
    {
     "name": "stderr",
     "output_type": "stream",
     "text": [
      "vitamin 진행:   6%|▌         | 1459/25348 [28:17<4:12:55,  1.57논문/s]"
     ]
    },
    {
     "name": "stdout",
     "output_type": "stream",
     "text": [
      "[1459/25348] ✅ 저장 완료 (PMCID: PMC12117238)\n",
      "[1460/25348] ⚠️ PMCID 없음 → 건너뜀\n",
      "[1461/25348] ✅ 저장 완료 (PMCID: PMC12046610)\n"
     ]
    },
    {
     "name": "stderr",
     "output_type": "stream",
     "text": [
      "vitamin 진행:   6%|▌         | 1462/25348 [28:22<6:56:36,  1.05s/논문]"
     ]
    },
    {
     "name": "stdout",
     "output_type": "stream",
     "text": [
      "[1462/25348] ✅ 저장 완료 (PMCID: PMC11965439)\n",
      "[1463/25348] ✅ 저장 완료 (PMCID: PMC12156139)\n"
     ]
    },
    {
     "name": "stderr",
     "output_type": "stream",
     "text": [
      "vitamin 진행:   6%|▌         | 1464/25348 [28:26<8:41:25,  1.31s/논문]"
     ]
    },
    {
     "name": "stdout",
     "output_type": "stream",
     "text": [
      "[1464/25348] ✅ 저장 완료 (PMCID: PMC12034374)\n",
      "[1465/25348] ⚠️ PMCID 없음 → 건너뜀\n",
      "[1466/25348] ✅ 저장 완료 (PMCID: PMC12108482)\n"
     ]
    },
    {
     "name": "stderr",
     "output_type": "stream",
     "text": [
      "vitamin 진행:   6%|▌         | 1466/25348 [28:29<9:46:10,  1.47s/논문]"
     ]
    },
    {
     "name": "stdout",
     "output_type": "stream",
     "text": [
      "[1467/25348] ⚠️ PMCID 없음 → 건너뜀\n"
     ]
    },
    {
     "name": "stderr",
     "output_type": "stream",
     "text": [
      "vitamin 진행:   6%|▌         | 1468/25348 [28:30<7:31:11,  1.13s/논문]"
     ]
    },
    {
     "name": "stdout",
     "output_type": "stream",
     "text": [
      "[1468/25348] ✅ 저장 완료 (PMCID: PMC12090972)\n"
     ]
    },
    {
     "name": "stderr",
     "output_type": "stream",
     "text": [
      "vitamin 진행:   6%|▌         | 1469/25348 [28:31<7:22:19,  1.11s/논문]"
     ]
    },
    {
     "name": "stdout",
     "output_type": "stream",
     "text": [
      "⚠️ abstract section 없음 (PMCID: PMC12018682) → 건너뜀\n",
      "[1470/25348] ✅ 저장 완료 (PMCID: PMC11924107)\n"
     ]
    },
    {
     "name": "stderr",
     "output_type": "stream",
     "text": [
      "vitamin 진행:   6%|▌         | 1471/25348 [28:35<8:51:48,  1.34s/논문]"
     ]
    },
    {
     "name": "stdout",
     "output_type": "stream",
     "text": [
      "[1471/25348] ⚠️ PMCID 없음 → 건너뜀\n"
     ]
    },
    {
     "name": "stderr",
     "output_type": "stream",
     "text": [
      "vitamin 진행:   6%|▌         | 1472/25348 [28:36<8:45:44,  1.32s/논문]"
     ]
    },
    {
     "name": "stdout",
     "output_type": "stream",
     "text": [
      "[1472/25348] ✅ 저장 완료 (PMCID: PMC12137852)\n",
      "[1473/25348] ✅ 저장 완료 (PMCID: PMC11972314)\n"
     ]
    },
    {
     "name": "stderr",
     "output_type": "stream",
     "text": [
      "vitamin 진행:   6%|▌         | 1474/25348 [28:40<9:39:53,  1.46s/논문] "
     ]
    },
    {
     "name": "stdout",
     "output_type": "stream",
     "text": [
      "[1474/25348] ✅ 저장 완료 (PMCID: PMC11979600)\n",
      "[1475/25348] ✅ 저장 완료 (PMCID: PMC12062175)\n"
     ]
    },
    {
     "name": "stderr",
     "output_type": "stream",
     "text": [
      "vitamin 진행:   6%|▌         | 1476/25348 [28:43<10:35:12,  1.60s/논문]"
     ]
    },
    {
     "name": "stdout",
     "output_type": "stream",
     "text": [
      "[1476/25348] ⚠️ PMCID 없음 → 건너뜀\n"
     ]
    },
    {
     "name": "stderr",
     "output_type": "stream",
     "text": [
      "vitamin 진행:   6%|▌         | 1477/25348 [28:44<9:27:59,  1.43s/논문] "
     ]
    },
    {
     "name": "stdout",
     "output_type": "stream",
     "text": [
      "[1477/25348] ✅ 저장 완료 (PMCID: PMC12172303)\n"
     ]
    },
    {
     "name": "stderr",
     "output_type": "stream",
     "text": [
      "vitamin 진행:   6%|▌         | 1478/25348 [28:45<8:43:04,  1.31s/논문]"
     ]
    },
    {
     "name": "stdout",
     "output_type": "stream",
     "text": [
      "[1478/25348] ✅ 저장 완료 (PMCID: PMC12178044)\n",
      "[1479/25348] ✅ 저장 완료 (PMCID: PMC12171379)\n"
     ]
    },
    {
     "name": "stderr",
     "output_type": "stream",
     "text": [
      "vitamin 진행:   6%|▌         | 1479/25348 [28:49<12:18:24,  1.86s/논문]"
     ]
    },
    {
     "name": "stdout",
     "output_type": "stream",
     "text": [
      "[1480/25348] ⚠️ PMCID 없음 → 건너뜀\n"
     ]
    },
    {
     "name": "stderr",
     "output_type": "stream",
     "text": [
      "vitamin 진행:   6%|▌         | 1481/25348 [28:50<8:16:02,  1.25s/논문] "
     ]
    },
    {
     "name": "stdout",
     "output_type": "stream",
     "text": [
      "[1481/25348] ⚠️ PMCID 없음 → 건너뜀\n"
     ]
    },
    {
     "name": "stderr",
     "output_type": "stream",
     "text": [
      "vitamin 진행:   6%|▌         | 1482/25348 [28:51<7:50:27,  1.18s/논문]"
     ]
    },
    {
     "name": "stdout",
     "output_type": "stream",
     "text": [
      "[1482/25348] ✅ 저장 완료 (PMCID: PMC12151077)\n",
      "[1483/25348] ✅ 저장 완료 (PMCID: PMC11915235)\n"
     ]
    },
    {
     "name": "stderr",
     "output_type": "stream",
     "text": [
      "vitamin 진행:   6%|▌         | 1484/25348 [28:54<9:25:50,  1.42s/논문] "
     ]
    },
    {
     "name": "stdout",
     "output_type": "stream",
     "text": [
      "[1484/25348] ✅ 저장 완료 (PMCID: PMC12114556)\n",
      "[1485/25348] ✅ 저장 완료 (PMCID: PMC11989389)\n"
     ]
    },
    {
     "name": "stderr",
     "output_type": "stream",
     "text": [
      "vitamin 진행:   6%|▌         | 1486/25348 [29:00<12:58:11,  1.96s/논문]"
     ]
    },
    {
     "name": "stdout",
     "output_type": "stream",
     "text": [
      "[1486/25348] ✅ 저장 완료 (PMCID: PMC11943936)\n",
      "[1487/25348] ⚠️ PMCID 없음 → 건너뜀\n"
     ]
    },
    {
     "name": "stderr",
     "output_type": "stream",
     "text": [
      "vitamin 진행:   6%|▌         | 1488/25348 [29:01<8:49:36,  1.33s/논문] "
     ]
    },
    {
     "name": "stdout",
     "output_type": "stream",
     "text": [
      "[1488/25348] ✅ 저장 완료 (PMCID: PMC12111167)\n",
      "[1489/25348] ⚠️ PMCID 없음 → 건너뜀\n",
      "[1490/25348] ⚠️ PMCID 없음 → 건너뜀\n",
      "[1491/25348] ✅ 저장 완료 (PMCID: PMC12192674)\n"
     ]
    },
    {
     "name": "stderr",
     "output_type": "stream",
     "text": [
      "vitamin 진행:   6%|▌         | 1492/25348 [29:06<9:04:03,  1.37s/논문]"
     ]
    },
    {
     "name": "stdout",
     "output_type": "stream",
     "text": [
      "[1492/25348] ✅ 저장 완료 (PMCID: PMC11990351)\n",
      "[1493/25348] ⚠️ PMCID 없음 → 건너뜀\n",
      "[1494/25348] ✅ 저장 완료 (PMCID: PMC12145695)\n"
     ]
    },
    {
     "name": "stderr",
     "output_type": "stream",
     "text": [
      "vitamin 진행:   6%|▌         | 1495/25348 [29:10<8:33:31,  1.29s/논문]"
     ]
    },
    {
     "name": "stdout",
     "output_type": "stream",
     "text": [
      "[1495/25348] ✅ 저장 완료 (PMCID: PMC12004285)\n",
      "[1496/25348] ✅ 저장 완료 (PMCID: PMC12065889)\n"
     ]
    },
    {
     "name": "stderr",
     "output_type": "stream",
     "text": [
      "vitamin 진행:   6%|▌         | 1497/25348 [29:15<10:37:59,  1.60s/논문]"
     ]
    },
    {
     "name": "stdout",
     "output_type": "stream",
     "text": [
      "⚠️ abstract section 없음 (PMCID: PMC12179100) → 건너뜀\n"
     ]
    },
    {
     "name": "stderr",
     "output_type": "stream",
     "text": [
      "vitamin 진행:   6%|▌         | 1498/25348 [29:16<10:00:04,  1.51s/논문]"
     ]
    },
    {
     "name": "stdout",
     "output_type": "stream",
     "text": [
      "[1498/25348] ✅ 저장 완료 (PMCID: PMC12115869)\n",
      "[1499/25348] ⚠️ PMCID 없음 → 건너뜀\n",
      "[1500/25348] ⚠️ PMCID 없음 → 건너뜀\n",
      "[1501/25348] ✅ 저장 완료 (PMCID: PMC11934251)\n"
     ]
    },
    {
     "name": "stderr",
     "output_type": "stream",
     "text": [
      "vitamin 진행:   6%|▌         | 1501/25348 [29:20<9:58:40,  1.51s/논문] "
     ]
    },
    {
     "name": "stdout",
     "output_type": "stream",
     "text": [
      "[1502/25348] ⚠️ PMCID 없음 → 건너뜀\n",
      "[1503/25348] ⚠️ PMCID 없음 → 건너뜀\n",
      "[1504/25348] ⚠️ PMCID 없음 → 건너뜀\n"
     ]
    },
    {
     "name": "stderr",
     "output_type": "stream",
     "text": [
      "vitamin 진행:   6%|▌         | 1505/25348 [29:21<5:48:07,  1.14논문/s]"
     ]
    },
    {
     "name": "stdout",
     "output_type": "stream",
     "text": [
      "[1505/25348] ✅ 저장 완료 (PMCID: PMC11891820)\n"
     ]
    },
    {
     "name": "stderr",
     "output_type": "stream",
     "text": [
      "vitamin 진행:   6%|▌         | 1506/25348 [29:22<5:59:20,  1.11논문/s]"
     ]
    },
    {
     "name": "stdout",
     "output_type": "stream",
     "text": [
      "[1506/25348] ⚠️ PMCID 없음 → 건너뜀\n",
      "[1507/25348] ⚠️ PMCID 없음 → 건너뜀\n",
      "[1508/25348] ✅ 저장 완료 (PMCID: PMC11964502)\n"
     ]
    },
    {
     "name": "stderr",
     "output_type": "stream",
     "text": [
      "vitamin 진행:   6%|▌         | 1508/25348 [29:24<5:53:04,  1.13논문/s]"
     ]
    },
    {
     "name": "stdout",
     "output_type": "stream",
     "text": [
      "[1509/25348] ⚠️ PMCID 없음 → 건너뜀\n",
      "[1510/25348] ⚠️ PMCID 없음 → 건너뜀\n"
     ]
    },
    {
     "name": "stderr",
     "output_type": "stream",
     "text": [
      "vitamin 진행:   6%|▌         | 1511/25348 [29:25<4:25:31,  1.50논문/s]"
     ]
    },
    {
     "name": "stdout",
     "output_type": "stream",
     "text": [
      "[1511/25348] ⚠️ PMCID 없음 → 건너뜀\n",
      "[1512/25348] ⚠️ PMCID 없음 → 건너뜀\n"
     ]
    },
    {
     "name": "stderr",
     "output_type": "stream",
     "text": [
      "vitamin 진행:   6%|▌         | 1513/25348 [29:26<4:07:18,  1.61논문/s]"
     ]
    },
    {
     "name": "stdout",
     "output_type": "stream",
     "text": [
      "[1513/25348] ✅ 저장 완료 (PMCID: PMC11940799)\n",
      "[1514/25348] ✅ 저장 완료 (PMCID: PMC11903094)\n"
     ]
    },
    {
     "name": "stderr",
     "output_type": "stream",
     "text": [
      "vitamin 진행:   6%|▌         | 1515/25348 [29:29<6:06:54,  1.08논문/s]"
     ]
    },
    {
     "name": "stdout",
     "output_type": "stream",
     "text": [
      "[1515/25348] ✅ 저장 완료 (PMCID: PMC12066042)\n",
      "[1516/25348] ✅ 저장 완료 (PMCID: PMC12110368)\n"
     ]
    },
    {
     "name": "stderr",
     "output_type": "stream",
     "text": [
      "vitamin 진행:   6%|▌         | 1517/25348 [29:35<10:02:20,  1.52s/논문]"
     ]
    },
    {
     "name": "stdout",
     "output_type": "stream",
     "text": [
      "[1517/25348] ✅ 저장 완료 (PMCID: PMC12151864)\n",
      "[1518/25348] ⚠️ PMCID 없음 → 건너뜀\n",
      "[1519/25348] ✅ 저장 완료 (PMCID: PMC12143988)\n"
     ]
    },
    {
     "name": "stderr",
     "output_type": "stream",
     "text": [
      "vitamin 진행:   6%|▌         | 1520/25348 [29:38<8:45:17,  1.32s/논문] "
     ]
    },
    {
     "name": "stdout",
     "output_type": "stream",
     "text": [
      "[1520/25348] ✅ 저장 완료 (PMCID: PMC12125034)\n"
     ]
    },
    {
     "name": "stderr",
     "output_type": "stream",
     "text": [
      "vitamin 진행:   6%|▌         | 1521/25348 [29:39<8:09:00,  1.23s/논문]"
     ]
    },
    {
     "name": "stdout",
     "output_type": "stream",
     "text": [
      "[1521/25348] ⚠️ PMCID 없음 → 건너뜀\n",
      "[1522/25348] ⚠️ PMCID 없음 → 건너뜀\n",
      "[1523/25348] ✅ 저장 완료 (PMCID: PMC11902063)\n"
     ]
    },
    {
     "name": "stderr",
     "output_type": "stream",
     "text": [
      "vitamin 진행:   6%|▌         | 1523/25348 [29:42<8:08:54,  1.23s/논문]"
     ]
    },
    {
     "name": "stdout",
     "output_type": "stream",
     "text": [
      "[1524/25348] ⚠️ PMCID 없음 → 건너뜀\n"
     ]
    },
    {
     "name": "stderr",
     "output_type": "stream",
     "text": [
      "vitamin 진행:   6%|▌         | 1525/25348 [29:43<6:22:51,  1.04논문/s]"
     ]
    },
    {
     "name": "stdout",
     "output_type": "stream",
     "text": [
      "[1525/25348] ✅ 저장 완료 (PMCID: PMC12124064)\n",
      "[1526/25348] ✅ 저장 완료 (PMCID: PMC11922343)\n"
     ]
    },
    {
     "name": "stderr",
     "output_type": "stream",
     "text": [
      "vitamin 진행:   6%|▌         | 1526/25348 [29:47<10:26:24,  1.58s/논문]"
     ]
    },
    {
     "name": "stdout",
     "output_type": "stream",
     "text": [
      "[1527/25348] ⚠️ PMCID 없음 → 건너뜀\n"
     ]
    },
    {
     "name": "stderr",
     "output_type": "stream",
     "text": [
      "vitamin 진행:   6%|▌         | 1528/25348 [29:48<7:58:49,  1.21s/논문] "
     ]
    },
    {
     "name": "stdout",
     "output_type": "stream",
     "text": [
      "[1528/25348] ✅ 저장 완료 (PMCID: PMC12173052)\n",
      "[1529/25348] ✅ 저장 완료 (PMCID: PMC11902029)\n"
     ]
    },
    {
     "name": "stderr",
     "output_type": "stream",
     "text": [
      "vitamin 진행:   6%|▌         | 1530/25348 [29:51<8:53:00,  1.34s/논문]"
     ]
    },
    {
     "name": "stdout",
     "output_type": "stream",
     "text": [
      "[1530/25348] ✅ 저장 완료 (PMCID: PMC11950705)\n",
      "[1531/25348] ✅ 저장 완료 (PMCID: PMC12046496)\n"
     ]
    },
    {
     "name": "stderr",
     "output_type": "stream",
     "text": [
      "vitamin 진행:   6%|▌         | 1532/25348 [29:55<10:25:10,  1.58s/논문]"
     ]
    },
    {
     "name": "stdout",
     "output_type": "stream",
     "text": [
      "[1532/25348] ✅ 저장 완료 (PMCID: PMC12088944)\n",
      "[1533/25348] ✅ 저장 완료 (PMCID: PMC12058870)\n"
     ]
    },
    {
     "name": "stderr",
     "output_type": "stream",
     "text": [
      "vitamin 진행:   6%|▌         | 1534/25348 [29:59<10:56:45,  1.65s/논문]"
     ]
    },
    {
     "name": "stdout",
     "output_type": "stream",
     "text": [
      "[1534/25348] ✅ 저장 완료 (PMCID: PMC11967205)\n"
     ]
    },
    {
     "name": "stderr",
     "output_type": "stream",
     "text": [
      "vitamin 진행:   6%|▌         | 1535/25348 [30:00<10:03:51,  1.52s/논문]"
     ]
    },
    {
     "name": "stdout",
     "output_type": "stream",
     "text": [
      "[1535/25348] ✅ 저장 완료 (PMCID: PMC12005162)\n",
      "[1536/25348] ✅ 저장 완료 (PMCID: PMC11873947)\n"
     ]
    },
    {
     "name": "stderr",
     "output_type": "stream",
     "text": [
      "vitamin 진행:   6%|▌         | 1537/25348 [30:05<12:18:11,  1.86s/논문]"
     ]
    },
    {
     "name": "stdout",
     "output_type": "stream",
     "text": [
      "[1537/25348] ✅ 저장 완료 (PMCID: PMC11990355)\n",
      "[1538/25348] ✅ 저장 완료 (PMCID: PMC12192411)\n"
     ]
    },
    {
     "name": "stderr",
     "output_type": "stream",
     "text": [
      "vitamin 진행:   6%|▌         | 1539/25348 [30:09<12:46:32,  1.93s/논문]"
     ]
    },
    {
     "name": "stdout",
     "output_type": "stream",
     "text": [
      "⚠️ abstract section 없음 (PMCID: PMC11988169) → 건너뜀\n"
     ]
    },
    {
     "name": "stderr",
     "output_type": "stream",
     "text": [
      "vitamin 진행:   6%|▌         | 1540/25348 [30:10<11:30:10,  1.74s/논문]"
     ]
    },
    {
     "name": "stdout",
     "output_type": "stream",
     "text": [
      "[1540/25348] ✅ 저장 완료 (PMCID: PMC11954335)\n",
      "[1541/25348] ✅ 저장 완료 (PMCID: PMC12182753)\n"
     ]
    },
    {
     "name": "stderr",
     "output_type": "stream",
     "text": [
      "vitamin 진행:   6%|▌         | 1542/25348 [30:15<13:02:40,  1.97s/논문]"
     ]
    },
    {
     "name": "stdout",
     "output_type": "stream",
     "text": [
      "[1542/25348] ✅ 저장 완료 (PMCID: PMC12033403)\n",
      "[1543/25348] ⚠️ PMCID 없음 → 건너뜀\n",
      "[1544/25348] ✅ 저장 완료 (PMCID: PMC11944488)\n"
     ]
    },
    {
     "name": "stderr",
     "output_type": "stream",
     "text": [
      "vitamin 진행:   6%|▌         | 1545/25348 [30:19<10:10:51,  1.54s/논문]"
     ]
    },
    {
     "name": "stdout",
     "output_type": "stream",
     "text": [
      "⚠️ abstract section 없음 (PMCID: PMC12163316) → 건너뜀\n"
     ]
    },
    {
     "name": "stderr",
     "output_type": "stream",
     "text": [
      "vitamin 진행:   6%|▌         | 1546/25348 [30:20<9:16:18,  1.40s/논문] "
     ]
    },
    {
     "name": "stdout",
     "output_type": "stream",
     "text": [
      "[1546/25348] ⚠️ PMCID 없음 → 건너뜀\n"
     ]
    },
    {
     "name": "stderr",
     "output_type": "stream",
     "text": [
      "vitamin 진행:   6%|▌         | 1547/25348 [30:21<8:51:10,  1.34s/논문]"
     ]
    },
    {
     "name": "stdout",
     "output_type": "stream",
     "text": [
      "[1547/25348] ✅ 저장 완료 (PMCID: PMC12035464)\n",
      "[1548/25348] ⚠️ PMCID 없음 → 건너뜀\n",
      "[1549/25348] ✅ 저장 완료 (PMCID: PMC12195460)\n"
     ]
    },
    {
     "name": "stderr",
     "output_type": "stream",
     "text": [
      "vitamin 진행:   6%|▌         | 1549/25348 [30:24<8:40:35,  1.31s/논문]"
     ]
    },
    {
     "name": "stdout",
     "output_type": "stream",
     "text": [
      "[1550/25348] ⚠️ PMCID 없음 → 건너뜀\n"
     ]
    },
    {
     "name": "stderr",
     "output_type": "stream",
     "text": [
      "vitamin 진행:   6%|▌         | 1551/25348 [30:26<8:14:49,  1.25s/논문]"
     ]
    },
    {
     "name": "stdout",
     "output_type": "stream",
     "text": [
      "[1551/25348] ✅ 저장 완료 (PMCID: PMC12111076)\n",
      "[1552/25348] ✅ 저장 완료 (PMCID: PMC11895532)\n"
     ]
    },
    {
     "name": "stderr",
     "output_type": "stream",
     "text": [
      "vitamin 진행:   6%|▌         | 1553/25348 [30:30<9:34:16,  1.45s/논문]"
     ]
    },
    {
     "name": "stdout",
     "output_type": "stream",
     "text": [
      "[1553/25348] ✅ 저장 완료 (PMCID: PMC12116010)\n",
      "[1554/25348] ⚠️ PMCID 없음 → 건너뜀\n"
     ]
    },
    {
     "name": "stderr",
     "output_type": "stream",
     "text": [
      "vitamin 진행:   6%|▌         | 1555/25348 [30:31<6:59:41,  1.06s/논문]"
     ]
    },
    {
     "name": "stdout",
     "output_type": "stream",
     "text": [
      "[1555/25348] ✅ 저장 완료 (PMCID: PMC11906205)\n",
      "[1556/25348] ✅ 저장 완료 (PMCID: PMC11979928)\n"
     ]
    },
    {
     "name": "stderr",
     "output_type": "stream",
     "text": [
      "vitamin 진행:   6%|▌         | 1556/25348 [30:34<10:43:07,  1.62s/논문]"
     ]
    },
    {
     "name": "stdout",
     "output_type": "stream",
     "text": [
      "[1557/25348] ✅ 저장 완료 (PMCID: PMC11877867)\n"
     ]
    },
    {
     "name": "stderr",
     "output_type": "stream",
     "text": [
      "vitamin 진행:   6%|▌         | 1558/25348 [30:38<10:22:07,  1.57s/논문]"
     ]
    },
    {
     "name": "stdout",
     "output_type": "stream",
     "text": [
      "[1558/25348] ✅ 저장 완료 (PMCID: PMC11898411)\n",
      "[1559/25348] ✅ 저장 완료 (PMCID: PMC11939574)\n"
     ]
    },
    {
     "name": "stderr",
     "output_type": "stream",
     "text": [
      "vitamin 진행:   6%|▌         | 1560/25348 [30:42<11:24:28,  1.73s/논문]"
     ]
    },
    {
     "name": "stdout",
     "output_type": "stream",
     "text": [
      "[1560/25348] ✅ 저장 완료 (PMCID: PMC11975912)\n",
      "[1561/25348] ✅ 저장 완료 (PMCID: PMC11872689)\n"
     ]
    },
    {
     "name": "stderr",
     "output_type": "stream",
     "text": [
      "vitamin 진행:   6%|▌         | 1562/25348 [30:48<14:15:29,  2.16s/논문]"
     ]
    },
    {
     "name": "stdout",
     "output_type": "stream",
     "text": [
      "[1562/25348] ✅ 저장 완료 (PMCID: PMC12041507)\n",
      "[1563/25348] ✅ 저장 완료 (PMCID: PMC11837352)\n"
     ]
    },
    {
     "name": "stderr",
     "output_type": "stream",
     "text": [
      "vitamin 진행:   6%|▌         | 1564/25348 [30:53<14:43:55,  2.23s/논문]"
     ]
    },
    {
     "name": "stdout",
     "output_type": "stream",
     "text": [
      "[1564/25348] ✅ 저장 완료 (PMCID: PMC12128721)\n",
      "[1565/25348] ✅ 저장 완료 (PMCID: PMC12019705)\n"
     ]
    },
    {
     "name": "stderr",
     "output_type": "stream",
     "text": [
      "vitamin 진행:   6%|▌         | 1566/25348 [30:59<16:57:39,  2.57s/논문]"
     ]
    },
    {
     "name": "stdout",
     "output_type": "stream",
     "text": [
      "[1566/25348] ✅ 저장 완료 (PMCID: PMC11990278)\n"
     ]
    },
    {
     "name": "stderr",
     "output_type": "stream",
     "text": [
      "vitamin 진행:   6%|▌         | 1567/25348 [31:00<14:02:38,  2.13s/논문]"
     ]
    },
    {
     "name": "stdout",
     "output_type": "stream",
     "text": [
      "⚠️ abstract section 없음 (PMCID: PMC12014651) → 건너뜀\n"
     ]
    },
    {
     "name": "stderr",
     "output_type": "stream",
     "text": [
      "vitamin 진행:   6%|▌         | 1568/25348 [31:01<12:16:01,  1.86s/논문]"
     ]
    },
    {
     "name": "stdout",
     "output_type": "stream",
     "text": [
      "[1568/25348] ✅ 저장 완료 (PMCID: PMC12076055)\n",
      "[1569/25348] ✅ 저장 완료 (PMCID: PMC12149606)\n"
     ]
    },
    {
     "name": "stderr",
     "output_type": "stream",
     "text": [
      "vitamin 진행:   6%|▌         | 1570/25348 [31:05<12:40:42,  1.92s/논문]"
     ]
    },
    {
     "name": "stdout",
     "output_type": "stream",
     "text": [
      "[1570/25348] ✅ 저장 완료 (PMCID: PMC12104010)\n",
      "[1571/25348] ✅ 저장 완료 (PMCID: PMC12128450)\n"
     ]
    },
    {
     "name": "stderr",
     "output_type": "stream",
     "text": [
      "vitamin 진행:   6%|▌         | 1572/25348 [31:10<13:37:42,  2.06s/논문]"
     ]
    },
    {
     "name": "stdout",
     "output_type": "stream",
     "text": [
      "[1572/25348] ✅ 저장 완료 (PMCID: PMC12177998)\n",
      "[1573/25348] ⚠️ PMCID 없음 → 건너뜀\n",
      "[1574/25348] ✅ 저장 완료 (PMCID: PMC11848641)\n"
     ]
    },
    {
     "name": "stderr",
     "output_type": "stream",
     "text": [
      "vitamin 진행:   6%|▌         | 1574/25348 [31:13<11:24:38,  1.73s/논문]"
     ]
    },
    {
     "name": "stdout",
     "output_type": "stream",
     "text": [
      "[1575/25348] ⚠️ PMCID 없음 → 건너뜀\n"
     ]
    },
    {
     "name": "stderr",
     "output_type": "stream",
     "text": [
      "vitamin 진행:   6%|▌         | 1576/25348 [31:15<9:42:26,  1.47s/논문] "
     ]
    },
    {
     "name": "stdout",
     "output_type": "stream",
     "text": [
      "[1576/25348] ✅ 저장 완료 (PMCID: PMC11937952)\n",
      "[1577/25348] ✅ 저장 완료 (PMCID: PMC11899586)\n"
     ]
    },
    {
     "name": "stderr",
     "output_type": "stream",
     "text": [
      "vitamin 진행:   6%|▌         | 1577/25348 [31:18<12:40:38,  1.92s/논문]"
     ]
    },
    {
     "name": "stdout",
     "output_type": "stream",
     "text": [
      "[1578/25348] ⚠️ PMCID 없음 → 건너뜀\n",
      "[1579/25348] ⚠️ PMCID 없음 → 건너뜀\n",
      "[1580/25348] ⚠️ PMCID 없음 → 건너뜀\n"
     ]
    },
    {
     "name": "stderr",
     "output_type": "stream",
     "text": [
      "vitamin 진행:   6%|▌         | 1581/25348 [31:21<8:03:44,  1.22s/논문] "
     ]
    },
    {
     "name": "stdout",
     "output_type": "stream",
     "text": [
      "[1581/25348] ✅ 저장 완료 (PMCID: PMC11819489)\n",
      "[1582/25348] ✅ 저장 완료 (PMCID: PMC12099971)\n"
     ]
    },
    {
     "name": "stderr",
     "output_type": "stream",
     "text": [
      "vitamin 진행:   6%|▌         | 1583/25348 [31:25<9:17:45,  1.41s/논문]"
     ]
    },
    {
     "name": "stdout",
     "output_type": "stream",
     "text": [
      "[1583/25348] ✅ 저장 완료 (PMCID: PMC12151669)\n",
      "[1584/25348] ⚠️ PMCID 없음 → 건너뜀\n"
     ]
    },
    {
     "name": "stderr",
     "output_type": "stream",
     "text": [
      "vitamin 진행:   6%|▋         | 1585/25348 [31:26<7:15:47,  1.10s/논문]"
     ]
    },
    {
     "name": "stdout",
     "output_type": "stream",
     "text": [
      "[1585/25348] ✅ 저장 완료 (PMCID: PMC12122061)\n"
     ]
    },
    {
     "name": "stderr",
     "output_type": "stream",
     "text": [
      "vitamin 진행:   6%|▋         | 1586/25348 [31:27<7:10:35,  1.09s/논문]"
     ]
    },
    {
     "name": "stdout",
     "output_type": "stream",
     "text": [
      "[1586/25348] ⚠️ PMCID 없음 → 건너뜀\n",
      "[1587/25348] ✅ 저장 완료 (PMCID: PMC12036564)\n"
     ]
    },
    {
     "name": "stderr",
     "output_type": "stream",
     "text": [
      "vitamin 진행:   6%|▋         | 1588/25348 [31:31<9:38:12,  1.46s/논문] "
     ]
    },
    {
     "name": "stdout",
     "output_type": "stream",
     "text": [
      "[1588/25348] ✅ 저장 완료 (PMCID: PMC11972219)\n",
      "[1589/25348] ✅ 저장 완료 (PMCID: PMC12156975)\n"
     ]
    },
    {
     "name": "stderr",
     "output_type": "stream",
     "text": [
      "vitamin 진행:   6%|▋         | 1589/25348 [31:34<11:46:33,  1.78s/논문]"
     ]
    },
    {
     "name": "stdout",
     "output_type": "stream",
     "text": [
      "[1590/25348] ⚠️ PMCID 없음 → 건너뜀\n"
     ]
    },
    {
     "name": "stderr",
     "output_type": "stream",
     "text": [
      "vitamin 진행:   6%|▋         | 1591/25348 [31:36<9:28:00,  1.43s/논문] "
     ]
    },
    {
     "name": "stdout",
     "output_type": "stream",
     "text": [
      "[1591/25348] ✅ 저장 완료 (PMCID: PMC12180030)\n"
     ]
    },
    {
     "name": "stderr",
     "output_type": "stream",
     "text": [
      "vitamin 진행:   6%|▋         | 1592/25348 [31:37<9:04:23,  1.37s/논문]"
     ]
    },
    {
     "name": "stdout",
     "output_type": "stream",
     "text": [
      "[1592/25348] ✅ 저장 완료 (PMCID: PMC11855552)\n",
      "[1593/25348] ⚠️ PMCID 없음 → 건너뜀\n",
      "[1594/25348] ⚠️ PMCID 없음 → 건너뜀\n",
      "[1595/25348] ✅ 저장 완료 (PMCID: PMC12148870)\n"
     ]
    },
    {
     "name": "stderr",
     "output_type": "stream",
     "text": [
      "vitamin 진행:   6%|▋         | 1596/25348 [31:42<8:34:35,  1.30s/논문]"
     ]
    },
    {
     "name": "stdout",
     "output_type": "stream",
     "text": [
      "[1596/25348] ✅ 저장 완료 (PMCID: PMC11854788)\n",
      "[1597/25348] ✅ 저장 완료 (PMCID: PMC12074862)\n"
     ]
    },
    {
     "name": "stderr",
     "output_type": "stream",
     "text": [
      "vitamin 진행:   6%|▋         | 1597/25348 [31:45<11:26:18,  1.73s/논문]"
     ]
    },
    {
     "name": "stdout",
     "output_type": "stream",
     "text": [
      "[1598/25348] ⚠️ PMCID 없음 → 건너뜀\n",
      "[1599/25348] ⚠️ PMCID 없음 → 건너뜀\n",
      "[1600/25348] ⚠️ PMCID 없음 → 건너뜀\n"
     ]
    },
    {
     "name": "stderr",
     "output_type": "stream",
     "text": [
      "vitamin 진행:   6%|▋         | 1601/25348 [31:48<7:21:46,  1.12s/논문] "
     ]
    },
    {
     "name": "stdout",
     "output_type": "stream",
     "text": [
      "[1601/25348] ✅ 저장 완료 (PMCID: PMC11831837)\n",
      "[1602/25348] ✅ 저장 완료 (PMCID: PMC12180816)\n"
     ]
    },
    {
     "name": "stderr",
     "output_type": "stream",
     "text": [
      "vitamin 진행:   6%|▋         | 1602/25348 [31:51<9:21:39,  1.42s/논문]"
     ]
    },
    {
     "name": "stdout",
     "output_type": "stream",
     "text": [
      "[1603/25348] ⚠️ PMCID 없음 → 건너뜀\n"
     ]
    },
    {
     "name": "stderr",
     "output_type": "stream",
     "text": [
      "vitamin 진행:   6%|▋         | 1604/25348 [31:52<7:57:15,  1.21s/논문]"
     ]
    },
    {
     "name": "stdout",
     "output_type": "stream",
     "text": [
      "⚠️ abstract section 없음 (PMCID: PMC12166032) → 건너뜀\n"
     ]
    },
    {
     "name": "stderr",
     "output_type": "stream",
     "text": [
      "vitamin 진행:   6%|▋         | 1605/25348 [31:53<7:54:37,  1.20s/논문]"
     ]
    },
    {
     "name": "stdout",
     "output_type": "stream",
     "text": [
      "[1605/25348] ✅ 저장 완료 (PMCID: PMC12157822)\n",
      "[1606/25348] ✅ 저장 완료 (PMCID: PMC12146305)\n"
     ]
    },
    {
     "name": "stderr",
     "output_type": "stream",
     "text": [
      "vitamin 진행:   6%|▋         | 1607/25348 [31:58<10:36:59,  1.61s/논문]"
     ]
    },
    {
     "name": "stdout",
     "output_type": "stream",
     "text": [
      "[1607/25348] ✅ 저장 완료 (PMCID: PMC11944345)\n",
      "[1608/25348] ⚠️ PMCID 없음 → 건너뜀\n"
     ]
    },
    {
     "name": "stderr",
     "output_type": "stream",
     "text": [
      "vitamin 진행:   6%|▋         | 1609/25348 [31:59<7:43:40,  1.17s/논문] "
     ]
    },
    {
     "name": "stdout",
     "output_type": "stream",
     "text": [
      "⚠️ abstract section 없음 (PMCID: PMC12001044) → 건너뜀\n",
      "[1610/25348] ✅ 저장 완료 (PMCID: PMC11910567)\n"
     ]
    },
    {
     "name": "stderr",
     "output_type": "stream",
     "text": [
      "vitamin 진행:   6%|▋         | 1611/25348 [32:04<10:57:34,  1.66s/논문]"
     ]
    },
    {
     "name": "stdout",
     "output_type": "stream",
     "text": [
      "[1611/25348] ✅ 저장 완료 (PMCID: PMC11990234)\n",
      "[1612/25348] ✅ 저장 완료 (PMCID: PMC11927356)\n"
     ]
    },
    {
     "name": "stderr",
     "output_type": "stream",
     "text": [
      "vitamin 진행:   6%|▋         | 1612/25348 [32:07<12:13:32,  1.85s/논문]"
     ]
    },
    {
     "name": "stdout",
     "output_type": "stream",
     "text": [
      "[1613/25348] ⚠️ PMCID 없음 → 건너뜀\n"
     ]
    },
    {
     "name": "stderr",
     "output_type": "stream",
     "text": [
      "vitamin 진행:   6%|▋         | 1614/25348 [32:08<8:44:18,  1.33s/논문] "
     ]
    },
    {
     "name": "stdout",
     "output_type": "stream",
     "text": [
      "[1614/25348] ✅ 저장 완료 (PMCID: PMC12027591)\n",
      "[1615/25348] ✅ 저장 완료 (PMCID: PMC11857834)\n"
     ]
    },
    {
     "name": "stderr",
     "output_type": "stream",
     "text": [
      "vitamin 진행:   6%|▋         | 1616/25348 [32:12<11:01:02,  1.67s/논문]"
     ]
    },
    {
     "name": "stdout",
     "output_type": "stream",
     "text": [
      "[1616/25348] ✅ 저장 완료 (PMCID: PMC12094969)\n",
      "[1617/25348] ✅ 저장 완료 (PMCID: PMC12100217)\n"
     ]
    },
    {
     "name": "stderr",
     "output_type": "stream",
     "text": [
      "vitamin 진행:   6%|▋         | 1618/25348 [32:16<11:25:46,  1.73s/논문]"
     ]
    },
    {
     "name": "stdout",
     "output_type": "stream",
     "text": [
      "[1618/25348] ✅ 저장 완료 (PMCID: PMC12175701)\n",
      "[1619/25348] ⚠️ PMCID 없음 → 건너뜀\n",
      "[1620/25348] ✅ 저장 완료 (PMCID: PMC12150942)\n"
     ]
    },
    {
     "name": "stderr",
     "output_type": "stream",
     "text": [
      "vitamin 진행:   6%|▋         | 1621/25348 [32:20<10:11:29,  1.55s/논문]"
     ]
    },
    {
     "name": "stdout",
     "output_type": "stream",
     "text": [
      "[1621/25348] ✅ 저장 완료 (PMCID: PMC12132678)\n",
      "[1622/25348] ✅ 저장 완료 (PMCID: PMC11833741)\n"
     ]
    },
    {
     "name": "stderr",
     "output_type": "stream",
     "text": [
      "vitamin 진행:   6%|▋         | 1622/25348 [32:23<12:46:00,  1.94s/논문]"
     ]
    },
    {
     "name": "stdout",
     "output_type": "stream",
     "text": [
      "[1623/25348] ⚠️ PMCID 없음 → 건너뜀\n"
     ]
    },
    {
     "name": "stderr",
     "output_type": "stream",
     "text": [
      "vitamin 진행:   6%|▋         | 1624/25348 [32:24<8:46:13,  1.33s/논문] "
     ]
    },
    {
     "name": "stdout",
     "output_type": "stream",
     "text": [
      "[1624/25348] ✅ 저장 완료 (PMCID: PMC11941955)\n",
      "[1625/25348] ✅ 저장 완료 (PMCID: PMC12111361)\n"
     ]
    },
    {
     "name": "stderr",
     "output_type": "stream",
     "text": [
      "vitamin 진행:   6%|▋         | 1626/25348 [32:27<9:16:31,  1.41s/논문] "
     ]
    },
    {
     "name": "stdout",
     "output_type": "stream",
     "text": [
      "[1626/25348] ⚠️ PMCID 없음 → 건너뜀\n",
      "[1627/25348] ⚠️ PMCID 없음 → 건너뜀\n"
     ]
    },
    {
     "name": "stderr",
     "output_type": "stream",
     "text": [
      "vitamin 진행:   6%|▋         | 1628/25348 [32:29<7:09:01,  1.09s/논문]"
     ]
    },
    {
     "name": "stdout",
     "output_type": "stream",
     "text": [
      "[1628/25348] ✅ 저장 완료 (PMCID: PMC12197557)\n",
      "[1629/25348] ✅ 저장 완료 (PMCID: PMC12112240)\n"
     ]
    },
    {
     "name": "stderr",
     "output_type": "stream",
     "text": [
      "vitamin 진행:   6%|▋         | 1630/25348 [32:32<8:33:19,  1.30s/논문]"
     ]
    },
    {
     "name": "stdout",
     "output_type": "stream",
     "text": [
      "[1630/25348] ✅ 저장 완료 (PMCID: PMC12190048)\n",
      "[1631/25348] ✅ 저장 완료 (PMCID: PMC12084578)\n"
     ]
    },
    {
     "name": "stderr",
     "output_type": "stream",
     "text": [
      "vitamin 진행:   6%|▋         | 1632/25348 [32:37<10:48:18,  1.64s/논문]"
     ]
    },
    {
     "name": "stdout",
     "output_type": "stream",
     "text": [
      "⚠️ abstract section 없음 (PMCID: PMC11936117) → 건너뜀\n",
      "[1633/25348] ⚠️ PMCID 없음 → 건너뜀\n"
     ]
    },
    {
     "name": "stderr",
     "output_type": "stream",
     "text": [
      "vitamin 진행:   6%|▋         | 1634/25348 [32:38<7:45:58,  1.18s/논문] "
     ]
    },
    {
     "name": "stdout",
     "output_type": "stream",
     "text": [
      "[1634/25348] ✅ 저장 완료 (PMCID: PMC11931448)\n",
      "[1635/25348] ✅ 저장 완료 (PMCID: PMC12193968)\n"
     ]
    },
    {
     "name": "stderr",
     "output_type": "stream",
     "text": [
      "vitamin 진행:   6%|▋         | 1636/25348 [32:43<11:16:30,  1.71s/논문]"
     ]
    },
    {
     "name": "stdout",
     "output_type": "stream",
     "text": [
      "[1636/25348] ✅ 저장 완료 (PMCID: PMC12191573)\n",
      "[1637/25348] ✅ 저장 완료 (PMCID: PMC12027271)\n"
     ]
    },
    {
     "name": "stderr",
     "output_type": "stream",
     "text": [
      "vitamin 진행:   6%|▋         | 1637/25348 [32:45<12:53:03,  1.96s/논문]"
     ]
    },
    {
     "name": "stdout",
     "output_type": "stream",
     "text": [
      "[1638/25348] ⚠️ PMCID 없음 → 건너뜀\n"
     ]
    },
    {
     "name": "stderr",
     "output_type": "stream",
     "text": [
      "vitamin 진행:   6%|▋         | 1639/25348 [32:46<8:47:43,  1.34s/논문] "
     ]
    },
    {
     "name": "stdout",
     "output_type": "stream",
     "text": [
      "[1639/25348] ✅ 저장 완료 (PMCID: PMC11880714)\n",
      "[1640/25348] ✅ 저장 완료 (PMCID: PMC12073476)\n"
     ]
    },
    {
     "name": "stderr",
     "output_type": "stream",
     "text": [
      "vitamin 진행:   6%|▋         | 1641/25348 [32:50<9:48:29,  1.49s/논문] "
     ]
    },
    {
     "name": "stdout",
     "output_type": "stream",
     "text": [
      "[1641/25348] ⚠️ PMCID 없음 → 건너뜀\n",
      "[1642/25348] ⚠️ PMCID 없음 → 건너뜀\n",
      "[1643/25348] ⚠️ PMCID 없음 → 건너뜀\n"
     ]
    },
    {
     "name": "stderr",
     "output_type": "stream",
     "text": [
      "vitamin 진행:   6%|▋         | 1644/25348 [32:51<6:04:41,  1.08논문/s]"
     ]
    },
    {
     "name": "stdout",
     "output_type": "stream",
     "text": [
      "[1644/25348] ✅ 저장 완료 (PMCID: PMC11911428)\n",
      "[1645/25348] ✅ 저장 완료 (PMCID: PMC11929546)\n"
     ]
    },
    {
     "name": "stderr",
     "output_type": "stream",
     "text": [
      "vitamin 진행:   6%|▋         | 1646/25348 [32:56<9:07:19,  1.39s/논문]"
     ]
    },
    {
     "name": "stdout",
     "output_type": "stream",
     "text": [
      "[1646/25348] ✅ 저장 완료 (PMCID: PMC11841288)\n",
      "[1647/25348] ✅ 저장 완료 (PMCID: PMC11919469)\n"
     ]
    },
    {
     "name": "stderr",
     "output_type": "stream",
     "text": [
      "vitamin 진행:   6%|▋         | 1647/25348 [32:58<10:13:38,  1.55s/논문]"
     ]
    },
    {
     "name": "stdout",
     "output_type": "stream",
     "text": [
      "[1648/25348] ⚠️ PMCID 없음 → 건너뜀\n"
     ]
    },
    {
     "name": "stderr",
     "output_type": "stream",
     "text": [
      "vitamin 진행:   7%|▋         | 1649/25348 [32:59<7:22:40,  1.12s/논문] "
     ]
    },
    {
     "name": "stdout",
     "output_type": "stream",
     "text": [
      "[1649/25348] ✅ 저장 완료 (PMCID: PMC11827317)\n",
      "[1650/25348] ⚠️ PMCID 없음 → 건너뜀\n"
     ]
    },
    {
     "name": "stderr",
     "output_type": "stream",
     "text": [
      "vitamin 진행:   7%|▋         | 1651/25348 [33:00<5:49:20,  1.13논문/s]"
     ]
    },
    {
     "name": "stdout",
     "output_type": "stream",
     "text": [
      "[1651/25348] ⚠️ PMCID 없음 → 건너뜀\n",
      "[1652/25348] ✅ 저장 완료 (PMCID: PMC11821671)\n"
     ]
    },
    {
     "name": "stderr",
     "output_type": "stream",
     "text": [
      "vitamin 진행:   7%|▋         | 1653/25348 [33:04<8:07:29,  1.23s/논문]"
     ]
    },
    {
     "name": "stdout",
     "output_type": "stream",
     "text": [
      "[1653/25348] ✅ 저장 완료 (PMCID: PMC12102693)\n",
      "[1654/25348] ⚠️ PMCID 없음 → 건너뜀\n",
      "[1655/25348] ⚠️ PMCID 없음 → 건너뜀\n"
     ]
    },
    {
     "name": "stderr",
     "output_type": "stream",
     "text": [
      "vitamin 진행:   7%|▋         | 1656/25348 [33:05<5:28:13,  1.20논문/s]"
     ]
    },
    {
     "name": "stdout",
     "output_type": "stream",
     "text": [
      "[1656/25348] ⚠️ PMCID 없음 → 건너뜀\n",
      "[1657/25348] ✅ 저장 완료 (PMCID: PMC11928458)\n"
     ]
    },
    {
     "name": "stderr",
     "output_type": "stream",
     "text": [
      "vitamin 진행:   7%|▋         | 1658/25348 [33:08<7:38:46,  1.16s/논문]"
     ]
    },
    {
     "name": "stdout",
     "output_type": "stream",
     "text": [
      "[1658/25348] ✅ 저장 완료 (PMCID: PMC12136798)\n",
      "[1659/25348] ✅ 저장 완료 (PMCID: PMC12091265)\n"
     ]
    },
    {
     "name": "stderr",
     "output_type": "stream",
     "text": [
      "vitamin 진행:   7%|▋         | 1659/25348 [33:11<10:29:30,  1.59s/논문]"
     ]
    },
    {
     "name": "stdout",
     "output_type": "stream",
     "text": [
      "[1660/25348] ⚠️ PMCID 없음 → 건너뜀\n"
     ]
    },
    {
     "name": "stderr",
     "output_type": "stream",
     "text": [
      "vitamin 진행:   7%|▋         | 1661/25348 [33:12<7:32:36,  1.15s/논문] "
     ]
    },
    {
     "name": "stdout",
     "output_type": "stream",
     "text": [
      "[1661/25348] ⚠️ PMCID 없음 → 건너뜀\n"
     ]
    },
    {
     "name": "stderr",
     "output_type": "stream",
     "text": [
      "vitamin 진행:   7%|▋         | 1662/25348 [33:14<8:10:48,  1.24s/논문]"
     ]
    },
    {
     "name": "stdout",
     "output_type": "stream",
     "text": [
      "[1662/25348] ✅ 저장 완료 (PMCID: PMC11944532)\n"
     ]
    },
    {
     "name": "stderr",
     "output_type": "stream",
     "text": [
      "vitamin 진행:   7%|▋         | 1663/25348 [33:15<8:04:14,  1.23s/논문]"
     ]
    },
    {
     "name": "stdout",
     "output_type": "stream",
     "text": [
      "[1663/25348] ✅ 저장 완료 (PMCID: PMC12103951)\n",
      "[1664/25348] ✅ 저장 완료 (PMCID: PMC11984570)\n"
     ]
    },
    {
     "name": "stderr",
     "output_type": "stream",
     "text": [
      "vitamin 진행:   7%|▋         | 1664/25348 [33:19<12:06:51,  1.84s/논문]"
     ]
    },
    {
     "name": "stdout",
     "output_type": "stream",
     "text": [
      "[1665/25348] ⚠️ PMCID 없음 → 건너뜀\n"
     ]
    },
    {
     "name": "stderr",
     "output_type": "stream",
     "text": [
      "vitamin 진행:   7%|▋         | 1666/25348 [33:22<11:04:22,  1.68s/논문]"
     ]
    },
    {
     "name": "stdout",
     "output_type": "stream",
     "text": [
      "[1666/25348] ✅ 저장 완료 (PMCID: PMC11936634)\n",
      "[1667/25348] ✅ 저장 완료 (PMCID: PMC12074815)\n"
     ]
    },
    {
     "name": "stderr",
     "output_type": "stream",
     "text": [
      "vitamin 진행:   7%|▋         | 1667/25348 [33:25<13:34:04,  2.06s/논문]"
     ]
    },
    {
     "name": "stdout",
     "output_type": "stream",
     "text": [
      "[1668/25348] ⚠️ PMCID 없음 → 건너뜀\n",
      "[1669/25348] ⚠️ PMCID 없음 → 건너뜀\n",
      "[1670/25348] ⚠️ PMCID 없음 → 건너뜀\n"
     ]
    },
    {
     "name": "stderr",
     "output_type": "stream",
     "text": [
      "vitamin 진행:   7%|▋         | 1671/25348 [33:26<6:52:20,  1.04s/논문] "
     ]
    },
    {
     "name": "stdout",
     "output_type": "stream",
     "text": [
      "[1671/25348] ⚠️ PMCID 없음 → 건너뜀\n"
     ]
    },
    {
     "name": "stderr",
     "output_type": "stream",
     "text": [
      "vitamin 진행:   7%|▋         | 1672/25348 [33:28<7:20:49,  1.12s/논문]"
     ]
    },
    {
     "name": "stdout",
     "output_type": "stream",
     "text": [
      "[1672/25348] ✅ 저장 완료 (PMCID: PMC11900381)\n"
     ]
    },
    {
     "name": "stderr",
     "output_type": "stream",
     "text": [
      "vitamin 진행:   7%|▋         | 1673/25348 [33:29<7:23:25,  1.12s/논문]"
     ]
    },
    {
     "name": "stdout",
     "output_type": "stream",
     "text": [
      "⚠️ abstract section 없음 (PMCID: PMC12111181) → 건너뜀\n",
      "[1674/25348] ✅ 저장 완료 (PMCID: PMC12158029)\n"
     ]
    },
    {
     "name": "stderr",
     "output_type": "stream",
     "text": [
      "vitamin 진행:   7%|▋         | 1675/25348 [33:32<8:57:38,  1.36s/논문]"
     ]
    },
    {
     "name": "stdout",
     "output_type": "stream",
     "text": [
      "[1675/25348] ✅ 저장 완료 (PMCID: PMC11942847)\n"
     ]
    },
    {
     "name": "stderr",
     "output_type": "stream",
     "text": [
      "vitamin 진행:   7%|▋         | 1676/25348 [33:33<8:16:38,  1.26s/논문]"
     ]
    },
    {
     "name": "stdout",
     "output_type": "stream",
     "text": [
      "[1676/25348] ⚠️ PMCID 없음 → 건너뜀\n",
      "[1677/25348] ✅ 저장 완료 (PMCID: PMC12157913)\n"
     ]
    },
    {
     "name": "stderr",
     "output_type": "stream",
     "text": [
      "vitamin 진행:   7%|▋         | 1677/25348 [33:36<10:49:19,  1.65s/논문]"
     ]
    },
    {
     "name": "stdout",
     "output_type": "stream",
     "text": [
      "[1678/25348] ⚠️ PMCID 없음 → 건너뜀\n"
     ]
    },
    {
     "name": "stderr",
     "output_type": "stream",
     "text": [
      "vitamin 진행:   7%|▋         | 1679/25348 [33:38<8:03:46,  1.23s/논문] "
     ]
    },
    {
     "name": "stdout",
     "output_type": "stream",
     "text": [
      "[1679/25348] ✅ 저장 완료 (PMCID: PMC12089043)\n",
      "[1680/25348] ✅ 저장 완료 (PMCID: PMC12104285)\n"
     ]
    },
    {
     "name": "stderr",
     "output_type": "stream",
     "text": [
      "vitamin 진행:   7%|▋         | 1681/25348 [33:41<9:35:09,  1.46s/논문] "
     ]
    },
    {
     "name": "stdout",
     "output_type": "stream",
     "text": [
      "[1681/25348] ⚠️ PMCID 없음 → 건너뜀\n"
     ]
    },
    {
     "name": "stderr",
     "output_type": "stream",
     "text": [
      "vitamin 진행:   7%|▋         | 1682/25348 [33:43<9:35:30,  1.46s/논문]"
     ]
    },
    {
     "name": "stdout",
     "output_type": "stream",
     "text": [
      "[1682/25348] ✅ 저장 완료 (PMCID: PMC12067696)\n",
      "[1683/25348] ⚠️ PMCID 없음 → 건너뜀\n",
      "[1684/25348] ⚠️ PMCID 없음 → 건너뜀\n",
      "[1685/25348] ⚠️ PMCID 없음 → 건너뜀\n",
      "[1686/25348] ✅ 저장 완료 (PMCID: PMC12147907)\n"
     ]
    },
    {
     "name": "stderr",
     "output_type": "stream",
     "text": [
      "vitamin 진행:   7%|▋         | 1687/25348 [33:49<8:25:03,  1.28s/논문]"
     ]
    },
    {
     "name": "stdout",
     "output_type": "stream",
     "text": [
      "[1687/25348] ✅ 저장 완료 (PMCID: PMC11961429)\n",
      "[1688/25348] ⚠️ PMCID 없음 → 건너뜀\n",
      "[1689/25348] ✅ 저장 완료 (PMCID: PMC11881026)\n"
     ]
    },
    {
     "name": "stderr",
     "output_type": "stream",
     "text": [
      "vitamin 진행:   7%|▋         | 1689/25348 [33:53<9:44:45,  1.48s/논문]"
     ]
    },
    {
     "name": "stdout",
     "output_type": "stream",
     "text": [
      "[1690/25348] ⚠️ PMCID 없음 → 건너뜀\n"
     ]
    },
    {
     "name": "stderr",
     "output_type": "stream",
     "text": [
      "vitamin 진행:   7%|▋         | 1691/25348 [33:54<7:40:02,  1.17s/논문]"
     ]
    },
    {
     "name": "stdout",
     "output_type": "stream",
     "text": [
      "[1691/25348] ⚠️ PMCID 없음 → 건너뜀\n"
     ]
    },
    {
     "name": "stderr",
     "output_type": "stream",
     "text": [
      "vitamin 진행:   7%|▋         | 1692/25348 [33:55<8:00:49,  1.22s/논문]"
     ]
    },
    {
     "name": "stdout",
     "output_type": "stream",
     "text": [
      "[1692/25348] ✅ 저장 완료 (PMCID: PMC12126300)\n",
      "[1693/25348] ⚠️ PMCID 없음 → 건너뜀\n",
      "[1694/25348] ✅ 저장 완료 (PMCID: PMC11891505)\n"
     ]
    },
    {
     "name": "stderr",
     "output_type": "stream",
     "text": [
      "vitamin 진행:   7%|▋         | 1695/25348 [33:59<8:16:21,  1.26s/논문]"
     ]
    },
    {
     "name": "stdout",
     "output_type": "stream",
     "text": [
      "[1695/25348] ✅ 저장 완료 (PMCID: PMC12089042)\n"
     ]
    },
    {
     "name": "stderr",
     "output_type": "stream",
     "text": [
      "vitamin 진행:   7%|▋         | 1696/25348 [34:00<7:55:04,  1.21s/논문]"
     ]
    },
    {
     "name": "stdout",
     "output_type": "stream",
     "text": [
      "[1696/25348] ⚠️ PMCID 없음 → 건너뜀\n",
      "[1697/25348] ✅ 저장 완료 (PMCID: PMC12168125)\n"
     ]
    },
    {
     "name": "stderr",
     "output_type": "stream",
     "text": [
      "vitamin 진행:   7%|▋         | 1697/25348 [34:03<10:13:11,  1.56s/논문]"
     ]
    },
    {
     "name": "stdout",
     "output_type": "stream",
     "text": [
      "[1698/25348] ⚠️ PMCID 없음 → 건너뜀\n",
      "[1699/25348] ⚠️ PMCID 없음 → 건너뜀\n"
     ]
    },
    {
     "name": "stderr",
     "output_type": "stream",
     "text": [
      "vitamin 진행:   7%|▋         | 1700/25348 [34:04<6:32:58,  1.00논문/s] "
     ]
    },
    {
     "name": "stdout",
     "output_type": "stream",
     "text": [
      "[1700/25348] ✅ 저장 완료 (PMCID: PMC12087523)\n",
      "[1701/25348] ✅ 저장 완료 (PMCID: PMC12144003)\n"
     ]
    },
    {
     "name": "stderr",
     "output_type": "stream",
     "text": [
      "vitamin 진행:   7%|▋         | 1702/25348 [34:10<10:47:37,  1.64s/논문]"
     ]
    },
    {
     "name": "stdout",
     "output_type": "stream",
     "text": [
      "[1702/25348] ✅ 저장 완료 (PMCID: PMC12153869)\n"
     ]
    },
    {
     "name": "stderr",
     "output_type": "stream",
     "text": [
      "vitamin 진행:   7%|▋         | 1703/25348 [34:11<10:01:54,  1.53s/논문]"
     ]
    },
    {
     "name": "stdout",
     "output_type": "stream",
     "text": [
      "[1703/25348] ✅ 저장 완료 (PMCID: PMC12041347)\n",
      "[1704/25348] ✅ 저장 완료 (PMCID: PMC12098087)\n"
     ]
    },
    {
     "name": "stderr",
     "output_type": "stream",
     "text": [
      "vitamin 진행:   7%|▋         | 1705/25348 [34:15<10:13:23,  1.56s/논문]"
     ]
    },
    {
     "name": "stdout",
     "output_type": "stream",
     "text": [
      "[1705/25348] ✅ 저장 완료 (PMCID: PMC12089939)\n"
     ]
    },
    {
     "name": "stderr",
     "output_type": "stream",
     "text": [
      "vitamin 진행:   7%|▋         | 1706/25348 [34:16<9:32:26,  1.45s/논문] "
     ]
    },
    {
     "name": "stdout",
     "output_type": "stream",
     "text": [
      "[1706/25348] ⚠️ PMCID 없음 → 건너뜀\n",
      "[1707/25348] ✅ 저장 완료 (PMCID: PMC12189497)\n"
     ]
    },
    {
     "name": "stderr",
     "output_type": "stream",
     "text": [
      "vitamin 진행:   7%|▋         | 1708/25348 [34:20<10:23:27,  1.58s/논문]"
     ]
    },
    {
     "name": "stdout",
     "output_type": "stream",
     "text": [
      "[1708/25348] ✅ 저장 완료 (PMCID: PMC11826242)\n",
      "[1709/25348] ✅ 저장 완료 (PMCID: PMC11902277)\n"
     ]
    },
    {
     "name": "stderr",
     "output_type": "stream",
     "text": [
      "vitamin 진행:   7%|▋         | 1710/25348 [34:24<11:22:58,  1.73s/논문]"
     ]
    },
    {
     "name": "stdout",
     "output_type": "stream",
     "text": [
      "[1710/25348] ✅ 저장 완료 (PMCID: PMC12108993)\n",
      "[1711/25348] ✅ 저장 완료 (PMCID: PMC11876408)\n"
     ]
    },
    {
     "name": "stderr",
     "output_type": "stream",
     "text": [
      "vitamin 진행:   7%|▋         | 1711/25348 [34:27<14:09:54,  2.16s/논문]"
     ]
    },
    {
     "name": "stdout",
     "output_type": "stream",
     "text": [
      "[1712/25348] ⚠️ PMCID 없음 → 건너뜀\n",
      "[1713/25348] ✅ 저장 완료 (PMCID: PMC12001800)\n"
     ]
    },
    {
     "name": "stderr",
     "output_type": "stream",
     "text": [
      "vitamin 진행:   7%|▋         | 1713/25348 [34:29<10:56:46,  1.67s/논문]"
     ]
    },
    {
     "name": "stdout",
     "output_type": "stream",
     "text": [
      "[1714/25348] ⚠️ PMCID 없음 → 건너뜀\n",
      "[1715/25348] ⚠️ PMCID 없음 → 건너뜀\n"
     ]
    },
    {
     "name": "stderr",
     "output_type": "stream",
     "text": [
      "vitamin 진행:   7%|▋         | 1716/25348 [34:30<6:37:30,  1.01s/논문] "
     ]
    },
    {
     "name": "stdout",
     "output_type": "stream",
     "text": [
      "[1716/25348] ⚠️ PMCID 없음 → 건너뜀\n"
     ]
    },
    {
     "name": "stderr",
     "output_type": "stream",
     "text": [
      "vitamin 진행:   7%|▋         | 1717/25348 [34:31<6:37:33,  1.01s/논문]"
     ]
    },
    {
     "name": "stdout",
     "output_type": "stream",
     "text": [
      "[1717/25348] ✅ 저장 완료 (PMCID: PMC11951787)\n",
      "[1718/25348] ✅ 저장 완료 (PMCID: PMC11822773)\n"
     ]
    },
    {
     "name": "stderr",
     "output_type": "stream",
     "text": [
      "vitamin 진행:   7%|▋         | 1719/25348 [34:34<7:44:52,  1.18s/논문]"
     ]
    },
    {
     "name": "stdout",
     "output_type": "stream",
     "text": [
      "[1719/25348] ✅ 저장 완료 (PMCID: PMC11877728)\n",
      "[1720/25348] ✅ 저장 완료 (PMCID: PMC11823251)\n"
     ]
    },
    {
     "name": "stderr",
     "output_type": "stream",
     "text": [
      "vitamin 진행:   7%|▋         | 1721/25348 [34:39<10:40:31,  1.63s/논문]"
     ]
    },
    {
     "name": "stdout",
     "output_type": "stream",
     "text": [
      "[1721/25348] ✅ 저장 완료 (PMCID: PMC11906842)\n",
      "[1722/25348] ✅ 저장 완료 (PMCID: PMC11856371)\n"
     ]
    },
    {
     "name": "stderr",
     "output_type": "stream",
     "text": [
      "vitamin 진행:   7%|▋         | 1723/25348 [34:42<11:04:36,  1.69s/논문]"
     ]
    },
    {
     "name": "stdout",
     "output_type": "stream",
     "text": [
      "[1723/25348] ✅ 저장 완료 (PMCID: PMC12196293)\n",
      "[1724/25348] ⚠️ PMCID 없음 → 건너뜀\n",
      "[1725/25348] ✅ 저장 완료 (PMCID: PMC12142331)\n"
     ]
    },
    {
     "name": "stderr",
     "output_type": "stream",
     "text": [
      "vitamin 진행:   7%|▋         | 1726/25348 [34:47<9:42:56,  1.48s/논문] "
     ]
    },
    {
     "name": "stdout",
     "output_type": "stream",
     "text": [
      "[1726/25348] ⚠️ PMCID 없음 → 건너뜀\n",
      "[1727/25348] ⚠️ PMCID 없음 → 건너뜀\n"
     ]
    },
    {
     "name": "stderr",
     "output_type": "stream",
     "text": [
      "vitamin 진행:   7%|▋         | 1728/25348 [34:48<7:13:04,  1.10s/논문]"
     ]
    },
    {
     "name": "stdout",
     "output_type": "stream",
     "text": [
      "[1728/25348] ✅ 저장 완료 (PMCID: PMC11901569)\n",
      "[1729/25348] ✅ 저장 완료 (PMCID: PMC12042362)\n"
     ]
    },
    {
     "name": "stderr",
     "output_type": "stream",
     "text": [
      "vitamin 진행:   7%|▋         | 1730/25348 [34:51<8:50:06,  1.35s/논문]"
     ]
    },
    {
     "name": "stdout",
     "output_type": "stream",
     "text": [
      "[1730/25348] ✅ 저장 완료 (PMCID: PMC11863360)\n",
      "[1731/25348] ✅ 저장 완료 (PMCID: PMC12017301)\n"
     ]
    },
    {
     "name": "stderr",
     "output_type": "stream",
     "text": [
      "vitamin 진행:   7%|▋         | 1732/25348 [34:55<10:23:31,  1.58s/논문]"
     ]
    },
    {
     "name": "stdout",
     "output_type": "stream",
     "text": [
      "[1732/25348] ✅ 저장 완료 (PMCID: PMC11820181)\n",
      "[1733/25348] ⚠️ PMCID 없음 → 건너뜀\n",
      "[1734/25348] ✅ 저장 완료 (PMCID: PMC11972520)\n"
     ]
    },
    {
     "name": "stderr",
     "output_type": "stream",
     "text": [
      "vitamin 진행:   7%|▋         | 1734/25348 [34:57<8:45:51,  1.34s/논문] "
     ]
    },
    {
     "name": "stdout",
     "output_type": "stream",
     "text": [
      "[1735/25348] ⚠️ PMCID 없음 → 건너뜀\n"
     ]
    },
    {
     "name": "stderr",
     "output_type": "stream",
     "text": [
      "vitamin 진행:   7%|▋         | 1736/25348 [35:00<8:46:42,  1.34s/논문]"
     ]
    },
    {
     "name": "stdout",
     "output_type": "stream",
     "text": [
      "[1736/25348] ✅ 저장 완료 (PMCID: PMC12103117)\n",
      "[1737/25348] ⚠️ PMCID 없음 → 건너뜀\n",
      "[1738/25348] ⚠️ PMCID 없음 → 건너뜀\n",
      "[1739/25348] ✅ 저장 완료 (PMCID: PMC11948728)\n"
     ]
    },
    {
     "name": "stderr",
     "output_type": "stream",
     "text": [
      "vitamin 진행:   7%|▋         | 1739/25348 [35:02<6:47:54,  1.04s/논문]"
     ]
    },
    {
     "name": "stdout",
     "output_type": "stream",
     "text": [
      "[1740/25348] ⚠️ PMCID 없음 → 건너뜀\n"
     ]
    },
    {
     "name": "stderr",
     "output_type": "stream",
     "text": [
      "vitamin 진행:   7%|▋         | 1741/25348 [35:04<6:39:03,  1.01s/논문]"
     ]
    },
    {
     "name": "stdout",
     "output_type": "stream",
     "text": [
      "[1741/25348] ✅ 저장 완료 (PMCID: PMC11880265)\n",
      "[1742/25348] ⚠️ PMCID 없음 → 건너뜀\n",
      "[1743/25348] ✅ 저장 완료 (PMCID: PMC12111739)\n"
     ]
    },
    {
     "name": "stderr",
     "output_type": "stream",
     "text": [
      "vitamin 진행:   7%|▋         | 1744/25348 [35:08<7:23:18,  1.13s/논문]"
     ]
    },
    {
     "name": "stdout",
     "output_type": "stream",
     "text": [
      "[1744/25348] ✅ 저장 완료 (PMCID: PMC12108201)\n",
      "[1745/25348] ⚠️ PMCID 없음 → 건너뜀\n",
      "[1746/25348] ✅ 저장 완료 (PMCID: PMC11946825)\n"
     ]
    },
    {
     "name": "stderr",
     "output_type": "stream",
     "text": [
      "vitamin 진행:   7%|▋         | 1746/25348 [35:12<8:56:46,  1.36s/논문]"
     ]
    },
    {
     "name": "stdout",
     "output_type": "stream",
     "text": [
      "[1747/25348] ⚠️ PMCID 없음 → 건너뜀\n"
     ]
    },
    {
     "name": "stderr",
     "output_type": "stream",
     "text": [
      "vitamin 진행:   7%|▋         | 1748/25348 [35:13<7:15:41,  1.11s/논문]"
     ]
    },
    {
     "name": "stdout",
     "output_type": "stream",
     "text": [
      "[1748/25348] ✅ 저장 완료 (PMCID: PMC12098410)\n",
      "[1749/25348] ✅ 저장 완료 (PMCID: PMC12099449)\n"
     ]
    },
    {
     "name": "stderr",
     "output_type": "stream",
     "text": [
      "vitamin 진행:   7%|▋         | 1750/25348 [35:16<8:29:21,  1.30s/논문]"
     ]
    },
    {
     "name": "stdout",
     "output_type": "stream",
     "text": [
      "[1750/25348] ✅ 저장 완료 (PMCID: PMC11827138)\n",
      "[1751/25348] ✅ 저장 완료 (PMCID: PMC12042216)\n"
     ]
    },
    {
     "name": "stderr",
     "output_type": "stream",
     "text": [
      "vitamin 진행:   7%|▋         | 1751/25348 [35:20<11:34:17,  1.77s/논문]"
     ]
    },
    {
     "name": "stdout",
     "output_type": "stream",
     "text": [
      "[1752/25348] ⚠️ PMCID 없음 → 건너뜀\n"
     ]
    },
    {
     "name": "stderr",
     "output_type": "stream",
     "text": [
      "vitamin 진행:   7%|▋         | 1753/25348 [35:21<8:17:06,  1.26s/논문] "
     ]
    },
    {
     "name": "stdout",
     "output_type": "stream",
     "text": [
      "[1753/25348] ✅ 저장 완료 (PMCID: PMC12146255)\n",
      "[1754/25348] ⚠️ PMCID 없음 → 건너뜀\n",
      "[1755/25348] ✅ 저장 완료 (PMCID: PMC11921181)\n"
     ]
    },
    {
     "name": "stderr",
     "output_type": "stream",
     "text": [
      "vitamin 진행:   7%|▋         | 1756/25348 [35:25<9:09:42,  1.40s/논문]"
     ]
    },
    {
     "name": "stdout",
     "output_type": "stream",
     "text": [
      "[1756/25348] ✅ 저장 완료 (PMCID: PMC11876179)\n",
      "[1757/25348] ⚠️ PMCID 없음 → 건너뜀\n",
      "[1758/25348] ⚠️ PMCID 없음 → 건너뜀\n",
      "[1759/25348] ⚠️ PMCID 없음 → 건너뜀\n",
      "[1760/25348] ✅ 저장 완료 (PMCID: PMC12184237)\n"
     ]
    },
    {
     "name": "stderr",
     "output_type": "stream",
     "text": [
      "vitamin 진행:   7%|▋         | 1761/25348 [35:30<8:11:31,  1.25s/논문]"
     ]
    },
    {
     "name": "stdout",
     "output_type": "stream",
     "text": [
      "[1761/25348] ✅ 저장 완료 (PMCID: PMC11809102)\n",
      "[1762/25348] ✅ 저장 완료 (PMCID: PMC12117289)\n"
     ]
    },
    {
     "name": "stderr",
     "output_type": "stream",
     "text": [
      "vitamin 진행:   7%|▋         | 1763/25348 [35:34<9:11:14,  1.40s/논문]"
     ]
    },
    {
     "name": "stdout",
     "output_type": "stream",
     "text": [
      "[1763/25348] ✅ 저장 완료 (PMCID: PMC11846893)\n",
      "[1764/25348] ✅ 저장 완료 (PMCID: PMC12007941)\n"
     ]
    },
    {
     "name": "stderr",
     "output_type": "stream",
     "text": [
      "vitamin 진행:   7%|▋         | 1764/25348 [35:36<10:40:53,  1.63s/논문]"
     ]
    },
    {
     "name": "stdout",
     "output_type": "stream",
     "text": [
      "[1765/25348] ⚠️ PMCID 없음 → 건너뜀\n"
     ]
    },
    {
     "name": "stderr",
     "output_type": "stream",
     "text": [
      "vitamin 진행:   7%|▋         | 1766/25348 [35:37<7:44:34,  1.18s/논문] "
     ]
    },
    {
     "name": "stdout",
     "output_type": "stream",
     "text": [
      "[1766/25348] ⚠️ PMCID 없음 → 건너뜀\n"
     ]
    },
    {
     "name": "stderr",
     "output_type": "stream",
     "text": [
      "vitamin 진행:   7%|▋         | 1767/25348 [35:38<7:43:53,  1.18s/논문]"
     ]
    },
    {
     "name": "stdout",
     "output_type": "stream",
     "text": [
      "[1767/25348] ✅ 저장 완료 (PMCID: PMC12195960)\n",
      "[1768/25348] ⚠️ PMCID 없음 → 건너뜀\n",
      "[1769/25348] ⚠️ PMCID 없음 → 건너뜀\n",
      "[1770/25348] ✅ 저장 완료 (PMCID: PMC11982697)\n"
     ]
    },
    {
     "name": "stderr",
     "output_type": "stream",
     "text": [
      "vitamin 진행:   7%|▋         | 1771/25348 [35:41<6:22:58,  1.03논문/s]"
     ]
    },
    {
     "name": "stdout",
     "output_type": "stream",
     "text": [
      "[1771/25348] ⚠️ PMCID 없음 → 건너뜀\n",
      "[1772/25348] ⚠️ PMCID 없음 → 건너뜀\n"
     ]
    },
    {
     "name": "stderr",
     "output_type": "stream",
     "text": [
      "vitamin 진행:   7%|▋         | 1773/25348 [35:43<5:22:27,  1.22논문/s]"
     ]
    },
    {
     "name": "stdout",
     "output_type": "stream",
     "text": [
      "[1773/25348] ✅ 저장 완료 (PMCID: PMC12035548)\n",
      "[1774/25348] ⚠️ PMCID 없음 → 건너뜀\n"
     ]
    },
    {
     "name": "stderr",
     "output_type": "stream",
     "text": [
      "vitamin 진행:   7%|▋         | 1775/25348 [35:44<4:48:07,  1.36논문/s]"
     ]
    },
    {
     "name": "stdout",
     "output_type": "stream",
     "text": [
      "[1775/25348] ✅ 저장 완료 (PMCID: PMC11898182)\n",
      "[1776/25348] ✅ 저장 완료 (PMCID: PMC11808953)\n"
     ]
    },
    {
     "name": "stderr",
     "output_type": "stream",
     "text": [
      "vitamin 진행:   7%|▋         | 1776/25348 [35:47<8:00:46,  1.22s/논문]"
     ]
    },
    {
     "name": "stdout",
     "output_type": "stream",
     "text": [
      "[1777/25348] ⚠️ PMCID 없음 → 건너뜀\n"
     ]
    },
    {
     "name": "stderr",
     "output_type": "stream",
     "text": [
      "vitamin 진행:   7%|▋         | 1778/25348 [35:48<6:16:49,  1.04논문/s]"
     ]
    },
    {
     "name": "stdout",
     "output_type": "stream",
     "text": [
      "[1778/25348] ✅ 저장 완료 (PMCID: PMC11946488)\n",
      "[1779/25348] ⚠️ PMCID 없음 → 건너뜀\n",
      "[1780/25348] ⚠️ PMCID 없음 → 건너뜀\n"
     ]
    },
    {
     "name": "stderr",
     "output_type": "stream",
     "text": [
      "vitamin 진행:   7%|▋         | 1781/25348 [35:50<5:24:16,  1.21논문/s]"
     ]
    },
    {
     "name": "stdout",
     "output_type": "stream",
     "text": [
      "[1781/25348] ✅ 저장 완료 (PMCID: PMC11803940)\n",
      "[1782/25348] ⚠️ PMCID 없음 → 건너뜀\n",
      "[1783/25348] ✅ 저장 완료 (PMCID: PMC12073724)\n"
     ]
    },
    {
     "name": "stderr",
     "output_type": "stream",
     "text": [
      "vitamin 진행:   7%|▋         | 1784/25348 [35:54<6:29:32,  1.01논문/s]"
     ]
    },
    {
     "name": "stdout",
     "output_type": "stream",
     "text": [
      "[1784/25348] ✅ 저장 완료 (PMCID: PMC11900642)\n",
      "[1785/25348] ✅ 저장 완료 (PMCID: PMC11814003)\n"
     ]
    },
    {
     "name": "stderr",
     "output_type": "stream",
     "text": [
      "vitamin 진행:   7%|▋         | 1786/25348 [35:58<9:29:15,  1.45s/논문]"
     ]
    },
    {
     "name": "stdout",
     "output_type": "stream",
     "text": [
      "[1786/25348] ✅ 저장 완료 (PMCID: PMC12067307)\n",
      "[1787/25348] ⚠️ PMCID 없음 → 건너뜀\n",
      "[1788/25348] ⚠️ PMCID 없음 → 건너뜀\n"
     ]
    },
    {
     "name": "stderr",
     "output_type": "stream",
     "text": [
      "vitamin 진행:   7%|▋         | 1789/25348 [35:59<5:58:49,  1.09논문/s]"
     ]
    },
    {
     "name": "stdout",
     "output_type": "stream",
     "text": [
      "⚠️ abstract section 없음 (PMCID: PMC12023118) → 건너뜀\n",
      "[1790/25348] ✅ 저장 완료 (PMCID: PMC12198412)\n"
     ]
    },
    {
     "name": "stderr",
     "output_type": "stream",
     "text": [
      "vitamin 진행:   7%|▋         | 1791/25348 [36:05<9:58:28,  1.52s/논문]"
     ]
    },
    {
     "name": "stdout",
     "output_type": "stream",
     "text": [
      "[1791/25348] ✅ 저장 완료 (PMCID: PMC12119491)\n",
      "[1792/25348] ✅ 저장 완료 (PMCID: PMC11876934)\n"
     ]
    },
    {
     "name": "stderr",
     "output_type": "stream",
     "text": [
      "vitamin 진행:   7%|▋         | 1793/25348 [36:09<10:58:53,  1.68s/논문]"
     ]
    },
    {
     "name": "stdout",
     "output_type": "stream",
     "text": [
      "[1793/25348] ✅ 저장 완료 (PMCID: PMC11830623)\n",
      "[1794/25348] ⚠️ PMCID 없음 → 건너뜀\n",
      "[1795/25348] ✅ 저장 완료 (PMCID: PMC12001193)\n"
     ]
    },
    {
     "name": "stderr",
     "output_type": "stream",
     "text": [
      "vitamin 진행:   7%|▋         | 1796/25348 [36:14<11:35:20,  1.77s/논문]"
     ]
    },
    {
     "name": "stdout",
     "output_type": "stream",
     "text": [
      "[1796/25348] ✅ 저장 완료 (PMCID: PMC12184457)\n",
      "[1797/25348] ✅ 저장 완료 (PMCID: PMC12102900)\n"
     ]
    },
    {
     "name": "stderr",
     "output_type": "stream",
     "text": [
      "vitamin 진행:   7%|▋         | 1798/25348 [36:18<11:45:07,  1.80s/논문]"
     ]
    },
    {
     "name": "stdout",
     "output_type": "stream",
     "text": [
      "[1798/25348] ✅ 저장 완료 (PMCID: PMC11964221)\n",
      "[1799/25348] ⚠️ PMCID 없음 → 건너뜀\n",
      "[1800/25348] ⚠️ PMCID 없음 → 건너뜀\n"
     ]
    },
    {
     "name": "stderr",
     "output_type": "stream",
     "text": [
      "vitamin 진행:   7%|▋         | 1801/25348 [36:19<6:40:15,  1.02s/논문] "
     ]
    },
    {
     "name": "stdout",
     "output_type": "stream",
     "text": [
      "[1801/25348] ⚠️ PMCID 없음 → 건너뜀\n",
      "[1802/25348] ⚠️ PMCID 없음 → 건너뜀\n",
      "[1803/25348] ✅ 저장 완료 (PMCID: PMC11991768)\n"
     ]
    },
    {
     "name": "stderr",
     "output_type": "stream",
     "text": [
      "vitamin 진행:   7%|▋         | 1803/25348 [36:22<7:35:40,  1.16s/논문]"
     ]
    },
    {
     "name": "stdout",
     "output_type": "stream",
     "text": [
      "[1804/25348] ⚠️ PMCID 없음 → 건너뜀\n",
      "[1805/25348] ⚠️ PMCID 없음 → 건너뜀\n"
     ]
    },
    {
     "name": "stderr",
     "output_type": "stream",
     "text": [
      "vitamin 진행:   7%|▋         | 1806/25348 [36:23<5:19:12,  1.23논문/s]"
     ]
    },
    {
     "name": "stdout",
     "output_type": "stream",
     "text": [
      "[1806/25348] ⚠️ PMCID 없음 → 건너뜀\n",
      "[1807/25348] ⚠️ PMCID 없음 → 건너뜀\n",
      "[1808/25348] ⚠️ PMCID 없음 → 건너뜀\n",
      "[1809/25348] ⚠️ PMCID 없음 → 건너뜀\n",
      "[1810/25348] ⚠️ PMCID 없음 → 건너뜀\n"
     ]
    },
    {
     "name": "stderr",
     "output_type": "stream",
     "text": [
      "vitamin 진행:   7%|▋         | 1811/25348 [36:25<4:12:39,  1.55논문/s]"
     ]
    },
    {
     "name": "stdout",
     "output_type": "stream",
     "text": [
      "[1811/25348] ✅ 저장 완료 (PMCID: PMC12015909)\n",
      "[1812/25348] ✅ 저장 완료 (PMCID: PMC12088310)\n"
     ]
    },
    {
     "name": "stderr",
     "output_type": "stream",
     "text": [
      "vitamin 진행:   7%|▋         | 1813/25348 [36:30<6:34:19,  1.01s/논문]"
     ]
    },
    {
     "name": "stdout",
     "output_type": "stream",
     "text": [
      "[1813/25348] ✅ 저장 완료 (PMCID: PMC12041888)\n",
      "[1814/25348] ✅ 저장 완료 (PMCID: PMC11883930)\n"
     ]
    },
    {
     "name": "stderr",
     "output_type": "stream",
     "text": [
      "vitamin 진행:   7%|▋         | 1814/25348 [36:33<9:35:58,  1.47s/논문]"
     ]
    },
    {
     "name": "stdout",
     "output_type": "stream",
     "text": [
      "[1815/25348] ⚠️ PMCID 없음 → 건너뜀\n"
     ]
    },
    {
     "name": "stderr",
     "output_type": "stream",
     "text": [
      "vitamin 진행:   7%|▋         | 1816/25348 [36:35<8:55:23,  1.37s/논문]"
     ]
    },
    {
     "name": "stdout",
     "output_type": "stream",
     "text": [
      "[1816/25348] ✅ 저장 완료 (PMCID: PMC12173042)\n",
      "[1817/25348] ⚠️ PMCID 없음 → 건너뜀\n",
      "[1818/25348] ⚠️ PMCID 없음 → 건너뜀\n",
      "[1819/25348] ✅ 저장 완료 (PMCID: PMC12161004)\n"
     ]
    },
    {
     "name": "stderr",
     "output_type": "stream",
     "text": [
      "vitamin 진행:   7%|▋         | 1820/25348 [36:39<7:42:46,  1.18s/논문]"
     ]
    },
    {
     "name": "stdout",
     "output_type": "stream",
     "text": [
      "[1820/25348] ✅ 저장 완료 (PMCID: PMC12172976)\n",
      "[1821/25348] ✅ 저장 완료 (PMCID: PMC12155533)\n"
     ]
    },
    {
     "name": "stderr",
     "output_type": "stream",
     "text": [
      "vitamin 진행:   7%|▋         | 1822/25348 [36:44<9:38:14,  1.47s/논문] "
     ]
    },
    {
     "name": "stdout",
     "output_type": "stream",
     "text": [
      "[1822/25348] ✅ 저장 완료 (PMCID: PMC11875609)\n",
      "[1823/25348] ⚠️ PMCID 없음 → 건너뜀\n",
      "[1824/25348] ✅ 저장 완료 (PMCID: PMC12144961)\n"
     ]
    },
    {
     "name": "stderr",
     "output_type": "stream",
     "text": [
      "vitamin 진행:   7%|▋         | 1825/25348 [36:47<8:22:07,  1.28s/논문]"
     ]
    },
    {
     "name": "stdout",
     "output_type": "stream",
     "text": [
      "[1825/25348] ✅ 저장 완료 (PMCID: PMC11932986)\n"
     ]
    },
    {
     "name": "stderr",
     "output_type": "stream",
     "text": [
      "vitamin 진행:   7%|▋         | 1826/25348 [36:48<8:00:35,  1.23s/논문]"
     ]
    },
    {
     "name": "stdout",
     "output_type": "stream",
     "text": [
      "[1826/25348] ⚠️ 이미 저장된 논문 건너뜀 (PMCID: PMC11932986)\n",
      "[1827/25348] ✅ 저장 완료 (PMCID: PMC11841401)\n"
     ]
    },
    {
     "name": "stderr",
     "output_type": "stream",
     "text": [
      "vitamin 진행:   7%|▋         | 1827/25348 [36:51<10:18:11,  1.58s/논문]"
     ]
    },
    {
     "name": "stdout",
     "output_type": "stream",
     "text": [
      "[1828/25348] ⚠️ PMCID 없음 → 건너뜀\n"
     ]
    },
    {
     "name": "stderr",
     "output_type": "stream",
     "text": [
      "vitamin 진행:   7%|▋         | 1829/25348 [36:52<7:16:14,  1.11s/논문] "
     ]
    },
    {
     "name": "stdout",
     "output_type": "stream",
     "text": [
      "[1829/25348] ✅ 저장 완료 (PMCID: PMC12117517)\n",
      "[1830/25348] ✅ 저장 완료 (PMCID: PMC12065723)\n"
     ]
    },
    {
     "name": "stderr",
     "output_type": "stream",
     "text": [
      "vitamin 진행:   7%|▋         | 1831/25348 [36:57<11:12:06,  1.71s/논문]"
     ]
    },
    {
     "name": "stdout",
     "output_type": "stream",
     "text": [
      "[1831/25348] ✅ 저장 완료 (PMCID: PMC12114789)\n",
      "[1832/25348] ✅ 저장 완료 (PMCID: PMC12124992)\n"
     ]
    },
    {
     "name": "stderr",
     "output_type": "stream",
     "text": [
      "vitamin 진행:   7%|▋         | 1833/25348 [37:01<11:15:36,  1.72s/논문]"
     ]
    },
    {
     "name": "stdout",
     "output_type": "stream",
     "text": [
      "[1833/25348] ✅ 저장 완료 (PMCID: PMC12154420)\n",
      "[1834/25348] ⚠️ PMCID 없음 → 건너뜀\n",
      "[1835/25348] ⚠️ PMCID 없음 → 건너뜀\n"
     ]
    },
    {
     "name": "stderr",
     "output_type": "stream",
     "text": [
      "vitamin 진행:   7%|▋         | 1836/25348 [37:02<6:25:32,  1.02논문/s] "
     ]
    },
    {
     "name": "stdout",
     "output_type": "stream",
     "text": [
      "[1836/25348] ⚠️ PMCID 없음 → 건너뜀\n",
      "[1837/25348] ⚠️ PMCID 없음 → 건너뜀\n",
      "[1838/25348] ⚠️ PMCID 없음 → 건너뜀\n",
      "[1839/25348] ✅ 저장 완료 (PMCID: PMC12109259)\n"
     ]
    },
    {
     "name": "stderr",
     "output_type": "stream",
     "text": [
      "vitamin 진행:   7%|▋         | 1840/25348 [37:06<6:32:31,  1.00s/논문]"
     ]
    },
    {
     "name": "stdout",
     "output_type": "stream",
     "text": [
      "[1840/25348] ✅ 저장 완료 (PMCID: PMC12071996)\n"
     ]
    },
    {
     "name": "stderr",
     "output_type": "stream",
     "text": [
      "vitamin 진행:   7%|▋         | 1841/25348 [37:07<6:36:01,  1.01s/논문]"
     ]
    },
    {
     "name": "stdout",
     "output_type": "stream",
     "text": [
      "[1841/25348] ⚠️ PMCID 없음 → 건너뜀\n",
      "[1842/25348] ✅ 저장 완료 (PMCID: PMC11818229)\n"
     ]
    },
    {
     "name": "stderr",
     "output_type": "stream",
     "text": [
      "vitamin 진행:   7%|▋         | 1843/25348 [37:11<8:39:38,  1.33s/논문]"
     ]
    },
    {
     "name": "stdout",
     "output_type": "stream",
     "text": [
      "[1843/25348] ✅ 저장 완료 (PMCID: PMC12164205)\n",
      "[1844/25348] ✅ 저장 완료 (PMCID: PMC11922497)\n"
     ]
    },
    {
     "name": "stderr",
     "output_type": "stream",
     "text": [
      "vitamin 진행:   7%|▋         | 1845/25348 [37:14<9:24:57,  1.44s/논문] "
     ]
    },
    {
     "name": "stdout",
     "output_type": "stream",
     "text": [
      "[1845/25348] ✅ 저장 완료 (PMCID: PMC11990062)\n",
      "[1846/25348] ✅ 저장 완료 (PMCID: PMC12187487)\n"
     ]
    },
    {
     "name": "stderr",
     "output_type": "stream",
     "text": [
      "vitamin 진행:   7%|▋         | 1846/25348 [37:18<13:57:55,  2.14s/논문]"
     ]
    },
    {
     "name": "stdout",
     "output_type": "stream",
     "text": [
      "[1847/25348] ⚠️ PMCID 없음 → 건너뜀\n"
     ]
    },
    {
     "name": "stderr",
     "output_type": "stream",
     "text": [
      "vitamin 진행:   7%|▋         | 1848/25348 [37:19<9:24:02,  1.44s/논문] "
     ]
    },
    {
     "name": "stdout",
     "output_type": "stream",
     "text": [
      "[1848/25348] ✅ 저장 완료 (PMCID: PMC12172467)\n",
      "[1849/25348] ✅ 저장 완료 (PMCID: PMC12193690)\n"
     ]
    },
    {
     "name": "stderr",
     "output_type": "stream",
     "text": [
      "vitamin 진행:   7%|▋         | 1849/25348 [37:22<10:58:27,  1.68s/논문]"
     ]
    },
    {
     "name": "stdout",
     "output_type": "stream",
     "text": [
      "[1850/25348] ⚠️ PMCID 없음 → 건너뜀\n"
     ]
    },
    {
     "name": "stderr",
     "output_type": "stream",
     "text": [
      "vitamin 진행:   7%|▋         | 1851/25348 [37:24<9:45:17,  1.49s/논문] "
     ]
    },
    {
     "name": "stdout",
     "output_type": "stream",
     "text": [
      "[1851/25348] ✅ 저장 완료 (PMCID: PMC11901762)\n",
      "[1852/25348] ✅ 저장 완료 (PMCID: PMC12170786)\n"
     ]
    },
    {
     "name": "stderr",
     "output_type": "stream",
     "text": [
      "vitamin 진행:   7%|▋         | 1853/25348 [37:28<10:21:21,  1.59s/논문]"
     ]
    },
    {
     "name": "stdout",
     "output_type": "stream",
     "text": [
      "[1853/25348] ✅ 저장 완료 (PMCID: PMC12178147)\n",
      "[1854/25348] ✅ 저장 완료 (PMCID: PMC11820523)\n"
     ]
    },
    {
     "name": "stderr",
     "output_type": "stream",
     "text": [
      "vitamin 진행:   7%|▋         | 1855/25348 [37:33<12:30:56,  1.92s/논문]"
     ]
    },
    {
     "name": "stdout",
     "output_type": "stream",
     "text": [
      "[1855/25348] ✅ 저장 완료 (PMCID: PMC12089210)\n",
      "[1856/25348] ✅ 저장 완료 (PMCID: PMC12156702)\n"
     ]
    },
    {
     "name": "stderr",
     "output_type": "stream",
     "text": [
      "vitamin 진행:   7%|▋         | 1856/25348 [37:36<15:17:58,  2.34s/논문]"
     ]
    },
    {
     "name": "stdout",
     "output_type": "stream",
     "text": [
      "[1857/25348] ⚠️ PMCID 없음 → 건너뜀\n"
     ]
    },
    {
     "name": "stderr",
     "output_type": "stream",
     "text": [
      "vitamin 진행:   7%|▋         | 1858/25348 [37:38<10:26:47,  1.60s/논문]"
     ]
    },
    {
     "name": "stdout",
     "output_type": "stream",
     "text": [
      "[1858/25348] ✅ 저장 완료 (PMCID: PMC12011545)\n",
      "[1859/25348] ✅ 저장 완료 (PMCID: PMC11836780)\n"
     ]
    },
    {
     "name": "stderr",
     "output_type": "stream",
     "text": [
      "vitamin 진행:   7%|▋         | 1860/25348 [37:42<12:10:47,  1.87s/논문]"
     ]
    },
    {
     "name": "stdout",
     "output_type": "stream",
     "text": [
      "[1860/25348] ✅ 저장 완료 (PMCID: PMC12044920)\n"
     ]
    },
    {
     "name": "stderr",
     "output_type": "stream",
     "text": [
      "vitamin 진행:   7%|▋         | 1861/25348 [37:43<10:39:52,  1.63s/논문]"
     ]
    },
    {
     "name": "stdout",
     "output_type": "stream",
     "text": [
      "[1861/25348] ⚠️ PMCID 없음 → 건너뜀\n",
      "[1862/25348] ✅ 저장 완료 (PMCID: PMC11858261)\n"
     ]
    },
    {
     "name": "stderr",
     "output_type": "stream",
     "text": [
      "vitamin 진행:   7%|▋         | 1862/25348 [37:47<13:39:48,  2.09s/논문]"
     ]
    },
    {
     "name": "stdout",
     "output_type": "stream",
     "text": [
      "[1863/25348] ⚠️ PMCID 없음 → 건너뜀\n"
     ]
    },
    {
     "name": "stderr",
     "output_type": "stream",
     "text": [
      "vitamin 진행:   7%|▋         | 1864/25348 [37:48<9:07:12,  1.40s/논문] "
     ]
    },
    {
     "name": "stdout",
     "output_type": "stream",
     "text": [
      "[1864/25348] ✅ 저장 완료 (PMCID: PMC11866219)\n",
      "[1865/25348] ⚠️ PMCID 없음 → 건너뜀\n"
     ]
    },
    {
     "name": "stderr",
     "output_type": "stream",
     "text": [
      "vitamin 진행:   7%|▋         | 1866/25348 [37:50<8:31:31,  1.31s/논문]"
     ]
    },
    {
     "name": "stdout",
     "output_type": "stream",
     "text": [
      "[1866/25348] ✅ 저장 완료 (PMCID: PMC11822365)\n",
      "[1867/25348] ✅ 저장 완료 (PMCID: PMC11856994)\n"
     ]
    },
    {
     "name": "stderr",
     "output_type": "stream",
     "text": [
      "vitamin 진행:   7%|▋         | 1868/25348 [37:55<10:42:58,  1.64s/논문]"
     ]
    },
    {
     "name": "stdout",
     "output_type": "stream",
     "text": [
      "[1868/25348] ✅ 저장 완료 (PMCID: PMC12031604)\n",
      "[1869/25348] ⚠️ PMCID 없음 → 건너뜀\n",
      "[1870/25348] ✅ 저장 완료 (PMCID: PMC11902093)\n"
     ]
    },
    {
     "name": "stderr",
     "output_type": "stream",
     "text": [
      "vitamin 진행:   7%|▋         | 1871/25348 [38:00<11:20:54,  1.74s/논문]"
     ]
    },
    {
     "name": "stdout",
     "output_type": "stream",
     "text": [
      "[1871/25348] ✅ 저장 완료 (PMCID: PMC11810727)\n",
      "[1872/25348] ✅ 저장 완료 (PMCID: PMC11906197)\n"
     ]
    },
    {
     "name": "stderr",
     "output_type": "stream",
     "text": [
      "vitamin 진행:   7%|▋         | 1873/25348 [38:03<10:51:59,  1.67s/논문]"
     ]
    },
    {
     "name": "stdout",
     "output_type": "stream",
     "text": [
      "[1873/25348] ✅ 저장 완료 (PMCID: PMC12149272)\n",
      "[1874/25348] ✅ 저장 완료 (PMCID: PMC11884782)\n"
     ]
    },
    {
     "name": "stderr",
     "output_type": "stream",
     "text": [
      "vitamin 진행:   7%|▋         | 1875/25348 [38:06<10:19:21,  1.58s/논문]"
     ]
    },
    {
     "name": "stdout",
     "output_type": "stream",
     "text": [
      "[1875/25348] ✅ 저장 완료 (PMCID: PMC12156515)\n",
      "[1876/25348] ✅ 저장 완료 (PMCID: PMC12185178)\n"
     ]
    },
    {
     "name": "stderr",
     "output_type": "stream",
     "text": [
      "vitamin 진행:   7%|▋         | 1877/25348 [38:12<13:26:24,  2.06s/논문]"
     ]
    },
    {
     "name": "stdout",
     "output_type": "stream",
     "text": [
      "[1877/25348] ✅ 저장 완료 (PMCID: PMC12070536)\n",
      "[1878/25348] ✅ 저장 완료 (PMCID: PMC12110868)\n"
     ]
    },
    {
     "name": "stderr",
     "output_type": "stream",
     "text": [
      "vitamin 진행:   7%|▋         | 1879/25348 [38:16<13:28:37,  2.07s/논문]"
     ]
    },
    {
     "name": "stdout",
     "output_type": "stream",
     "text": [
      "[1879/25348] ✅ 저장 완료 (PMCID: PMC12014656)\n",
      "[1880/25348] ✅ 저장 완료 (PMCID: PMC11872066)\n"
     ]
    },
    {
     "name": "stderr",
     "output_type": "stream",
     "text": [
      "vitamin 진행:   7%|▋         | 1881/25348 [38:22<15:11:35,  2.33s/논문]"
     ]
    },
    {
     "name": "stdout",
     "output_type": "stream",
     "text": [
      "[1881/25348] ✅ 저장 완료 (PMCID: PMC11829343)\n",
      "[1882/25348] ✅ 저장 완료 (PMCID: PMC12167006)\n"
     ]
    },
    {
     "name": "stderr",
     "output_type": "stream",
     "text": [
      "vitamin 진행:   7%|▋         | 1882/25348 [38:24<15:00:11,  2.30s/논문]"
     ]
    },
    {
     "name": "stdout",
     "output_type": "stream",
     "text": [
      "[1883/25348] ⚠️ PMCID 없음 → 건너뜀\n",
      "[1884/25348] ⚠️ PMCID 없음 → 건너뜀\n",
      "[1885/25348] ⚠️ PMCID 없음 → 건너뜀\n"
     ]
    },
    {
     "name": "stderr",
     "output_type": "stream",
     "text": [
      "vitamin 진행:   7%|▋         | 1886/25348 [38:26<7:49:54,  1.20s/논문] "
     ]
    },
    {
     "name": "stdout",
     "output_type": "stream",
     "text": [
      "[1886/25348] ✅ 저장 완료 (PMCID: PMC12176415)\n",
      "[1887/25348] ✅ 저장 완료 (PMCID: PMC11989619)\n"
     ]
    },
    {
     "name": "stderr",
     "output_type": "stream",
     "text": [
      "vitamin 진행:   7%|▋         | 1888/25348 [38:31<10:00:15,  1.54s/논문]"
     ]
    },
    {
     "name": "stdout",
     "output_type": "stream",
     "text": [
      "[1888/25348] ✅ 저장 완료 (PMCID: PMC12077550)\n",
      "[1889/25348] ✅ 저장 완료 (PMCID: PMC12097858)\n"
     ]
    },
    {
     "name": "stderr",
     "output_type": "stream",
     "text": [
      "vitamin 진행:   7%|▋         | 1889/25348 [38:34<12:43:11,  1.95s/논문]"
     ]
    },
    {
     "name": "stdout",
     "output_type": "stream",
     "text": [
      "[1890/25348] ✅ 저장 완료 (PMCID: PMC12097535)\n"
     ]
    },
    {
     "name": "stderr",
     "output_type": "stream",
     "text": [
      "vitamin 진행:   7%|▋         | 1891/25348 [38:38<12:05:17,  1.86s/논문]"
     ]
    },
    {
     "name": "stdout",
     "output_type": "stream",
     "text": [
      "[1891/25348] ⚠️ PMCID 없음 → 건너뜀\n",
      "[1892/25348] ⚠️ PMCID 없음 → 건너뜀\n",
      "[1893/25348] ⚠️ PMCID 없음 → 건너뜀\n",
      "[1894/25348] ⚠️ PMCID 없음 → 건너뜀\n"
     ]
    },
    {
     "name": "stderr",
     "output_type": "stream",
     "text": [
      "vitamin 진행:   7%|▋         | 1895/25348 [38:39<6:03:04,  1.08논문/s] "
     ]
    },
    {
     "name": "stdout",
     "output_type": "stream",
     "text": [
      "[1895/25348] ✅ 저장 완료 (PMCID: PMC12154249)\n",
      "[1896/25348] ✅ 저장 완료 (PMCID: PMC12009153)\n"
     ]
    },
    {
     "name": "stderr",
     "output_type": "stream",
     "text": [
      "vitamin 진행:   7%|▋         | 1897/25348 [38:44<8:52:47,  1.36s/논문]"
     ]
    },
    {
     "name": "stdout",
     "output_type": "stream",
     "text": [
      "[1897/25348] ✅ 저장 완료 (PMCID: PMC12071005)\n"
     ]
    },
    {
     "name": "stderr",
     "output_type": "stream",
     "text": [
      "vitamin 진행:   7%|▋         | 1898/25348 [38:46<9:25:13,  1.45s/논문]"
     ]
    },
    {
     "name": "stdout",
     "output_type": "stream",
     "text": [
      "[1898/25348] ✅ 저장 완료 (PMCID: PMC11993657)\n",
      "[1899/25348] ⚠️ PMCID 없음 → 건너뜀\n",
      "[1900/25348] ✅ 저장 완료 (PMCID: PMC12081496)\n"
     ]
    },
    {
     "name": "stderr",
     "output_type": "stream",
     "text": [
      "vitamin 진행:   7%|▋         | 1901/25348 [38:51<10:02:32,  1.54s/논문]"
     ]
    },
    {
     "name": "stdout",
     "output_type": "stream",
     "text": [
      "[1901/25348] ✅ 저장 완료 (PMCID: PMC12173278)\n",
      "[1902/25348] ✅ 저장 완료 (PMCID: PMC12165353)\n"
     ]
    },
    {
     "name": "stderr",
     "output_type": "stream",
     "text": [
      "vitamin 진행:   8%|▊         | 1903/25348 [38:55<11:10:55,  1.72s/논문]"
     ]
    },
    {
     "name": "stdout",
     "output_type": "stream",
     "text": [
      "[1903/25348] ✅ 저장 완료 (PMCID: PMC12010569)\n",
      "[1904/25348] ✅ 저장 완료 (PMCID: PMC11905261)\n"
     ]
    },
    {
     "name": "stderr",
     "output_type": "stream",
     "text": [
      "vitamin 진행:   8%|▊         | 1904/25348 [38:57<12:22:08,  1.90s/논문]"
     ]
    },
    {
     "name": "stdout",
     "output_type": "stream",
     "text": [
      "[1905/25348] ⚠️ PMCID 없음 → 건너뜀\n"
     ]
    },
    {
     "name": "stderr",
     "output_type": "stream",
     "text": [
      "vitamin 진행:   8%|▊         | 1906/25348 [38:59<9:59:44,  1.54s/논문] "
     ]
    },
    {
     "name": "stdout",
     "output_type": "stream",
     "text": [
      "[1906/25348] ✅ 저장 완료 (PMCID: PMC11944159)\n",
      "[1907/25348] ✅ 저장 완료 (PMCID: PMC11873244)\n"
     ]
    },
    {
     "name": "stderr",
     "output_type": "stream",
     "text": [
      "vitamin 진행:   8%|▊         | 1908/25348 [39:03<10:36:42,  1.63s/논문]"
     ]
    },
    {
     "name": "stdout",
     "output_type": "stream",
     "text": [
      "[1908/25348] ✅ 저장 완료 (PMCID: PMC12134326)\n",
      "[1909/25348] ✅ 저장 완료 (PMCID: PMC12093730)\n"
     ]
    },
    {
     "name": "stderr",
     "output_type": "stream",
     "text": [
      "vitamin 진행:   8%|▊         | 1910/25348 [39:07<10:43:18,  1.65s/논문]"
     ]
    },
    {
     "name": "stdout",
     "output_type": "stream",
     "text": [
      "[1910/25348] ✅ 저장 완료 (PMCID: PMC12193213)\n",
      "[1911/25348] ✅ 저장 완료 (PMCID: PMC12120104)\n"
     ]
    },
    {
     "name": "stderr",
     "output_type": "stream",
     "text": [
      "vitamin 진행:   8%|▊         | 1911/25348 [39:11<14:42:22,  2.26s/논문]"
     ]
    },
    {
     "name": "stdout",
     "output_type": "stream",
     "text": [
      "[1912/25348] ⚠️ PMCID 없음 → 건너뜀\n",
      "[1913/25348] ⚠️ PMCID 없음 → 건너뜀\n"
     ]
    },
    {
     "name": "stderr",
     "output_type": "stream",
     "text": [
      "vitamin 진행:   8%|▊         | 1914/25348 [39:12<7:49:58,  1.20s/논문] "
     ]
    },
    {
     "name": "stdout",
     "output_type": "stream",
     "text": [
      "[1914/25348] ✅ 저장 완료 (PMCID: PMC12156653)\n",
      "[1915/25348] ✅ 저장 완료 (PMCID: PMC11813756)\n"
     ]
    },
    {
     "name": "stderr",
     "output_type": "stream",
     "text": [
      "vitamin 진행:   8%|▊         | 1916/25348 [39:16<10:17:45,  1.58s/논문]"
     ]
    },
    {
     "name": "stdout",
     "output_type": "stream",
     "text": [
      "[1916/25348] ✅ 저장 완료 (PMCID: PMC12141995)\n",
      "[1917/25348] ⚠️ PMCID 없음 → 건너뜀\n",
      "[1918/25348] ⚠️ PMCID 없음 → 건너뜀\n",
      "[1919/25348] ⚠️ PMCID 없음 → 건너뜀\n",
      "[1920/25348] ✅ 저장 완료 (PMCID: PMC12118065)\n"
     ]
    },
    {
     "name": "stderr",
     "output_type": "stream",
     "text": [
      "vitamin 진행:   8%|▊         | 1921/25348 [39:21<8:10:57,  1.26s/논문] "
     ]
    },
    {
     "name": "stdout",
     "output_type": "stream",
     "text": [
      "[1921/25348] ✅ 저장 완료 (PMCID: PMC12090073)\n",
      "[1922/25348] ⚠️ PMCID 없음 → 건너뜀\n",
      "[1923/25348] ✅ 저장 완료 (PMCID: PMC11927362)\n"
     ]
    },
    {
     "name": "stderr",
     "output_type": "stream",
     "text": [
      "vitamin 진행:   8%|▊         | 1924/25348 [39:24<7:55:32,  1.22s/논문]"
     ]
    },
    {
     "name": "stdout",
     "output_type": "stream",
     "text": [
      "[1924/25348] ✅ 저장 완료 (PMCID: PMC12121440)\n",
      "[1925/25348] ✅ 저장 완료 (PMCID: PMC12090925)\n"
     ]
    },
    {
     "name": "stderr",
     "output_type": "stream",
     "text": [
      "vitamin 진행:   8%|▊         | 1926/25348 [39:28<8:41:54,  1.34s/논문]"
     ]
    },
    {
     "name": "stdout",
     "output_type": "stream",
     "text": [
      "[1926/25348] ⚠️ PMCID 없음 → 건너뜀\n"
     ]
    },
    {
     "name": "stderr",
     "output_type": "stream",
     "text": [
      "vitamin 진행:   8%|▊         | 1927/25348 [39:29<8:15:29,  1.27s/논문]"
     ]
    },
    {
     "name": "stdout",
     "output_type": "stream",
     "text": [
      "[1927/25348] ✅ 저장 완료 (PMCID: PMC12186391)\n",
      "[1928/25348] ✅ 저장 완료 (PMCID: PMC11820082)\n"
     ]
    },
    {
     "name": "stderr",
     "output_type": "stream",
     "text": [
      "vitamin 진행:   8%|▊         | 1928/25348 [39:31<10:18:26,  1.58s/논문]"
     ]
    },
    {
     "name": "stdout",
     "output_type": "stream",
     "text": [
      "[1929/25348] ⚠️ PMCID 없음 → 건너뜀\n",
      "[1930/25348] ⚠️ PMCID 없음 → 건너뜀\n"
     ]
    },
    {
     "name": "stderr",
     "output_type": "stream",
     "text": [
      "vitamin 진행:   8%|▊         | 1931/25348 [39:34<8:19:38,  1.28s/논문] "
     ]
    },
    {
     "name": "stdout",
     "output_type": "stream",
     "text": [
      "[1931/25348] ✅ 저장 완료 (PMCID: PMC11951792)\n",
      "[1932/25348] ⚠️ PMCID 없음 → 건너뜀\n",
      "[1933/25348] ✅ 저장 완료 (PMCID: PMC11983856)\n"
     ]
    },
    {
     "name": "stderr",
     "output_type": "stream",
     "text": [
      "vitamin 진행:   8%|▊         | 1933/25348 [39:36<8:01:40,  1.23s/논문]"
     ]
    },
    {
     "name": "stdout",
     "output_type": "stream",
     "text": [
      "[1934/25348] ⚠️ PMCID 없음 → 건너뜀\n",
      "[1935/25348] ⚠️ PMCID 없음 → 건너뜀\n"
     ]
    },
    {
     "name": "stderr",
     "output_type": "stream",
     "text": [
      "vitamin 진행:   8%|▊         | 1936/25348 [39:39<6:36:43,  1.02s/논문]"
     ]
    },
    {
     "name": "stdout",
     "output_type": "stream",
     "text": [
      "[1936/25348] ✅ 저장 완료 (PMCID: PMC11899309)\n",
      "[1937/25348] ✅ 저장 완료 (PMCID: PMC11976065)\n"
     ]
    },
    {
     "name": "stderr",
     "output_type": "stream",
     "text": [
      "vitamin 진행:   8%|▊         | 1937/25348 [39:42<9:01:03,  1.39s/논문]"
     ]
    },
    {
     "name": "stdout",
     "output_type": "stream",
     "text": [
      "[1938/25348] ⚠️ PMCID 없음 → 건너뜀\n"
     ]
    },
    {
     "name": "stderr",
     "output_type": "stream",
     "text": [
      "vitamin 진행:   8%|▊         | 1939/25348 [39:43<7:16:29,  1.12s/논문]"
     ]
    },
    {
     "name": "stdout",
     "output_type": "stream",
     "text": [
      "[1939/25348] ✅ 저장 완료 (PMCID: PMC12121961)\n",
      "[1940/25348] ⚠️ PMCID 없음 → 건너뜀\n"
     ]
    },
    {
     "name": "stderr",
     "output_type": "stream",
     "text": [
      "vitamin 진행:   8%|▊         | 1941/25348 [39:44<5:59:01,  1.09논문/s]"
     ]
    },
    {
     "name": "stdout",
     "output_type": "stream",
     "text": [
      "[1941/25348] ⚠️ PMCID 없음 → 건너뜀\n",
      "[1942/25348] ⚠️ 이미 저장된 논문 건너뜀 (PMCID: PMC12121961)\n",
      "[1943/25348] ⚠️ PMCID 없음 → 건너뜀\n",
      "[1944/25348] ✅ 저장 완료 (PMCID: PMC12004827)\n"
     ]
    },
    {
     "name": "stderr",
     "output_type": "stream",
     "text": [
      "vitamin 진행:   8%|▊         | 1945/25348 [39:47<5:48:08,  1.12논문/s]"
     ]
    },
    {
     "name": "stdout",
     "output_type": "stream",
     "text": [
      "[1945/25348] ✅ 저장 완료 (PMCID: PMC11803989)\n"
     ]
    },
    {
     "name": "stderr",
     "output_type": "stream",
     "text": [
      "vitamin 진행:   8%|▊         | 1946/25348 [39:48<5:54:36,  1.10논문/s]"
     ]
    },
    {
     "name": "stdout",
     "output_type": "stream",
     "text": [
      "[1946/25348] ⚠️ PMCID 없음 → 건너뜀\n",
      "[1947/25348] ✅ 저장 완료 (PMCID: PMC11933086)\n"
     ]
    },
    {
     "name": "stderr",
     "output_type": "stream",
     "text": [
      "vitamin 진행:   8%|▊         | 1947/25348 [39:51<8:51:17,  1.36s/논문]"
     ]
    },
    {
     "name": "stdout",
     "output_type": "stream",
     "text": [
      "[1948/25348] ⚠️ PMCID 없음 → 건너뜀\n",
      "[1949/25348] ⚠️ PMCID 없음 → 건너뜀\n"
     ]
    },
    {
     "name": "stderr",
     "output_type": "stream",
     "text": [
      "vitamin 진행:   8%|▊         | 1950/25348 [39:52<5:46:09,  1.13논문/s]"
     ]
    },
    {
     "name": "stdout",
     "output_type": "stream",
     "text": [
      "[1950/25348] ✅ 저장 완료 (PMCID: PMC11848881)\n",
      "[1951/25348] ✅ 저장 완료 (PMCID: PMC12106449)\n"
     ]
    },
    {
     "name": "stderr",
     "output_type": "stream",
     "text": [
      "vitamin 진행:   8%|▊         | 1951/25348 [39:56<8:40:31,  1.33s/논문]"
     ]
    },
    {
     "name": "stdout",
     "output_type": "stream",
     "text": [
      "[1952/25348] ⚠️ PMCID 없음 → 건너뜀\n"
     ]
    },
    {
     "name": "stderr",
     "output_type": "stream",
     "text": [
      "vitamin 진행:   8%|▊         | 1953/25348 [39:57<6:43:57,  1.04s/논문]"
     ]
    },
    {
     "name": "stdout",
     "output_type": "stream",
     "text": [
      "[1953/25348] ✅ 저장 완료 (PMCID: PMC11779544)\n",
      "[1954/25348] ✅ 저장 완료 (PMCID: PMC12126997)\n"
     ]
    },
    {
     "name": "stderr",
     "output_type": "stream",
     "text": [
      "vitamin 진행:   8%|▊         | 1954/25348 [40:00<9:06:33,  1.40s/논문]"
     ]
    },
    {
     "name": "stdout",
     "output_type": "stream",
     "text": [
      "[1955/25348] ⚠️ PMCID 없음 → 건너뜀\n"
     ]
    },
    {
     "name": "stderr",
     "output_type": "stream",
     "text": [
      "vitamin 진행:   8%|▊         | 1956/25348 [40:02<8:22:26,  1.29s/논문]"
     ]
    },
    {
     "name": "stdout",
     "output_type": "stream",
     "text": [
      "[1956/25348] ✅ 저장 완료 (PMCID: PMC12075324)\n",
      "[1957/25348] ✅ 저장 완료 (PMCID: PMC11832393)\n"
     ]
    },
    {
     "name": "stderr",
     "output_type": "stream",
     "text": [
      "vitamin 진행:   8%|▊         | 1958/25348 [40:06<9:45:21,  1.50s/논문] "
     ]
    },
    {
     "name": "stdout",
     "output_type": "stream",
     "text": [
      "[1958/25348] ✅ 저장 완료 (PMCID: PMC12005569)\n",
      "[1959/25348] ⚠️ PMCID 없음 → 건너뜀\n",
      "[1960/25348] ✅ 저장 완료 (PMCID: PMC11865865)\n"
     ]
    },
    {
     "name": "stderr",
     "output_type": "stream",
     "text": [
      "vitamin 진행:   8%|▊         | 1961/25348 [40:10<9:54:26,  1.53s/논문]"
     ]
    },
    {
     "name": "stdout",
     "output_type": "stream",
     "text": [
      "[1961/25348] ✅ 저장 완료 (PMCID: PMC12187124)\n",
      "[1962/25348] ✅ 저장 완료 (PMCID: PMC11874864)\n"
     ]
    },
    {
     "name": "stderr",
     "output_type": "stream",
     "text": [
      "vitamin 진행:   8%|▊         | 1962/25348 [40:13<11:21:32,  1.75s/논문]"
     ]
    },
    {
     "name": "stdout",
     "output_type": "stream",
     "text": [
      "[1963/25348] ⚠️ PMCID 없음 → 건너뜀\n"
     ]
    },
    {
     "name": "stderr",
     "output_type": "stream",
     "text": [
      "vitamin 진행:   8%|▊         | 1964/25348 [40:14<8:09:54,  1.26s/논문] "
     ]
    },
    {
     "name": "stdout",
     "output_type": "stream",
     "text": [
      "[1964/25348] ✅ 저장 완료 (PMCID: PMC11915427)\n",
      "[1965/25348] ⚠️ PMCID 없음 → 건너뜀\n"
     ]
    },
    {
     "name": "stderr",
     "output_type": "stream",
     "text": [
      "vitamin 진행:   8%|▊         | 1966/25348 [40:15<6:20:53,  1.02논문/s]"
     ]
    },
    {
     "name": "stdout",
     "output_type": "stream",
     "text": [
      "[1966/25348] ⚠️ PMCID 없음 → 건너뜀\n",
      "[1967/25348] ⚠️ PMCID 없음 → 건너뜀\n",
      "[1968/25348] ⚠️ PMCID 없음 → 건너뜀\n",
      "[1969/25348] ✅ 저장 완료 (PMCID: PMC11849653)\n"
     ]
    },
    {
     "name": "stderr",
     "output_type": "stream",
     "text": [
      "vitamin 진행:   8%|▊         | 1969/25348 [40:17<5:49:59,  1.11논문/s]"
     ]
    },
    {
     "name": "stdout",
     "output_type": "stream",
     "text": [
      "[1970/25348] ⚠️ PMCID 없음 → 건너뜀\n"
     ]
    },
    {
     "name": "stderr",
     "output_type": "stream",
     "text": [
      "vitamin 진행:   8%|▊         | 1971/25348 [40:18<5:06:46,  1.27논문/s]"
     ]
    },
    {
     "name": "stdout",
     "output_type": "stream",
     "text": [
      "[1971/25348] ⚠️ PMCID 없음 → 건너뜀\n",
      "[1972/25348] ✅ 저장 완료 (PMCID: PMC11880460)\n"
     ]
    },
    {
     "name": "stderr",
     "output_type": "stream",
     "text": [
      "vitamin 진행:   8%|▊         | 1973/25348 [40:21<6:46:59,  1.04s/논문]"
     ]
    },
    {
     "name": "stdout",
     "output_type": "stream",
     "text": [
      "[1973/25348] ✅ 저장 완료 (PMCID: PMC11846746)\n",
      "[1974/25348] ✅ 저장 완료 (PMCID: PMC12152249)\n"
     ]
    },
    {
     "name": "stderr",
     "output_type": "stream",
     "text": [
      "vitamin 진행:   8%|▊         | 1974/25348 [40:24<8:29:15,  1.31s/논문]"
     ]
    },
    {
     "name": "stdout",
     "output_type": "stream",
     "text": [
      "[1975/25348] ⚠️ PMCID 없음 → 건너뜀\n",
      "[1976/25348] ✅ 저장 완료 (PMCID: PMC11814812)\n"
     ]
    },
    {
     "name": "stderr",
     "output_type": "stream",
     "text": [
      "vitamin 진행:   8%|▊         | 1976/25348 [40:26<8:34:17,  1.32s/논문]"
     ]
    },
    {
     "name": "stdout",
     "output_type": "stream",
     "text": [
      "[1977/25348] ⚠️ PMCID 없음 → 건너뜀\n",
      "[1978/25348] ⚠️ PMCID 없음 → 건너뜀\n"
     ]
    },
    {
     "name": "stderr",
     "output_type": "stream",
     "text": [
      "vitamin 진행:   8%|▊         | 1979/25348 [40:27<5:46:30,  1.12논문/s]"
     ]
    },
    {
     "name": "stdout",
     "output_type": "stream",
     "text": [
      "[1979/25348] ✅ 저장 완료 (PMCID: PMC11876368)\n",
      "[1980/25348] ✅ 저장 완료 (PMCID: PMC12128120)\n"
     ]
    },
    {
     "name": "stderr",
     "output_type": "stream",
     "text": [
      "vitamin 진행:   8%|▊         | 1981/25348 [40:32<8:42:06,  1.34s/논문]"
     ]
    },
    {
     "name": "stdout",
     "output_type": "stream",
     "text": [
      "[1981/25348] ✅ 저장 완료 (PMCID: PMC11822447)\n",
      "[1982/25348] ✅ 저장 완료 (PMCID: PMC12194430)\n"
     ]
    },
    {
     "name": "stderr",
     "output_type": "stream",
     "text": [
      "vitamin 진행:   8%|▊         | 1983/25348 [40:35<9:05:33,  1.40s/논문]"
     ]
    },
    {
     "name": "stdout",
     "output_type": "stream",
     "text": [
      "[1983/25348] ✅ 저장 완료 (PMCID: PMC11899453)\n",
      "[1984/25348] ⚠️ PMCID 없음 → 건너뜀\n",
      "[1985/25348] ⚠️ PMCID 없음 → 건너뜀\n"
     ]
    },
    {
     "name": "stderr",
     "output_type": "stream",
     "text": [
      "vitamin 진행:   8%|▊         | 1986/25348 [40:36<5:36:48,  1.16논문/s]"
     ]
    },
    {
     "name": "stdout",
     "output_type": "stream",
     "text": [
      "[1986/25348] ⚠️ PMCID 없음 → 건너뜀\n"
     ]
    },
    {
     "name": "stderr",
     "output_type": "stream",
     "text": [
      "vitamin 진행:   8%|▊         | 1987/25348 [40:37<5:43:44,  1.13논문/s]"
     ]
    },
    {
     "name": "stdout",
     "output_type": "stream",
     "text": [
      "[1987/25348] ✅ 저장 완료 (PMCID: PMC12098318)\n",
      "[1988/25348] ⚠️ PMCID 없음 → 건너뜀\n",
      "[1989/25348] ✅ 저장 완료 (PMCID: PMC12066272)\n"
     ]
    },
    {
     "name": "stderr",
     "output_type": "stream",
     "text": [
      "vitamin 진행:   8%|▊         | 1989/25348 [40:41<7:47:05,  1.20s/논문]"
     ]
    },
    {
     "name": "stdout",
     "output_type": "stream",
     "text": [
      "[1990/25348] ⚠️ PMCID 없음 → 건너뜀\n"
     ]
    },
    {
     "name": "stderr",
     "output_type": "stream",
     "text": [
      "vitamin 진행:   8%|▊         | 1991/25348 [40:42<6:16:55,  1.03논문/s]"
     ]
    },
    {
     "name": "stdout",
     "output_type": "stream",
     "text": [
      "[1991/25348] ⚠️ PMCID 없음 → 건너뜀\n"
     ]
    },
    {
     "name": "stderr",
     "output_type": "stream",
     "text": [
      "vitamin 진행:   8%|▊         | 1992/25348 [40:43<6:38:59,  1.02s/논문]"
     ]
    },
    {
     "name": "stdout",
     "output_type": "stream",
     "text": [
      "[1992/25348] ✅ 저장 완료 (PMCID: PMC11872716)\n",
      "[1993/25348] ⚠️ PMCID 없음 → 건너뜀\n",
      "[1994/25348] ⚠️ PMCID 없음 → 건너뜀\n",
      "[1995/25348] ✅ 저장 완료 (PMCID: PMC12127258)\n"
     ]
    },
    {
     "name": "stderr",
     "output_type": "stream",
     "text": [
      "vitamin 진행:   8%|▊         | 1996/25348 [40:48<7:42:16,  1.19s/논문]"
     ]
    },
    {
     "name": "stdout",
     "output_type": "stream",
     "text": [
      "⚠️ abstract section 없음 (PMCID: PMC12012806) → 건너뜀\n",
      "[1997/25348] ⚠️ PMCID 없음 → 건너뜀\n"
     ]
    },
    {
     "name": "stderr",
     "output_type": "stream",
     "text": [
      "vitamin 진행:   8%|▊         | 1998/25348 [40:49<6:27:41,  1.00논문/s]"
     ]
    },
    {
     "name": "stdout",
     "output_type": "stream",
     "text": [
      "[1998/25348] ✅ 저장 완료 (PMCID: PMC12158930)\n",
      "[1999/25348] ⚠️ PMCID 없음 → 건너뜀\n",
      "[2000/25348] ⚠️ PMCID 없음 → 건너뜀\n",
      "[2001/25348] ✅ 저장 완료 (PMCID: PMC12010589)\n"
     ]
    },
    {
     "name": "stderr",
     "output_type": "stream",
     "text": [
      "vitamin 진행:   8%|▊         | 2001/25348 [40:53<6:56:25,  1.07s/논문]"
     ]
    },
    {
     "name": "stdout",
     "output_type": "stream",
     "text": [
      "[2002/25348] ⚠️ PMCID 없음 → 건너뜀\n",
      "[2003/25348] ⚠️ PMCID 없음 → 건너뜀\n",
      "[2004/25348] ⚠️ PMCID 없음 → 건너뜀\n",
      "[2005/25348] ✅ 저장 완료 (PMCID: PMC12153289)\n"
     ]
    },
    {
     "name": "stderr",
     "output_type": "stream",
     "text": [
      "vitamin 진행:   8%|▊         | 2006/25348 [40:57<6:23:43,  1.01논문/s]"
     ]
    },
    {
     "name": "stdout",
     "output_type": "stream",
     "text": [
      "[2006/25348] ✅ 저장 완료 (PMCID: PMC11919654)\n",
      "[2007/25348] ✅ 저장 완료 (PMCID: PMC12190235)\n"
     ]
    },
    {
     "name": "stderr",
     "output_type": "stream",
     "text": [
      "vitamin 진행:   8%|▊         | 2008/25348 [41:00<7:24:49,  1.14s/논문]"
     ]
    },
    {
     "name": "stdout",
     "output_type": "stream",
     "text": [
      "[2008/25348] ✅ 저장 완료 (PMCID: PMC11979709)\n",
      "[2009/25348] ⚠️ PMCID 없음 → 건너뜀\n",
      "[2010/25348] ✅ 저장 완료 (PMCID: PMC11854761)\n"
     ]
    },
    {
     "name": "stderr",
     "output_type": "stream",
     "text": [
      "vitamin 진행:   8%|▊         | 2011/25348 [41:04<8:16:10,  1.28s/논문]"
     ]
    },
    {
     "name": "stdout",
     "output_type": "stream",
     "text": [
      "[2011/25348] ✅ 저장 완료 (PMCID: PMC12101321)\n",
      "[2012/25348] ⚠️ PMCID 없음 → 건너뜀\n",
      "[2013/25348] ✅ 저장 완료 (PMCID: PMC11944190)\n"
     ]
    },
    {
     "name": "stderr",
     "output_type": "stream",
     "text": [
      "vitamin 진행:   8%|▊         | 2014/25348 [41:07<7:51:13,  1.21s/논문]"
     ]
    },
    {
     "name": "stdout",
     "output_type": "stream",
     "text": [
      "[2014/25348] ✅ 저장 완료 (PMCID: PMC11822804)\n",
      "[2015/25348] ✅ 저장 완료 (PMCID: PMC12122379)\n"
     ]
    },
    {
     "name": "stderr",
     "output_type": "stream",
     "text": [
      "vitamin 진행:   8%|▊         | 2016/25348 [41:11<9:07:30,  1.41s/논문]"
     ]
    },
    {
     "name": "stdout",
     "output_type": "stream",
     "text": [
      "[2016/25348] ⚠️ PMCID 없음 → 건너뜀\n",
      "[2017/25348] ⚠️ PMCID 없음 → 건너뜀\n",
      "[2018/25348] ⚠️ PMCID 없음 → 건너뜀\n",
      "[2019/25348] ✅ 저장 완료 (PMCID: PMC12018860)\n"
     ]
    },
    {
     "name": "stderr",
     "output_type": "stream",
     "text": [
      "vitamin 진행:   8%|▊         | 2020/25348 [41:14<7:02:06,  1.09s/논문]"
     ]
    },
    {
     "name": "stdout",
     "output_type": "stream",
     "text": [
      "[2020/25348] ✅ 저장 완료 (PMCID: PMC11820488)\n"
     ]
    },
    {
     "name": "stderr",
     "output_type": "stream",
     "text": [
      "vitamin 진행:   8%|▊         | 2021/25348 [41:15<6:55:21,  1.07s/논문]"
     ]
    },
    {
     "name": "stdout",
     "output_type": "stream",
     "text": [
      "[2021/25348] ⚠️ PMCID 없음 → 건너뜀\n",
      "[2022/25348] ✅ 저장 완료 (PMCID: PMC12198480)\n"
     ]
    },
    {
     "name": "stderr",
     "output_type": "stream",
     "text": [
      "vitamin 진행:   8%|▊         | 2022/25348 [41:18<8:50:07,  1.36s/논문]"
     ]
    },
    {
     "name": "stdout",
     "output_type": "stream",
     "text": [
      "[2023/25348] ⚠️ PMCID 없음 → 건너뜀\n",
      "[2024/25348] ⚠️ PMCID 없음 → 건너뜀\n"
     ]
    },
    {
     "name": "stderr",
     "output_type": "stream",
     "text": [
      "vitamin 진행:   8%|▊         | 2025/25348 [41:19<5:29:37,  1.18논문/s]"
     ]
    },
    {
     "name": "stdout",
     "output_type": "stream",
     "text": [
      "[2025/25348] ✅ 저장 완료 (PMCID: PMC11869107)\n"
     ]
    },
    {
     "name": "stderr",
     "output_type": "stream",
     "text": [
      "vitamin 진행:   8%|▊         | 2026/25348 [41:20<5:36:48,  1.15논문/s]"
     ]
    },
    {
     "name": "stdout",
     "output_type": "stream",
     "text": [
      "[2026/25348] ⚠️ PMCID 없음 → 건너뜀\n",
      "[2027/25348] ✅ 저장 완료 (PMCID: PMC11937116)\n"
     ]
    },
    {
     "name": "stderr",
     "output_type": "stream",
     "text": [
      "vitamin 진행:   8%|▊         | 2028/25348 [41:23<7:28:16,  1.15s/논문]"
     ]
    },
    {
     "name": "stdout",
     "output_type": "stream",
     "text": [
      "[2028/25348] ✅ 저장 완료 (PMCID: PMC11934387)\n",
      "[2029/25348] ✅ 저장 완료 (PMCID: PMC12150087)\n"
     ]
    },
    {
     "name": "stderr",
     "output_type": "stream",
     "text": [
      "vitamin 진행:   8%|▊         | 2030/25348 [41:26<8:43:51,  1.35s/논문]"
     ]
    },
    {
     "name": "stdout",
     "output_type": "stream",
     "text": [
      "[2030/25348] ✅ 저장 완료 (PMCID: PMC12148127)\n"
     ]
    },
    {
     "name": "stderr",
     "output_type": "stream",
     "text": [
      "vitamin 진행:   8%|▊         | 2031/25348 [41:27<8:10:30,  1.26s/논문]"
     ]
    },
    {
     "name": "stdout",
     "output_type": "stream",
     "text": [
      "[2031/25348] ⚠️ PMCID 없음 → 건너뜀\n",
      "[2032/25348] ✅ 저장 완료 (PMCID: PMC12196745)\n"
     ]
    },
    {
     "name": "stderr",
     "output_type": "stream",
     "text": [
      "vitamin 진행:   8%|▊         | 2033/25348 [41:31<9:19:00,  1.44s/논문]"
     ]
    },
    {
     "name": "stdout",
     "output_type": "stream",
     "text": [
      "[2033/25348] ✅ 저장 완료 (PMCID: PMC12193429)\n",
      "[2034/25348] ⚠️ PMCID 없음 → 건너뜀\n",
      "[2035/25348] ⚠️ PMCID 없음 → 건너뜀\n"
     ]
    },
    {
     "name": "stderr",
     "output_type": "stream",
     "text": [
      "vitamin 진행:   8%|▊         | 2036/25348 [41:33<6:38:32,  1.03s/논문]"
     ]
    },
    {
     "name": "stdout",
     "output_type": "stream",
     "text": [
      "[2036/25348] ✅ 저장 완료 (PMCID: PMC12016356)\n",
      "[2037/25348] ✅ 저장 완료 (PMCID: PMC11813793)\n"
     ]
    },
    {
     "name": "stderr",
     "output_type": "stream",
     "text": [
      "vitamin 진행:   8%|▊         | 2038/25348 [41:36<7:45:35,  1.20s/논문]"
     ]
    },
    {
     "name": "stdout",
     "output_type": "stream",
     "text": [
      "[2038/25348] ✅ 저장 완료 (PMCID: PMC11839706)\n",
      "[2039/25348] ⚠️ PMCID 없음 → 건너뜀\n",
      "[2040/25348] ⚠️ PMCID 없음 → 건너뜀\n"
     ]
    },
    {
     "name": "stderr",
     "output_type": "stream",
     "text": [
      "vitamin 진행:   8%|▊         | 2041/25348 [41:37<4:57:28,  1.31논문/s]"
     ]
    },
    {
     "name": "stdout",
     "output_type": "stream",
     "text": [
      "[2041/25348] ⚠️ PMCID 없음 → 건너뜀\n",
      "[2042/25348] ⚠️ PMCID 없음 → 건너뜀\n",
      "[2043/25348] ⚠️ PMCID 없음 → 건너뜀\n",
      "[2044/25348] ✅ 저장 완료 (PMCID: PMC11946022)\n"
     ]
    },
    {
     "name": "stderr",
     "output_type": "stream",
     "text": [
      "vitamin 진행:   8%|▊         | 2045/25348 [41:40<5:15:43,  1.23논문/s]"
     ]
    },
    {
     "name": "stdout",
     "output_type": "stream",
     "text": [
      "[2045/25348] ✅ 저장 완료 (PMCID: PMC12068362)\n",
      "[2046/25348] ✅ 저장 완료 (PMCID: PMC12191513)\n"
     ]
    },
    {
     "name": "stderr",
     "output_type": "stream",
     "text": [
      "vitamin 진행:   8%|▊         | 2047/25348 [41:45<8:10:36,  1.26s/논문]"
     ]
    },
    {
     "name": "stdout",
     "output_type": "stream",
     "text": [
      "[2047/25348] ✅ 저장 완료 (PMCID: PMC11944201)\n",
      "[2048/25348] ✅ 저장 완료 (PMCID: PMC11852513)\n"
     ]
    },
    {
     "name": "stderr",
     "output_type": "stream",
     "text": [
      "vitamin 진행:   8%|▊         | 2049/25348 [41:50<10:35:30,  1.64s/논문]"
     ]
    },
    {
     "name": "stdout",
     "output_type": "stream",
     "text": [
      "[2049/25348] ✅ 저장 완료 (PMCID: PMC11742602)\n"
     ]
    },
    {
     "name": "stderr",
     "output_type": "stream",
     "text": [
      "vitamin 진행:   8%|▊         | 2050/25348 [41:51<9:22:11,  1.45s/논문] "
     ]
    },
    {
     "name": "stdout",
     "output_type": "stream",
     "text": [
      "[2050/25348] ✅ 저장 완료 (PMCID: PMC12085083)\n",
      "[2051/25348] ✅ 저장 완료 (PMCID: PMC12188750)\n"
     ]
    },
    {
     "name": "stderr",
     "output_type": "stream",
     "text": [
      "vitamin 진행:   8%|▊         | 2051/25348 [41:54<13:03:50,  2.02s/논문]"
     ]
    },
    {
     "name": "stdout",
     "output_type": "stream",
     "text": [
      "[2052/25348] ⚠️ PMCID 없음 → 건너뜀\n",
      "[2053/25348] ⚠️ PMCID 없음 → 건너뜀\n",
      "[2054/25348] ⚠️ PMCID 없음 → 건너뜀\n",
      "[2055/25348] ✅ 저장 완료 (PMCID: PMC12115739)\n"
     ]
    },
    {
     "name": "stderr",
     "output_type": "stream",
     "text": [
      "vitamin 진행:   8%|▊         | 2056/25348 [41:57<7:01:07,  1.08s/논문] "
     ]
    },
    {
     "name": "stdout",
     "output_type": "stream",
     "text": [
      "[2056/25348] ⚠️ PMCID 없음 → 건너뜀\n"
     ]
    },
    {
     "name": "stderr",
     "output_type": "stream",
     "text": [
      "vitamin 진행:   8%|▊         | 2057/25348 [41:58<6:58:26,  1.08s/논문]"
     ]
    },
    {
     "name": "stdout",
     "output_type": "stream",
     "text": [
      "[2057/25348] ✅ 저장 완료 (PMCID: PMC12051941)\n",
      "[2058/25348] ⚠️ PMCID 없음 → 건너뜀\n",
      "[2059/25348] ⚠️ PMCID 없음 → 건너뜀\n",
      "[2060/25348] ✅ 저장 완료 (PMCID: PMC12185299)\n"
     ]
    },
    {
     "name": "stderr",
     "output_type": "stream",
     "text": [
      "vitamin 진행:   8%|▊         | 2061/25348 [42:03<7:30:27,  1.16s/논문]"
     ]
    },
    {
     "name": "stdout",
     "output_type": "stream",
     "text": [
      "[2061/25348] ✅ 저장 완료 (PMCID: PMC12167621)\n",
      "[2062/25348] ✅ 저장 완료 (PMCID: PMC11948808)\n"
     ]
    },
    {
     "name": "stderr",
     "output_type": "stream",
     "text": [
      "vitamin 진행:   8%|▊         | 2062/25348 [42:05<8:24:30,  1.30s/논문]"
     ]
    },
    {
     "name": "stdout",
     "output_type": "stream",
     "text": [
      "[2063/25348] ⚠️ PMCID 없음 → 건너뜀\n",
      "[2064/25348] ⚠️ PMCID 없음 → 건너뜀\n",
      "[2065/25348] ⚠️ PMCID 없음 → 건너뜀\n"
     ]
    },
    {
     "name": "stderr",
     "output_type": "stream",
     "text": [
      "vitamin 진행:   8%|▊         | 2066/25348 [42:07<5:44:53,  1.13논문/s]"
     ]
    },
    {
     "name": "stdout",
     "output_type": "stream",
     "text": [
      "[2066/25348] ✅ 저장 완료 (PMCID: PMC11881480)\n"
     ]
    },
    {
     "name": "stderr",
     "output_type": "stream",
     "text": [
      "vitamin 진행:   8%|▊         | 2067/25348 [42:08<6:08:28,  1.05논문/s]"
     ]
    },
    {
     "name": "stdout",
     "output_type": "stream",
     "text": [
      "⚠️ abstract section 없음 (PMCID: PMC11936115) → 건너뜀\n",
      "[2068/25348] ⚠️ PMCID 없음 → 건너뜀\n",
      "[2069/25348] ✅ 저장 완료 (PMCID: PMC11808006)\n"
     ]
    },
    {
     "name": "stderr",
     "output_type": "stream",
     "text": [
      "vitamin 진행:   8%|▊         | 2070/25348 [42:12<6:47:46,  1.05s/논문]"
     ]
    },
    {
     "name": "stdout",
     "output_type": "stream",
     "text": [
      "[2070/25348] ✅ 저장 완료 (PMCID: PMC12026574)\n",
      "[2071/25348] ✅ 저장 완료 (PMCID: PMC11981145)\n"
     ]
    },
    {
     "name": "stderr",
     "output_type": "stream",
     "text": [
      "vitamin 진행:   8%|▊         | 2071/25348 [42:15<10:29:04,  1.62s/논문]"
     ]
    },
    {
     "name": "stdout",
     "output_type": "stream",
     "text": [
      "[2072/25348] ⚠️ PMCID 없음 → 건너뜀\n",
      "[2073/25348] ⚠️ PMCID 없음 → 건너뜀\n"
     ]
    },
    {
     "name": "stderr",
     "output_type": "stream",
     "text": [
      "vitamin 진행:   8%|▊         | 2074/25348 [42:17<6:47:02,  1.05s/논문] "
     ]
    },
    {
     "name": "stdout",
     "output_type": "stream",
     "text": [
      "[2074/25348] ✅ 저장 완료 (PMCID: PMC11857425)\n",
      "[2075/25348] ✅ 저장 완료 (PMCID: PMC11955781)\n"
     ]
    },
    {
     "name": "stderr",
     "output_type": "stream",
     "text": [
      "vitamin 진행:   8%|▊         | 2076/25348 [42:21<9:08:57,  1.42s/논문]"
     ]
    },
    {
     "name": "stdout",
     "output_type": "stream",
     "text": [
      "[2076/25348] ✅ 저장 완료 (PMCID: PMC12098327)\n",
      "[2077/25348] ✅ 저장 완료 (PMCID: PMC11817589)\n"
     ]
    },
    {
     "name": "stderr",
     "output_type": "stream",
     "text": [
      "vitamin 진행:   8%|▊         | 2078/25348 [42:24<9:34:20,  1.48s/논문] "
     ]
    },
    {
     "name": "stdout",
     "output_type": "stream",
     "text": [
      "⚠️ abstract section 없음 (PMCID: PMC11872069) → 건너뜀\n",
      "[2079/25348] ⚠️ PMCID 없음 → 건너뜀\n",
      "[2080/25348] ⚠️ PMCID 없음 → 건너뜀\n"
     ]
    },
    {
     "name": "stderr",
     "output_type": "stream",
     "text": [
      "vitamin 진행:   8%|▊         | 2081/25348 [42:26<6:52:57,  1.06s/논문]"
     ]
    },
    {
     "name": "stdout",
     "output_type": "stream",
     "text": [
      "[2081/25348] ✅ 저장 완료 (PMCID: PMC12019647)\n",
      "[2082/25348] ⚠️ PMCID 없음 → 건너뜀\n",
      "[2083/25348] ⚠️ PMCID 없음 → 건너뜀\n",
      "[2084/25348] ⚠️ PMCID 없음 → 건너뜀\n",
      "[2085/25348] ✅ 저장 완료 (PMCID: PMC12144622)\n"
     ]
    },
    {
     "name": "stderr",
     "output_type": "stream",
     "text": [
      "vitamin 진행:   8%|▊         | 2086/25348 [42:30<6:17:50,  1.03논문/s]"
     ]
    },
    {
     "name": "stdout",
     "output_type": "stream",
     "text": [
      "[2086/25348] ✅ 저장 완료 (PMCID: PMC11960743)\n",
      "[2087/25348] ✅ 저장 완료 (PMCID: PMC11790951)\n"
     ]
    },
    {
     "name": "stderr",
     "output_type": "stream",
     "text": [
      "vitamin 진행:   8%|▊         | 2088/25348 [42:34<7:37:49,  1.18s/논문]"
     ]
    },
    {
     "name": "stdout",
     "output_type": "stream",
     "text": [
      "[2088/25348] ✅ 저장 완료 (PMCID: PMC12193641)\n",
      "[2089/25348] ✅ 저장 완료 (PMCID: PMC12189582)\n"
     ]
    },
    {
     "name": "stderr",
     "output_type": "stream",
     "text": [
      "vitamin 진행:   8%|▊         | 2090/25348 [42:37<8:46:58,  1.36s/논문]"
     ]
    },
    {
     "name": "stdout",
     "output_type": "stream",
     "text": [
      "[2090/25348] ✅ 저장 완료 (PMCID: PMC12070671)\n"
     ]
    },
    {
     "name": "stderr",
     "output_type": "stream",
     "text": [
      "vitamin 진행:   8%|▊         | 2091/25348 [42:38<8:19:34,  1.29s/논문]"
     ]
    },
    {
     "name": "stdout",
     "output_type": "stream",
     "text": [
      "[2091/25348] ⚠️ PMCID 없음 → 건너뜀\n",
      "[2092/25348] ✅ 저장 완료 (PMCID: PMC11799076)\n"
     ]
    },
    {
     "name": "stderr",
     "output_type": "stream",
     "text": [
      "vitamin 진행:   8%|▊         | 2093/25348 [42:42<10:03:57,  1.56s/논문]"
     ]
    },
    {
     "name": "stdout",
     "output_type": "stream",
     "text": [
      "[2093/25348] ✅ 저장 완료 (PMCID: PMC12191343)\n",
      "[2094/25348] ⚠️ PMCID 없음 → 건너뜀\n",
      "[2095/25348] ✅ 저장 완료 (PMCID: PMC12085310)\n"
     ]
    },
    {
     "name": "stderr",
     "output_type": "stream",
     "text": [
      "vitamin 진행:   8%|▊         | 2096/25348 [42:46<8:23:55,  1.30s/논문] "
     ]
    },
    {
     "name": "stdout",
     "output_type": "stream",
     "text": [
      "[2096/25348] ⚠️ PMCID 없음 → 건너뜀\n"
     ]
    },
    {
     "name": "stderr",
     "output_type": "stream",
     "text": [
      "vitamin 진행:   8%|▊         | 2097/25348 [42:47<7:58:34,  1.23s/논문]"
     ]
    },
    {
     "name": "stdout",
     "output_type": "stream",
     "text": [
      "[2097/25348] ✅ 저장 완료 (PMCID: PMC11856322)\n",
      "[2098/25348] ✅ 저장 완료 (PMCID: PMC11829321)\n"
     ]
    },
    {
     "name": "stderr",
     "output_type": "stream",
     "text": [
      "vitamin 진행:   8%|▊         | 2099/25348 [42:49<8:07:29,  1.26s/논문]"
     ]
    },
    {
     "name": "stdout",
     "output_type": "stream",
     "text": [
      "[2099/25348] ✅ 저장 완료 (PMCID: PMC11872144)\n",
      "[2100/25348] ⚠️ PMCID 없음 → 건너뜀\n",
      "[2101/25348] ✅ 저장 완료 (PMCID: PMC11946464)\n"
     ]
    },
    {
     "name": "stderr",
     "output_type": "stream",
     "text": [
      "vitamin 진행:   8%|▊         | 2102/25348 [42:53<8:05:19,  1.25s/논문]"
     ]
    },
    {
     "name": "stdout",
     "output_type": "stream",
     "text": [
      "⚠️ abstract section 없음 (PMCID: PMC12026274) → 건너뜀\n"
     ]
    },
    {
     "name": "stderr",
     "output_type": "stream",
     "text": [
      "vitamin 진행:   8%|▊         | 2103/25348 [42:54<7:30:06,  1.16s/논문]"
     ]
    },
    {
     "name": "stdout",
     "output_type": "stream",
     "text": [
      "[2103/25348] ✅ 저장 완료 (PMCID: PMC11778821)\n",
      "[2104/25348] ⚠️ PMCID 없음 → 건너뜀\n",
      "[2105/25348] ✅ 저장 완료 (PMCID: PMC11888904)\n"
     ]
    },
    {
     "name": "stderr",
     "output_type": "stream",
     "text": [
      "vitamin 진행:   8%|▊         | 2106/25348 [42:57<7:06:11,  1.10s/논문]"
     ]
    },
    {
     "name": "stdout",
     "output_type": "stream",
     "text": [
      "[2106/25348] ⚠️ 이미 저장된 논문 건너뜀 (PMCID: PMC11888904)\n"
     ]
    },
    {
     "name": "stderr",
     "output_type": "stream",
     "text": [
      "vitamin 진행:   8%|▊         | 2107/25348 [42:58<7:16:22,  1.13s/논문]"
     ]
    },
    {
     "name": "stdout",
     "output_type": "stream",
     "text": [
      "[2107/25348] ✅ 저장 완료 (PMCID: PMC12027436)\n",
      "[2108/25348] ✅ 저장 완료 (PMCID: PMC12108435)\n"
     ]
    },
    {
     "name": "stderr",
     "output_type": "stream",
     "text": [
      "vitamin 진행:   8%|▊         | 2108/25348 [43:01<9:17:05,  1.44s/논문]"
     ]
    },
    {
     "name": "stdout",
     "output_type": "stream",
     "text": [
      "[2109/25348] ⚠️ PMCID 없음 → 건너뜀\n",
      "[2110/25348] ⚠️ PMCID 없음 → 건너뜀\n"
     ]
    },
    {
     "name": "stderr",
     "output_type": "stream",
     "text": [
      "vitamin 진행:   8%|▊         | 2111/25348 [43:03<6:40:43,  1.03s/논문]"
     ]
    },
    {
     "name": "stdout",
     "output_type": "stream",
     "text": [
      "[2111/25348] ✅ 저장 완료 (PMCID: PMC11967183)\n",
      "[2112/25348] ⚠️ PMCID 없음 → 건너뜀\n",
      "[2113/25348] ✅ 저장 완료 (PMCID: PMC11782989)\n"
     ]
    },
    {
     "name": "stderr",
     "output_type": "stream",
     "text": [
      "vitamin 진행:   8%|▊         | 2114/25348 [43:06<6:53:15,  1.07s/논문]"
     ]
    },
    {
     "name": "stdout",
     "output_type": "stream",
     "text": [
      "[2114/25348] ✅ 저장 완료 (PMCID: PMC11814555)\n",
      "[2115/25348] ✅ 저장 완료 (PMCID: PMC11810728)\n"
     ]
    },
    {
     "name": "stderr",
     "output_type": "stream",
     "text": [
      "vitamin 진행:   8%|▊         | 2116/25348 [43:11<10:19:24,  1.60s/논문]"
     ]
    },
    {
     "name": "stdout",
     "output_type": "stream",
     "text": [
      "[2116/25348] ✅ 저장 완료 (PMCID: PMC11873155)\n",
      "[2117/25348] ✅ 저장 완료 (PMCID: PMC11817297)\n"
     ]
    },
    {
     "name": "stderr",
     "output_type": "stream",
     "text": [
      "vitamin 진행:   8%|▊         | 2118/25348 [43:15<10:14:02,  1.59s/논문]"
     ]
    },
    {
     "name": "stdout",
     "output_type": "stream",
     "text": [
      "[2118/25348] ✅ 저장 완료 (PMCID: PMC11839550)\n",
      "[2119/25348] ✅ 저장 완료 (PMCID: PMC11844014)\n"
     ]
    },
    {
     "name": "stderr",
     "output_type": "stream",
     "text": [
      "vitamin 진행:   8%|▊         | 2120/25348 [43:18<10:33:03,  1.64s/논문]"
     ]
    },
    {
     "name": "stdout",
     "output_type": "stream",
     "text": [
      "[2120/25348] ✅ 저장 완료 (PMCID: PMC12182093)\n"
     ]
    },
    {
     "name": "stderr",
     "output_type": "stream",
     "text": [
      "vitamin 진행:   8%|▊         | 2121/25348 [43:20<9:52:20,  1.53s/논문] "
     ]
    },
    {
     "name": "stdout",
     "output_type": "stream",
     "text": [
      "[2121/25348] ⚠️ PMCID 없음 → 건너뜀\n",
      "[2122/25348] ⚠️ PMCID 없음 → 건너뜀\n",
      "[2123/25348] ✅ 저장 완료 (PMCID: PMC12106504)\n"
     ]
    },
    {
     "name": "stderr",
     "output_type": "stream",
     "text": [
      "vitamin 진행:   8%|▊         | 2123/25348 [43:22<9:03:04,  1.40s/논문]"
     ]
    },
    {
     "name": "stdout",
     "output_type": "stream",
     "text": [
      "[2124/25348] ⚠️ PMCID 없음 → 건너뜀\n"
     ]
    },
    {
     "name": "stderr",
     "output_type": "stream",
     "text": [
      "vitamin 진행:   8%|▊         | 2125/25348 [43:23<6:48:37,  1.06s/논문]"
     ]
    },
    {
     "name": "stdout",
     "output_type": "stream",
     "text": [
      "[2125/25348] ✅ 저장 완료 (PMCID: PMC12044769)\n"
     ]
    },
    {
     "name": "stderr",
     "output_type": "stream",
     "text": [
      "vitamin 진행:   8%|▊         | 2126/25348 [43:24<6:49:00,  1.06s/논문]"
     ]
    },
    {
     "name": "stdout",
     "output_type": "stream",
     "text": [
      "[2126/25348] ⚠️ PMCID 없음 → 건너뜀\n",
      "[2127/25348] ⚠️ PMCID 없음 → 건너뜀\n",
      "[2128/25348] ⚠️ PMCID 없음 → 건너뜀\n",
      "[2129/25348] ⚠️ PMCID 없음 → 건너뜀\n",
      "[2130/25348] ⚠️ PMCID 없음 → 건너뜀\n",
      "[2131/25348] ✅ 저장 완료 (PMCID: PMC12086365)\n"
     ]
    },
    {
     "name": "stderr",
     "output_type": "stream",
     "text": [
      "vitamin 진행:   8%|▊         | 2132/25348 [43:29<5:47:34,  1.11논문/s]"
     ]
    },
    {
     "name": "stdout",
     "output_type": "stream",
     "text": [
      "[2132/25348] ✅ 저장 완료 (PMCID: PMC11835071)\n"
     ]
    },
    {
     "name": "stderr",
     "output_type": "stream",
     "text": [
      "vitamin 진행:   8%|▊         | 2133/25348 [43:32<8:21:38,  1.30s/논문]"
     ]
    },
    {
     "name": "stdout",
     "output_type": "stream",
     "text": [
      "⚠️ abstract section 없음 (PMCID: PMC11998706) → 건너뜀\n",
      "[2134/25348] ✅ 저장 완료 (PMCID: PMC12030705)\n"
     ]
    },
    {
     "name": "stderr",
     "output_type": "stream",
     "text": [
      "vitamin 진행:   8%|▊         | 2135/25348 [43:36<9:43:14,  1.51s/논문] "
     ]
    },
    {
     "name": "stdout",
     "output_type": "stream",
     "text": [
      "[2135/25348] ✅ 저장 완료 (PMCID: PMC11851698)\n",
      "[2136/25348] ✅ 저장 완료 (PMCID: PMC11846639)\n"
     ]
    },
    {
     "name": "stderr",
     "output_type": "stream",
     "text": [
      "vitamin 진행:   8%|▊         | 2137/25348 [43:41<11:46:37,  1.83s/논문]"
     ]
    },
    {
     "name": "stdout",
     "output_type": "stream",
     "text": [
      "[2137/25348] ✅ 저장 완료 (PMCID: PMC12197755)\n",
      "[2138/25348] ✅ 저장 완료 (PMCID: PMC12028710)\n"
     ]
    },
    {
     "name": "stderr",
     "output_type": "stream",
     "text": [
      "vitamin 진행:   8%|▊         | 2139/25348 [43:45<11:39:49,  1.81s/논문]"
     ]
    },
    {
     "name": "stdout",
     "output_type": "stream",
     "text": [
      "[2139/25348] ✅ 저장 완료 (PMCID: PMC11953389)\n",
      "[2140/25348] ✅ 저장 완료 (PMCID: PMC12118007)\n"
     ]
    },
    {
     "name": "stderr",
     "output_type": "stream",
     "text": [
      "vitamin 진행:   8%|▊         | 2141/25348 [43:50<12:42:12,  1.97s/논문]"
     ]
    },
    {
     "name": "stdout",
     "output_type": "stream",
     "text": [
      "[2141/25348] ⚠️ PMCID 없음 → 건너뜀\n"
     ]
    },
    {
     "name": "stderr",
     "output_type": "stream",
     "text": [
      "vitamin 진행:   8%|▊         | 2142/25348 [43:51<11:01:12,  1.71s/논문]"
     ]
    },
    {
     "name": "stdout",
     "output_type": "stream",
     "text": [
      "[2142/25348] ✅ 저장 완료 (PMCID: PMC12081951)\n",
      "[2143/25348] ⚠️ PMCID 없음 → 건너뜀\n",
      "[2144/25348] ⚠️ PMCID 없음 → 건너뜀\n",
      "[2145/25348] ✅ 저장 완료 (PMCID: PMC12178882)\n"
     ]
    },
    {
     "name": "stderr",
     "output_type": "stream",
     "text": [
      "vitamin 진행:   8%|▊         | 2146/25348 [43:54<7:38:05,  1.18s/논문] "
     ]
    },
    {
     "name": "stdout",
     "output_type": "stream",
     "text": [
      "[2146/25348] ⚠️ PMCID 없음 → 건너뜀\n",
      "[2147/25348] ⚠️ PMCID 없음 → 건너뜀\n"
     ]
    },
    {
     "name": "stderr",
     "output_type": "stream",
     "text": [
      "vitamin 진행:   8%|▊         | 2148/25348 [43:55<6:03:03,  1.07논문/s]"
     ]
    },
    {
     "name": "stdout",
     "output_type": "stream",
     "text": [
      "[2148/25348] ✅ 저장 완료 (PMCID: PMC12108270)\n",
      "[2149/25348] ⚠️ PMCID 없음 → 건너뜀\n",
      "[2150/25348] ✅ 저장 완료 (PMCID: PMC11961882)\n"
     ]
    },
    {
     "name": "stderr",
     "output_type": "stream",
     "text": [
      "vitamin 진행:   8%|▊         | 2151/25348 [44:00<7:56:32,  1.23s/논문]"
     ]
    },
    {
     "name": "stdout",
     "output_type": "stream",
     "text": [
      "[2151/25348] ✅ 저장 완료 (PMCID: PMC12184255)\n",
      "[2152/25348] ⚠️ PMCID 없음 → 건너뜀\n",
      "[2153/25348] ⚠️ PMCID 없음 → 건너뜀\n",
      "[2154/25348] ✅ 저장 완료 (PMCID: PMC12130396)\n"
     ]
    },
    {
     "name": "stderr",
     "output_type": "stream",
     "text": [
      "vitamin 진행:   8%|▊         | 2154/25348 [44:03<7:02:06,  1.09s/논문]"
     ]
    },
    {
     "name": "stdout",
     "output_type": "stream",
     "text": [
      "[2155/25348] ⚠️ PMCID 없음 → 건너뜀\n"
     ]
    },
    {
     "name": "stderr",
     "output_type": "stream",
     "text": [
      "vitamin 진행:   9%|▊         | 2156/25348 [44:05<7:00:56,  1.09s/논문]"
     ]
    },
    {
     "name": "stdout",
     "output_type": "stream",
     "text": [
      "[2156/25348] ✅ 저장 완료 (PMCID: PMC11901461)\n",
      "[2157/25348] ✅ 저장 완료 (PMCID: PMC12033320)\n"
     ]
    },
    {
     "name": "stderr",
     "output_type": "stream",
     "text": [
      "vitamin 진행:   9%|▊         | 2158/25348 [44:09<8:26:14,  1.31s/논문]"
     ]
    },
    {
     "name": "stdout",
     "output_type": "stream",
     "text": [
      "[2158/25348] ✅ 저장 완료 (PMCID: PMC11855467)\n",
      "[2159/25348] ✅ 저장 완료 (PMCID: PMC11978645)\n"
     ]
    },
    {
     "name": "stderr",
     "output_type": "stream",
     "text": [
      "vitamin 진행:   9%|▊         | 2160/25348 [44:13<10:05:07,  1.57s/논문]"
     ]
    },
    {
     "name": "stdout",
     "output_type": "stream",
     "text": [
      "[2160/25348] ✅ 저장 완료 (PMCID: PMC11858147)\n"
     ]
    },
    {
     "name": "stderr",
     "output_type": "stream",
     "text": [
      "vitamin 진행:   9%|▊         | 2161/25348 [44:14<9:01:51,  1.40s/논문] "
     ]
    },
    {
     "name": "stdout",
     "output_type": "stream",
     "text": [
      "[2161/25348] ⚠️ PMCID 없음 → 건너뜀\n",
      "[2162/25348] ✅ 저장 완료 (PMCID: PMC11982843)\n"
     ]
    },
    {
     "name": "stderr",
     "output_type": "stream",
     "text": [
      "vitamin 진행:   9%|▊         | 2162/25348 [44:16<11:02:24,  1.71s/논문]"
     ]
    },
    {
     "name": "stdout",
     "output_type": "stream",
     "text": [
      "[2163/25348] ⚠️ PMCID 없음 → 건너뜀\n"
     ]
    },
    {
     "name": "stderr",
     "output_type": "stream",
     "text": [
      "vitamin 진행:   9%|▊         | 2164/25348 [44:17<7:45:57,  1.21s/논문] "
     ]
    },
    {
     "name": "stdout",
     "output_type": "stream",
     "text": [
      "[2164/25348] ✅ 저장 완료 (PMCID: PMC12008170)\n",
      "[2165/25348] ✅ 저장 완료 (PMCID: PMC12029492)\n"
     ]
    },
    {
     "name": "stderr",
     "output_type": "stream",
     "text": [
      "vitamin 진행:   9%|▊         | 2166/25348 [44:22<11:10:01,  1.73s/논문]"
     ]
    },
    {
     "name": "stdout",
     "output_type": "stream",
     "text": [
      "[2166/25348] ✅ 저장 완료 (PMCID: PMC11920696)\n",
      "[2167/25348] ⚠️ PMCID 없음 → 건너뜀\n",
      "[2168/25348] ✅ 저장 완료 (PMCID: PMC11903091)\n"
     ]
    },
    {
     "name": "stderr",
     "output_type": "stream",
     "text": [
      "vitamin 진행:   9%|▊         | 2168/25348 [44:25<9:35:30,  1.49s/논문] "
     ]
    },
    {
     "name": "stdout",
     "output_type": "stream",
     "text": [
      "[2169/25348] ⚠️ PMCID 없음 → 건너뜀\n"
     ]
    },
    {
     "name": "stderr",
     "output_type": "stream",
     "text": [
      "vitamin 진행:   9%|▊         | 2170/25348 [44:26<7:14:54,  1.13s/논문]"
     ]
    },
    {
     "name": "stdout",
     "output_type": "stream",
     "text": [
      "[2170/25348] ✅ 저장 완료 (PMCID: PMC12156325)\n",
      "[2171/25348] ✅ 저장 완료 (PMCID: PMC11861403)\n"
     ]
    },
    {
     "name": "stderr",
     "output_type": "stream",
     "text": [
      "vitamin 진행:   9%|▊         | 2171/25348 [44:29<10:22:33,  1.61s/논문]"
     ]
    },
    {
     "name": "stdout",
     "output_type": "stream",
     "text": [
      "[2172/25348] ⚠️ PMCID 없음 → 건너뜀\n"
     ]
    },
    {
     "name": "stderr",
     "output_type": "stream",
     "text": [
      "vitamin 진행:   9%|▊         | 2173/25348 [44:30<7:39:12,  1.19s/논문] "
     ]
    },
    {
     "name": "stdout",
     "output_type": "stream",
     "text": [
      "⚠️ abstract section 없음 (PMCID: PMC12018020) → 건너뜀\n"
     ]
    },
    {
     "name": "stderr",
     "output_type": "stream",
     "text": [
      "vitamin 진행:   9%|▊         | 2174/25348 [44:31<7:30:28,  1.17s/논문]"
     ]
    },
    {
     "name": "stdout",
     "output_type": "stream",
     "text": [
      "[2174/25348] ✅ 저장 완료 (PMCID: PMC12190929)\n"
     ]
    },
    {
     "name": "stderr",
     "output_type": "stream",
     "text": [
      "vitamin 진행:   9%|▊         | 2175/25348 [44:32<7:12:03,  1.12s/논문]"
     ]
    },
    {
     "name": "stdout",
     "output_type": "stream",
     "text": [
      "[2175/25348] ✅ 저장 완료 (PMCID: PMC11905009)\n",
      "[2176/25348] ✅ 저장 완료 (PMCID: PMC11980126)\n"
     ]
    },
    {
     "name": "stderr",
     "output_type": "stream",
     "text": [
      "vitamin 진행:   9%|▊         | 2176/25348 [44:36<10:57:22,  1.70s/논문]"
     ]
    },
    {
     "name": "stdout",
     "output_type": "stream",
     "text": [
      "[2177/25348] ⚠️ PMCID 없음 → 건너뜀\n"
     ]
    },
    {
     "name": "stderr",
     "output_type": "stream",
     "text": [
      "vitamin 진행:   9%|▊         | 2178/25348 [44:37<7:59:21,  1.24s/논문] "
     ]
    },
    {
     "name": "stdout",
     "output_type": "stream",
     "text": [
      "[2178/25348] ✅ 저장 완료 (PMCID: PMC11884002)\n",
      "[2179/25348] ⚠️ PMCID 없음 → 건너뜀\n",
      "[2180/25348] ✅ 저장 완료 (PMCID: PMC11972965)\n"
     ]
    },
    {
     "name": "stderr",
     "output_type": "stream",
     "text": [
      "vitamin 진행:   9%|▊         | 2181/25348 [44:41<8:54:12,  1.38s/논문]"
     ]
    },
    {
     "name": "stdout",
     "output_type": "stream",
     "text": [
      "[2181/25348] ✅ 저장 완료 (PMCID: PMC12056739)\n",
      "[2182/25348] ⚠️ PMCID 없음 → 건너뜀\n",
      "[2183/25348] ⚠️ PMCID 없음 → 건너뜀\n",
      "[2184/25348] ✅ 저장 완료 (PMCID: PMC12151576)\n"
     ]
    },
    {
     "name": "stderr",
     "output_type": "stream",
     "text": [
      "vitamin 진행:   9%|▊         | 2185/25348 [44:45<7:39:02,  1.19s/논문]"
     ]
    },
    {
     "name": "stdout",
     "output_type": "stream",
     "text": [
      "[2185/25348] ✅ 저장 완료 (PMCID: PMC11836767)\n"
     ]
    },
    {
     "name": "stderr",
     "output_type": "stream",
     "text": [
      "vitamin 진행:   9%|▊         | 2186/25348 [44:47<8:38:25,  1.34s/논문]"
     ]
    },
    {
     "name": "stdout",
     "output_type": "stream",
     "text": [
      "[2186/25348] ✅ 저장 완료 (PMCID: PMC11985240)\n",
      "[2187/25348] ✅ 저장 완료 (PMCID: PMC12191452)\n"
     ]
    },
    {
     "name": "stderr",
     "output_type": "stream",
     "text": [
      "vitamin 진행:   9%|▊         | 2188/25348 [44:50<9:05:54,  1.41s/논문] "
     ]
    },
    {
     "name": "stdout",
     "output_type": "stream",
     "text": [
      "[2188/25348] ✅ 저장 완료 (PMCID: PMC12149402)\n",
      "[2189/25348] ⚠️ PMCID 없음 → 건너뜀\n",
      "[2190/25348] ✅ 저장 완료 (PMCID: PMC12095851)\n"
     ]
    },
    {
     "name": "stderr",
     "output_type": "stream",
     "text": [
      "vitamin 진행:   9%|▊         | 2191/25348 [44:54<8:02:32,  1.25s/논문]"
     ]
    },
    {
     "name": "stdout",
     "output_type": "stream",
     "text": [
      "[2191/25348] ⚠️ PMCID 없음 → 건너뜀\n"
     ]
    },
    {
     "name": "stderr",
     "output_type": "stream",
     "text": [
      "vitamin 진행:   9%|▊         | 2192/25348 [44:55<7:41:33,  1.20s/논문]"
     ]
    },
    {
     "name": "stdout",
     "output_type": "stream",
     "text": [
      "[2192/25348] ✅ 저장 완료 (PMCID: PMC11820127)\n",
      "[2193/25348] ✅ 저장 완료 (PMCID: PMC12089090)\n"
     ]
    },
    {
     "name": "stderr",
     "output_type": "stream",
     "text": [
      "vitamin 진행:   9%|▊         | 2194/25348 [44:58<8:48:08,  1.37s/논문]"
     ]
    },
    {
     "name": "stdout",
     "output_type": "stream",
     "text": [
      "[2194/25348] ✅ 저장 완료 (PMCID: PMC12187735)\n",
      "[2195/25348] ✅ 저장 완료 (PMCID: PMC12125106)\n"
     ]
    },
    {
     "name": "stderr",
     "output_type": "stream",
     "text": [
      "vitamin 진행:   9%|▊         | 2196/25348 [45:02<10:36:46,  1.65s/논문]"
     ]
    },
    {
     "name": "stdout",
     "output_type": "stream",
     "text": [
      "[2196/25348] ✅ 저장 완료 (PMCID: PMC11811824)\n",
      "[2197/25348] ✅ 저장 완료 (PMCID: PMC11990768)\n"
     ]
    },
    {
     "name": "stderr",
     "output_type": "stream",
     "text": [
      "vitamin 진행:   9%|▊         | 2197/25348 [45:05<12:55:33,  2.01s/논문]"
     ]
    },
    {
     "name": "stdout",
     "output_type": "stream",
     "text": [
      "[2198/25348] ⚠️ PMCID 없음 → 건너뜀\n",
      "[2199/25348] ⚠️ PMCID 없음 → 건너뜀\n",
      "[2200/25348] ⚠️ PMCID 없음 → 건너뜀\n"
     ]
    },
    {
     "name": "stderr",
     "output_type": "stream",
     "text": [
      "vitamin 진행:   9%|▊         | 2201/25348 [45:06<6:09:13,  1.04논문/s] "
     ]
    },
    {
     "name": "stdout",
     "output_type": "stream",
     "text": [
      "[2201/25348] ⚠️ PMCID 없음 → 건너뜀\n",
      "[2202/25348] ⚠️ PMCID 없음 → 건너뜀\n",
      "[2203/25348] ⚠️ PMCID 없음 → 건너뜀\n",
      "[2204/25348] ⚠️ PMCID 없음 → 건너뜀\n"
     ]
    },
    {
     "name": "stderr",
     "output_type": "stream",
     "text": [
      "vitamin 진행:   9%|▊         | 2205/25348 [45:07<4:01:12,  1.60논문/s]"
     ]
    },
    {
     "name": "stdout",
     "output_type": "stream",
     "text": [
      "[2205/25348] ✅ 저장 완료 (PMCID: PMC12096374)\n",
      "[2206/25348] ✅ 저장 완료 (PMCID: PMC12042328)\n"
     ]
    },
    {
     "name": "stderr",
     "output_type": "stream",
     "text": [
      "vitamin 진행:   9%|▊         | 2207/25348 [45:12<6:32:13,  1.02s/논문]"
     ]
    },
    {
     "name": "stdout",
     "output_type": "stream",
     "text": [
      "[2207/25348] ✅ 저장 완료 (PMCID: PMC11929376)\n",
      "[2208/25348] ✅ 저장 완료 (PMCID: PMC11965125)\n"
     ]
    },
    {
     "name": "stderr",
     "output_type": "stream",
     "text": [
      "vitamin 진행:   9%|▊         | 2209/25348 [45:16<9:00:53,  1.40s/논문]"
     ]
    },
    {
     "name": "stdout",
     "output_type": "stream",
     "text": [
      "[2209/25348] ✅ 저장 완료 (PMCID: PMC11853708)\n",
      "[2210/25348] ✅ 저장 완료 (PMCID: PMC12059640)\n"
     ]
    },
    {
     "name": "stderr",
     "output_type": "stream",
     "text": [
      "vitamin 진행:   9%|▊         | 2211/25348 [45:19<9:28:50,  1.48s/논문] "
     ]
    },
    {
     "name": "stdout",
     "output_type": "stream",
     "text": [
      "[2211/25348] ⚠️ PMCID 없음 → 건너뜀\n",
      "[2212/25348] ⚠️ PMCID 없음 → 건너뜀\n",
      "[2213/25348] ⚠️ PMCID 없음 → 건너뜀\n",
      "[2214/25348] ⚠️ PMCID 없음 → 건너뜀\n"
     ]
    },
    {
     "name": "stderr",
     "output_type": "stream",
     "text": [
      "vitamin 진행:   9%|▊         | 2215/25348 [45:21<4:53:25,  1.31논문/s]"
     ]
    },
    {
     "name": "stdout",
     "output_type": "stream",
     "text": [
      "[2215/25348] ✅ 저장 완료 (PMCID: PMC11813788)\n"
     ]
    },
    {
     "name": "stderr",
     "output_type": "stream",
     "text": [
      "vitamin 진행:   9%|▊         | 2216/25348 [45:22<5:27:32,  1.18논문/s]"
     ]
    },
    {
     "name": "stdout",
     "output_type": "stream",
     "text": [
      "[2216/25348] ⚠️ PMCID 없음 → 건너뜀\n",
      "[2217/25348] ✅ 저장 완료 (PMCID: PMC12094410)\n"
     ]
    },
    {
     "name": "stderr",
     "output_type": "stream",
     "text": [
      "vitamin 진행:   9%|▊         | 2217/25348 [45:24<7:22:33,  1.15s/논문]"
     ]
    },
    {
     "name": "stdout",
     "output_type": "stream",
     "text": [
      "[2218/25348] ⚠️ PMCID 없음 → 건너뜀\n",
      "[2219/25348] ⚠️ PMCID 없음 → 건너뜀\n",
      "[2220/25348] ⚠️ PMCID 없음 → 건너뜀\n"
     ]
    },
    {
     "name": "stderr",
     "output_type": "stream",
     "text": [
      "vitamin 진행:   9%|▉         | 2221/25348 [45:26<5:12:44,  1.23논문/s]"
     ]
    },
    {
     "name": "stdout",
     "output_type": "stream",
     "text": [
      "[2221/25348] ✅ 저장 완료 (PMCID: PMC11910422)\n",
      "[2222/25348] ✅ 저장 완료 (PMCID: PMC12112961)\n"
     ]
    },
    {
     "name": "stderr",
     "output_type": "stream",
     "text": [
      "vitamin 진행:   9%|▉         | 2223/25348 [45:30<6:54:56,  1.08s/논문]"
     ]
    },
    {
     "name": "stdout",
     "output_type": "stream",
     "text": [
      "[2223/25348] ✅ 저장 완료 (PMCID: PMC11927135)\n"
     ]
    },
    {
     "name": "stderr",
     "output_type": "stream",
     "text": [
      "vitamin 진행:   9%|▉         | 2224/25348 [45:31<6:47:42,  1.06s/논문]"
     ]
    },
    {
     "name": "stdout",
     "output_type": "stream",
     "text": [
      "[2224/25348] ✅ 저장 완료 (PMCID: PMC11948133)\n",
      "[2225/25348] ✅ 저장 완료 (PMCID: PMC11876532)\n"
     ]
    },
    {
     "name": "stderr",
     "output_type": "stream",
     "text": [
      "vitamin 진행:   9%|▉         | 2226/25348 [45:36<10:23:39,  1.62s/논문]"
     ]
    },
    {
     "name": "stdout",
     "output_type": "stream",
     "text": [
      "[2226/25348] ✅ 저장 완료 (PMCID: PMC12121446)\n",
      "[2227/25348] ✅ 저장 완료 (PMCID: PMC11749092)\n"
     ]
    },
    {
     "name": "stderr",
     "output_type": "stream",
     "text": [
      "vitamin 진행:   9%|▉         | 2228/25348 [45:39<10:09:29,  1.58s/논문]"
     ]
    },
    {
     "name": "stdout",
     "output_type": "stream",
     "text": [
      "[2228/25348] ✅ 저장 완료 (PMCID: PMC12173013)\n",
      "[2229/25348] ⚠️ PMCID 없음 → 건너뜀\n",
      "[2230/25348] ⚠️ PMCID 없음 → 건너뜀\n",
      "[2231/25348] ✅ 저장 완료 (PMCID: PMC12087585)\n"
     ]
    },
    {
     "name": "stderr",
     "output_type": "stream",
     "text": [
      "vitamin 진행:   9%|▉         | 2231/25348 [45:43<9:12:56,  1.44s/논문] "
     ]
    },
    {
     "name": "stdout",
     "output_type": "stream",
     "text": [
      "[2232/25348] ⚠️ PMCID 없음 → 건너뜀\n"
     ]
    },
    {
     "name": "stderr",
     "output_type": "stream",
     "text": [
      "vitamin 진행:   9%|▉         | 2233/25348 [45:44<7:09:06,  1.11s/논문]"
     ]
    },
    {
     "name": "stdout",
     "output_type": "stream",
     "text": [
      "[2233/25348] ✅ 저장 완료 (PMCID: PMC11769215)\n",
      "[2234/25348] ⚠️ PMCID 없음 → 건너뜀\n",
      "[2235/25348] ✅ 저장 완료 (PMCID: PMC12176692)\n"
     ]
    },
    {
     "name": "stderr",
     "output_type": "stream",
     "text": [
      "vitamin 진행:   9%|▉         | 2236/25348 [45:48<7:48:57,  1.22s/논문]"
     ]
    },
    {
     "name": "stdout",
     "output_type": "stream",
     "text": [
      "[2236/25348] ⚠️ PMCID 없음 → 건너뜀\n"
     ]
    },
    {
     "name": "stderr",
     "output_type": "stream",
     "text": [
      "vitamin 진행:   9%|▉         | 2237/25348 [45:49<7:40:53,  1.20s/논문]"
     ]
    },
    {
     "name": "stdout",
     "output_type": "stream",
     "text": [
      "[2237/25348] ✅ 저장 완료 (PMCID: PMC12073478)\n",
      "[2238/25348] ✅ 저장 완료 (PMCID: PMC11905597)\n"
     ]
    },
    {
     "name": "stderr",
     "output_type": "stream",
     "text": [
      "vitamin 진행:   9%|▉         | 2238/25348 [45:52<9:53:10,  1.54s/논문]"
     ]
    },
    {
     "name": "stdout",
     "output_type": "stream",
     "text": [
      "[2239/25348] ⚠️ PMCID 없음 → 건너뜀\n"
     ]
    },
    {
     "name": "stderr",
     "output_type": "stream",
     "text": [
      "vitamin 진행:   9%|▉         | 2240/25348 [45:53<7:08:57,  1.11s/논문]"
     ]
    },
    {
     "name": "stdout",
     "output_type": "stream",
     "text": [
      "[2240/25348] ✅ 저장 완료 (PMCID: PMC11947877)\n",
      "[2241/25348] ✅ 저장 완료 (PMCID: PMC11887025)\n"
     ]
    },
    {
     "name": "stderr",
     "output_type": "stream",
     "text": [
      "vitamin 진행:   9%|▉         | 2242/25348 [45:58<10:17:06,  1.60s/논문]"
     ]
    },
    {
     "name": "stdout",
     "output_type": "stream",
     "text": [
      "[2242/25348] ✅ 저장 완료 (PMCID: PMC11940037)\n",
      "[2243/25348] ✅ 저장 완료 (PMCID: PMC11771028)\n"
     ]
    },
    {
     "name": "stderr",
     "output_type": "stream",
     "text": [
      "vitamin 진행:   9%|▉         | 2244/25348 [46:01<10:02:49,  1.57s/논문]"
     ]
    },
    {
     "name": "stdout",
     "output_type": "stream",
     "text": [
      "[2244/25348] ✅ 저장 완료 (PMCID: PMC11811097)\n"
     ]
    },
    {
     "name": "stderr",
     "output_type": "stream",
     "text": [
      "vitamin 진행:   9%|▉         | 2245/25348 [46:03<9:37:06,  1.50s/논문] "
     ]
    },
    {
     "name": "stdout",
     "output_type": "stream",
     "text": [
      "[2245/25348] ✅ 저장 완료 (PMCID: PMC12154226)\n"
     ]
    },
    {
     "name": "stderr",
     "output_type": "stream",
     "text": [
      "vitamin 진행:   9%|▉         | 2246/25348 [46:04<8:49:16,  1.37s/논문]"
     ]
    },
    {
     "name": "stdout",
     "output_type": "stream",
     "text": [
      "[2246/25348] ⚠️ PMCID 없음 → 건너뜀\n",
      "[2247/25348] ⚠️ PMCID 없음 → 건너뜀\n",
      "[2248/25348] ✅ 저장 완료 (PMCID: PMC11874879)\n"
     ]
    },
    {
     "name": "stderr",
     "output_type": "stream",
     "text": [
      "vitamin 진행:   9%|▉         | 2248/25348 [46:06<8:20:44,  1.30s/논문]"
     ]
    },
    {
     "name": "stdout",
     "output_type": "stream",
     "text": [
      "[2249/25348] ⚠️ PMCID 없음 → 건너뜀\n"
     ]
    },
    {
     "name": "stderr",
     "output_type": "stream",
     "text": [
      "vitamin 진행:   9%|▉         | 2250/25348 [46:07<6:37:27,  1.03s/논문]"
     ]
    },
    {
     "name": "stdout",
     "output_type": "stream",
     "text": [
      "[2250/25348] ✅ 저장 완료 (PMCID: PMC12157089)\n"
     ]
    },
    {
     "name": "stderr",
     "output_type": "stream",
     "text": [
      "vitamin 진행:   9%|▉         | 2251/25348 [46:08<6:34:12,  1.02s/논문]"
     ]
    },
    {
     "name": "stdout",
     "output_type": "stream",
     "text": [
      "[2251/25348] ⚠️ PMCID 없음 → 건너뜀\n",
      "[2252/25348] ✅ 저장 완료 (PMCID: PMC11994985)\n"
     ]
    },
    {
     "name": "stderr",
     "output_type": "stream",
     "text": [
      "vitamin 진행:   9%|▉         | 2252/25348 [46:10<8:09:30,  1.27s/논문]"
     ]
    },
    {
     "name": "stdout",
     "output_type": "stream",
     "text": [
      "[2253/25348] ⚠️ PMCID 없음 → 건너뜀\n"
     ]
    },
    {
     "name": "stderr",
     "output_type": "stream",
     "text": [
      "vitamin 진행:   9%|▉         | 2254/25348 [46:12<7:10:23,  1.12s/논문]"
     ]
    },
    {
     "name": "stdout",
     "output_type": "stream",
     "text": [
      "[2254/25348] ✅ 저장 완료 (PMCID: PMC12074973)\n",
      "[2255/25348] ⚠️ PMCID 없음 → 건너뜀\n",
      "\n",
      "🛑 중단 감지! 지금까지의 데이터를 저장합니다...\n"
     ]
    },
    {
     "name": "stderr",
     "output_type": "stream",
     "text": [
      "vitamin 진행:   9%|▉         | 2255/25348 [46:14<7:53:33,  1.23s/논문]"
     ]
    },
    {
     "name": "stdout",
     "output_type": "stream",
     "text": [
      "⚡ 중단 시점까지 1229개 논문 저장 완료\n"
     ]
    },
    {
     "name": "stderr",
     "output_type": "stream",
     "text": [
      "\n"
     ]
    },
    {
     "ename": "KeyboardInterrupt",
     "evalue": "",
     "output_type": "error",
     "traceback": [
      "\u001b[31m---------------------------------------------------------------------------\u001b[39m",
      "\u001b[31mKeyboardInterrupt\u001b[39m                         Traceback (most recent call last)",
      "\u001b[36mCell\u001b[39m\u001b[36m \u001b[39m\u001b[32mIn[4]\u001b[39m\u001b[32m, line 216\u001b[39m\n\u001b[32m    213\u001b[39m \u001b[38;5;28;01mif\u001b[39;00m \u001b[34m__name__\u001b[39m == \u001b[33m\"\u001b[39m\u001b[33m__main__\u001b[39m\u001b[33m\"\u001b[39m:\n\u001b[32m    214\u001b[39m     query = \u001b[33m'\u001b[39m\u001b[33m\"\u001b[39m\u001b[33mvitamin\u001b[39m\u001b[33m\"\u001b[39m\u001b[33m AND PUB_YEAR:2025\u001b[39m\u001b[33m'\u001b[39m\n\u001b[32m--> \u001b[39m\u001b[32m216\u001b[39m     \u001b[43mprocess_topic\u001b[49m\u001b[43m(\u001b[49m\u001b[43mquery\u001b[49m\u001b[43m,\u001b[49m\u001b[43m \u001b[49m\u001b[33;43m\"\u001b[39;49m\u001b[33;43mvitamin\u001b[39;49m\u001b[33;43m\"\u001b[39;49m\u001b[43m,\u001b[49m\u001b[43m \u001b[49m\u001b[43mpersist_dir\u001b[49m\u001b[43m=\u001b[49m\u001b[43mPERSIST_DIR\u001b[49m\u001b[43m,\u001b[49m\u001b[43m \u001b[49m\u001b[43mbatch_size\u001b[49m\u001b[43m=\u001b[49m\u001b[32;43m5\u001b[39;49m\u001b[43m)\u001b[49m\n\u001b[32m    218\u001b[39m     \u001b[38;5;28mprint\u001b[39m(\u001b[33m\"\u001b[39m\u001b[33m=== 🎉 모든 작업 완료 ===\u001b[39m\u001b[33m\"\u001b[39m)\n",
      "\u001b[36mCell\u001b[39m\u001b[36m \u001b[39m\u001b[32mIn[4]\u001b[39m\u001b[32m, line 138\u001b[39m, in \u001b[36mprocess_topic\u001b[39m\u001b[34m(query, collection_name, persist_dir, batch_size)\u001b[39m\n\u001b[32m    136\u001b[39m \u001b[38;5;28;01mtry\u001b[39;00m:\n\u001b[32m    137\u001b[39m     \u001b[38;5;28;01mwhile\u001b[39;00m \u001b[38;5;28;01mTrue\u001b[39;00m:\n\u001b[32m--> \u001b[39m\u001b[32m138\u001b[39m         res = \u001b[43msafe_request_get\u001b[49m\u001b[43m(\u001b[49m\n\u001b[32m    139\u001b[39m \u001b[43m            \u001b[49m\u001b[33;43m\"\u001b[39;49m\u001b[33;43mhttps://www.ebi.ac.uk/europepmc/webservices/rest/search\u001b[39;49m\u001b[33;43m\"\u001b[39;49m\u001b[43m,\u001b[49m\n\u001b[32m    140\u001b[39m \u001b[43m            \u001b[49m\u001b[43mparams\u001b[49m\u001b[43m=\u001b[49m\u001b[43m{\u001b[49m\u001b[33;43m\"\u001b[39;49m\u001b[33;43mquery\u001b[39;49m\u001b[33;43m\"\u001b[39;49m\u001b[43m:\u001b[49m\u001b[43m \u001b[49m\u001b[43mquery\u001b[49m\u001b[43m,\u001b[49m\u001b[43m \u001b[49m\u001b[33;43m\"\u001b[39;49m\u001b[33;43mformat\u001b[39;49m\u001b[33;43m\"\u001b[39;49m\u001b[43m:\u001b[49m\u001b[43m \u001b[49m\u001b[33;43m\"\u001b[39;49m\u001b[33;43mjson\u001b[39;49m\u001b[33;43m\"\u001b[39;49m\u001b[43m,\u001b[49m\u001b[43m \u001b[49m\u001b[33;43m\"\u001b[39;49m\u001b[33;43mpageSize\u001b[39;49m\u001b[33;43m\"\u001b[39;49m\u001b[43m:\u001b[49m\u001b[43m \u001b[49m\u001b[43mpage_size\u001b[49m\u001b[43m,\u001b[49m\u001b[43m \u001b[49m\u001b[33;43m\"\u001b[39;49m\u001b[33;43mcursorMark\u001b[39;49m\u001b[33;43m\"\u001b[39;49m\u001b[43m:\u001b[49m\u001b[43m \u001b[49m\u001b[43mcursor\u001b[49m\u001b[43m}\u001b[49m\u001b[43m,\u001b[49m\n\u001b[32m    141\u001b[39m \u001b[43m            \u001b[49m\u001b[43mheaders\u001b[49m\u001b[43m=\u001b[49m\u001b[43m{\u001b[49m\u001b[33;43m\"\u001b[39;49m\u001b[33;43mUser-Agent\u001b[39;49m\u001b[33;43m\"\u001b[39;49m\u001b[43m:\u001b[49m\u001b[43m \u001b[49m\u001b[33;43m\"\u001b[39;49m\u001b[33;43mMozilla/5.0\u001b[39;49m\u001b[33;43m\"\u001b[39;49m\u001b[43m}\u001b[49m\n\u001b[32m    142\u001b[39m \u001b[43m        \u001b[49m\u001b[43m)\u001b[49m\n\u001b[32m    143\u001b[39m         data = res.json()\n\u001b[32m    144\u001b[39m         results = data.get(\u001b[33m\"\u001b[39m\u001b[33mresultList\u001b[39m\u001b[33m\"\u001b[39m, {}).get(\u001b[33m\"\u001b[39m\u001b[33mresult\u001b[39m\u001b[33m\"\u001b[39m, [])\n",
      "\u001b[36mCell\u001b[39m\u001b[36m \u001b[39m\u001b[32mIn[4]\u001b[39m\u001b[32m, line 34\u001b[39m, in \u001b[36msafe_request_get\u001b[39m\u001b[34m(url, params, headers, retries, backoff, timeout)\u001b[39m\n\u001b[32m     32\u001b[39m \u001b[38;5;28;01mfor\u001b[39;00m attempt \u001b[38;5;129;01min\u001b[39;00m \u001b[38;5;28mrange\u001b[39m(retries):\n\u001b[32m     33\u001b[39m     \u001b[38;5;28;01mtry\u001b[39;00m:\n\u001b[32m---> \u001b[39m\u001b[32m34\u001b[39m         res = \u001b[43mrequests\u001b[49m\u001b[43m.\u001b[49m\u001b[43mget\u001b[49m\u001b[43m(\u001b[49m\u001b[43murl\u001b[49m\u001b[43m,\u001b[49m\u001b[43m \u001b[49m\u001b[43mparams\u001b[49m\u001b[43m=\u001b[49m\u001b[43mparams\u001b[49m\u001b[43m,\u001b[49m\u001b[43m \u001b[49m\u001b[43mheaders\u001b[49m\u001b[43m=\u001b[49m\u001b[43mheaders\u001b[49m\u001b[43m,\u001b[49m\u001b[43m \u001b[49m\u001b[43mtimeout\u001b[49m\u001b[43m=\u001b[49m\u001b[43mtimeout\u001b[49m\u001b[43m)\u001b[49m\n\u001b[32m     35\u001b[39m         res.raise_for_status()\n\u001b[32m     36\u001b[39m         \u001b[38;5;28;01mreturn\u001b[39;00m res\n",
      "\u001b[36mFile \u001b[39m\u001b[32mc:\\Users\\Playdata\\AppData\\Local\\miniconda3\\envs\\lang_env\\Lib\\site-packages\\requests\\api.py:73\u001b[39m, in \u001b[36mget\u001b[39m\u001b[34m(url, params, **kwargs)\u001b[39m\n\u001b[32m     62\u001b[39m \u001b[38;5;28;01mdef\u001b[39;00m\u001b[38;5;250m \u001b[39m\u001b[34mget\u001b[39m(url, params=\u001b[38;5;28;01mNone\u001b[39;00m, **kwargs):\n\u001b[32m     63\u001b[39m \u001b[38;5;250m    \u001b[39m\u001b[33mr\u001b[39m\u001b[33;03m\"\"\"Sends a GET request.\u001b[39;00m\n\u001b[32m     64\u001b[39m \n\u001b[32m     65\u001b[39m \u001b[33;03m    :param url: URL for the new :class:`Request` object.\u001b[39;00m\n\u001b[32m   (...)\u001b[39m\u001b[32m     70\u001b[39m \u001b[33;03m    :rtype: requests.Response\u001b[39;00m\n\u001b[32m     71\u001b[39m \u001b[33;03m    \"\"\"\u001b[39;00m\n\u001b[32m---> \u001b[39m\u001b[32m73\u001b[39m     \u001b[38;5;28;01mreturn\u001b[39;00m \u001b[43mrequest\u001b[49m\u001b[43m(\u001b[49m\u001b[33;43m\"\u001b[39;49m\u001b[33;43mget\u001b[39;49m\u001b[33;43m\"\u001b[39;49m\u001b[43m,\u001b[49m\u001b[43m \u001b[49m\u001b[43murl\u001b[49m\u001b[43m,\u001b[49m\u001b[43m \u001b[49m\u001b[43mparams\u001b[49m\u001b[43m=\u001b[49m\u001b[43mparams\u001b[49m\u001b[43m,\u001b[49m\u001b[43m \u001b[49m\u001b[43m*\u001b[49m\u001b[43m*\u001b[49m\u001b[43mkwargs\u001b[49m\u001b[43m)\u001b[49m\n",
      "\u001b[36mFile \u001b[39m\u001b[32mc:\\Users\\Playdata\\AppData\\Local\\miniconda3\\envs\\lang_env\\Lib\\site-packages\\requests\\api.py:59\u001b[39m, in \u001b[36mrequest\u001b[39m\u001b[34m(method, url, **kwargs)\u001b[39m\n\u001b[32m     55\u001b[39m \u001b[38;5;66;03m# By using the 'with' statement we are sure the session is closed, thus we\u001b[39;00m\n\u001b[32m     56\u001b[39m \u001b[38;5;66;03m# avoid leaving sockets open which can trigger a ResourceWarning in some\u001b[39;00m\n\u001b[32m     57\u001b[39m \u001b[38;5;66;03m# cases, and look like a memory leak in others.\u001b[39;00m\n\u001b[32m     58\u001b[39m \u001b[38;5;28;01mwith\u001b[39;00m sessions.Session() \u001b[38;5;28;01mas\u001b[39;00m session:\n\u001b[32m---> \u001b[39m\u001b[32m59\u001b[39m     \u001b[38;5;28;01mreturn\u001b[39;00m \u001b[43msession\u001b[49m\u001b[43m.\u001b[49m\u001b[43mrequest\u001b[49m\u001b[43m(\u001b[49m\u001b[43mmethod\u001b[49m\u001b[43m=\u001b[49m\u001b[43mmethod\u001b[49m\u001b[43m,\u001b[49m\u001b[43m \u001b[49m\u001b[43murl\u001b[49m\u001b[43m=\u001b[49m\u001b[43murl\u001b[49m\u001b[43m,\u001b[49m\u001b[43m \u001b[49m\u001b[43m*\u001b[49m\u001b[43m*\u001b[49m\u001b[43mkwargs\u001b[49m\u001b[43m)\u001b[49m\n",
      "\u001b[36mFile \u001b[39m\u001b[32mc:\\Users\\Playdata\\AppData\\Local\\miniconda3\\envs\\lang_env\\Lib\\site-packages\\requests\\sessions.py:589\u001b[39m, in \u001b[36mSession.request\u001b[39m\u001b[34m(self, method, url, params, data, headers, cookies, files, auth, timeout, allow_redirects, proxies, hooks, stream, verify, cert, json)\u001b[39m\n\u001b[32m    584\u001b[39m send_kwargs = {\n\u001b[32m    585\u001b[39m     \u001b[33m\"\u001b[39m\u001b[33mtimeout\u001b[39m\u001b[33m\"\u001b[39m: timeout,\n\u001b[32m    586\u001b[39m     \u001b[33m\"\u001b[39m\u001b[33mallow_redirects\u001b[39m\u001b[33m\"\u001b[39m: allow_redirects,\n\u001b[32m    587\u001b[39m }\n\u001b[32m    588\u001b[39m send_kwargs.update(settings)\n\u001b[32m--> \u001b[39m\u001b[32m589\u001b[39m resp = \u001b[38;5;28;43mself\u001b[39;49m\u001b[43m.\u001b[49m\u001b[43msend\u001b[49m\u001b[43m(\u001b[49m\u001b[43mprep\u001b[49m\u001b[43m,\u001b[49m\u001b[43m \u001b[49m\u001b[43m*\u001b[49m\u001b[43m*\u001b[49m\u001b[43msend_kwargs\u001b[49m\u001b[43m)\u001b[49m\n\u001b[32m    591\u001b[39m \u001b[38;5;28;01mreturn\u001b[39;00m resp\n",
      "\u001b[36mFile \u001b[39m\u001b[32mc:\\Users\\Playdata\\AppData\\Local\\miniconda3\\envs\\lang_env\\Lib\\site-packages\\requests\\sessions.py:703\u001b[39m, in \u001b[36mSession.send\u001b[39m\u001b[34m(self, request, **kwargs)\u001b[39m\n\u001b[32m    700\u001b[39m start = preferred_clock()\n\u001b[32m    702\u001b[39m \u001b[38;5;66;03m# Send the request\u001b[39;00m\n\u001b[32m--> \u001b[39m\u001b[32m703\u001b[39m r = \u001b[43madapter\u001b[49m\u001b[43m.\u001b[49m\u001b[43msend\u001b[49m\u001b[43m(\u001b[49m\u001b[43mrequest\u001b[49m\u001b[43m,\u001b[49m\u001b[43m \u001b[49m\u001b[43m*\u001b[49m\u001b[43m*\u001b[49m\u001b[43mkwargs\u001b[49m\u001b[43m)\u001b[49m\n\u001b[32m    705\u001b[39m \u001b[38;5;66;03m# Total elapsed time of the request (approximately)\u001b[39;00m\n\u001b[32m    706\u001b[39m elapsed = preferred_clock() - start\n",
      "\u001b[36mFile \u001b[39m\u001b[32mc:\\Users\\Playdata\\AppData\\Local\\miniconda3\\envs\\lang_env\\Lib\\site-packages\\requests\\adapters.py:667\u001b[39m, in \u001b[36mHTTPAdapter.send\u001b[39m\u001b[34m(self, request, stream, timeout, verify, cert, proxies)\u001b[39m\n\u001b[32m    664\u001b[39m     timeout = TimeoutSauce(connect=timeout, read=timeout)\n\u001b[32m    666\u001b[39m \u001b[38;5;28;01mtry\u001b[39;00m:\n\u001b[32m--> \u001b[39m\u001b[32m667\u001b[39m     resp = \u001b[43mconn\u001b[49m\u001b[43m.\u001b[49m\u001b[43murlopen\u001b[49m\u001b[43m(\u001b[49m\n\u001b[32m    668\u001b[39m \u001b[43m        \u001b[49m\u001b[43mmethod\u001b[49m\u001b[43m=\u001b[49m\u001b[43mrequest\u001b[49m\u001b[43m.\u001b[49m\u001b[43mmethod\u001b[49m\u001b[43m,\u001b[49m\n\u001b[32m    669\u001b[39m \u001b[43m        \u001b[49m\u001b[43murl\u001b[49m\u001b[43m=\u001b[49m\u001b[43murl\u001b[49m\u001b[43m,\u001b[49m\n\u001b[32m    670\u001b[39m \u001b[43m        \u001b[49m\u001b[43mbody\u001b[49m\u001b[43m=\u001b[49m\u001b[43mrequest\u001b[49m\u001b[43m.\u001b[49m\u001b[43mbody\u001b[49m\u001b[43m,\u001b[49m\n\u001b[32m    671\u001b[39m \u001b[43m        \u001b[49m\u001b[43mheaders\u001b[49m\u001b[43m=\u001b[49m\u001b[43mrequest\u001b[49m\u001b[43m.\u001b[49m\u001b[43mheaders\u001b[49m\u001b[43m,\u001b[49m\n\u001b[32m    672\u001b[39m \u001b[43m        \u001b[49m\u001b[43mredirect\u001b[49m\u001b[43m=\u001b[49m\u001b[38;5;28;43;01mFalse\u001b[39;49;00m\u001b[43m,\u001b[49m\n\u001b[32m    673\u001b[39m \u001b[43m        \u001b[49m\u001b[43massert_same_host\u001b[49m\u001b[43m=\u001b[49m\u001b[38;5;28;43;01mFalse\u001b[39;49;00m\u001b[43m,\u001b[49m\n\u001b[32m    674\u001b[39m \u001b[43m        \u001b[49m\u001b[43mpreload_content\u001b[49m\u001b[43m=\u001b[49m\u001b[38;5;28;43;01mFalse\u001b[39;49;00m\u001b[43m,\u001b[49m\n\u001b[32m    675\u001b[39m \u001b[43m        \u001b[49m\u001b[43mdecode_content\u001b[49m\u001b[43m=\u001b[49m\u001b[38;5;28;43;01mFalse\u001b[39;49;00m\u001b[43m,\u001b[49m\n\u001b[32m    676\u001b[39m \u001b[43m        \u001b[49m\u001b[43mretries\u001b[49m\u001b[43m=\u001b[49m\u001b[38;5;28;43mself\u001b[39;49m\u001b[43m.\u001b[49m\u001b[43mmax_retries\u001b[49m\u001b[43m,\u001b[49m\n\u001b[32m    677\u001b[39m \u001b[43m        \u001b[49m\u001b[43mtimeout\u001b[49m\u001b[43m=\u001b[49m\u001b[43mtimeout\u001b[49m\u001b[43m,\u001b[49m\n\u001b[32m    678\u001b[39m \u001b[43m        \u001b[49m\u001b[43mchunked\u001b[49m\u001b[43m=\u001b[49m\u001b[43mchunked\u001b[49m\u001b[43m,\u001b[49m\n\u001b[32m    679\u001b[39m \u001b[43m    \u001b[49m\u001b[43m)\u001b[49m\n\u001b[32m    681\u001b[39m \u001b[38;5;28;01mexcept\u001b[39;00m (ProtocolError, \u001b[38;5;167;01mOSError\u001b[39;00m) \u001b[38;5;28;01mas\u001b[39;00m err:\n\u001b[32m    682\u001b[39m     \u001b[38;5;28;01mraise\u001b[39;00m \u001b[38;5;167;01mConnectionError\u001b[39;00m(err, request=request)\n",
      "\u001b[36mFile \u001b[39m\u001b[32mc:\\Users\\Playdata\\AppData\\Local\\miniconda3\\envs\\lang_env\\Lib\\site-packages\\urllib3\\connectionpool.py:787\u001b[39m, in \u001b[36mHTTPConnectionPool.urlopen\u001b[39m\u001b[34m(self, method, url, body, headers, retries, redirect, assert_same_host, timeout, pool_timeout, release_conn, chunked, body_pos, preload_content, decode_content, **response_kw)\u001b[39m\n\u001b[32m    784\u001b[39m response_conn = conn \u001b[38;5;28;01mif\u001b[39;00m \u001b[38;5;129;01mnot\u001b[39;00m release_conn \u001b[38;5;28;01melse\u001b[39;00m \u001b[38;5;28;01mNone\u001b[39;00m\n\u001b[32m    786\u001b[39m \u001b[38;5;66;03m# Make the request on the HTTPConnection object\u001b[39;00m\n\u001b[32m--> \u001b[39m\u001b[32m787\u001b[39m response = \u001b[38;5;28;43mself\u001b[39;49m\u001b[43m.\u001b[49m\u001b[43m_make_request\u001b[49m\u001b[43m(\u001b[49m\n\u001b[32m    788\u001b[39m \u001b[43m    \u001b[49m\u001b[43mconn\u001b[49m\u001b[43m,\u001b[49m\n\u001b[32m    789\u001b[39m \u001b[43m    \u001b[49m\u001b[43mmethod\u001b[49m\u001b[43m,\u001b[49m\n\u001b[32m    790\u001b[39m \u001b[43m    \u001b[49m\u001b[43murl\u001b[49m\u001b[43m,\u001b[49m\n\u001b[32m    791\u001b[39m \u001b[43m    \u001b[49m\u001b[43mtimeout\u001b[49m\u001b[43m=\u001b[49m\u001b[43mtimeout_obj\u001b[49m\u001b[43m,\u001b[49m\n\u001b[32m    792\u001b[39m \u001b[43m    \u001b[49m\u001b[43mbody\u001b[49m\u001b[43m=\u001b[49m\u001b[43mbody\u001b[49m\u001b[43m,\u001b[49m\n\u001b[32m    793\u001b[39m \u001b[43m    \u001b[49m\u001b[43mheaders\u001b[49m\u001b[43m=\u001b[49m\u001b[43mheaders\u001b[49m\u001b[43m,\u001b[49m\n\u001b[32m    794\u001b[39m \u001b[43m    \u001b[49m\u001b[43mchunked\u001b[49m\u001b[43m=\u001b[49m\u001b[43mchunked\u001b[49m\u001b[43m,\u001b[49m\n\u001b[32m    795\u001b[39m \u001b[43m    \u001b[49m\u001b[43mretries\u001b[49m\u001b[43m=\u001b[49m\u001b[43mretries\u001b[49m\u001b[43m,\u001b[49m\n\u001b[32m    796\u001b[39m \u001b[43m    \u001b[49m\u001b[43mresponse_conn\u001b[49m\u001b[43m=\u001b[49m\u001b[43mresponse_conn\u001b[49m\u001b[43m,\u001b[49m\n\u001b[32m    797\u001b[39m \u001b[43m    \u001b[49m\u001b[43mpreload_content\u001b[49m\u001b[43m=\u001b[49m\u001b[43mpreload_content\u001b[49m\u001b[43m,\u001b[49m\n\u001b[32m    798\u001b[39m \u001b[43m    \u001b[49m\u001b[43mdecode_content\u001b[49m\u001b[43m=\u001b[49m\u001b[43mdecode_content\u001b[49m\u001b[43m,\u001b[49m\n\u001b[32m    799\u001b[39m \u001b[43m    \u001b[49m\u001b[43m*\u001b[49m\u001b[43m*\u001b[49m\u001b[43mresponse_kw\u001b[49m\u001b[43m,\u001b[49m\n\u001b[32m    800\u001b[39m \u001b[43m\u001b[49m\u001b[43m)\u001b[49m\n\u001b[32m    802\u001b[39m \u001b[38;5;66;03m# Everything went great!\u001b[39;00m\n\u001b[32m    803\u001b[39m clean_exit = \u001b[38;5;28;01mTrue\u001b[39;00m\n",
      "\u001b[36mFile \u001b[39m\u001b[32mc:\\Users\\Playdata\\AppData\\Local\\miniconda3\\envs\\lang_env\\Lib\\site-packages\\urllib3\\connectionpool.py:534\u001b[39m, in \u001b[36mHTTPConnectionPool._make_request\u001b[39m\u001b[34m(self, conn, method, url, body, headers, retries, timeout, chunked, response_conn, preload_content, decode_content, enforce_content_length)\u001b[39m\n\u001b[32m    532\u001b[39m \u001b[38;5;66;03m# Receive the response from the server\u001b[39;00m\n\u001b[32m    533\u001b[39m \u001b[38;5;28;01mtry\u001b[39;00m:\n\u001b[32m--> \u001b[39m\u001b[32m534\u001b[39m     response = \u001b[43mconn\u001b[49m\u001b[43m.\u001b[49m\u001b[43mgetresponse\u001b[49m\u001b[43m(\u001b[49m\u001b[43m)\u001b[49m\n\u001b[32m    535\u001b[39m \u001b[38;5;28;01mexcept\u001b[39;00m (BaseSSLError, \u001b[38;5;167;01mOSError\u001b[39;00m) \u001b[38;5;28;01mas\u001b[39;00m e:\n\u001b[32m    536\u001b[39m     \u001b[38;5;28mself\u001b[39m._raise_timeout(err=e, url=url, timeout_value=read_timeout)\n",
      "\u001b[36mFile \u001b[39m\u001b[32mc:\\Users\\Playdata\\AppData\\Local\\miniconda3\\envs\\lang_env\\Lib\\site-packages\\urllib3\\connection.py:516\u001b[39m, in \u001b[36mHTTPConnection.getresponse\u001b[39m\u001b[34m(self)\u001b[39m\n\u001b[32m    513\u001b[39m _shutdown = \u001b[38;5;28mgetattr\u001b[39m(\u001b[38;5;28mself\u001b[39m.sock, \u001b[33m\"\u001b[39m\u001b[33mshutdown\u001b[39m\u001b[33m\"\u001b[39m, \u001b[38;5;28;01mNone\u001b[39;00m)\n\u001b[32m    515\u001b[39m \u001b[38;5;66;03m# Get the response from http.client.HTTPConnection\u001b[39;00m\n\u001b[32m--> \u001b[39m\u001b[32m516\u001b[39m httplib_response = \u001b[38;5;28;43msuper\u001b[39;49m\u001b[43m(\u001b[49m\u001b[43m)\u001b[49m\u001b[43m.\u001b[49m\u001b[43mgetresponse\u001b[49m\u001b[43m(\u001b[49m\u001b[43m)\u001b[49m\n\u001b[32m    518\u001b[39m \u001b[38;5;28;01mtry\u001b[39;00m:\n\u001b[32m    519\u001b[39m     assert_header_parsing(httplib_response.msg)\n",
      "\u001b[36mFile \u001b[39m\u001b[32mc:\\Users\\Playdata\\AppData\\Local\\miniconda3\\envs\\lang_env\\Lib\\http\\client.py:1430\u001b[39m, in \u001b[36mHTTPConnection.getresponse\u001b[39m\u001b[34m(self)\u001b[39m\n\u001b[32m   1428\u001b[39m \u001b[38;5;28;01mtry\u001b[39;00m:\n\u001b[32m   1429\u001b[39m     \u001b[38;5;28;01mtry\u001b[39;00m:\n\u001b[32m-> \u001b[39m\u001b[32m1430\u001b[39m         \u001b[43mresponse\u001b[49m\u001b[43m.\u001b[49m\u001b[43mbegin\u001b[49m\u001b[43m(\u001b[49m\u001b[43m)\u001b[49m\n\u001b[32m   1431\u001b[39m     \u001b[38;5;28;01mexcept\u001b[39;00m \u001b[38;5;167;01mConnectionError\u001b[39;00m:\n\u001b[32m   1432\u001b[39m         \u001b[38;5;28mself\u001b[39m.close()\n",
      "\u001b[36mFile \u001b[39m\u001b[32mc:\\Users\\Playdata\\AppData\\Local\\miniconda3\\envs\\lang_env\\Lib\\http\\client.py:331\u001b[39m, in \u001b[36mHTTPResponse.begin\u001b[39m\u001b[34m(self)\u001b[39m\n\u001b[32m    329\u001b[39m \u001b[38;5;66;03m# read until we get a non-100 response\u001b[39;00m\n\u001b[32m    330\u001b[39m \u001b[38;5;28;01mwhile\u001b[39;00m \u001b[38;5;28;01mTrue\u001b[39;00m:\n\u001b[32m--> \u001b[39m\u001b[32m331\u001b[39m     version, status, reason = \u001b[38;5;28;43mself\u001b[39;49m\u001b[43m.\u001b[49m\u001b[43m_read_status\u001b[49m\u001b[43m(\u001b[49m\u001b[43m)\u001b[49m\n\u001b[32m    332\u001b[39m     \u001b[38;5;28;01mif\u001b[39;00m status != CONTINUE:\n\u001b[32m    333\u001b[39m         \u001b[38;5;28;01mbreak\u001b[39;00m\n",
      "\u001b[36mFile \u001b[39m\u001b[32mc:\\Users\\Playdata\\AppData\\Local\\miniconda3\\envs\\lang_env\\Lib\\http\\client.py:292\u001b[39m, in \u001b[36mHTTPResponse._read_status\u001b[39m\u001b[34m(self)\u001b[39m\n\u001b[32m    291\u001b[39m \u001b[38;5;28;01mdef\u001b[39;00m\u001b[38;5;250m \u001b[39m\u001b[34m_read_status\u001b[39m(\u001b[38;5;28mself\u001b[39m):\n\u001b[32m--> \u001b[39m\u001b[32m292\u001b[39m     line = \u001b[38;5;28mstr\u001b[39m(\u001b[38;5;28;43mself\u001b[39;49m\u001b[43m.\u001b[49m\u001b[43mfp\u001b[49m\u001b[43m.\u001b[49m\u001b[43mreadline\u001b[49m\u001b[43m(\u001b[49m\u001b[43m_MAXLINE\u001b[49m\u001b[43m \u001b[49m\u001b[43m+\u001b[49m\u001b[43m \u001b[49m\u001b[32;43m1\u001b[39;49m\u001b[43m)\u001b[49m, \u001b[33m\"\u001b[39m\u001b[33miso-8859-1\u001b[39m\u001b[33m\"\u001b[39m)\n\u001b[32m    293\u001b[39m     \u001b[38;5;28;01mif\u001b[39;00m \u001b[38;5;28mlen\u001b[39m(line) > _MAXLINE:\n\u001b[32m    294\u001b[39m         \u001b[38;5;28;01mraise\u001b[39;00m LineTooLong(\u001b[33m\"\u001b[39m\u001b[33mstatus line\u001b[39m\u001b[33m\"\u001b[39m)\n",
      "\u001b[36mFile \u001b[39m\u001b[32mc:\\Users\\Playdata\\AppData\\Local\\miniconda3\\envs\\lang_env\\Lib\\socket.py:720\u001b[39m, in \u001b[36mSocketIO.readinto\u001b[39m\u001b[34m(self, b)\u001b[39m\n\u001b[32m    718\u001b[39m \u001b[38;5;28;01mwhile\u001b[39;00m \u001b[38;5;28;01mTrue\u001b[39;00m:\n\u001b[32m    719\u001b[39m     \u001b[38;5;28;01mtry\u001b[39;00m:\n\u001b[32m--> \u001b[39m\u001b[32m720\u001b[39m         \u001b[38;5;28;01mreturn\u001b[39;00m \u001b[38;5;28;43mself\u001b[39;49m\u001b[43m.\u001b[49m\u001b[43m_sock\u001b[49m\u001b[43m.\u001b[49m\u001b[43mrecv_into\u001b[49m\u001b[43m(\u001b[49m\u001b[43mb\u001b[49m\u001b[43m)\u001b[49m\n\u001b[32m    721\u001b[39m     \u001b[38;5;28;01mexcept\u001b[39;00m timeout:\n\u001b[32m    722\u001b[39m         \u001b[38;5;28mself\u001b[39m._timeout_occurred = \u001b[38;5;28;01mTrue\u001b[39;00m\n",
      "\u001b[36mFile \u001b[39m\u001b[32mc:\\Users\\Playdata\\AppData\\Local\\miniconda3\\envs\\lang_env\\Lib\\ssl.py:1251\u001b[39m, in \u001b[36mSSLSocket.recv_into\u001b[39m\u001b[34m(self, buffer, nbytes, flags)\u001b[39m\n\u001b[32m   1247\u001b[39m     \u001b[38;5;28;01mif\u001b[39;00m flags != \u001b[32m0\u001b[39m:\n\u001b[32m   1248\u001b[39m         \u001b[38;5;28;01mraise\u001b[39;00m \u001b[38;5;167;01mValueError\u001b[39;00m(\n\u001b[32m   1249\u001b[39m           \u001b[33m\"\u001b[39m\u001b[33mnon-zero flags not allowed in calls to recv_into() on \u001b[39m\u001b[38;5;132;01m%s\u001b[39;00m\u001b[33m\"\u001b[39m %\n\u001b[32m   1250\u001b[39m           \u001b[38;5;28mself\u001b[39m.\u001b[34m__class__\u001b[39m)\n\u001b[32m-> \u001b[39m\u001b[32m1251\u001b[39m     \u001b[38;5;28;01mreturn\u001b[39;00m \u001b[38;5;28;43mself\u001b[39;49m\u001b[43m.\u001b[49m\u001b[43mread\u001b[49m\u001b[43m(\u001b[49m\u001b[43mnbytes\u001b[49m\u001b[43m,\u001b[49m\u001b[43m \u001b[49m\u001b[43mbuffer\u001b[49m\u001b[43m)\u001b[49m\n\u001b[32m   1252\u001b[39m \u001b[38;5;28;01melse\u001b[39;00m:\n\u001b[32m   1253\u001b[39m     \u001b[38;5;28;01mreturn\u001b[39;00m \u001b[38;5;28msuper\u001b[39m().recv_into(buffer, nbytes, flags)\n",
      "\u001b[36mFile \u001b[39m\u001b[32mc:\\Users\\Playdata\\AppData\\Local\\miniconda3\\envs\\lang_env\\Lib\\ssl.py:1103\u001b[39m, in \u001b[36mSSLSocket.read\u001b[39m\u001b[34m(self, len, buffer)\u001b[39m\n\u001b[32m   1101\u001b[39m \u001b[38;5;28;01mtry\u001b[39;00m:\n\u001b[32m   1102\u001b[39m     \u001b[38;5;28;01mif\u001b[39;00m buffer \u001b[38;5;129;01mis\u001b[39;00m \u001b[38;5;129;01mnot\u001b[39;00m \u001b[38;5;28;01mNone\u001b[39;00m:\n\u001b[32m-> \u001b[39m\u001b[32m1103\u001b[39m         \u001b[38;5;28;01mreturn\u001b[39;00m \u001b[38;5;28;43mself\u001b[39;49m\u001b[43m.\u001b[49m\u001b[43m_sslobj\u001b[49m\u001b[43m.\u001b[49m\u001b[43mread\u001b[49m\u001b[43m(\u001b[49m\u001b[38;5;28;43mlen\u001b[39;49m\u001b[43m,\u001b[49m\u001b[43m \u001b[49m\u001b[43mbuffer\u001b[49m\u001b[43m)\u001b[49m\n\u001b[32m   1104\u001b[39m     \u001b[38;5;28;01melse\u001b[39;00m:\n\u001b[32m   1105\u001b[39m         \u001b[38;5;28;01mreturn\u001b[39;00m \u001b[38;5;28mself\u001b[39m._sslobj.read(\u001b[38;5;28mlen\u001b[39m)\n",
      "\u001b[31mKeyboardInterrupt\u001b[39m: "
     ]
    }
   ],
   "source": [
    "import os\n",
    "import time\n",
    "import requests\n",
    "from bs4 import BeautifulSoup\n",
    "from dotenv import load_dotenv\n",
    "from langchain.text_splitter import RecursiveCharacterTextSplitter\n",
    "from langchain_openai import OpenAIEmbeddings\n",
    "from langchain_chroma import Chroma\n",
    "import tqdm\n",
    "import gc\n",
    "from textwrap import dedent\n",
    "\n",
    "# ======================================\n",
    "# ✅ 환경 설정\n",
    "# ======================================\n",
    "\n",
    "load_dotenv(dotenv_path=\"C:/Aicamp/SKN13_my/13_Langchain/.env\")\n",
    "\n",
    "PERSIST_DIR = \"vector_store/vitamin_chroma\"\n",
    "os.makedirs(PERSIST_DIR, exist_ok=True)\n",
    "\n",
    "EMBEDDING_MODEL = OpenAIEmbeddings(model=\"text-embedding-3-large\")\n",
    "\n",
    "# ======================================\n",
    "# ✅ 유틸리티 함수\n",
    "# ======================================\n",
    "\n",
    "def safe_request_get(url, params=None, headers=None, retries=3, backoff=1, timeout=5):\n",
    "    \"\"\"\n",
    "    안전한 GET 요청 함수 (retry 및 backoff 포함).\n",
    "    \"\"\"\n",
    "    for attempt in range(retries):\n",
    "        try:\n",
    "            res = requests.get(url, params=params, headers=headers, timeout=timeout)\n",
    "            res.raise_for_status()\n",
    "            return res\n",
    "        except requests.exceptions.RequestException as e:\n",
    "            print(f\"⏳ 요청 실패 ({attempt + 1}/{retries}): {e}\")\n",
    "            time.sleep(backoff * (attempt + 1))\n",
    "    raise Exception(f\"❌ 요청 실패: {url}\")\n",
    "\n",
    "def get_existing_pmcids(collection_name, persist_dir):\n",
    "    \"\"\"\n",
    "    이미 저장된 PMCID 목록을 가져옵니다.\n",
    "    \"\"\"\n",
    "    vector_store = Chroma(\n",
    "        collection_name=collection_name,\n",
    "        embedding_function=EMBEDDING_MODEL,\n",
    "        persist_directory=persist_dir\n",
    "    )\n",
    "    metadatas = vector_store.get().get(\"metadatas\", [])\n",
    "    return {m.get(\"pmcid\") for m in metadatas if m and m.get(\"pmcid\")}\n",
    "\n",
    "def extract_abstract_html(pmcid):\n",
    "    \"\"\"\n",
    "    PMCID 페이지에서 abstract HTML을 추출합니다.\n",
    "    \"\"\"\n",
    "    url = f\"https://www.ncbi.nlm.nih.gov/pmc/articles/{pmcid}/\"\n",
    "    headers = {\"User-Agent\": \"Mozilla/5.0\"}\n",
    "    res = safe_request_get(url, headers=headers)\n",
    "    soup = BeautifulSoup(res.text, \"html.parser\")\n",
    "\n",
    "    abstract_section = soup.find(\"section\", class_=\"abstract\")\n",
    "    if not abstract_section:\n",
    "        print(f\"⚠️ abstract section 없음 (PMCID: {pmcid}) → 건너뜀\")\n",
    "        return None\n",
    "\n",
    "    paragraphs = abstract_section.find_all(\"p\")\n",
    "    abstract_text = \"\\n\".join(p.get_text(strip=True) for p in paragraphs if p.get_text(strip=True))\n",
    "    if not abstract_text:\n",
    "        print(f\"⚠️ abstract 내용 없음 (PMCID: {pmcid}) → 건너뜀\")\n",
    "        return None\n",
    "\n",
    "    return abstract_text\n",
    "\n",
    "def chunk_text_to_documents(text, r, url):\n",
    "    \"\"\"\n",
    "    abstract를 chunk 단위 Document로 분할합니다.\n",
    "    \"\"\"\n",
    "    splitter = RecursiveCharacterTextSplitter(chunk_size=1000, chunk_overlap=200)\n",
    "    docs = splitter.create_documents([text])\n",
    "    metadata = {\n",
    "        \"pmcid\": r.get(\"pmcid\", \"\"),\n",
    "        \"title\": r.get(\"title\", \"\"),\n",
    "        \"doi\": r.get(\"doi\", \"\"),\n",
    "        \"pubYear\": r.get(\"pubYear\", \"\"),\n",
    "        \"journal\": r.get(\"journalTitle\", \"\"),\n",
    "        \"authors\": r.get(\"authorString\", \"\"),\n",
    "        \"source\": url\n",
    "    }\n",
    "    for doc in docs:\n",
    "        doc.metadata = metadata\n",
    "    return docs\n",
    "\n",
    "def store_documents_batch(docs, collection_name, persist_dir, batch_size=5):\n",
    "    \"\"\"\n",
    "    Vector Store에 문서를 batch 단위로 저장합니다.\n",
    "    \"\"\"\n",
    "    vector_store = Chroma(\n",
    "        collection_name=collection_name,\n",
    "        embedding_function=EMBEDDING_MODEL,\n",
    "        persist_directory=persist_dir\n",
    "    )\n",
    "    for i in range(0, len(docs), batch_size):\n",
    "        chunk = docs[i:i+batch_size]\n",
    "        vector_store.add_documents(chunk)\n",
    "\n",
    "# ======================================\n",
    "# ✅ 크롤링 + 저장\n",
    "# ======================================\n",
    "\n",
    "def process_topic(query, collection_name, persist_dir, batch_size):\n",
    "    cursor = \"*\"\n",
    "    page_size = 5\n",
    "\n",
    "    existing_pmcs = get_existing_pmcids(collection_name, persist_dir)\n",
    "\n",
    "    init_res = safe_request_get(\n",
    "        \"https://www.ebi.ac.uk/europepmc/webservices/rest/search\",\n",
    "        params={\"query\": query, \"format\": \"json\", \"pageSize\": 1},\n",
    "        headers={\"User-Agent\": \"Mozilla/5.0\"}\n",
    "    )\n",
    "    init_data = init_res.json()\n",
    "    total_count = init_data.get(\"hitCount\", 0)\n",
    "    print(f\"🔎 {collection_name}: EuropePMC 검색 결과 개수: {total_count}개\")\n",
    "\n",
    "    if total_count == 0:\n",
    "        print(f\"⚠️ {collection_name}: 검색 결과 없음 → 패스\")\n",
    "        return\n",
    "\n",
    "    all_new_docs = []\n",
    "    new_pmcs = set()\n",
    "    progress_index = 1\n",
    "    pbar = tqdm.tqdm(desc=f\"{collection_name} 진행\", unit=\"논문\", total=total_count)\n",
    "\n",
    "    try:\n",
    "        while True:\n",
    "            res = safe_request_get(\n",
    "                \"https://www.ebi.ac.uk/europepmc/webservices/rest/search\",\n",
    "                params={\"query\": query, \"format\": \"json\", \"pageSize\": page_size, \"cursorMark\": cursor},\n",
    "                headers={\"User-Agent\": \"Mozilla/5.0\"}\n",
    "            )\n",
    "            data = res.json()\n",
    "            results = data.get(\"resultList\", {}).get(\"result\", [])\n",
    "            if not results:\n",
    "                break\n",
    "\n",
    "            for r in results:\n",
    "                pmcid = r.get(\"pmcid\", \"\")\n",
    "\n",
    "                if not pmcid:\n",
    "                    print(f\"[{progress_index}/{total_count}] ⚠️ PMCID 없음 → 건너뜀\")\n",
    "                    progress_index += 1\n",
    "                    pbar.update(1)\n",
    "                    continue\n",
    "\n",
    "                if pmcid in existing_pmcs or pmcid in new_pmcs:\n",
    "                    print(f\"[{progress_index}/{total_count}] ⚠️ 이미 저장된 논문 건너뜀 (PMCID: {pmcid})\")\n",
    "                    progress_index += 1\n",
    "                    pbar.update(1)\n",
    "                    continue\n",
    "\n",
    "                abstract_text = extract_abstract_html(pmcid)\n",
    "                if not abstract_text:\n",
    "                    progress_index += 1\n",
    "                    pbar.update(1)\n",
    "                    continue\n",
    "\n",
    "                url = f\"https://www.ncbi.nlm.nih.gov/pmc/articles/{pmcid}/\"\n",
    "                docs = chunk_text_to_documents(abstract_text, r, url)\n",
    "                all_new_docs.extend(docs)\n",
    "                new_pmcs.add(pmcid)\n",
    "\n",
    "                print(f\"[{progress_index}/{total_count}] ✅ 저장 완료 (PMCID: {pmcid})\")\n",
    "\n",
    "                if len(all_new_docs) >= batch_size:\n",
    "                    store_documents_batch(all_new_docs, collection_name, persist_dir, batch_size)\n",
    "                    all_new_docs = []\n",
    "                    gc.collect()\n",
    "\n",
    "                progress_index += 1\n",
    "                pbar.update(1)\n",
    "\n",
    "            prev_cursor = cursor\n",
    "            cursor = data.get(\"nextCursorMark\")\n",
    "            if not cursor or cursor == prev_cursor:\n",
    "                break\n",
    "\n",
    "    except KeyboardInterrupt:\n",
    "        print(\"\\n🛑 중단 감지! 지금까지의 데이터를 저장합니다...\")\n",
    "        if all_new_docs:\n",
    "            store_documents_batch(all_new_docs, collection_name, persist_dir, batch_size)\n",
    "            print(f\"⚡ 중단 시점까지 {len(new_pmcs)}개 논문 저장 완료\")\n",
    "        else:\n",
    "            print(\"⚡ 저장할 새 문서 없음\")\n",
    "        pbar.close()\n",
    "        gc.collect()\n",
    "        raise\n",
    "\n",
    "    if all_new_docs:\n",
    "        store_documents_batch(all_new_docs, collection_name, persist_dir, batch_size)\n",
    "        print(f\"\\n총 {len(new_pmcs)}개 논문 {collection_name}에 저장 완료 (batch size: {batch_size})\")\n",
    "    else:\n",
    "        print(\"\\n저장할 새 논문이 없습니다.\")\n",
    "\n",
    "    pbar.close()\n",
    "    gc.collect()\n",
    "\n",
    "# ======================================\n",
    "# ✅ 실행 예제\n",
    "# ======================================\n",
    "\n",
    "if __name__ == \"__main__\":\n",
    "    query = '\"vitamin\" AND PUB_YEAR:2025'\n",
    "\n",
    "    process_topic(query, \"vitamin\", persist_dir=PERSIST_DIR, batch_size=5)\n",
    "\n",
    "    print(\"=== 🎉 모든 작업 완료 ===\")\n"
   ]
  }
 ],
 "metadata": {
  "kernelspec": {
   "display_name": "lang_env",
   "language": "python",
   "name": "python3"
  },
  "language_info": {
   "codemirror_mode": {
    "name": "ipython",
    "version": 3
   },
   "file_extension": ".py",
   "mimetype": "text/x-python",
   "name": "python",
   "nbconvert_exporter": "python",
   "pygments_lexer": "ipython3",
   "version": "3.12.11"
  }
 },
 "nbformat": 4,
 "nbformat_minor": 5
}
