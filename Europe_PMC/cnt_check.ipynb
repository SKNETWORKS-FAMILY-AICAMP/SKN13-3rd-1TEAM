{
 "cells": [
  {
   "cell_type": "code",
   "execution_count": 9,
   "id": "ce64ea7e",
   "metadata": {},
   "outputs": [
    {
     "name": "stdout",
     "output_type": "stream",
     "text": [
      "📦 저장된 고유 논문 수: 3364\n"
     ]
    },
    {
     "data": {
      "text/plain": [
       "3364"
      ]
     },
     "execution_count": 9,
     "metadata": {},
     "output_type": "execute_result"
    }
   ],
   "source": [
    "from langchain_openai import OpenAIEmbeddings\n",
    "from langchain_chroma import Chroma\n",
    "from dotenv import load_dotenv\n",
    "import os\n",
    "\n",
    "env_path = \"C:/Aicamp/SKN13_my/13_Langchain/.env\"\n",
    "load_dotenv(dotenv_path=env_path)\n",
    "def count_stored_papers(collection_name=\"paper_db\", persist_dir=\"vector_store/chroma\"):\n",
    "    \"\"\"\n",
    "    Chroma 벡터 DB에 저장된 고유 논문(PMCID)의 수를 계산합니다.\n",
    "    \"\"\"\n",
    "    embedding_model = OpenAIEmbeddings(model=\"text-embedding-3-large\")\n",
    "    vector_store = Chroma(\n",
    "        collection_name=collection_name,\n",
    "        embedding_function=embedding_model,\n",
    "        persist_directory=persist_dir\n",
    "    )\n",
    "\n",
    "    # 저장된 문서의 메타데이터 목록\n",
    "    metadatas = vector_store.get().get(\"metadatas\", [])\n",
    "    \n",
    "    # 중복 제거된 pmcid의 개수\n",
    "    unique_pmcs = {metadata[\"pmcid\"] for metadata in metadatas if metadata and \"pmcid\" in metadata}\n",
    "    \n",
    "    print(f\"📦 저장된 고유 논문 수: {len(unique_pmcs)}\")\n",
    "\n",
    "    return len(unique_pmcs)\n",
    "\n",
    "count_stored_papers()"
   ]
  }
 ],
 "metadata": {
  "kernelspec": {
   "display_name": "lang_env",
   "language": "python",
   "name": "python3"
  },
  "language_info": {
   "codemirror_mode": {
    "name": "ipython",
    "version": 3
   },
   "file_extension": ".py",
   "mimetype": "text/x-python",
   "name": "python",
   "nbconvert_exporter": "python",
   "pygments_lexer": "ipython3",
   "version": "3.12.11"
  }
 },
 "nbformat": 4,
 "nbformat_minor": 5
}
