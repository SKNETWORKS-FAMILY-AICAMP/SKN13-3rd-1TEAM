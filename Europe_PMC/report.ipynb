{
 "cells": [
  {
   "cell_type": "markdown",
   "id": "96c53d9e",
   "metadata": {},
   "source": [
    "| 목적      | 검색 쿼리 (EuropePMC용)                                                     | 설명                          |\n",
    "| ------- | ---------------------------------------------------------------------- | --------------------------- |\n",
    "| 항생제 오남용 | `(\"antibiotic resistance\" OR \"antibiotic overuse\") AND PUB_YEAR:2025`  | 감기, 독감에 항생제 오용 이슈           |\n",
    "| 비타민 효능  | `(\"vitamin D\" OR \"vitamin C\") AND PUB_YEAR:2025`                       | 면역력 관련한 사회적 통념과 최신 결과 비교    |\n",
    "| 백신 효과   | `(\"vaccine efficacy\" OR \"mRNA vaccine\") AND PUB_YEAR:2025`             | COVID 이후 백신 신뢰도 관련 정보       |\n",
    "| 자가면역질환  | `(\"autoimmune disease\" OR \"inflammation\") AND PUB_YEAR:2025`           | 루푸스, 크론병 등 만성염증 관련 최신 치료법   |\n",
    "| 암 치료 변화 | `(\"cancer therapy\" OR \"immunotherapy\") AND PUB_YEAR:2025`              | 사회적으로 널리 알려진 암 치료법 vs 최신 동향 |\n",
    "| 커피와 건강  | `(\"coffee consumption\" AND \"health\") AND PUB_YEAR:2025`                | 커피의 심혈관계·인지기능에 미치는 최신 영향 분석 |\n",
    "| 식이요법    | `(\"intermittent fasting\" OR \"low carb diet\") AND PUB_YEAR:2025`        | 다이어트 및 대사 건강 관련 통념 vs 최신 연구 |\n",
    "| 정신건강    | `(\"depression treatment\" OR \"mental health stigma\") AND PUB_YEAR:2025` | 약물치료·인지행동치료에 대한 최신 트렌드      |\n",
    "| 건강보조식품  | `(\"probiotics\" OR \"supplements\") AND PUB_YEAR:2025`                    | 유산균·영양제에 대한 기대효과 검증         |\n",
    "| 대체의학    | `(\"acupuncture\" OR \"herbal medicine\") AND PUB_YEAR:2025`               | 침술, 한약 등의 과학적 근거 비교         |\n",
    "\n",
    "(\"antibiotic overuse\" OR \"vitamin C\" OR \"mRNA vaccine\" OR \"inflammation\" OR \"immunotherapy\" OR \"low carb diet\" OR \"mental health stigma\" OR \"supplements\" OR \"herbal medicine\") AND PUB_YEAR:2025\n",
    "\n",
    "\n",
    "(\"vitamin D\" OR \"vitamin C\" OR \"vaccine efficacy\" OR \"mRNA vaccine\" OR \"autoimmune disease\" OR \"inflammation\" OR \"cancer therapy\" OR \"immunotherapy\" OR \"coffee consumption\" AND \"health\" OR \"intermittent fasting\" OR \"low carb diet\" OR \"depression treatment\" OR \"mental health stigma\" OR \"probiotics\" OR \"supplements\" OR \"acupuncture\" OR \"herbal medicine\")"
   ]
  },
  {
   "cell_type": "markdown",
   "id": "ad926b73",
   "metadata": {},
   "source": [
    "## 1. 본문 텍스트 정제\n",
    "현재는 p, h2, h3, li 태그의 get_text(strip=True)를 단순히 이어붙이고 있는데, 다음 보완을 추천합니다:\n",
    "\n",
    "👉 보완 항목\n",
    "- 불필요한 공백, 개행 정리 (\\n\\n\\n → \\n\\n)\n",
    "- 숫자 목록 (1., 2.), 문단번호 ([1], (1)) 제거\n",
    "- 테이블 내용, 수식, 그림 캡션(figure, table) 등 제거 또는 별도 저장\n",
    "- References, Acknowledgement, Funding, Conflict of Interest 등의 말미 섹션 제거 (내용 검색에 방해)\n",
    "\n",
    "```python\n",
    "# 예: 불필요한 섹션 제거\n",
    "if 'references' in section.text.lower(): break\n",
    "```"
   ]
  },
  {
   "cell_type": "markdown",
   "id": "4dab0707",
   "metadata": {},
   "source": [
    "## 2. 메타데이터 정제 및 보강\n",
    "👉 개선 사항\n",
    "- 현재 저장 중인 메타데이터: source, pmcid, title\n",
    "- 추가 추천:\n",
    "    - pubYear: 발행연도\n",
    "    - journalTitle: 학술지명\n",
    "    - authorString: 저자 정보\n",
    "    - doi: DOI (→ 나중에 PDF 크롤링이나 citation 연결에도 유리)\n",
    "    - abstractText: 요약 정보 (본문 없이 fallback 용도로 활용 가능)\n",
    "\n",
    "```python\n",
    "# PMC search 결과에 포함된 필드 활용\n",
    "pmcid = r.get(\"pmcid\", \"\")\n",
    "doi = r.get(\"doi\", \"\")\n",
    "pubYear = r.get(\"pubYear\", \"\")\n",
    "journal = r.get(\"journalTitle\", \"\")\n",
    "abstract = r.get(\"abstractText\", \"\")\n",
    "authors = r.get(\"authorString\", \"\")\n",
    "\n",
    "```"
   ]
  },
  {
   "cell_type": "markdown",
   "id": "e076866e",
   "metadata": {},
   "source": [
    "## 3. 중복 처리 로직 보완\n",
    "현재 source URL로 중복 여부를 판단하고 있는데, 이는 구조가 변경되면 유효하지 않을 수 있습니다. 아래 보완을 권장합니다:\n",
    "- 중복 체크 기준을 pmcid 또는 doi 기반으로 고정\n",
    "- 추후 PDF 다운로드 및 RAG 연결 시에도 pmcid나 doi가 더 확실한 키가 됩니다\n",
    "\n",
    "```python\n",
    "existing_pmcs = {metadata.get('pmcid') for metadata in existing_docs.get('metadatas', []) if metadata}\n",
    "```"
   ]
  },
  {
   "cell_type": "markdown",
   "id": "38d95359",
   "metadata": {},
   "source": [
    "## 4. 오류 회피형 예외 처리 강화\n",
    "일부 논문에서 <div>가 존재하더라도 내용이 누락될 수 있습니다.\n",
    "```python\n",
    "if not full_text or len(full_text.strip()) < 200:\n",
    "    raise Exception(\"❌ 내용 부족으로 저장 스킵\")\n",
    "```"
   ]
  },
  {
   "cell_type": "markdown",
   "id": "e8fb5175",
   "metadata": {},
   "source": [
    "## 5. RAG 활용성 향상을 위한 태깅\n",
    "향후 RAG 모델에서 조건 검색(예: “2025년 발표된 암 관련 논문 중 ‘자가면역’ 키워드 포함”)을 하기 위해서는:\n",
    "- 메타데이터 외에도 chunk 단위에 keyword 태그 추가\n",
    "- 미리 특정 키워드를 탐지해 tag로 추가하는 것도 고려 가능\n",
    "\n",
    "예시: 개선된 Document 메타데이터 구성\n",
    "\n",
    "```python\n",
    "doc.metadata = {\n",
    "    \"source\": source_url,\n",
    "    \"pmcid\": pmcid,\n",
    "    \"title\": title,\n",
    "    \"doi\": doi,\n",
    "    \"pubYear\": pub_year,\n",
    "    \"journal\": journal,\n",
    "    \"authors\": authors,\n",
    "    \"abstract\": abstract,\n",
    "    \"tags\": [\"autoimmune\", \"cancer\", \"AI diagnosis\"]  # (선택)\n",
    "}\n",
    "\n",
    "```"
   ]
  },
  {
   "cell_type": "markdown",
   "id": "6b1e9e23",
   "metadata": {},
   "source": [
    "🔍 추가 제안: 향후 PDF 수집 고려 시\n",
    "PMC HTML이 아닌 PDF 전문을 병행 저장할 경우:\n",
    "- DOI 기반 EuropePMC PDF 다운로드 경로 구성\n",
    "- OCR 또는 PDF-Text 추출 파이프라인 추가"
   ]
  },
  {
   "cell_type": "markdown",
   "id": "1ce1721f",
   "metadata": {},
   "source": [
    "✅리팩터링 요약\n",
    "- 텍스트 정제: 불필요한 섹션 제거(references, funding 등), 본문 최소 길이 조건 추가\n",
    "- 메타데이터 확장: DOI, 저널명, 발행년도, 저자, 초록 등 추가 → RAG 기반 LLM에서 질의 가능성 ↑\n",
    "- 중복 처리 강화: pmcid 기반으로 중복 제거\n",
    "- 코드 정리: 함수 구조화 및 각 처리 단계 시간 최소화"
   ]
  },
  {
   "cell_type": "markdown",
   "id": "02e10c72",
   "metadata": {},
   "source": [
    "## 1. 본문 HTML 구조가 다름 (추출 실패)\n",
    "\n",
    "extract_pmc_fulltext() 함수에서는 다음 영역에서 본문을 찾습니다:\n",
    "\n",
    "```python\n",
    "soup.select(\"div.tsec, div.sec, div.body, div.main, div#article-text, article\")\n",
    "```\n",
    "\n",
    "하지만 일부 논문은 위의 영역들이 존재하지 않거나, <p>, <h2> 같은 태그가 존재하더라도 본문이 비어 있거나 매우 짧은 경우가 있습니다.\n",
    "\n",
    "```python\n",
    "if len(full_text.strip()) < 100:\n",
    "    raise Exception(f\"❌ 목록이 널리는 내용: {url}\")\n",
    "```\n",
    "\n",
    "즉, 이 메시지는:\n",
    "> 본문 추출은 되었지만, 내용이 너무 짧아서 의미 없는 논문일 가능성이 높다는 의미입니다."
   ]
  }
 ],
 "metadata": {
  "kernelspec": {
   "display_name": "lang_env",
   "language": "python",
   "name": "python3"
  },
  "language_info": {
   "codemirror_mode": {
    "name": "ipython",
    "version": 3
   },
   "file_extension": ".py",
   "mimetype": "text/x-python",
   "name": "python",
   "nbconvert_exporter": "python",
   "pygments_lexer": "ipython3",
   "version": "3.12.11"
  }
 },
 "nbformat": 4,
 "nbformat_minor": 5
}
