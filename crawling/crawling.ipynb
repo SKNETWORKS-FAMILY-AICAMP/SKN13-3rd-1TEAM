{
 "cells": [
  {
   "cell_type": "code",
   "execution_count": 2,
   "id": "2103cb2c",
   "metadata": {},
   "outputs": [
    {
     "name": "stdout",
     "output_type": "stream",
     "text": [
      "others: EuropePMC 검색 결과 개수: 165651개\n"
     ]
    },
    {
     "name": "stderr",
     "output_type": "stream",
     "text": [
      "others 진행:   0%|          | 1/165651 [00:01<62:32:08,  1.36s/논문]"
     ]
    },
    {
     "name": "stdout",
     "output_type": "stream",
     "text": [
      "[1/165651] PMCID 없음 → 건너뜀\n",
      "[2/165651] 이미 저장된 논문 건너뜀 (PMCID: PMC12114196)\n",
      "[3/165651] 이미 저장된 논문 건너뜀 (PMCID: PMC12166662)\n",
      "[4/165651] 이미 저장된 논문 건너뜀 (PMCID: PMC11932986)\n",
      "[5/165651] 이미 저장된 논문 건너뜀 (PMCID: PMC12067687)\n"
     ]
    },
    {
     "name": "stderr",
     "output_type": "stream",
     "text": [
      "others 진행:   0%|          | 6/165651 [00:02<19:03:18,  2.41논문/s]"
     ]
    },
    {
     "name": "stdout",
     "output_type": "stream",
     "text": [
      "[6/165651] 이미 저장된 논문 건너뜀 (PMCID: PMC11964153)\n",
      "[7/165651] 이미 저장된 논문 건너뜀 (PMCID: PMC12104082)\n",
      "[8/165651] 이미 저장된 논문 건너뜀 (PMCID: PMC12087203)\n",
      "[9/165651] PMCID 없음 → 건너뜀\n",
      "[10/165651] PMCID 없음 → 건너뜀\n"
     ]
    },
    {
     "name": "stderr",
     "output_type": "stream",
     "text": [
      "others 진행:   0%|          | 11/165651 [00:04<15:50:05,  2.91논문/s]"
     ]
    },
    {
     "name": "stdout",
     "output_type": "stream",
     "text": [
      "[11/165651] 이미 저장된 논문 건너뜀 (PMCID: PMC11941853)\n",
      "[12/165651] 이미 저장된 논문 건너뜀 (PMCID: PMC12183021)\n",
      "[13/165651] 이미 저장된 논문 건너뜀 (PMCID: PMC12029499)\n",
      "[14/165651] 이미 저장된 논문 건너뜀 (PMCID: PMC12158052)\n",
      "[15/165651] 이미 저장된 논문 건너뜀 (PMCID: PMC12154743)\n"
     ]
    },
    {
     "name": "stderr",
     "output_type": "stream",
     "text": [
      "others 진행:   0%|          | 16/165651 [00:05<14:36:14,  3.15논문/s]"
     ]
    },
    {
     "name": "stdout",
     "output_type": "stream",
     "text": [
      "[16/165651] 이미 저장된 논문 건너뜀 (PMCID: PMC11836780)\n",
      "[17/165651] 이미 저장된 논문 건너뜀 (PMCID: PMC12123802)\n",
      "[18/165651] PMCID 없음 → 건너뜀\n",
      "[19/165651] 이미 저장된 논문 건너뜀 (PMCID: PMC12112522)\n",
      "[20/165651] 이미 저장된 논문 건너뜀 (PMCID: PMC12158071)\n"
     ]
    },
    {
     "name": "stderr",
     "output_type": "stream",
     "text": [
      "others 진행:   0%|          | 21/165651 [00:06<13:48:30,  3.33논문/s]"
     ]
    },
    {
     "name": "stdout",
     "output_type": "stream",
     "text": [
      "[21/165651] 이미 저장된 논문 건너뜀 (PMCID: PMC12191119)\n",
      "[22/165651] 이미 저장된 논문 건너뜀 (PMCID: PMC11814555)\n",
      "[23/165651] PMCID 없음 → 건너뜀\n",
      "[24/165651] PMCID 없음 → 건너뜀\n",
      "[25/165651] 이미 저장된 논문 건너뜀 (PMCID: PMC12112806)\n"
     ]
    },
    {
     "name": "stderr",
     "output_type": "stream",
     "text": [
      "others 진행:   0%|          | 26/165651 [00:08<13:26:19,  3.42논문/s]"
     ]
    },
    {
     "name": "stdout",
     "output_type": "stream",
     "text": [
      "[26/165651] PMCID 없음 → 건너뜀\n",
      "[27/165651] 이미 저장된 논문 건너뜀 (PMCID: PMC12030256)\n"
     ]
    },
    {
     "name": "stderr",
     "output_type": "stream",
     "text": [
      "others 진행:   0%|          | 28/165651 [00:09<16:15:12,  2.83논문/s]"
     ]
    },
    {
     "name": "stdout",
     "output_type": "stream",
     "text": [
      "abstract section 없음 (PMCID: PMC12159606) → 건너뜀\n",
      "[29/165651] PMCID 없음 → 건너뜀\n",
      "[30/165651] PMCID 없음 → 건너뜀\n"
     ]
    },
    {
     "name": "stderr",
     "output_type": "stream",
     "text": [
      "others 진행:   0%|          | 31/165651 [00:11<17:54:13,  2.57논문/s]"
     ]
    },
    {
     "name": "stdout",
     "output_type": "stream",
     "text": [
      "[31/165651] PMCID 없음 → 건너뜀\n",
      "[32/165651] 이미 저장된 논문 건너뜀 (PMCID: PMC12196374)\n",
      "[33/165651] 이미 저장된 논문 건너뜀 (PMCID: PMC12154430)\n",
      "[34/165651] 이미 저장된 논문 건너뜀 (PMCID: PMC11940540)\n",
      "[35/165651] 이미 저장된 논문 건너뜀 (PMCID: PMC11976904)\n"
     ]
    },
    {
     "name": "stderr",
     "output_type": "stream",
     "text": [
      "others 진행:   0%|          | 36/165651 [00:12<16:00:21,  2.87논문/s]"
     ]
    },
    {
     "name": "stdout",
     "output_type": "stream",
     "text": [
      "[36/165651] 이미 저장된 논문 건너뜀 (PMCID: PMC11686426)\n",
      "[37/165651] 이미 저장된 논문 건너뜀 (PMCID: PMC11932956)\n",
      "[38/165651] PMCID 없음 → 건너뜀\n",
      "[39/165651] 이미 저장된 논문 건너뜀 (PMCID: PMC12167621)\n",
      "[40/165651] 이미 저장된 논문 건너뜀 (PMCID: PMC11903094)\n"
     ]
    },
    {
     "name": "stderr",
     "output_type": "stream",
     "text": [
      "others 진행:   0%|          | 41/165651 [00:14<15:25:29,  2.98논문/s]"
     ]
    },
    {
     "name": "stdout",
     "output_type": "stream",
     "text": [
      "[41/165651] 이미 저장된 논문 건너뜀 (PMCID: PMC12110774)\n",
      "[42/165651] PMCID 없음 → 건너뜀\n",
      "[43/165651] 이미 저장된 논문 건너뜀 (PMCID: PMC11857834)\n",
      "[44/165651] PMCID 없음 → 건너뜀\n",
      "[45/165651] 이미 저장된 논문 건너뜀 (PMCID: PMC12086370)\n"
     ]
    },
    {
     "name": "stderr",
     "output_type": "stream",
     "text": [
      "others 진행:   0%|          | 46/165651 [00:15<14:37:34,  3.15논문/s]"
     ]
    },
    {
     "name": "stdout",
     "output_type": "stream",
     "text": [
      "[46/165651] PMCID 없음 → 건너뜀\n",
      "[47/165651] 이미 저장된 논문 건너뜀 (PMCID: PMC12202880)\n",
      "[48/165651] PMCID 없음 → 건너뜀\n",
      "[49/165651] PMCID 없음 → 건너뜀\n"
     ]
    },
    {
     "name": "stderr",
     "output_type": "stream",
     "text": [
      "others 진행:   0%|          | 50/165651 [00:16<13:51:01,  3.32논문/s]"
     ]
    },
    {
     "name": "stdout",
     "output_type": "stream",
     "text": [
      "abstract section 없음 (PMCID: PMC11998706) → 건너뜀\n"
     ]
    },
    {
     "name": "stderr",
     "output_type": "stream",
     "text": [
      "others 진행:   0%|          | 51/165651 [00:17<18:25:28,  2.50논문/s]"
     ]
    },
    {
     "name": "stdout",
     "output_type": "stream",
     "text": [
      "[51/165651] 이미 저장된 논문 건너뜀 (PMCID: PMC12111780)\n",
      "[52/165651] 이미 저장된 논문 건너뜀 (PMCID: PMC12196299)\n",
      "[53/165651] 이미 저장된 논문 건너뜀 (PMCID: PMC12025042)\n",
      "[54/165651] 이미 저장된 논문 건너뜀 (PMCID: PMC12040629)\n",
      "[55/165651] 이미 저장된 논문 건너뜀 (PMCID: PMC11941677)\n"
     ]
    },
    {
     "name": "stderr",
     "output_type": "stream",
     "text": [
      "others 진행:   0%|          | 56/165651 [00:19<16:07:42,  2.85논문/s]"
     ]
    },
    {
     "name": "stdout",
     "output_type": "stream",
     "text": [
      "[56/165651] 이미 저장된 논문 건너뜀 (PMCID: PMC11978796)\n",
      "[57/165651] 이미 저장된 논문 건너뜀 (PMCID: PMC12161517)\n",
      "[58/165651] 이미 저장된 논문 건너뜀 (PMCID: PMC12028346)\n",
      "[59/165651] PMCID 없음 → 건너뜀\n",
      "[60/165651] 이미 저장된 논문 건너뜀 (PMCID: PMC12166184)\n"
     ]
    },
    {
     "name": "stderr",
     "output_type": "stream",
     "text": [
      "others 진행:   0%|          | 61/165651 [00:20<15:05:01,  3.05논문/s]"
     ]
    },
    {
     "name": "stdout",
     "output_type": "stream",
     "text": [
      "[61/165651] 이미 저장된 논문 건너뜀 (PMCID: PMC12147742)\n",
      "[62/165651] PMCID 없음 → 건너뜀\n",
      "[63/165651] PMCID 없음 → 건너뜀\n",
      "[64/165651] 이미 저장된 논문 건너뜀 (PMCID: PMC12154749)\n",
      "[65/165651] 이미 저장된 논문 건너뜀 (PMCID: PMC11830623)\n"
     ]
    },
    {
     "name": "stderr",
     "output_type": "stream",
     "text": [
      "others 진행:   0%|          | 66/165651 [00:22<14:27:08,  3.18논문/s]"
     ]
    },
    {
     "name": "stdout",
     "output_type": "stream",
     "text": [
      "[66/165651] 이미 저장된 논문 건너뜀 (PMCID: PMC11983984)\n",
      "[67/165651] 이미 저장된 논문 건너뜀 (PMCID: PMC12187597)\n",
      "[68/165651] 이미 저장된 논문 건너뜀 (PMCID: PMC12162538)\n",
      "[69/165651] PMCID 없음 → 건너뜀\n",
      "[70/165651] 이미 저장된 논문 건너뜀 (PMCID: PMC12191225)\n"
     ]
    },
    {
     "name": "stderr",
     "output_type": "stream",
     "text": [
      "others 진행:   0%|          | 71/165651 [00:23<14:00:20,  3.28논문/s]"
     ]
    },
    {
     "name": "stdout",
     "output_type": "stream",
     "text": [
      "[71/165651] PMCID 없음 → 건너뜀\n",
      "[72/165651] 이미 저장된 논문 건너뜀 (PMCID: PMC11959803)\n",
      "[73/165651] PMCID 없음 → 건너뜀\n",
      "[74/165651] PMCID 없음 → 건너뜀\n",
      "[75/165651] 이미 저장된 논문 건너뜀 (PMCID: PMC12073206)\n"
     ]
    },
    {
     "name": "stderr",
     "output_type": "stream",
     "text": [
      "others 진행:   0%|          | 76/165651 [00:24<13:29:47,  3.41논문/s]"
     ]
    },
    {
     "name": "stdout",
     "output_type": "stream",
     "text": [
      "[76/165651] PMCID 없음 → 건너뜀\n",
      "[77/165651] 이미 저장된 논문 건너뜀 (PMCID: PMC12018226)\n"
     ]
    },
    {
     "name": "stderr",
     "output_type": "stream",
     "text": [
      "others 진행:   0%|          | 78/165651 [00:26<15:16:40,  3.01논문/s]"
     ]
    },
    {
     "name": "stdout",
     "output_type": "stream",
     "text": [
      "abstract section 없음 (PMCID: PMC12120349) → 건너뜀\n",
      "[79/165651] PMCID 없음 → 건너뜀\n",
      "[80/165651] 이미 저장된 논문 건너뜀 (PMCID: PMC12010568)\n"
     ]
    },
    {
     "name": "stderr",
     "output_type": "stream",
     "text": [
      "others 진행:   0%|          | 81/165651 [00:27<16:46:17,  2.74논문/s]"
     ]
    },
    {
     "name": "stdout",
     "output_type": "stream",
     "text": [
      "[81/165651] 이미 저장된 논문 건너뜀 (PMCID: PMC12166185)\n",
      "[82/165651] 이미 저장된 논문 건너뜀 (PMCID: PMC12193704)\n",
      "[83/165651] 이미 저장된 논문 건너뜀 (PMCID: PMC11944307)\n",
      "[84/165651] PMCID 없음 → 건너뜀\n",
      "[85/165651] PMCID 없음 → 건너뜀\n"
     ]
    },
    {
     "name": "stderr",
     "output_type": "stream",
     "text": [
      "others 진행:   0%|          | 86/165651 [00:28<15:19:15,  3.00논문/s]"
     ]
    },
    {
     "name": "stdout",
     "output_type": "stream",
     "text": [
      "[86/165651] 이미 저장된 논문 건너뜀 (PMCID: PMC12107854)\n",
      "[87/165651] PMCID 없음 → 건너뜀\n",
      "[88/165651] PMCID 없음 → 건너뜀\n",
      "[89/165651] PMCID 없음 → 건너뜀\n",
      "[90/165651] PMCID 없음 → 건너뜀\n"
     ]
    },
    {
     "name": "stderr",
     "output_type": "stream",
     "text": [
      "others 진행:   0%|          | 91/165651 [00:30<14:23:25,  3.20논문/s]"
     ]
    },
    {
     "name": "stdout",
     "output_type": "stream",
     "text": [
      "[91/165651] 이미 저장된 논문 건너뜀 (PMCID: PMC11941339)\n",
      "[92/165651] PMCID 없음 → 건너뜀\n",
      "[93/165651] 이미 저장된 논문 건너뜀 (PMCID: PMC11836767)\n",
      "[94/165651] PMCID 없음 → 건너뜀\n",
      "[95/165651] PMCID 없음 → 건너뜀\n"
     ]
    },
    {
     "name": "stderr",
     "output_type": "stream",
     "text": [
      "others 진행:   0%|          | 96/165651 [00:31<13:43:03,  3.35논문/s]"
     ]
    },
    {
     "name": "stdout",
     "output_type": "stream",
     "text": [
      "[96/165651] PMCID 없음 → 건너뜀\n",
      "[97/165651] PMCID 없음 → 건너뜀\n",
      "[98/165651] PMCID 없음 → 건너뜀\n",
      "[99/165651] 이미 저장된 논문 건너뜀 (PMCID: PMC12150255)\n",
      "[100/165651] 이미 저장된 논문 건너뜀 (PMCID: PMC12178884)\n"
     ]
    },
    {
     "name": "stderr",
     "output_type": "stream",
     "text": [
      "others 진행:   0%|          | 101/165651 [00:32<13:21:00,  3.44논문/s]"
     ]
    },
    {
     "name": "stdout",
     "output_type": "stream",
     "text": [
      "[101/165651] PMCID 없음 → 건너뜀\n",
      "[102/165651] 이미 저장된 논문 건너뜀 (PMCID: PMC12114276)\n",
      "[103/165651] 이미 저장된 논문 건너뜀 (PMCID: PMC11988781)\n",
      "[104/165651] 이미 저장된 논문 건너뜀 (PMCID: PMC12166060)\n",
      "[105/165651] 이미 저장된 논문 건너뜀 (PMCID: PMC12011270)\n"
     ]
    },
    {
     "name": "stderr",
     "output_type": "stream",
     "text": [
      "others 진행:   0%|          | 106/165651 [00:34<13:04:03,  3.52논문/s]"
     ]
    },
    {
     "name": "stdout",
     "output_type": "stream",
     "text": [
      "[106/165651] PMCID 없음 → 건너뜀\n",
      "[107/165651] PMCID 없음 → 건너뜀\n",
      "[108/165651] 이미 저장된 논문 건너뜀 (PMCID: PMC12181267)\n",
      "[109/165651] PMCID 없음 → 건너뜀\n",
      "[110/165651] PMCID 없음 → 건너뜀\n"
     ]
    },
    {
     "name": "stderr",
     "output_type": "stream",
     "text": [
      "others 진행:   0%|          | 111/165651 [00:35<13:22:50,  3.44논문/s]"
     ]
    },
    {
     "name": "stdout",
     "output_type": "stream",
     "text": [
      "[111/165651] 이미 저장된 논문 건너뜀 (PMCID: PMC11938404)\n",
      "[112/165651] 이미 저장된 논문 건너뜀 (PMCID: PMC12085790)\n",
      "[113/165651] 이미 저장된 논문 건너뜀 (PMCID: PMC12181500)\n",
      "[114/165651] 이미 저장된 논문 건너뜀 (PMCID: PMC11810728)\n",
      "[115/165651] PMCID 없음 → 건너뜀\n"
     ]
    },
    {
     "name": "stderr",
     "output_type": "stream",
     "text": [
      "others 진행:   0%|          | 116/165651 [00:37<13:19:31,  3.45논문/s]"
     ]
    },
    {
     "name": "stdout",
     "output_type": "stream",
     "text": [
      "[116/165651] 이미 저장된 논문 건너뜀 (PMCID: PMC12175088)\n",
      "[117/165651] PMCID 없음 → 건너뜀\n",
      "[118/165651] PMCID 없음 → 건너뜀\n",
      "[119/165651] 이미 저장된 논문 건너뜀 (PMCID: PMC11880265)\n",
      "[120/165651] PMCID 없음 → 건너뜀\n"
     ]
    },
    {
     "name": "stderr",
     "output_type": "stream",
     "text": [
      "others 진행:   0%|          | 121/165651 [00:38<13:07:08,  3.50논문/s]"
     ]
    },
    {
     "name": "stdout",
     "output_type": "stream",
     "text": [
      "[121/165651] PMCID 없음 → 건너뜀\n",
      "[122/165651] 이미 저장된 논문 건너뜀 (PMCID: PMC12020444)\n",
      "[123/165651] PMCID 없음 → 건너뜀\n"
     ]
    },
    {
     "name": "stderr",
     "output_type": "stream",
     "text": [
      "others 진행:   0%|          | 124/165651 [00:39<14:29:19,  3.17논문/s]"
     ]
    },
    {
     "name": "stdout",
     "output_type": "stream",
     "text": [
      "abstract section 없음 (PMCID: PMC12085930) → 건너뜀\n",
      "[125/165651] 이미 저장된 논문 건너뜀 (PMCID: PMC11906197)\n"
     ]
    },
    {
     "name": "stderr",
     "output_type": "stream",
     "text": [
      "others 진행:   0%|          | 126/165651 [00:41<17:26:03,  2.64논문/s]"
     ]
    },
    {
     "name": "stdout",
     "output_type": "stream",
     "text": [
      "[126/165651] PMCID 없음 → 건너뜀\n",
      "[127/165651] PMCID 없음 → 건너뜀\n",
      "[128/165651] PMCID 없음 → 건너뜀\n",
      "[129/165651] 이미 저장된 논문 건너뜀 (PMCID: PMC12029991)\n",
      "[130/165651] 이미 저장된 논문 건너뜀 (PMCID: PMC12114524)\n"
     ]
    },
    {
     "name": "stderr",
     "output_type": "stream",
     "text": [
      "others 진행:   0%|          | 131/165651 [00:42<15:49:51,  2.90논문/s]"
     ]
    },
    {
     "name": "stdout",
     "output_type": "stream",
     "text": [
      "[131/165651] PMCID 없음 → 건너뜀\n",
      "[132/165651] PMCID 없음 → 건너뜀\n",
      "[133/165651] 이미 저장된 논문 건너뜀 (PMCID: PMC12103644)\n",
      "[134/165651] 이미 저장된 논문 건너뜀 (PMCID: PMC12159119)\n",
      "[135/165651] 이미 저장된 논문 건너뜀 (PMCID: PMC12156958)\n"
     ]
    },
    {
     "name": "stderr",
     "output_type": "stream",
     "text": [
      "others 진행:   0%|          | 136/165651 [00:45<18:44:16,  2.45논문/s]"
     ]
    },
    {
     "name": "stdout",
     "output_type": "stream",
     "text": [
      "abstract section 없음 (PMCID: PMC12101987) → 건너뜀\n",
      "[137/165651] 이미 저장된 논문 건너뜀 (PMCID: PMC11979928)\n",
      "[138/165651] 이미 저장된 논문 건너뜀 (PMCID: PMC12105854)\n",
      "[139/165651] 이미 저장된 논문 건너뜀 (PMCID: PMC12190092)\n",
      "[140/165651] 이미 저장된 논문 건너뜀 (PMCID: PMC11990105)\n"
     ]
    },
    {
     "name": "stderr",
     "output_type": "stream",
     "text": [
      "others 진행:   0%|          | 141/165651 [00:46<16:40:47,  2.76논문/s]"
     ]
    },
    {
     "name": "stdout",
     "output_type": "stream",
     "text": [
      "[141/165651] PMCID 없음 → 건너뜀\n",
      "[142/165651] 이미 저장된 논문 건너뜀 (PMCID: PMC12042636)\n",
      "[143/165651] PMCID 없음 → 건너뜀\n",
      "[144/165651] 이미 저장된 논문 건너뜀 (PMCID: PMC12141787)\n",
      "[145/165651] 이미 저장된 논문 건너뜀 (PMCID: PMC12163063)\n"
     ]
    },
    {
     "name": "stderr",
     "output_type": "stream",
     "text": [
      "others 진행:   0%|          | 146/165651 [00:48<15:33:51,  2.95논문/s]"
     ]
    },
    {
     "name": "stdout",
     "output_type": "stream",
     "text": [
      "[146/165651] 이미 저장된 논문 건너뜀 (PMCID: PMC12075268)\n",
      "[147/165651] 이미 저장된 논문 건너뜀 (PMCID: PMC11950963)\n"
     ]
    },
    {
     "name": "stderr",
     "output_type": "stream",
     "text": [
      "others 진행:   0%|          | 148/165651 [00:49<16:57:09,  2.71논문/s]"
     ]
    },
    {
     "name": "stdout",
     "output_type": "stream",
     "text": [
      "abstract section 없음 (PMCID: PMC12166165) → 건너뜀\n",
      "[149/165651] PMCID 없음 → 건너뜀\n",
      "[150/165651] 이미 저장된 논문 건너뜀 (PMCID: PMC12125715)\n"
     ]
    },
    {
     "name": "stderr",
     "output_type": "stream",
     "text": [
      "others 진행:   0%|          | 151/165651 [00:50<18:08:00,  2.54논문/s]"
     ]
    },
    {
     "name": "stdout",
     "output_type": "stream",
     "text": [
      "[151/165651] 이미 저장된 논문 건너뜀 (PMCID: PMC12117584)\n",
      "[152/165651] 이미 저장된 논문 건너뜀 (PMCID: PMC12026395)\n",
      "[153/165651] PMCID 없음 → 건너뜀\n",
      "[154/165651] 이미 저장된 논문 건너뜀 (PMCID: PMC12156360)\n",
      "[155/165651] PMCID 없음 → 건너뜀\n"
     ]
    },
    {
     "name": "stderr",
     "output_type": "stream",
     "text": [
      "others 진행:   0%|          | 156/165651 [00:52<15:59:37,  2.87논문/s]"
     ]
    },
    {
     "name": "stdout",
     "output_type": "stream",
     "text": [
      "[156/165651] PMCID 없음 → 건너뜀\n",
      "[157/165651] PMCID 없음 → 건너뜀\n",
      "[158/165651] PMCID 없음 → 건너뜀\n",
      "[159/165651] 이미 저장된 논문 건너뜀 (PMCID: PMC11811824)\n",
      "[160/165651] PMCID 없음 → 건너뜀\n"
     ]
    },
    {
     "name": "stderr",
     "output_type": "stream",
     "text": [
      "others 진행:   0%|          | 161/165651 [00:53<14:58:43,  3.07논문/s]"
     ]
    },
    {
     "name": "stdout",
     "output_type": "stream",
     "text": [
      "[161/165651] 이미 저장된 논문 건너뜀 (PMCID: PMC11725620)\n",
      "[162/165651] PMCID 없음 → 건너뜀\n",
      "[163/165651] PMCID 없음 → 건너뜀\n",
      "[164/165651] PMCID 없음 → 건너뜀\n",
      "[165/165651] PMCID 없음 → 건너뜀\n"
     ]
    },
    {
     "name": "stderr",
     "output_type": "stream",
     "text": [
      "others 진행:   0%|          | 166/165651 [00:55<15:18:12,  3.00논문/s]"
     ]
    },
    {
     "name": "stdout",
     "output_type": "stream",
     "text": [
      "[166/165651] 이미 저장된 논문 건너뜀 (PMCID: PMC11995655)\n",
      "[167/165651] PMCID 없음 → 건너뜀\n",
      "[168/165651] PMCID 없음 → 건너뜀\n",
      "[169/165651] 이미 저장된 논문 건너뜀 (PMCID: PMC11803808)\n",
      "[170/165651] PMCID 없음 → 건너뜀\n"
     ]
    },
    {
     "name": "stderr",
     "output_type": "stream",
     "text": [
      "others 진행:   0%|          | 171/165651 [00:56<14:37:21,  3.14논문/s]"
     ]
    },
    {
     "name": "stdout",
     "output_type": "stream",
     "text": [
      "[171/165651] PMCID 없음 → 건너뜀\n",
      "[172/165651] PMCID 없음 → 건너뜀\n",
      "[173/165651] 이미 저장된 논문 건너뜀 (PMCID: PMC12092144)\n",
      "[174/165651] 이미 저장된 논문 건너뜀 (PMCID: PMC12158003)\n",
      "[175/165651] 이미 저장된 논문 건너뜀 (PMCID: PMC11989858)\n"
     ]
    },
    {
     "name": "stderr",
     "output_type": "stream",
     "text": [
      "others 진행:   0%|          | 176/165651 [00:57<13:57:43,  3.29논문/s]"
     ]
    },
    {
     "name": "stdout",
     "output_type": "stream",
     "text": [
      "[176/165651] PMCID 없음 → 건너뜀\n",
      "[177/165651] PMCID 없음 → 건너뜀\n",
      "[178/165651] 이미 저장된 논문 건너뜀 (PMCID: PMC11900381)\n",
      "[179/165651] PMCID 없음 → 건너뜀\n",
      "[180/165651] 이미 저장된 논문 건너뜀 (PMCID: PMC11900948)\n"
     ]
    },
    {
     "name": "stderr",
     "output_type": "stream",
     "text": [
      "others 진행:   0%|          | 181/165651 [00:59<13:34:18,  3.39논문/s]"
     ]
    },
    {
     "name": "stdout",
     "output_type": "stream",
     "text": [
      "[181/165651] PMCID 없음 → 건너뜀\n"
     ]
    },
    {
     "name": "stderr",
     "output_type": "stream",
     "text": [
      "others 진행:   0%|          | 182/165651 [01:00<16:48:44,  2.73논문/s]"
     ]
    },
    {
     "name": "stdout",
     "output_type": "stream",
     "text": [
      "abstract section 없음 (PMCID: PMC11996860) → 건너뜀\n",
      "[183/165651] PMCID 없음 → 건너뜀\n",
      "[184/165651] PMCID 없음 → 건너뜀\n"
     ]
    },
    {
     "name": "stderr",
     "output_type": "stream",
     "text": [
      "others 진행:   0%|          | 185/165651 [01:01<16:32:03,  2.78논문/s]"
     ]
    },
    {
     "name": "stdout",
     "output_type": "stream",
     "text": [
      "abstract section 없음 (PMCID: PMC12101991) → 건너뜀\n"
     ]
    },
    {
     "name": "stderr",
     "output_type": "stream",
     "text": [
      "others 진행:   0%|          | 186/165651 [01:03<22:57:42,  2.00논문/s]"
     ]
    },
    {
     "name": "stdout",
     "output_type": "stream",
     "text": [
      "[186/165651] PMCID 없음 → 건너뜀\n",
      "[187/165651] 이미 저장된 논문 건너뜀 (PMCID: PMC11700100)\n",
      "[188/165651] 이미 저장된 논문 건너뜀 (PMCID: PMC11872144)\n",
      "[189/165651] PMCID 없음 → 건너뜀\n",
      "[190/165651] 이미 저장된 논문 건너뜀 (PMCID: PMC12013729)\n"
     ]
    },
    {
     "name": "stderr",
     "output_type": "stream",
     "text": [
      "others 진행:   0%|          | 191/165651 [01:04<18:26:02,  2.49논문/s]"
     ]
    },
    {
     "name": "stdout",
     "output_type": "stream",
     "text": [
      "[191/165651] 이미 저장된 논문 건너뜀 (PMCID: PMC12158689)\n",
      "[192/165651] 이미 저장된 논문 건너뜀 (PMCID: PMC11964327)\n",
      "[193/165651] 이미 저장된 논문 건너뜀 (PMCID: PMC12198872)\n",
      "[194/165651] PMCID 없음 → 건너뜀\n",
      "[195/165651] PMCID 없음 → 건너뜀\n"
     ]
    },
    {
     "name": "stderr",
     "output_type": "stream",
     "text": [
      "others 진행:   0%|          | 196/165651 [01:05<16:15:56,  2.83논문/s]"
     ]
    },
    {
     "name": "stdout",
     "output_type": "stream",
     "text": [
      "[196/165651] 이미 저장된 논문 건너뜀 (PMCID: PMC11773081)\n",
      "[197/165651] PMCID 없음 → 건너뜀\n",
      "[198/165651] 이미 저장된 논문 건너뜀 (PMCID: PMC11820859)\n",
      "[199/165651] PMCID 없음 → 건너뜀\n",
      "[200/165651] 이미 저장된 논문 건너뜀 (PMCID: PMC11997348)\n"
     ]
    },
    {
     "name": "stderr",
     "output_type": "stream",
     "text": [
      "others 진행:   0%|          | 201/165651 [01:07<15:00:57,  3.06논문/s]"
     ]
    },
    {
     "name": "stdout",
     "output_type": "stream",
     "text": [
      "[201/165651] PMCID 없음 → 건너뜀\n",
      "[202/165651] PMCID 없음 → 건너뜀\n",
      "[203/165651] 이미 저장된 논문 건너뜀 (PMCID: PMC11858158)\n",
      "[204/165651] 이미 저장된 논문 건너뜀 (PMCID: PMC11990288)\n",
      "[205/165651] 이미 저장된 논문 건너뜀 (PMCID: PMC12109701)\n"
     ]
    },
    {
     "name": "stderr",
     "output_type": "stream",
     "text": [
      "others 진행:   0%|          | 206/165651 [01:08<14:22:08,  3.20논문/s]"
     ]
    },
    {
     "name": "stdout",
     "output_type": "stream",
     "text": [
      "[206/165651] 이미 저장된 논문 건너뜀 (PMCID: PMC12048097)\n",
      "[207/165651] 이미 저장된 논문 건너뜀 (PMCID: PMC11855552)\n",
      "[208/165651] 이미 저장된 논문 건너뜀 (PMCID: PMC12158044)\n",
      "[209/165651] PMCID 없음 → 건너뜀\n",
      "[210/165651] PMCID 없음 → 건너뜀\n"
     ]
    },
    {
     "name": "stderr",
     "output_type": "stream",
     "text": [
      "others 진행:   0%|          | 211/165651 [01:10<14:02:47,  3.27논문/s]"
     ]
    },
    {
     "name": "stdout",
     "output_type": "stream",
     "text": [
      "[211/165651] 이미 저장된 논문 건너뜀 (PMCID: PMC12195832)\n",
      "[212/165651] 이미 저장된 논문 건너뜀 (PMCID: PMC12028138)\n",
      "[213/165651] PMCID 없음 → 건너뜀\n",
      "[214/165651] 이미 저장된 논문 건너뜀 (PMCID: PMC12024591)\n",
      "[215/165651] 이미 저장된 논문 건너뜀 (PMCID: PMC11917401)\n"
     ]
    },
    {
     "name": "stderr",
     "output_type": "stream",
     "text": [
      "others 진행:   0%|          | 216/165651 [01:11<13:40:30,  3.36논문/s]"
     ]
    },
    {
     "name": "stdout",
     "output_type": "stream",
     "text": [
      "[216/165651] PMCID 없음 → 건너뜀\n",
      "[217/165651] PMCID 없음 → 건너뜀\n",
      "[218/165651] 이미 저장된 논문 건너뜀 (PMCID: PMC11943887)\n",
      "[219/165651] 이미 저장된 논문 건너뜀 (PMCID: PMC12072334)\n",
      "[220/165651] 이미 저장된 논문 건너뜀 (PMCID: PMC12192539)\n"
     ]
    },
    {
     "name": "stderr",
     "output_type": "stream",
     "text": [
      "others 진행:   0%|          | 221/165651 [01:13<13:24:25,  3.43논문/s]"
     ]
    },
    {
     "name": "stdout",
     "output_type": "stream",
     "text": [
      "[221/165651] 이미 저장된 논문 건너뜀 (PMCID: PMC12034959)\n",
      "[222/165651] 이미 저장된 논문 건너뜀 (PMCID: PMC11990234)\n",
      "[223/165651] PMCID 없음 → 건너뜀\n",
      "[224/165651] 이미 저장된 논문 건너뜀 (PMCID: PMC12149738)\n",
      "[225/165651] PMCID 없음 → 건너뜀\n"
     ]
    },
    {
     "name": "stderr",
     "output_type": "stream",
     "text": [
      "others 진행:   0%|          | 226/165651 [01:14<13:16:43,  3.46논문/s]"
     ]
    },
    {
     "name": "stdout",
     "output_type": "stream",
     "text": [
      "[226/165651] PMCID 없음 → 건너뜀\n",
      "[227/165651] PMCID 없음 → 건너뜀\n",
      "[228/165651] 이미 저장된 논문 건너뜀 (PMCID: PMC12029787)\n",
      "[229/165651] 이미 저장된 논문 건너뜀 (PMCID: PMC11915427)\n",
      "[230/165651] 이미 저장된 논문 건너뜀 (PMCID: PMC11982687)\n"
     ]
    },
    {
     "name": "stderr",
     "output_type": "stream",
     "text": [
      "others 진행:   0%|          | 231/165651 [01:15<13:32:37,  3.39논문/s]"
     ]
    },
    {
     "name": "stdout",
     "output_type": "stream",
     "text": [
      "[231/165651] PMCID 없음 → 건너뜀\n",
      "[232/165651] 이미 저장된 논문 건너뜀 (PMCID: PMC12193626)\n",
      "[233/165651] 이미 저장된 논문 건너뜀 (PMCID: PMC12171172)\n",
      "[234/165651] PMCID 없음 → 건너뜀\n",
      "[235/165651] 이미 저장된 논문 건너뜀 (PMCID: PMC11989197)\n",
      "요청 실패 (1/3): HTTPSConnectionPool(host='www.ncbi.nlm.nih.gov', port=443): Max retries exceeded with url: /pmc/articles/PMC11948532/ (Caused by ConnectTimeoutError(<urllib3.connection.HTTPSConnection object at 0x000002FD7C232E10>, 'Connection to www.ncbi.nlm.nih.gov timed out. (connect timeout=5)'))\n"
     ]
    },
    {
     "name": "stderr",
     "output_type": "stream",
     "text": [
      "others 진행:   0%|          | 236/165651 [01:25<34:37:25,  1.33논문/s]"
     ]
    },
    {
     "name": "stdout",
     "output_type": "stream",
     "text": [
      "abstract section 없음 (PMCID: PMC11948532) → 건너뜀\n",
      "[237/165651] PMCID 없음 → 건너뜀\n"
     ]
    },
    {
     "name": "stderr",
     "output_type": "stream",
     "text": [
      "others 진행:   0%|          | 238/165651 [01:26<33:01:38,  1.39논문/s]"
     ]
    },
    {
     "name": "stdout",
     "output_type": "stream",
     "text": [
      "abstract section 없음 (PMCID: PMC12060592) → 건너뜀\n",
      "[239/165651] 이미 저장된 논문 건너뜀 (PMCID: PMC11872716)\n",
      "[240/165651] PMCID 없음 → 건너뜀\n"
     ]
    },
    {
     "name": "stderr",
     "output_type": "stream",
     "text": [
      "others 진행:   0%|          | 241/165651 [01:28<34:24:36,  1.34논문/s]"
     ]
    },
    {
     "name": "stdout",
     "output_type": "stream",
     "text": [
      "abstract section 없음 (PMCID: PMC11996861) → 건너뜀\n",
      "[242/165651] 이미 저장된 논문 건너뜀 (PMCID: PMC11901569)\n",
      "요청 실패 (1/3): HTTPSConnectionPool(host='www.ncbi.nlm.nih.gov', port=443): Max retries exceeded with url: /pmc/articles/PMC12023118/ (Caused by ConnectTimeoutError(<urllib3.connection.HTTPSConnection object at 0x000002FD27DCA4B0>, 'Connection to www.ncbi.nlm.nih.gov timed out. (connect timeout=5)'))\n"
     ]
    },
    {
     "name": "stderr",
     "output_type": "stream",
     "text": [
      "others 진행:   0%|          | 243/165651 [01:35<58:48:55,  1.28s/논문]"
     ]
    },
    {
     "name": "stdout",
     "output_type": "stream",
     "text": [
      "abstract section 없음 (PMCID: PMC12023118) → 건너뜀\n",
      "[244/165651] 이미 저장된 논문 건너뜀 (PMCID: PMC12072446)\n",
      "[245/165651] 이미 저장된 논문 건너뜀 (PMCID: PMC11817589)\n"
     ]
    },
    {
     "name": "stderr",
     "output_type": "stream",
     "text": [
      "others 진행:   0%|          | 246/165651 [01:37<48:22:37,  1.05s/논문]"
     ]
    },
    {
     "name": "stdout",
     "output_type": "stream",
     "text": [
      "[246/165651] PMCID 없음 → 건너뜀\n",
      "[247/165651] 이미 저장된 논문 건너뜀 (PMCID: PMC12020162)\n",
      "[248/165651] 이미 저장된 논문 건너뜀 (PMCID: PMC11853708)\n",
      "[249/165651] 이미 저장된 논문 건너뜀 (PMCID: PMC12066242)\n",
      "[250/165651] PMCID 없음 → 건너뜀\n"
     ]
    },
    {
     "name": "stderr",
     "output_type": "stream",
     "text": [
      "others 진행:   0%|          | 251/165651 [01:38<33:42:55,  1.36논문/s]"
     ]
    },
    {
     "name": "stdout",
     "output_type": "stream",
     "text": [
      "[251/165651] 이미 저장된 논문 건너뜀 (PMCID: PMC12077410)\n",
      "[252/165651] PMCID 없음 → 건너뜀\n",
      "[253/165651] 이미 저장된 논문 건너뜀 (PMCID: PMC11901608)\n",
      "[254/165651] 이미 저장된 논문 건너뜀 (PMCID: PMC12009948)\n",
      "[255/165651] PMCID 없음 → 건너뜀\n"
     ]
    },
    {
     "name": "stderr",
     "output_type": "stream",
     "text": [
      "others 진행:   0%|          | 256/165651 [01:39<25:53:47,  1.77논문/s]"
     ]
    },
    {
     "name": "stdout",
     "output_type": "stream",
     "text": [
      "[256/165651] PMCID 없음 → 건너뜀\n",
      "[257/165651] PMCID 없음 → 건너뜀\n",
      "[258/165651] PMCID 없음 → 건너뜀\n",
      "[259/165651] PMCID 없음 → 건너뜀\n",
      "[260/165651] PMCID 없음 → 건너뜀\n"
     ]
    },
    {
     "name": "stderr",
     "output_type": "stream",
     "text": [
      "others 진행:   0%|          | 261/165651 [01:41<21:19:18,  2.15논문/s]"
     ]
    },
    {
     "name": "stdout",
     "output_type": "stream",
     "text": [
      "[261/165651] 이미 저장된 논문 건너뜀 (PMCID: PMC11944946)\n",
      "[262/165651] 이미 저장된 논문 건너뜀 (PMCID: PMC11857425)\n",
      "[263/165651] PMCID 없음 → 건너뜀\n",
      "[264/165651] PMCID 없음 → 건너뜀\n",
      "[265/165651] PMCID 없음 → 건너뜀\n"
     ]
    },
    {
     "name": "stderr",
     "output_type": "stream",
     "text": [
      "others 진행:   0%|          | 266/165651 [01:42<18:24:49,  2.49논문/s]"
     ]
    },
    {
     "name": "stdout",
     "output_type": "stream",
     "text": [
      "[266/165651] 이미 저장된 논문 건너뜀 (PMCID: PMC11986123)\n",
      "[267/165651] PMCID 없음 → 건너뜀\n",
      "[268/165651] 이미 저장된 논문 건너뜀 (PMCID: PMC12049386)\n",
      "[269/165651] PMCID 없음 → 건너뜀\n",
      "[270/165651] PMCID 없음 → 건너뜀\n"
     ]
    },
    {
     "name": "stderr",
     "output_type": "stream",
     "text": [
      "others 진행:   0%|          | 271/165651 [01:44<16:59:43,  2.70논문/s]"
     ]
    },
    {
     "name": "stdout",
     "output_type": "stream",
     "text": [
      "[271/165651] 이미 저장된 논문 건너뜀 (PMCID: PMC11989361)\n",
      "[272/165651] 이미 저장된 논문 건너뜀 (PMCID: PMC11874864)\n",
      "[273/165651] PMCID 없음 → 건너뜀\n",
      "[274/165651] PMCID 없음 → 건너뜀\n",
      "[275/165651] PMCID 없음 → 건너뜀\n"
     ]
    },
    {
     "name": "stderr",
     "output_type": "stream",
     "text": [
      "others 진행:   0%|          | 276/165651 [01:45<15:55:20,  2.89논문/s]"
     ]
    },
    {
     "name": "stdout",
     "output_type": "stream",
     "text": [
      "[276/165651] 이미 저장된 논문 건너뜀 (PMCID: PMC12073290)\n",
      "[277/165651] PMCID 없음 → 건너뜀\n",
      "[278/165651] PMCID 없음 → 건너뜀\n",
      "[279/165651] 이미 저장된 논문 건너뜀 (PMCID: PMC12194935)\n",
      "[280/165651] PMCID 없음 → 건너뜀\n"
     ]
    },
    {
     "name": "stderr",
     "output_type": "stream",
     "text": [
      "others 진행:   0%|          | 280/165651 [01:46<17:31:02,  2.62논문/s]"
     ]
    },
    {
     "name": "stdout",
     "output_type": "stream",
     "text": [
      "\n",
      "중단 감지! 지금까지의 데이터를 저장합니다...\n",
      "저장할 새 문서 없음\n"
     ]
    },
    {
     "name": "stderr",
     "output_type": "stream",
     "text": [
      "\n"
     ]
    },
    {
     "ename": "KeyboardInterrupt",
     "evalue": "",
     "output_type": "error",
     "traceback": [
      "\u001b[31m---------------------------------------------------------------------------\u001b[39m",
      "\u001b[31mKeyboardInterrupt\u001b[39m                         Traceback (most recent call last)",
      "\u001b[36mCell\u001b[39m\u001b[36m \u001b[39m\u001b[32mIn[2]\u001b[39m\u001b[32m, line 16\u001b[39m\n\u001b[32m      4\u001b[39m     query = \u001b[33m'''\u001b[39m\u001b[33m(\u001b[39m\u001b[33m\"\u001b[39m\u001b[33mvitamin D\u001b[39m\u001b[33m\"\u001b[39m\u001b[33m OR \u001b[39m\u001b[33m\"\u001b[39m\u001b[33mvitamin C\u001b[39m\u001b[33m\"\u001b[39m\u001b[33m \u001b[39m\n\u001b[32m      5\u001b[39m \u001b[33mOR \u001b[39m\u001b[33m\"\u001b[39m\u001b[33mvaccine efficacy\u001b[39m\u001b[33m\"\u001b[39m\u001b[33m OR \u001b[39m\u001b[33m\"\u001b[39m\u001b[33mmRNA vaccine\u001b[39m\u001b[33m\"\u001b[39m\u001b[33m \u001b[39m\n\u001b[32m      6\u001b[39m \u001b[33mOR \u001b[39m\u001b[33m\"\u001b[39m\u001b[33mautoimmune disease\u001b[39m\u001b[33m\"\u001b[39m\u001b[33m OR \u001b[39m\u001b[33m\"\u001b[39m\u001b[33minflammation\u001b[39m\u001b[33m\"\u001b[39m\u001b[33m \u001b[39m\n\u001b[32m   (...)\u001b[39m\u001b[32m     12\u001b[39m \u001b[33mOR \u001b[39m\u001b[33m\"\u001b[39m\u001b[33macupuncture\u001b[39m\u001b[33m\"\u001b[39m\u001b[33m OR \u001b[39m\u001b[33m\"\u001b[39m\u001b[33mherbal medicine\u001b[39m\u001b[33m\"\u001b[39m\u001b[33m) AND PUB_YEAR:2025\u001b[39m\n\u001b[32m     13\u001b[39m \u001b[33m'''\u001b[39m\n\u001b[32m     15\u001b[39m     \u001b[38;5;66;03m# \"others\"라는 collection_name을 사용, persist_dir는 module 안에 이미 선언된 PERSIST_DIR 사용\u001b[39;00m\n\u001b[32m---> \u001b[39m\u001b[32m16\u001b[39m     \u001b[43mprocess_topic\u001b[49m\u001b[43m(\u001b[49m\u001b[43mquery\u001b[49m\u001b[43m,\u001b[49m\u001b[43m \u001b[49m\u001b[33;43m\"\u001b[39;49m\u001b[33;43mothers\u001b[39;49m\u001b[33;43m\"\u001b[39;49m\u001b[43m,\u001b[49m\u001b[43m \u001b[49m\u001b[43mpersist_dir\u001b[49m\u001b[43m=\u001b[49m\u001b[43mPERSIST_DIR\u001b[49m\u001b[43m,\u001b[49m\u001b[43m \u001b[49m\u001b[43mbatch_size\u001b[49m\u001b[43m=\u001b[49m\u001b[32;43m5\u001b[39;49m\u001b[43m)\u001b[49m\n\u001b[32m     18\u001b[39m     \u001b[38;5;28mprint\u001b[39m(\u001b[33m\"\u001b[39m\u001b[33m=== 🎉 모든 작업 완료 ===\u001b[39m\u001b[33m\"\u001b[39m)\n",
      "\u001b[36mFile \u001b[39m\u001b[32mc:\\Aicamp\\SKN13-3rd-1TEAM\\crawling\\module.py:141\u001b[39m, in \u001b[36mprocess_topic\u001b[39m\u001b[34m(query, collection_name, persist_dir, batch_size)\u001b[39m\n\u001b[32m    138\u001b[39m \u001b[38;5;28;01mtry\u001b[39;00m:\n\u001b[32m    139\u001b[39m     \u001b[38;5;28;01mwhile\u001b[39;00m \u001b[38;5;28;01mTrue\u001b[39;00m:\n\u001b[32m    140\u001b[39m         \u001b[38;5;66;03m# EuropePMC API 요청 (cursor 기반 페이징)\u001b[39;00m\n\u001b[32m--> \u001b[39m\u001b[32m141\u001b[39m         res = \u001b[43msafe_request_get\u001b[49m\u001b[43m(\u001b[49m\n\u001b[32m    142\u001b[39m \u001b[43m            \u001b[49m\u001b[33;43m\"\u001b[39;49m\u001b[33;43mhttps://www.ebi.ac.uk/europepmc/webservices/rest/search\u001b[39;49m\u001b[33;43m\"\u001b[39;49m\u001b[43m,\u001b[49m\n\u001b[32m    143\u001b[39m \u001b[43m            \u001b[49m\u001b[43mparams\u001b[49m\u001b[43m=\u001b[49m\u001b[43m{\u001b[49m\u001b[33;43m\"\u001b[39;49m\u001b[33;43mquery\u001b[39;49m\u001b[33;43m\"\u001b[39;49m\u001b[43m:\u001b[49m\u001b[43m \u001b[49m\u001b[43mquery\u001b[49m\u001b[43m,\u001b[49m\u001b[43m \u001b[49m\u001b[33;43m\"\u001b[39;49m\u001b[33;43mformat\u001b[39;49m\u001b[33;43m\"\u001b[39;49m\u001b[43m:\u001b[49m\u001b[43m \u001b[49m\u001b[33;43m\"\u001b[39;49m\u001b[33;43mjson\u001b[39;49m\u001b[33;43m\"\u001b[39;49m\u001b[43m,\u001b[49m\u001b[43m \u001b[49m\u001b[33;43m\"\u001b[39;49m\u001b[33;43mpageSize\u001b[39;49m\u001b[33;43m\"\u001b[39;49m\u001b[43m:\u001b[49m\u001b[43m \u001b[49m\u001b[43mpage_size\u001b[49m\u001b[43m,\u001b[49m\u001b[43m \u001b[49m\u001b[33;43m\"\u001b[39;49m\u001b[33;43mcursorMark\u001b[39;49m\u001b[33;43m\"\u001b[39;49m\u001b[43m:\u001b[49m\u001b[43m \u001b[49m\u001b[43mcursor\u001b[49m\u001b[43m}\u001b[49m\u001b[43m,\u001b[49m\n\u001b[32m    144\u001b[39m \u001b[43m            \u001b[49m\u001b[43mheaders\u001b[49m\u001b[43m=\u001b[49m\u001b[43m{\u001b[49m\u001b[33;43m\"\u001b[39;49m\u001b[33;43mUser-Agent\u001b[39;49m\u001b[33;43m\"\u001b[39;49m\u001b[43m:\u001b[49m\u001b[43m \u001b[49m\u001b[33;43m\"\u001b[39;49m\u001b[33;43mMozilla/5.0\u001b[39;49m\u001b[33;43m\"\u001b[39;49m\u001b[43m}\u001b[49m\n\u001b[32m    145\u001b[39m \u001b[43m        \u001b[49m\u001b[43m)\u001b[49m\n\u001b[32m    146\u001b[39m         data = res.json()\n\u001b[32m    147\u001b[39m         results = data.get(\u001b[33m\"\u001b[39m\u001b[33mresultList\u001b[39m\u001b[33m\"\u001b[39m, {}).get(\u001b[33m\"\u001b[39m\u001b[33mresult\u001b[39m\u001b[33m\"\u001b[39m, [])\n",
      "\u001b[36mFile \u001b[39m\u001b[32mc:\\Aicamp\\SKN13-3rd-1TEAM\\crawling\\module.py:30\u001b[39m, in \u001b[36msafe_request_get\u001b[39m\u001b[34m(url, params, headers, retries, backoff, timeout)\u001b[39m\n\u001b[32m     28\u001b[39m \u001b[38;5;28;01mfor\u001b[39;00m attempt \u001b[38;5;129;01min\u001b[39;00m \u001b[38;5;28mrange\u001b[39m(retries):\n\u001b[32m     29\u001b[39m     \u001b[38;5;28;01mtry\u001b[39;00m:\n\u001b[32m---> \u001b[39m\u001b[32m30\u001b[39m         res = \u001b[43mrequests\u001b[49m\u001b[43m.\u001b[49m\u001b[43mget\u001b[49m\u001b[43m(\u001b[49m\u001b[43murl\u001b[49m\u001b[43m,\u001b[49m\u001b[43m \u001b[49m\u001b[43mparams\u001b[49m\u001b[43m=\u001b[49m\u001b[43mparams\u001b[49m\u001b[43m,\u001b[49m\u001b[43m \u001b[49m\u001b[43mheaders\u001b[49m\u001b[43m=\u001b[49m\u001b[43mheaders\u001b[49m\u001b[43m,\u001b[49m\u001b[43m \u001b[49m\u001b[43mtimeout\u001b[49m\u001b[43m=\u001b[49m\u001b[43mtimeout\u001b[49m\u001b[43m)\u001b[49m\n\u001b[32m     31\u001b[39m         res.raise_for_status()\n\u001b[32m     32\u001b[39m         \u001b[38;5;28;01mreturn\u001b[39;00m res\n",
      "\u001b[36mFile \u001b[39m\u001b[32mc:\\Users\\Playdata\\AppData\\Local\\miniconda3\\envs\\lang_env\\Lib\\site-packages\\requests\\api.py:73\u001b[39m, in \u001b[36mget\u001b[39m\u001b[34m(url, params, **kwargs)\u001b[39m\n\u001b[32m     62\u001b[39m \u001b[38;5;28;01mdef\u001b[39;00m\u001b[38;5;250m \u001b[39m\u001b[34mget\u001b[39m(url, params=\u001b[38;5;28;01mNone\u001b[39;00m, **kwargs):\n\u001b[32m     63\u001b[39m \u001b[38;5;250m    \u001b[39m\u001b[33mr\u001b[39m\u001b[33;03m\"\"\"Sends a GET request.\u001b[39;00m\n\u001b[32m     64\u001b[39m \n\u001b[32m     65\u001b[39m \u001b[33;03m    :param url: URL for the new :class:`Request` object.\u001b[39;00m\n\u001b[32m   (...)\u001b[39m\u001b[32m     70\u001b[39m \u001b[33;03m    :rtype: requests.Response\u001b[39;00m\n\u001b[32m     71\u001b[39m \u001b[33;03m    \"\"\"\u001b[39;00m\n\u001b[32m---> \u001b[39m\u001b[32m73\u001b[39m     \u001b[38;5;28;01mreturn\u001b[39;00m \u001b[43mrequest\u001b[49m\u001b[43m(\u001b[49m\u001b[33;43m\"\u001b[39;49m\u001b[33;43mget\u001b[39;49m\u001b[33;43m\"\u001b[39;49m\u001b[43m,\u001b[49m\u001b[43m \u001b[49m\u001b[43murl\u001b[49m\u001b[43m,\u001b[49m\u001b[43m \u001b[49m\u001b[43mparams\u001b[49m\u001b[43m=\u001b[49m\u001b[43mparams\u001b[49m\u001b[43m,\u001b[49m\u001b[43m \u001b[49m\u001b[43m*\u001b[49m\u001b[43m*\u001b[49m\u001b[43mkwargs\u001b[49m\u001b[43m)\u001b[49m\n",
      "\u001b[36mFile \u001b[39m\u001b[32mc:\\Users\\Playdata\\AppData\\Local\\miniconda3\\envs\\lang_env\\Lib\\site-packages\\requests\\api.py:59\u001b[39m, in \u001b[36mrequest\u001b[39m\u001b[34m(method, url, **kwargs)\u001b[39m\n\u001b[32m     55\u001b[39m \u001b[38;5;66;03m# By using the 'with' statement we are sure the session is closed, thus we\u001b[39;00m\n\u001b[32m     56\u001b[39m \u001b[38;5;66;03m# avoid leaving sockets open which can trigger a ResourceWarning in some\u001b[39;00m\n\u001b[32m     57\u001b[39m \u001b[38;5;66;03m# cases, and look like a memory leak in others.\u001b[39;00m\n\u001b[32m     58\u001b[39m \u001b[38;5;28;01mwith\u001b[39;00m sessions.Session() \u001b[38;5;28;01mas\u001b[39;00m session:\n\u001b[32m---> \u001b[39m\u001b[32m59\u001b[39m     \u001b[38;5;28;01mreturn\u001b[39;00m \u001b[43msession\u001b[49m\u001b[43m.\u001b[49m\u001b[43mrequest\u001b[49m\u001b[43m(\u001b[49m\u001b[43mmethod\u001b[49m\u001b[43m=\u001b[49m\u001b[43mmethod\u001b[49m\u001b[43m,\u001b[49m\u001b[43m \u001b[49m\u001b[43murl\u001b[49m\u001b[43m=\u001b[49m\u001b[43murl\u001b[49m\u001b[43m,\u001b[49m\u001b[43m \u001b[49m\u001b[43m*\u001b[49m\u001b[43m*\u001b[49m\u001b[43mkwargs\u001b[49m\u001b[43m)\u001b[49m\n",
      "\u001b[36mFile \u001b[39m\u001b[32mc:\\Users\\Playdata\\AppData\\Local\\miniconda3\\envs\\lang_env\\Lib\\site-packages\\requests\\sessions.py:589\u001b[39m, in \u001b[36mSession.request\u001b[39m\u001b[34m(self, method, url, params, data, headers, cookies, files, auth, timeout, allow_redirects, proxies, hooks, stream, verify, cert, json)\u001b[39m\n\u001b[32m    584\u001b[39m send_kwargs = {\n\u001b[32m    585\u001b[39m     \u001b[33m\"\u001b[39m\u001b[33mtimeout\u001b[39m\u001b[33m\"\u001b[39m: timeout,\n\u001b[32m    586\u001b[39m     \u001b[33m\"\u001b[39m\u001b[33mallow_redirects\u001b[39m\u001b[33m\"\u001b[39m: allow_redirects,\n\u001b[32m    587\u001b[39m }\n\u001b[32m    588\u001b[39m send_kwargs.update(settings)\n\u001b[32m--> \u001b[39m\u001b[32m589\u001b[39m resp = \u001b[38;5;28;43mself\u001b[39;49m\u001b[43m.\u001b[49m\u001b[43msend\u001b[49m\u001b[43m(\u001b[49m\u001b[43mprep\u001b[49m\u001b[43m,\u001b[49m\u001b[43m \u001b[49m\u001b[43m*\u001b[49m\u001b[43m*\u001b[49m\u001b[43msend_kwargs\u001b[49m\u001b[43m)\u001b[49m\n\u001b[32m    591\u001b[39m \u001b[38;5;28;01mreturn\u001b[39;00m resp\n",
      "\u001b[36mFile \u001b[39m\u001b[32mc:\\Users\\Playdata\\AppData\\Local\\miniconda3\\envs\\lang_env\\Lib\\site-packages\\requests\\sessions.py:703\u001b[39m, in \u001b[36mSession.send\u001b[39m\u001b[34m(self, request, **kwargs)\u001b[39m\n\u001b[32m    700\u001b[39m start = preferred_clock()\n\u001b[32m    702\u001b[39m \u001b[38;5;66;03m# Send the request\u001b[39;00m\n\u001b[32m--> \u001b[39m\u001b[32m703\u001b[39m r = \u001b[43madapter\u001b[49m\u001b[43m.\u001b[49m\u001b[43msend\u001b[49m\u001b[43m(\u001b[49m\u001b[43mrequest\u001b[49m\u001b[43m,\u001b[49m\u001b[43m \u001b[49m\u001b[43m*\u001b[49m\u001b[43m*\u001b[49m\u001b[43mkwargs\u001b[49m\u001b[43m)\u001b[49m\n\u001b[32m    705\u001b[39m \u001b[38;5;66;03m# Total elapsed time of the request (approximately)\u001b[39;00m\n\u001b[32m    706\u001b[39m elapsed = preferred_clock() - start\n",
      "\u001b[36mFile \u001b[39m\u001b[32mc:\\Users\\Playdata\\AppData\\Local\\miniconda3\\envs\\lang_env\\Lib\\site-packages\\requests\\adapters.py:667\u001b[39m, in \u001b[36mHTTPAdapter.send\u001b[39m\u001b[34m(self, request, stream, timeout, verify, cert, proxies)\u001b[39m\n\u001b[32m    664\u001b[39m     timeout = TimeoutSauce(connect=timeout, read=timeout)\n\u001b[32m    666\u001b[39m \u001b[38;5;28;01mtry\u001b[39;00m:\n\u001b[32m--> \u001b[39m\u001b[32m667\u001b[39m     resp = \u001b[43mconn\u001b[49m\u001b[43m.\u001b[49m\u001b[43murlopen\u001b[49m\u001b[43m(\u001b[49m\n\u001b[32m    668\u001b[39m \u001b[43m        \u001b[49m\u001b[43mmethod\u001b[49m\u001b[43m=\u001b[49m\u001b[43mrequest\u001b[49m\u001b[43m.\u001b[49m\u001b[43mmethod\u001b[49m\u001b[43m,\u001b[49m\n\u001b[32m    669\u001b[39m \u001b[43m        \u001b[49m\u001b[43murl\u001b[49m\u001b[43m=\u001b[49m\u001b[43murl\u001b[49m\u001b[43m,\u001b[49m\n\u001b[32m    670\u001b[39m \u001b[43m        \u001b[49m\u001b[43mbody\u001b[49m\u001b[43m=\u001b[49m\u001b[43mrequest\u001b[49m\u001b[43m.\u001b[49m\u001b[43mbody\u001b[49m\u001b[43m,\u001b[49m\n\u001b[32m    671\u001b[39m \u001b[43m        \u001b[49m\u001b[43mheaders\u001b[49m\u001b[43m=\u001b[49m\u001b[43mrequest\u001b[49m\u001b[43m.\u001b[49m\u001b[43mheaders\u001b[49m\u001b[43m,\u001b[49m\n\u001b[32m    672\u001b[39m \u001b[43m        \u001b[49m\u001b[43mredirect\u001b[49m\u001b[43m=\u001b[49m\u001b[38;5;28;43;01mFalse\u001b[39;49;00m\u001b[43m,\u001b[49m\n\u001b[32m    673\u001b[39m \u001b[43m        \u001b[49m\u001b[43massert_same_host\u001b[49m\u001b[43m=\u001b[49m\u001b[38;5;28;43;01mFalse\u001b[39;49;00m\u001b[43m,\u001b[49m\n\u001b[32m    674\u001b[39m \u001b[43m        \u001b[49m\u001b[43mpreload_content\u001b[49m\u001b[43m=\u001b[49m\u001b[38;5;28;43;01mFalse\u001b[39;49;00m\u001b[43m,\u001b[49m\n\u001b[32m    675\u001b[39m \u001b[43m        \u001b[49m\u001b[43mdecode_content\u001b[49m\u001b[43m=\u001b[49m\u001b[38;5;28;43;01mFalse\u001b[39;49;00m\u001b[43m,\u001b[49m\n\u001b[32m    676\u001b[39m \u001b[43m        \u001b[49m\u001b[43mretries\u001b[49m\u001b[43m=\u001b[49m\u001b[38;5;28;43mself\u001b[39;49m\u001b[43m.\u001b[49m\u001b[43mmax_retries\u001b[49m\u001b[43m,\u001b[49m\n\u001b[32m    677\u001b[39m \u001b[43m        \u001b[49m\u001b[43mtimeout\u001b[49m\u001b[43m=\u001b[49m\u001b[43mtimeout\u001b[49m\u001b[43m,\u001b[49m\n\u001b[32m    678\u001b[39m \u001b[43m        \u001b[49m\u001b[43mchunked\u001b[49m\u001b[43m=\u001b[49m\u001b[43mchunked\u001b[49m\u001b[43m,\u001b[49m\n\u001b[32m    679\u001b[39m \u001b[43m    \u001b[49m\u001b[43m)\u001b[49m\n\u001b[32m    681\u001b[39m \u001b[38;5;28;01mexcept\u001b[39;00m (ProtocolError, \u001b[38;5;167;01mOSError\u001b[39;00m) \u001b[38;5;28;01mas\u001b[39;00m err:\n\u001b[32m    682\u001b[39m     \u001b[38;5;28;01mraise\u001b[39;00m \u001b[38;5;167;01mConnectionError\u001b[39;00m(err, request=request)\n",
      "\u001b[36mFile \u001b[39m\u001b[32mc:\\Users\\Playdata\\AppData\\Local\\miniconda3\\envs\\lang_env\\Lib\\site-packages\\urllib3\\connectionpool.py:787\u001b[39m, in \u001b[36mHTTPConnectionPool.urlopen\u001b[39m\u001b[34m(self, method, url, body, headers, retries, redirect, assert_same_host, timeout, pool_timeout, release_conn, chunked, body_pos, preload_content, decode_content, **response_kw)\u001b[39m\n\u001b[32m    784\u001b[39m response_conn = conn \u001b[38;5;28;01mif\u001b[39;00m \u001b[38;5;129;01mnot\u001b[39;00m release_conn \u001b[38;5;28;01melse\u001b[39;00m \u001b[38;5;28;01mNone\u001b[39;00m\n\u001b[32m    786\u001b[39m \u001b[38;5;66;03m# Make the request on the HTTPConnection object\u001b[39;00m\n\u001b[32m--> \u001b[39m\u001b[32m787\u001b[39m response = \u001b[38;5;28;43mself\u001b[39;49m\u001b[43m.\u001b[49m\u001b[43m_make_request\u001b[49m\u001b[43m(\u001b[49m\n\u001b[32m    788\u001b[39m \u001b[43m    \u001b[49m\u001b[43mconn\u001b[49m\u001b[43m,\u001b[49m\n\u001b[32m    789\u001b[39m \u001b[43m    \u001b[49m\u001b[43mmethod\u001b[49m\u001b[43m,\u001b[49m\n\u001b[32m    790\u001b[39m \u001b[43m    \u001b[49m\u001b[43murl\u001b[49m\u001b[43m,\u001b[49m\n\u001b[32m    791\u001b[39m \u001b[43m    \u001b[49m\u001b[43mtimeout\u001b[49m\u001b[43m=\u001b[49m\u001b[43mtimeout_obj\u001b[49m\u001b[43m,\u001b[49m\n\u001b[32m    792\u001b[39m \u001b[43m    \u001b[49m\u001b[43mbody\u001b[49m\u001b[43m=\u001b[49m\u001b[43mbody\u001b[49m\u001b[43m,\u001b[49m\n\u001b[32m    793\u001b[39m \u001b[43m    \u001b[49m\u001b[43mheaders\u001b[49m\u001b[43m=\u001b[49m\u001b[43mheaders\u001b[49m\u001b[43m,\u001b[49m\n\u001b[32m    794\u001b[39m \u001b[43m    \u001b[49m\u001b[43mchunked\u001b[49m\u001b[43m=\u001b[49m\u001b[43mchunked\u001b[49m\u001b[43m,\u001b[49m\n\u001b[32m    795\u001b[39m \u001b[43m    \u001b[49m\u001b[43mretries\u001b[49m\u001b[43m=\u001b[49m\u001b[43mretries\u001b[49m\u001b[43m,\u001b[49m\n\u001b[32m    796\u001b[39m \u001b[43m    \u001b[49m\u001b[43mresponse_conn\u001b[49m\u001b[43m=\u001b[49m\u001b[43mresponse_conn\u001b[49m\u001b[43m,\u001b[49m\n\u001b[32m    797\u001b[39m \u001b[43m    \u001b[49m\u001b[43mpreload_content\u001b[49m\u001b[43m=\u001b[49m\u001b[43mpreload_content\u001b[49m\u001b[43m,\u001b[49m\n\u001b[32m    798\u001b[39m \u001b[43m    \u001b[49m\u001b[43mdecode_content\u001b[49m\u001b[43m=\u001b[49m\u001b[43mdecode_content\u001b[49m\u001b[43m,\u001b[49m\n\u001b[32m    799\u001b[39m \u001b[43m    \u001b[49m\u001b[43m*\u001b[49m\u001b[43m*\u001b[49m\u001b[43mresponse_kw\u001b[49m\u001b[43m,\u001b[49m\n\u001b[32m    800\u001b[39m \u001b[43m\u001b[49m\u001b[43m)\u001b[49m\n\u001b[32m    802\u001b[39m \u001b[38;5;66;03m# Everything went great!\u001b[39;00m\n\u001b[32m    803\u001b[39m clean_exit = \u001b[38;5;28;01mTrue\u001b[39;00m\n",
      "\u001b[36mFile \u001b[39m\u001b[32mc:\\Users\\Playdata\\AppData\\Local\\miniconda3\\envs\\lang_env\\Lib\\site-packages\\urllib3\\connectionpool.py:534\u001b[39m, in \u001b[36mHTTPConnectionPool._make_request\u001b[39m\u001b[34m(self, conn, method, url, body, headers, retries, timeout, chunked, response_conn, preload_content, decode_content, enforce_content_length)\u001b[39m\n\u001b[32m    532\u001b[39m \u001b[38;5;66;03m# Receive the response from the server\u001b[39;00m\n\u001b[32m    533\u001b[39m \u001b[38;5;28;01mtry\u001b[39;00m:\n\u001b[32m--> \u001b[39m\u001b[32m534\u001b[39m     response = \u001b[43mconn\u001b[49m\u001b[43m.\u001b[49m\u001b[43mgetresponse\u001b[49m\u001b[43m(\u001b[49m\u001b[43m)\u001b[49m\n\u001b[32m    535\u001b[39m \u001b[38;5;28;01mexcept\u001b[39;00m (BaseSSLError, \u001b[38;5;167;01mOSError\u001b[39;00m) \u001b[38;5;28;01mas\u001b[39;00m e:\n\u001b[32m    536\u001b[39m     \u001b[38;5;28mself\u001b[39m._raise_timeout(err=e, url=url, timeout_value=read_timeout)\n",
      "\u001b[36mFile \u001b[39m\u001b[32mc:\\Users\\Playdata\\AppData\\Local\\miniconda3\\envs\\lang_env\\Lib\\site-packages\\urllib3\\connection.py:516\u001b[39m, in \u001b[36mHTTPConnection.getresponse\u001b[39m\u001b[34m(self)\u001b[39m\n\u001b[32m    513\u001b[39m _shutdown = \u001b[38;5;28mgetattr\u001b[39m(\u001b[38;5;28mself\u001b[39m.sock, \u001b[33m\"\u001b[39m\u001b[33mshutdown\u001b[39m\u001b[33m\"\u001b[39m, \u001b[38;5;28;01mNone\u001b[39;00m)\n\u001b[32m    515\u001b[39m \u001b[38;5;66;03m# Get the response from http.client.HTTPConnection\u001b[39;00m\n\u001b[32m--> \u001b[39m\u001b[32m516\u001b[39m httplib_response = \u001b[38;5;28;43msuper\u001b[39;49m\u001b[43m(\u001b[49m\u001b[43m)\u001b[49m\u001b[43m.\u001b[49m\u001b[43mgetresponse\u001b[49m\u001b[43m(\u001b[49m\u001b[43m)\u001b[49m\n\u001b[32m    518\u001b[39m \u001b[38;5;28;01mtry\u001b[39;00m:\n\u001b[32m    519\u001b[39m     assert_header_parsing(httplib_response.msg)\n",
      "\u001b[36mFile \u001b[39m\u001b[32mc:\\Users\\Playdata\\AppData\\Local\\miniconda3\\envs\\lang_env\\Lib\\http\\client.py:1430\u001b[39m, in \u001b[36mHTTPConnection.getresponse\u001b[39m\u001b[34m(self)\u001b[39m\n\u001b[32m   1428\u001b[39m \u001b[38;5;28;01mtry\u001b[39;00m:\n\u001b[32m   1429\u001b[39m     \u001b[38;5;28;01mtry\u001b[39;00m:\n\u001b[32m-> \u001b[39m\u001b[32m1430\u001b[39m         \u001b[43mresponse\u001b[49m\u001b[43m.\u001b[49m\u001b[43mbegin\u001b[49m\u001b[43m(\u001b[49m\u001b[43m)\u001b[49m\n\u001b[32m   1431\u001b[39m     \u001b[38;5;28;01mexcept\u001b[39;00m \u001b[38;5;167;01mConnectionError\u001b[39;00m:\n\u001b[32m   1432\u001b[39m         \u001b[38;5;28mself\u001b[39m.close()\n",
      "\u001b[36mFile \u001b[39m\u001b[32mc:\\Users\\Playdata\\AppData\\Local\\miniconda3\\envs\\lang_env\\Lib\\http\\client.py:331\u001b[39m, in \u001b[36mHTTPResponse.begin\u001b[39m\u001b[34m(self)\u001b[39m\n\u001b[32m    329\u001b[39m \u001b[38;5;66;03m# read until we get a non-100 response\u001b[39;00m\n\u001b[32m    330\u001b[39m \u001b[38;5;28;01mwhile\u001b[39;00m \u001b[38;5;28;01mTrue\u001b[39;00m:\n\u001b[32m--> \u001b[39m\u001b[32m331\u001b[39m     version, status, reason = \u001b[38;5;28;43mself\u001b[39;49m\u001b[43m.\u001b[49m\u001b[43m_read_status\u001b[49m\u001b[43m(\u001b[49m\u001b[43m)\u001b[49m\n\u001b[32m    332\u001b[39m     \u001b[38;5;28;01mif\u001b[39;00m status != CONTINUE:\n\u001b[32m    333\u001b[39m         \u001b[38;5;28;01mbreak\u001b[39;00m\n",
      "\u001b[36mFile \u001b[39m\u001b[32mc:\\Users\\Playdata\\AppData\\Local\\miniconda3\\envs\\lang_env\\Lib\\http\\client.py:292\u001b[39m, in \u001b[36mHTTPResponse._read_status\u001b[39m\u001b[34m(self)\u001b[39m\n\u001b[32m    291\u001b[39m \u001b[38;5;28;01mdef\u001b[39;00m\u001b[38;5;250m \u001b[39m\u001b[34m_read_status\u001b[39m(\u001b[38;5;28mself\u001b[39m):\n\u001b[32m--> \u001b[39m\u001b[32m292\u001b[39m     line = \u001b[38;5;28mstr\u001b[39m(\u001b[38;5;28;43mself\u001b[39;49m\u001b[43m.\u001b[49m\u001b[43mfp\u001b[49m\u001b[43m.\u001b[49m\u001b[43mreadline\u001b[49m\u001b[43m(\u001b[49m\u001b[43m_MAXLINE\u001b[49m\u001b[43m \u001b[49m\u001b[43m+\u001b[49m\u001b[43m \u001b[49m\u001b[32;43m1\u001b[39;49m\u001b[43m)\u001b[49m, \u001b[33m\"\u001b[39m\u001b[33miso-8859-1\u001b[39m\u001b[33m\"\u001b[39m)\n\u001b[32m    293\u001b[39m     \u001b[38;5;28;01mif\u001b[39;00m \u001b[38;5;28mlen\u001b[39m(line) > _MAXLINE:\n\u001b[32m    294\u001b[39m         \u001b[38;5;28;01mraise\u001b[39;00m LineTooLong(\u001b[33m\"\u001b[39m\u001b[33mstatus line\u001b[39m\u001b[33m\"\u001b[39m)\n",
      "\u001b[36mFile \u001b[39m\u001b[32mc:\\Users\\Playdata\\AppData\\Local\\miniconda3\\envs\\lang_env\\Lib\\socket.py:720\u001b[39m, in \u001b[36mSocketIO.readinto\u001b[39m\u001b[34m(self, b)\u001b[39m\n\u001b[32m    718\u001b[39m \u001b[38;5;28;01mwhile\u001b[39;00m \u001b[38;5;28;01mTrue\u001b[39;00m:\n\u001b[32m    719\u001b[39m     \u001b[38;5;28;01mtry\u001b[39;00m:\n\u001b[32m--> \u001b[39m\u001b[32m720\u001b[39m         \u001b[38;5;28;01mreturn\u001b[39;00m \u001b[38;5;28;43mself\u001b[39;49m\u001b[43m.\u001b[49m\u001b[43m_sock\u001b[49m\u001b[43m.\u001b[49m\u001b[43mrecv_into\u001b[49m\u001b[43m(\u001b[49m\u001b[43mb\u001b[49m\u001b[43m)\u001b[49m\n\u001b[32m    721\u001b[39m     \u001b[38;5;28;01mexcept\u001b[39;00m timeout:\n\u001b[32m    722\u001b[39m         \u001b[38;5;28mself\u001b[39m._timeout_occurred = \u001b[38;5;28;01mTrue\u001b[39;00m\n",
      "\u001b[36mFile \u001b[39m\u001b[32mc:\\Users\\Playdata\\AppData\\Local\\miniconda3\\envs\\lang_env\\Lib\\ssl.py:1251\u001b[39m, in \u001b[36mSSLSocket.recv_into\u001b[39m\u001b[34m(self, buffer, nbytes, flags)\u001b[39m\n\u001b[32m   1247\u001b[39m     \u001b[38;5;28;01mif\u001b[39;00m flags != \u001b[32m0\u001b[39m:\n\u001b[32m   1248\u001b[39m         \u001b[38;5;28;01mraise\u001b[39;00m \u001b[38;5;167;01mValueError\u001b[39;00m(\n\u001b[32m   1249\u001b[39m           \u001b[33m\"\u001b[39m\u001b[33mnon-zero flags not allowed in calls to recv_into() on \u001b[39m\u001b[38;5;132;01m%s\u001b[39;00m\u001b[33m\"\u001b[39m %\n\u001b[32m   1250\u001b[39m           \u001b[38;5;28mself\u001b[39m.\u001b[34m__class__\u001b[39m)\n\u001b[32m-> \u001b[39m\u001b[32m1251\u001b[39m     \u001b[38;5;28;01mreturn\u001b[39;00m \u001b[38;5;28;43mself\u001b[39;49m\u001b[43m.\u001b[49m\u001b[43mread\u001b[49m\u001b[43m(\u001b[49m\u001b[43mnbytes\u001b[49m\u001b[43m,\u001b[49m\u001b[43m \u001b[49m\u001b[43mbuffer\u001b[49m\u001b[43m)\u001b[49m\n\u001b[32m   1252\u001b[39m \u001b[38;5;28;01melse\u001b[39;00m:\n\u001b[32m   1253\u001b[39m     \u001b[38;5;28;01mreturn\u001b[39;00m \u001b[38;5;28msuper\u001b[39m().recv_into(buffer, nbytes, flags)\n",
      "\u001b[36mFile \u001b[39m\u001b[32mc:\\Users\\Playdata\\AppData\\Local\\miniconda3\\envs\\lang_env\\Lib\\ssl.py:1103\u001b[39m, in \u001b[36mSSLSocket.read\u001b[39m\u001b[34m(self, len, buffer)\u001b[39m\n\u001b[32m   1101\u001b[39m \u001b[38;5;28;01mtry\u001b[39;00m:\n\u001b[32m   1102\u001b[39m     \u001b[38;5;28;01mif\u001b[39;00m buffer \u001b[38;5;129;01mis\u001b[39;00m \u001b[38;5;129;01mnot\u001b[39;00m \u001b[38;5;28;01mNone\u001b[39;00m:\n\u001b[32m-> \u001b[39m\u001b[32m1103\u001b[39m         \u001b[38;5;28;01mreturn\u001b[39;00m \u001b[38;5;28;43mself\u001b[39;49m\u001b[43m.\u001b[49m\u001b[43m_sslobj\u001b[49m\u001b[43m.\u001b[49m\u001b[43mread\u001b[49m\u001b[43m(\u001b[49m\u001b[38;5;28;43mlen\u001b[39;49m\u001b[43m,\u001b[49m\u001b[43m \u001b[49m\u001b[43mbuffer\u001b[49m\u001b[43m)\u001b[49m\n\u001b[32m   1104\u001b[39m     \u001b[38;5;28;01melse\u001b[39;00m:\n\u001b[32m   1105\u001b[39m         \u001b[38;5;28;01mreturn\u001b[39;00m \u001b[38;5;28mself\u001b[39m._sslobj.read(\u001b[38;5;28mlen\u001b[39m)\n",
      "\u001b[31mKeyboardInterrupt\u001b[39m: "
     ]
    }
   ],
   "source": [
    "from module import process_topic, PERSIST_DIR\n",
    "\n",
    "if __name__ == \"__main__\":\n",
    "    query = '''(\"vitamin D\" OR \"vitamin C\" \n",
    "OR \"vaccine efficacy\" OR \"mRNA vaccine\" \n",
    "OR \"autoimmune disease\" OR \"inflammation\" \n",
    "OR \"cancer therapy\" OR \"immunotherapy\" \n",
    "OR \"coffee consumption\"\n",
    "OR \"intermittent fasting\" OR \"low carb diet\" \n",
    "OR \"depression treatment\" OR \"mental health stigma\" \n",
    "OR \"probiotics\" OR \"supplements\" \n",
    "OR \"acupuncture\" OR \"herbal medicine\") AND PUB_YEAR:2025\n",
    "'''\n",
    "\n",
    "    # \"others\"라는 collection_name을 사용, persist_dir는 module 안에 이미 선언된 PERSIST_DIR 사용\n",
    "    process_topic(query, \"others\", persist_dir=PERSIST_DIR, batch_size=5)\n",
    "\n",
    "    print(\"=== 🎉 모든 작업 완료 ===\")\n"
   ]
  }
 ],
 "metadata": {
  "kernelspec": {
   "display_name": "lang_env",
   "language": "python",
   "name": "python3"
  },
  "language_info": {
   "codemirror_mode": {
    "name": "ipython",
    "version": 3
   },
   "file_extension": ".py",
   "mimetype": "text/x-python",
   "name": "python",
   "nbconvert_exporter": "python",
   "pygments_lexer": "ipython3",
   "version": "3.12.11"
  }
 },
 "nbformat": 4,
 "nbformat_minor": 5
}
